{
  "nbformat": 4,
  "nbformat_minor": 0,
  "metadata": {
    "colab": {
      "name": "Strings.ipynb",
      "provenance": [],
      "authorship_tag": "ABX9TyNHm427Xs4CuUrLUTkWWFRE",
      "include_colab_link": true
    },
    "kernelspec": {
      "name": "python3",
      "display_name": "Python 3"
    },
    "language_info": {
      "name": "python"
    }
  },
  "cells": [
    {
      "cell_type": "markdown",
      "metadata": {
        "id": "view-in-github",
        "colab_type": "text"
      },
      "source": [
        "<a href=\"https://colab.research.google.com/github/Simeen01/Python-Solutions/blob/main/Strings.ipynb\" target=\"_parent\"><img src=\"https://colab.research.google.com/assets/colab-badge.svg\" alt=\"Open In Colab\"/></a>"
      ]
    },
    {
      "cell_type": "markdown",
      "source": [
        "1. Create 3 variables to store street, city and country, now create address variable to store entire address. Use two ways of creating this variable, one using + operator and the other using f-string.\n",
        "Now Print the address in such a way that the street, city and country prints in a separate line"
      ],
      "metadata": {
        "id": "FjOw1gYCzw5J"
      }
    },
    {
      "cell_type": "code",
      "source": [
        "street = input(\"Enter street: \")\n",
        "city = input(\"Enter city: \")\n",
        "country = input(\"Enter country: \")\n",
        "address = street+\",\"+city+\",\"+country\n",
        "\n",
        "# addr = \"{street}, {city}, {country}\"\n",
        "# print(addr.format(street,city,country))\n",
        "print(f\"{street} {city} {country}\")\n",
        "print(address)"
      ],
      "metadata": {
        "colab": {
          "base_uri": "https://localhost:8080/"
        },
        "id": "NVTUFFBv0jqq",
        "outputId": "b8ef13f6-0f65-4d6d-aa0b-3808732e58f5"
      },
      "execution_count": null,
      "outputs": [
        {
          "output_type": "stream",
          "name": "stdout",
          "text": [
            "Enter street: jk\n",
            "Enter city: js\n",
            "Enter country: a\n",
            "jk js a\n",
            "jk,js,a\n"
          ]
        }
      ]
    },
    {
      "cell_type": "code",
      "source": [
        "street = input(\"Enter street: \")\n",
        "city = input(\"Enter city: \")\n",
        "country = input(\"Enter country: \")\n",
        "address = street+\",\"+city+\",\"+country\n",
        "\n",
        "addr = \"{}, {}, {}\"\n",
        "print(addr.format(street,city,country))\n",
        "print(address)"
      ],
      "metadata": {
        "colab": {
          "base_uri": "https://localhost:8080/"
        },
        "id": "GoksOTUF3WG6",
        "outputId": "0e4e79c2-b543-49ec-9200-2623588b48e1"
      },
      "execution_count": null,
      "outputs": [
        {
          "output_type": "stream",
          "name": "stdout",
          "text": [
            "Enter street: j\n",
            "Enter city: jj\n",
            "Enter country: n\n",
            "j, jj, n\n",
            "j,jj,n\n"
          ]
        }
      ]
    },
    {
      "cell_type": "markdown",
      "source": [
        "2. Create a variable to store the string \"Earth revolves around the sun\"\n",
        "    1. Print \"revolves\" using slice operator\n",
        "    2. Print \"sun\" using negative index"
      ],
      "metadata": {
        "id": "4bXUkEQu4M71"
      }
    },
    {
      "cell_type": "code",
      "source": [
        "str1 = \"Earth revolves around the sun\"\n",
        "print(str1[6:14])\n",
        "print(str1[-3:])"
      ],
      "metadata": {
        "colab": {
          "base_uri": "https://localhost:8080/"
        },
        "id": "CZcfnB6Z3kcP",
        "outputId": "36159028-859e-410e-e745-ddcf3c744159"
      },
      "execution_count": null,
      "outputs": [
        {
          "output_type": "stream",
          "name": "stdout",
          "text": [
            "revolves\n",
            "sun\n"
          ]
        }
      ]
    },
    {
      "cell_type": "markdown",
      "source": [
        "3. Create two variables to store how many fruits and vegetables you eat in a day.\n",
        "Now Print \"I eat x veggies and y fruits daily\" where x and y presents vegetables and fruits that you eat everyday. Use python f string for this."
      ],
      "metadata": {
        "id": "J4yVQrNv5VKU"
      }
    },
    {
      "cell_type": "code",
      "source": [
        "x = input(\"Enter no. of vegetables you ate in a day: \")\n",
        "y = input(\"Enter no. of fruits you ate in a day: \")\n",
        "\n",
        "print(f\"I eat {x} veggies and {y} fruits daily.\")"
      ],
      "metadata": {
        "colab": {
          "base_uri": "https://localhost:8080/"
        },
        "id": "YM9h5eXX4a4o",
        "outputId": "db00ffa2-f334-4bd0-b136-ccdc402ee042"
      },
      "execution_count": null,
      "outputs": [
        {
          "output_type": "stream",
          "name": "stdout",
          "text": [
            "Enter no. of vegetables you ate in a day: 4\n",
            "Enter no. of fruits you ate in a day: 2\n",
            "I eat 4 veggies and 2 fruits daily.\n"
          ]
        }
      ]
    },
    {
      "cell_type": "markdown",
      "source": [
        "4. I have a string variable called s='maine 200 banana khaye'. This of course is a\n",
        "wrong statement, the correct statement is 'maine 10 samosa khaye'.\n",
        "Replace incorrect words in original strong with new ones and print the new string.\n",
        "Also try to do this in one line"
      ],
      "metadata": {
        "id": "QOuXP_1I6BYe"
      }
    },
    {
      "cell_type": "code",
      "source": [
        "s='maine 200 banana khaye'\n",
        "print(s.replace(\"200 banana\",\"10 samosa\"))"
      ],
      "metadata": {
        "colab": {
          "base_uri": "https://localhost:8080/"
        },
        "id": "z88hPMlr52ap",
        "outputId": "803d9989-efa6-4c74-f0ed-05fc0f3f063c"
      },
      "execution_count": null,
      "outputs": [
        {
          "output_type": "stream",
          "name": "stdout",
          "text": [
            "maine 10 samosa khaye\n"
          ]
        }
      ]
    },
    {
      "cell_type": "markdown",
      "source": [
        "1. How would you confirm that 2 strings have the same identity?"
      ],
      "metadata": {
        "id": "i-WULvM76w7k"
      }
    },
    {
      "cell_type": "code",
      "source": [
        "#using id()\n",
        "a=0\n",
        "b=0\n",
        "if id(a) == id(b):\n",
        "  print(\"a and b have same identity\")\n",
        "else:\n",
        "  print(\"Different identities\")"
      ],
      "metadata": {
        "colab": {
          "base_uri": "https://localhost:8080/"
        },
        "id": "l1kD65GQ6Neo",
        "outputId": "062bd9c6-011a-4193-a0c1-777b4b1fd637"
      },
      "execution_count": null,
      "outputs": [
        {
          "output_type": "stream",
          "name": "stdout",
          "text": [
            "a and b have same identity\n"
          ]
        }
      ]
    },
    {
      "cell_type": "markdown",
      "source": [
        "2. How would you check if each word in a string begins with a capital letter?"
      ],
      "metadata": {
        "id": "tytdR60n7D8D"
      }
    },
    {
      "cell_type": "code",
      "source": [
        "str1 = \"Apple Orange\"\n",
        "\n",
        "if str1.istitle():\n",
        "  print(\"Each word begins with a capital letter\")\n",
        "else:\n",
        "  print(\"word doesn't begins with a capital letter\")"
      ],
      "metadata": {
        "colab": {
          "base_uri": "https://localhost:8080/"
        },
        "id": "ssgz3x9f7AWz",
        "outputId": "5a1a337c-fe8b-42aa-c296-0459eaa0a2f0"
      },
      "execution_count": null,
      "outputs": [
        {
          "output_type": "stream",
          "name": "stdout",
          "text": [
            "Each word begins with a capital letter\n"
          ]
        }
      ]
    },
    {
      "cell_type": "code",
      "source": [
        "str1 = \"Apple orange\"\n",
        "str1_slice = str1[:-4]\n",
        "split = str1.split()\n",
        "print(split)\n",
        "\n",
        "for i in split:\n",
        "  if split.istitle():\n",
        "    print(\"word begins with a capital letter\")\n",
        "  else:\n",
        "    print(\"word doesn't begins with a capital letter\")"
      ],
      "metadata": {
        "colab": {
          "base_uri": "https://localhost:8080/",
          "height": 253
        },
        "id": "6Tlqoxd87WS6",
        "outputId": "f443d4fa-4086-4646-d10e-a5fc906f94ef"
      },
      "execution_count": null,
      "outputs": [
        {
          "output_type": "stream",
          "name": "stdout",
          "text": [
            "['Apple', 'orange']\n"
          ]
        },
        {
          "output_type": "error",
          "ename": "AttributeError",
          "evalue": "ignored",
          "traceback": [
            "\u001b[0;31m---------------------------------------------------------------------------\u001b[0m",
            "\u001b[0;31mAttributeError\u001b[0m                            Traceback (most recent call last)",
            "\u001b[0;32m<ipython-input-42-510c1653e5ac>\u001b[0m in \u001b[0;36m<module>\u001b[0;34m()\u001b[0m\n\u001b[1;32m      5\u001b[0m \u001b[0;34m\u001b[0m\u001b[0m\n\u001b[1;32m      6\u001b[0m \u001b[0;32mfor\u001b[0m \u001b[0mi\u001b[0m \u001b[0;32min\u001b[0m \u001b[0msplit\u001b[0m\u001b[0;34m:\u001b[0m\u001b[0;34m\u001b[0m\u001b[0;34m\u001b[0m\u001b[0m\n\u001b[0;32m----> 7\u001b[0;31m   \u001b[0;32mif\u001b[0m \u001b[0msplit\u001b[0m\u001b[0;34m.\u001b[0m\u001b[0mistitle\u001b[0m\u001b[0;34m(\u001b[0m\u001b[0;34m)\u001b[0m\u001b[0;34m:\u001b[0m\u001b[0;34m\u001b[0m\u001b[0;34m\u001b[0m\u001b[0m\n\u001b[0m\u001b[1;32m      8\u001b[0m     \u001b[0mprint\u001b[0m\u001b[0;34m(\u001b[0m\u001b[0;34m\"word begins with a capital letter\"\u001b[0m\u001b[0;34m)\u001b[0m\u001b[0;34m\u001b[0m\u001b[0;34m\u001b[0m\u001b[0m\n\u001b[1;32m      9\u001b[0m   \u001b[0;32melse\u001b[0m\u001b[0;34m:\u001b[0m\u001b[0;34m\u001b[0m\u001b[0;34m\u001b[0m\u001b[0m\n",
            "\u001b[0;31mAttributeError\u001b[0m: 'list' object has no attribute 'istitle'"
          ]
        }
      ]
    },
    {
      "cell_type": "markdown",
      "source": [
        "3. Check if a string contains a specific substring"
      ],
      "metadata": {
        "id": "EQ_tsdkO_4av"
      }
    },
    {
      "cell_type": "code",
      "source": [
        "str1 = \"I am here\"\n",
        "substring = input(\"Enter a substring to check if it exists: \")\n",
        "if substring in str1:\n",
        "  print(\"The substring is present.\")\n",
        "else:\n",
        "  print(\"Not present\")"
      ],
      "metadata": {
        "colab": {
          "base_uri": "https://localhost:8080/"
        },
        "id": "tkUtpOm28-C9",
        "outputId": "cb868f1c-e25d-4de7-9770-e9fcea3402f2"
      },
      "execution_count": null,
      "outputs": [
        {
          "output_type": "stream",
          "name": "stdout",
          "text": [
            "Enter a substring to check if it exists: I\n",
            "The substring is present.\n"
          ]
        }
      ]
    },
    {
      "cell_type": "markdown",
      "source": [
        "4. Find the index of the first occurrence of a substring in a string"
      ],
      "metadata": {
        "id": "WczeR32kAxTW"
      }
    },
    {
      "cell_type": "code",
      "source": [
        "str1 = \"Hello!\"\n",
        "print(str1.find(\"l\"))"
      ],
      "metadata": {
        "id": "mDCwkaxeALIZ",
        "colab": {
          "base_uri": "https://localhost:8080/"
        },
        "outputId": "e1e36cc0-d9d3-486d-9ad4-e926646c6658"
      },
      "execution_count": null,
      "outputs": [
        {
          "output_type": "stream",
          "name": "stdout",
          "text": [
            "2\n"
          ]
        }
      ]
    },
    {
      "cell_type": "markdown",
      "source": [
        "5. Count the total number of characters in a string"
      ],
      "metadata": {
        "id": "9modj4AWtY6z"
      }
    },
    {
      "cell_type": "code",
      "source": [
        "str1 = \"Hello\"\n",
        "print(len(str1))"
      ],
      "metadata": {
        "colab": {
          "base_uri": "https://localhost:8080/"
        },
        "id": "R-f838_AtOiU",
        "outputId": "6ca0cfa2-5be5-45f9-b7d1-9da5cd25bb4c"
      },
      "execution_count": null,
      "outputs": [
        {
          "output_type": "stream",
          "name": "stdout",
          "text": [
            "5\n"
          ]
        }
      ]
    },
    {
      "cell_type": "markdown",
      "source": [
        "6. Count the number of a specific character in a string"
      ],
      "metadata": {
        "id": "MSo-H0Phtomi"
      }
    },
    {
      "cell_type": "code",
      "source": [
        "str1 = \"An apple a day keeps doctor away. You should have an apple today.\"\n",
        "print(str1.count(\"apple\"))"
      ],
      "metadata": {
        "colab": {
          "base_uri": "https://localhost:8080/"
        },
        "id": "bcdOHm6vtkgU",
        "outputId": "2963427c-6537-4464-c0a3-bc9027cfd084"
      },
      "execution_count": null,
      "outputs": [
        {
          "output_type": "stream",
          "name": "stdout",
          "text": [
            "2\n"
          ]
        }
      ]
    },
    {
      "cell_type": "markdown",
      "source": [
        "7. Capitalize the first character of a string"
      ],
      "metadata": {
        "id": "ZrjbhyzjuK73"
      }
    },
    {
      "cell_type": "code",
      "source": [
        "str1 = \"an apple a day keeps doctor away.\"\n",
        "print(str1.capitalize())"
      ],
      "metadata": {
        "colab": {
          "base_uri": "https://localhost:8080/"
        },
        "id": "SK_TA1cqvBPb",
        "outputId": "304dd700-a9b0-458b-d436-3ab2f8f5e4e6"
      },
      "execution_count": null,
      "outputs": [
        {
          "output_type": "stream",
          "name": "stdout",
          "text": [
            "An apple a day keeps doctor away.\n"
          ]
        }
      ]
    },
    {
      "cell_type": "markdown",
      "source": [
        "8. What is an f-string and how do you use it?"
      ],
      "metadata": {
        "id": "smhlDwBvuLvq"
      }
    },
    {
      "cell_type": "code",
      "source": [
        "#f string can take one variable to allot at multiple positions.\n",
        "fruit = \"apple\"\n",
        "print(f\"An {fruit} a day keeps doctor away. You should have an {fruit} today.\")"
      ],
      "metadata": {
        "colab": {
          "base_uri": "https://localhost:8080/"
        },
        "id": "WyigxYBYvOng",
        "outputId": "9804b522-ac92-4c3c-cff6-4a432d7f2dd6"
      },
      "execution_count": null,
      "outputs": [
        {
          "output_type": "stream",
          "name": "stdout",
          "text": [
            "An apple a day keeps doctor away. You should have an apple today.\n"
          ]
        }
      ]
    },
    {
      "cell_type": "markdown",
      "source": [
        "9. Interpolate a variable into a string using format()"
      ],
      "metadata": {
        "id": "EMR44oPluN1Q"
      }
    },
    {
      "cell_type": "code",
      "source": [
        "#format takes one variable at only one position.\n",
        "fruit = \"apple\"\n",
        "str1 = \"An {} a day keeps doctor away. You should have an {} today.\"\n",
        "print(str1.format(fruit,fruit))"
      ],
      "metadata": {
        "colab": {
          "base_uri": "https://localhost:8080/"
        },
        "id": "blm5IZzBvuAz",
        "outputId": "8152c9de-ce5d-4102-ff9c-43a5c345d1df"
      },
      "execution_count": null,
      "outputs": [
        {
          "output_type": "stream",
          "name": "stdout",
          "text": [
            "An apple a day keeps doctor away. You should have an apple today.\n"
          ]
        }
      ]
    },
    {
      "cell_type": "markdown",
      "source": [
        "10. Check if a string contains only numbers"
      ],
      "metadata": {
        "id": "MU2r75pnuQWS"
      }
    },
    {
      "cell_type": "code",
      "source": [
        "str1 = '8949'\n",
        "str2 = '893'\n",
        "print(str1.isnumeric())\n",
        "\n",
        "print(str2.isdigit())"
      ],
      "metadata": {
        "colab": {
          "base_uri": "https://localhost:8080/"
        },
        "id": "u0PocmGsw2ot",
        "outputId": "75a84c20-0fe2-4ba2-9688-2e574345ddf9"
      },
      "execution_count": null,
      "outputs": [
        {
          "output_type": "stream",
          "name": "stdout",
          "text": [
            "True\n",
            "True\n"
          ]
        }
      ]
    },
    {
      "cell_type": "markdown",
      "source": [
        "11. Split a string on a specific character"
      ],
      "metadata": {
        "id": "f0k7FceHuSPm"
      }
    },
    {
      "cell_type": "code",
      "source": [
        "str1 = \"An apple a day keeps doctor away. You should have an apple today.\"\n",
        "print(str1.split(\".\"))"
      ],
      "metadata": {
        "colab": {
          "base_uri": "https://localhost:8080/"
        },
        "id": "Agmsz0PHxkJe",
        "outputId": "3e7aaf45-6519-42ba-90fe-7ac4eaedf019"
      },
      "execution_count": null,
      "outputs": [
        {
          "output_type": "stream",
          "name": "stdout",
          "text": [
            "['An apple a day keeps doctor away', ' You should have an apple today', '']\n"
          ]
        }
      ]
    },
    {
      "cell_type": "markdown",
      "source": [
        "12. Check if a string is composed of all lower case characters"
      ],
      "metadata": {
        "id": "-faUHtLSuUDf"
      }
    },
    {
      "cell_type": "code",
      "source": [
        "str1 = \"an apple a day keeps doctor away. you should have an apple today.\"\n",
        "print(str1.islower())\n",
        "str1.islower()"
      ],
      "metadata": {
        "colab": {
          "base_uri": "https://localhost:8080/"
        },
        "id": "A7OXgfxIxyTS",
        "outputId": "97d1325f-5691-4c67-f7c5-47ae37bfa58b"
      },
      "execution_count": null,
      "outputs": [
        {
          "output_type": "stream",
          "name": "stdout",
          "text": [
            "True\n"
          ]
        },
        {
          "output_type": "execute_result",
          "data": {
            "text/plain": [
              "True"
            ]
          },
          "metadata": {},
          "execution_count": 25
        }
      ]
    },
    {
      "cell_type": "markdown",
      "source": [
        "13. Check if the first character in a string is lowercase"
      ],
      "metadata": {
        "id": "UwtrivvouVwX"
      }
    },
    {
      "cell_type": "code",
      "source": [
        "str1 = \"an apple a day keeps doctor away.\"\n",
        "str1.split(\" \")\n",
        "if str1[0].islower():\n",
        "  print(\"Lower\")\n",
        "else:\n",
        "  print(\"Upper\")"
      ],
      "metadata": {
        "colab": {
          "base_uri": "https://localhost:8080/"
        },
        "id": "kV-QQeUSyCtY",
        "outputId": "96e1bc60-ee6c-440c-f6f7-71e43b7d73a3"
      },
      "execution_count": null,
      "outputs": [
        {
          "output_type": "stream",
          "name": "stdout",
          "text": [
            "Lower\n"
          ]
        }
      ]
    },
    {
      "cell_type": "markdown",
      "source": [
        "14. Can an integer be added to a string in Python?"
      ],
      "metadata": {
        "id": "b2ZOBQa5uX9y"
      }
    },
    {
      "cell_type": "code",
      "source": [
        "#yes\n",
        "str1 = '98342'\n",
        "print(str1)\n",
        "type(str1)"
      ],
      "metadata": {
        "colab": {
          "base_uri": "https://localhost:8080/"
        },
        "id": "7fIvIIxOzz6d",
        "outputId": "f7d90303-ea1c-460a-b953-b2bfa5116331"
      },
      "execution_count": null,
      "outputs": [
        {
          "output_type": "stream",
          "name": "stdout",
          "text": [
            "98342\n"
          ]
        },
        {
          "output_type": "execute_result",
          "data": {
            "text/plain": [
              "str"
            ]
          },
          "metadata": {},
          "execution_count": 38
        }
      ]
    },
    {
      "cell_type": "markdown",
      "source": [
        "15. Reverse the string “hello world”"
      ],
      "metadata": {
        "id": "u5X5X4S7uZ3r"
      }
    },
    {
      "cell_type": "code",
      "source": [
        "str1 = \"hello world\"\n",
        "print(str1[::-1])"
      ],
      "metadata": {
        "colab": {
          "base_uri": "https://localhost:8080/"
        },
        "id": "xZ6JBEI30Alc",
        "outputId": "a489d2f3-9d56-4bdf-848a-1af210c25589"
      },
      "execution_count": null,
      "outputs": [
        {
          "output_type": "stream",
          "name": "stdout",
          "text": [
            "dlrow olleh\n"
          ]
        }
      ]
    },
    {
      "cell_type": "markdown",
      "source": [
        "16. Join a list of strings into a single string, delimited by hyphens (For[a-b-c])"
      ],
      "metadata": {
        "id": "YivY74Q1ubjw"
      }
    },
    {
      "cell_type": "code",
      "source": [
        "list1 = [\"Hello\", \"there\", \"Howdy?\"]\n",
        "print(\"-\".join(list1))"
      ],
      "metadata": {
        "colab": {
          "base_uri": "https://localhost:8080/"
        },
        "id": "g_Nqi6bjBynt",
        "outputId": "8dfd7754-6ed4-4e7d-cecb-77eadb018545"
      },
      "execution_count": null,
      "outputs": [
        {
          "output_type": "stream",
          "name": "stdout",
          "text": [
            "Hello-there-Howdy?\n"
          ]
        }
      ]
    },
    {
      "cell_type": "code",
      "source": [
        "str1 = \"Hello there. Howdy?\"\n",
        "print(\"-\".join(str1))"
      ],
      "metadata": {
        "colab": {
          "base_uri": "https://localhost:8080/"
        },
        "id": "Xm1NWLPLCRCP",
        "outputId": "becb8d6a-e10a-4bd5-d8d3-7ed7afd8fa7a"
      },
      "execution_count": null,
      "outputs": [
        {
          "output_type": "stream",
          "name": "stdout",
          "text": [
            "H-e-l-l-o- -t-h-e-r-e-.- -H-o-w-d-y-?\n"
          ]
        }
      ]
    },
    {
      "cell_type": "markdown",
      "source": [
        "17. Uppercase or lowercase an entire string"
      ],
      "metadata": {
        "id": "e84i1_yAud38"
      }
    },
    {
      "cell_type": "code",
      "source": [
        "str1 = \"Hello there. Howdy?\"\n",
        "print(str1.upper())\n",
        "print(str1.lower())"
      ],
      "metadata": {
        "colab": {
          "base_uri": "https://localhost:8080/"
        },
        "id": "qJsdiLPo0qdp",
        "outputId": "13f61b0d-d6ed-491e-e0ad-f7a78d45fe29"
      },
      "execution_count": null,
      "outputs": [
        {
          "output_type": "stream",
          "name": "stdout",
          "text": [
            "HELLO THERE. HOWDY?\n",
            "hello there. howdy?\n"
          ]
        }
      ]
    },
    {
      "cell_type": "markdown",
      "source": [
        "18. Uppercase first and last character of a string(forEx. FisH)"
      ],
      "metadata": {
        "id": "Gfut9mBVugWz"
      }
    },
    {
      "cell_type": "code",
      "source": [
        "str1 = \"fish\"\n",
        "first = str1[0::-1].upper()\n",
        "middle = str1[1:-1]\n",
        "last = str1[-1].upper()\n",
        "print(first+middle+last)"
      ],
      "metadata": {
        "colab": {
          "base_uri": "https://localhost:8080/"
        },
        "id": "2LTvNHoo00xm",
        "outputId": "a5cdb865-e68d-4bc7-8a23-9d948e7408dc"
      },
      "execution_count": null,
      "outputs": [
        {
          "output_type": "stream",
          "name": "stdout",
          "text": [
            "FisH\n"
          ]
        }
      ]
    },
    {
      "cell_type": "markdown",
      "source": [
        "19. Check if a string is all uppercase"
      ],
      "metadata": {
        "id": "G9jhQksMuj5p"
      }
    },
    {
      "cell_type": "code",
      "source": [
        "str1 = \"HI\"\n",
        "str1.isupper()"
      ],
      "metadata": {
        "colab": {
          "base_uri": "https://localhost:8080/"
        },
        "id": "RIftqGVG2P4n",
        "outputId": "05b41ba3-b019-4940-bdf5-ac4543a613b7"
      },
      "execution_count": null,
      "outputs": [
        {
          "output_type": "execute_result",
          "data": {
            "text/plain": [
              "True"
            ]
          },
          "metadata": {},
          "execution_count": 46
        }
      ]
    },
    {
      "cell_type": "markdown",
      "source": [
        "20. Give an example of string slicing Slicing a string takes up to 3 arguments, string[start_index:end_index:step]."
      ],
      "metadata": {
        "id": "-567tqoyum0J"
      }
    },
    {
      "cell_type": "code",
      "source": [
        "str1 = \"fish is swimming\"\n",
        "str1[0:2:1]"
      ],
      "metadata": {
        "colab": {
          "base_uri": "https://localhost:8080/",
          "height": 35
        },
        "id": "Y4oyy8Xp2W8w",
        "outputId": "f1152650-58e8-4668-a652-d9bc59ef59df"
      },
      "execution_count": null,
      "outputs": [
        {
          "output_type": "execute_result",
          "data": {
            "application/vnd.google.colaboratory.intrinsic+json": {
              "type": "string"
            },
            "text/plain": [
              "'fi'"
            ]
          },
          "metadata": {},
          "execution_count": 1
        }
      ]
    },
    {
      "cell_type": "markdown",
      "source": [
        "21. Convert an integer to a string"
      ],
      "metadata": {
        "id": "_0ZkfFLaung7"
      }
    },
    {
      "cell_type": "code",
      "source": [
        "num = 10\n",
        "print(type(num))\n",
        "print(type(str(num)))"
      ],
      "metadata": {
        "colab": {
          "base_uri": "https://localhost:8080/"
        },
        "id": "RJDcldwY3M0w",
        "outputId": "45d2f070-a218-41b9-e266-5958e05aff08"
      },
      "execution_count": null,
      "outputs": [
        {
          "output_type": "stream",
          "name": "stdout",
          "text": [
            "<class 'int'>\n",
            "<class 'str'>\n"
          ]
        }
      ]
    },
    {
      "cell_type": "markdown",
      "source": [
        "22. Check if a string contains only characters of the alphabet"
      ],
      "metadata": {
        "id": "pjJmW1-DuqFh"
      }
    },
    {
      "cell_type": "code",
      "source": [
        "str1 = \"hello\"\n",
        "str1.isalpha()"
      ],
      "metadata": {
        "colab": {
          "base_uri": "https://localhost:8080/"
        },
        "id": "Jy-G4N984kiD",
        "outputId": "e9251eb8-b166-40ef-ca6f-84efe320e6c3"
      },
      "execution_count": null,
      "outputs": [
        {
          "output_type": "execute_result",
          "data": {
            "text/plain": [
              "True"
            ]
          },
          "metadata": {},
          "execution_count": 66
        }
      ]
    },
    {
      "cell_type": "markdown",
      "source": [
        "23. Replace all instances of a substring in a string"
      ],
      "metadata": {
        "id": "9pt8b2oLutBT"
      }
    },
    {
      "cell_type": "code",
      "source": [
        "str1 = \"Hello there.\"\n",
        "print(str1.replace(\"Hello there.\",\"Hi. How have you been?\"))"
      ],
      "metadata": {
        "colab": {
          "base_uri": "https://localhost:8080/"
        },
        "id": "lGUY8zXF4wZh",
        "outputId": "9231076f-fb6b-4dec-a764-499675b5e993"
      },
      "execution_count": null,
      "outputs": [
        {
          "output_type": "stream",
          "name": "stdout",
          "text": [
            "Hi. How have you been?\n"
          ]
        }
      ]
    },
    {
      "cell_type": "markdown",
      "source": [
        "24. Check if all characters in a string are alphanumeric"
      ],
      "metadata": {
        "id": "tki4E8zwuued"
      }
    },
    {
      "cell_type": "code",
      "source": [
        "str1 = \"user123\"\n",
        "str1.isalnum()"
      ],
      "metadata": {
        "colab": {
          "base_uri": "https://localhost:8080/"
        },
        "id": "ZppCnbyS5Hb1",
        "outputId": "94a615d6-4722-420d-d41e-9f4f754d374a"
      },
      "execution_count": null,
      "outputs": [
        {
          "output_type": "execute_result",
          "data": {
            "text/plain": [
              "True"
            ]
          },
          "metadata": {},
          "execution_count": 70
        }
      ]
    },
    {
      "cell_type": "markdown",
      "source": [
        "25. Remove whitespace from the left, right or both sides of a string"
      ],
      "metadata": {
        "id": "ujzEYDg5uwJT"
      }
    },
    {
      "cell_type": "code",
      "source": [
        "str1 = \"           Hello there              \"\n",
        "left = str1.lstrip(\" \")\n",
        "right = str1.rstrip(\" \")\n",
        "# print(left+right)\n",
        "print(str1.strip())"
      ],
      "metadata": {
        "colab": {
          "base_uri": "https://localhost:8080/"
        },
        "id": "vYcodrxy5PMR",
        "outputId": "ac286378-abe3-409f-8ca2-549ea0a51072"
      },
      "execution_count": null,
      "outputs": [
        {
          "output_type": "stream",
          "name": "stdout",
          "text": [
            "Hello there\n"
          ]
        }
      ]
    },
    {
      "cell_type": "markdown",
      "source": [
        "29. Check if a string begins with or ends with a specific character?"
      ],
      "metadata": {
        "id": "Jn0ouS5luxqN"
      }
    },
    {
      "cell_type": "code",
      "source": [
        "str1 = \"Hi there. Good to see you.\"\n",
        "print(str1.startswith(\"Hi\"))\n",
        "print(str1.endswith(\".\"))"
      ],
      "metadata": {
        "colab": {
          "base_uri": "https://localhost:8080/"
        },
        "id": "_b-0NIbJ66ky",
        "outputId": "f2704b4c-14f1-421f-bfa4-8544c63b422e"
      },
      "execution_count": null,
      "outputs": [
        {
          "output_type": "stream",
          "name": "stdout",
          "text": [
            "True\n",
            "True\n"
          ]
        }
      ]
    },
    {
      "cell_type": "markdown",
      "source": [
        "30. What is the effect of multiplying a string by 3?"
      ],
      "metadata": {
        "id": "h4iauqDDuziQ"
      }
    },
    {
      "cell_type": "code",
      "source": [
        "str1 = \"Apple Mango Grapes\"\n",
        "str1*3"
      ],
      "metadata": {
        "colab": {
          "base_uri": "https://localhost:8080/",
          "height": 35
        },
        "id": "G6mxpwh27TSN",
        "outputId": "be5a9bee-d40c-4201-ee87-d1fefbf7a867"
      },
      "execution_count": null,
      "outputs": [
        {
          "output_type": "execute_result",
          "data": {
            "application/vnd.google.colaboratory.intrinsic+json": {
              "type": "string"
            },
            "text/plain": [
              "'Apple Mango GrapesApple Mango GrapesApple Mango Grapes'"
            ]
          },
          "metadata": {},
          "execution_count": 88
        }
      ]
    },
    {
      "cell_type": "markdown",
      "source": [
        "31. Capitalize the first character of each word in a string"
      ],
      "metadata": {
        "id": "wWm_hNAhu1My"
      }
    },
    {
      "cell_type": "code",
      "source": [
        "str1 = \"i am here.\"\n",
        "str1.title()"
      ],
      "metadata": {
        "colab": {
          "base_uri": "https://localhost:8080/",
          "height": 35
        },
        "id": "mXsmzJoQ7dfq",
        "outputId": "5b0356f8-895d-491e-abe3-7b336d2b5b21"
      },
      "execution_count": null,
      "outputs": [
        {
          "output_type": "execute_result",
          "data": {
            "application/vnd.google.colaboratory.intrinsic+json": {
              "type": "string"
            },
            "text/plain": [
              "'I Am Here.'"
            ]
          },
          "metadata": {},
          "execution_count": 89
        }
      ]
    },
    {
      "cell_type": "markdown",
      "source": [
        "32. Concatenate two strings"
      ],
      "metadata": {
        "id": "FfhqKW7Yu2ha"
      }
    },
    {
      "cell_type": "code",
      "source": [
        "str1 = \"Hi\"\n",
        "str2 = \"there\"\n",
        "print(str1+\" \"+str2)"
      ],
      "metadata": {
        "colab": {
          "base_uri": "https://localhost:8080/"
        },
        "id": "UGXxKtGr7vZF",
        "outputId": "5bd0f481-7ccd-4e94-b8d3-7782c0f9ee96"
      },
      "execution_count": null,
      "outputs": [
        {
          "output_type": "stream",
          "name": "stdout",
          "text": [
            "Hi there\n"
          ]
        }
      ]
    },
    {
      "cell_type": "markdown",
      "source": [
        "33. Remove vowels from a string (following word:'hello world')"
      ],
      "metadata": {
        "id": "uycDT8r-u34r"
      }
    },
    {
      "cell_type": "code",
      "source": [
        "str1 = \"hello world\"\n",
        "vowel = \"aeiou\"\n",
        "for i in range(0,len(str1)):\n",
        "  if str1[i] not in vowel:\n",
        "    print(str1[i],end=\"\")"
      ],
      "metadata": {
        "colab": {
          "base_uri": "https://localhost:8080/"
        },
        "id": "ebhe7qQI778A",
        "outputId": "cc53a21e-3ae7-4577-c8d2-3a759a9338ef"
      },
      "execution_count": null,
      "outputs": [
        {
          "output_type": "stream",
          "name": "stdout",
          "text": [
            "hll wrld"
          ]
        }
      ]
    },
    {
      "cell_type": "markdown",
      "source": [
        "34. When would you use rfind()? ex. story = 'The price is right said Bob. The price is right.'"
      ],
      "metadata": {
        "id": "tlJu-0nCu5fD"
      }
    },
    {
      "cell_type": "code",
      "source": [
        "story = 'The price is right said Bob. The price is right.'\n",
        "story.rfind('The')"
      ],
      "metadata": {
        "colab": {
          "base_uri": "https://localhost:8080/"
        },
        "id": "_cZgRCWy-8ta",
        "outputId": "0c5d107c-1d3c-4533-a50f-b8c26339ba9b"
      },
      "execution_count": null,
      "outputs": [
        {
          "output_type": "execute_result",
          "data": {
            "text/plain": [
              "29"
            ]
          },
          "metadata": {},
          "execution_count": 106
        }
      ]
    },
    {
      "cell_type": "markdown",
      "source": [
        "35.Check if a string begins with or ends with a specific character? | following :city = 'New York'"
      ],
      "metadata": {
        "id": "r_FFDMUEu7R4"
      }
    },
    {
      "cell_type": "code",
      "source": [
        "str1 = \"new\"\n",
        "story = 'new price is right said Bob. The price is right new.'\n",
        "if str1.startswith(str1) and str1.endswith(str1):\n",
        "  print(\"Yes it starts and ends with\",str1)"
      ],
      "metadata": {
        "colab": {
          "base_uri": "https://localhost:8080/"
        },
        "id": "6VXA2BxdukK0",
        "outputId": "d4e831ca-1e19-400d-d4f0-5addfb037ac6"
      },
      "execution_count": null,
      "outputs": [
        {
          "output_type": "stream",
          "name": "stdout",
          "text": [
            "Yes it starts and ends with new\n"
          ]
        }
      ]
    },
    {
      "cell_type": "markdown",
      "source": [
        "1.Python program to check whether the string is Symmetrical or Palindrome"
      ],
      "metadata": {
        "id": "kM3DASKNEdWK"
      }
    },
    {
      "cell_type": "code",
      "source": [
        "str1 = \"malayalam\"\n",
        "reverse = str1[::-1]\n",
        "\n",
        "if str1 == reverse:\n",
        "  print(\"It is symmetrical or a palindrome\")"
      ],
      "metadata": {
        "colab": {
          "base_uri": "https://localhost:8080/"
        },
        "id": "7oOXn4F_FTIH",
        "outputId": "07e9ef68-3e3a-421a-e864-a5b7d6d9f21a"
      },
      "execution_count": null,
      "outputs": [
        {
          "output_type": "stream",
          "name": "stdout",
          "text": [
            "It is symmetrical or a palindrome\n"
          ]
        }
      ]
    },
    {
      "cell_type": "markdown",
      "source": [
        "2.Reverse words in a given String in Python"
      ],
      "metadata": {
        "id": "rlUDEuuXEgf-"
      }
    },
    {
      "cell_type": "code",
      "source": [
        "str1 = \"mango\"\n",
        "str1[::-1]"
      ],
      "metadata": {
        "colab": {
          "base_uri": "https://localhost:8080/",
          "height": 35
        },
        "id": "mqSucrQwFtRh",
        "outputId": "fbe417cd-c99f-430b-de41-98863081e415"
      },
      "execution_count": null,
      "outputs": [
        {
          "output_type": "execute_result",
          "data": {
            "application/vnd.google.colaboratory.intrinsic+json": {
              "type": "string"
            },
            "text/plain": [
              "'ognam'"
            ]
          },
          "metadata": {},
          "execution_count": 15
        }
      ]
    },
    {
      "cell_type": "markdown",
      "source": [
        "3.Ways to remove i’th character from string in Python"
      ],
      "metadata": {
        "id": "JoU9M5ZrEiCa"
      }
    },
    {
      "cell_type": "code",
      "source": [
        "index = int(input(\"Enter the index of a character you wish to remove: \"))\n",
        "str1 = \"Hello\"\n",
        "for i in range(0,len(str1)):\n",
        "  if i == index:\n",
        "    continue\n",
        "  else:\n",
        "    print(str1[i],end=\"\")"
      ],
      "metadata": {
        "colab": {
          "base_uri": "https://localhost:8080/"
        },
        "id": "OtkhiTtpF7D5",
        "outputId": "27c50e68-802b-4ac2-f6e5-14dc3f62738e"
      },
      "execution_count": null,
      "outputs": [
        {
          "output_type": "stream",
          "name": "stdout",
          "text": [
            "Enter the index of a character you wish to remove: 2\n",
            "Helo"
          ]
        }
      ]
    },
    {
      "cell_type": "markdown",
      "source": [
        "4.Find length of a string in python (4 ways)"
      ],
      "metadata": {
        "id": "q_LSvIVxEjr5"
      }
    },
    {
      "cell_type": "code",
      "source": [
        "str1=\"hello\"\n",
        "print(len(str1))"
      ],
      "metadata": {
        "colab": {
          "base_uri": "https://localhost:8080/"
        },
        "id": "NIMEzP58IGOQ",
        "outputId": "82e6ec33-d6c2-489d-da31-4cab069d97e1"
      },
      "execution_count": null,
      "outputs": [
        {
          "output_type": "stream",
          "name": "stdout",
          "text": [
            "5\n"
          ]
        }
      ]
    },
    {
      "cell_type": "code",
      "source": [
        "count = 0\n",
        "str1=\"hello\"\n",
        "\n",
        "for i in str1:\n",
        "  count+=1\n",
        "print(count)"
      ],
      "metadata": {
        "colab": {
          "base_uri": "https://localhost:8080/"
        },
        "id": "A-syt660JjbA",
        "outputId": "95e88ee1-334e-4f18-88fe-2d08d4e67309"
      },
      "execution_count": null,
      "outputs": [
        {
          "output_type": "stream",
          "name": "stdout",
          "text": [
            "5\n"
          ]
        }
      ]
    },
    {
      "cell_type": "code",
      "source": [
        "count = 0\n",
        "i = 0\n",
        "str1 = \"hello\"\n",
        "\n",
        "while str1[i:]:\n",
        "  count +=1\n",
        "  i+=1\n",
        "  \n",
        "print(count)"
      ],
      "metadata": {
        "colab": {
          "base_uri": "https://localhost:8080/"
        },
        "id": "V3fb-a-QJyen",
        "outputId": "239002b3-8a07-43c8-da33-30c3ce92739f"
      },
      "execution_count": null,
      "outputs": [
        {
          "output_type": "stream",
          "name": "stdout",
          "text": [
            "5\n"
          ]
        }
      ]
    },
    {
      "cell_type": "code",
      "source": [
        "str1 = \"hello\"\n",
        "i = 0\n",
        "count = 0\n",
        "\n",
        "while True:\n",
        "  if bool(str1[i:]) == False:\n",
        "    break\n",
        "  count +=1\n",
        "  i+=1\n",
        "print(count)\n",
        "\n"
      ],
      "metadata": {
        "colab": {
          "base_uri": "https://localhost:8080/"
        },
        "id": "bli_BELJPthP",
        "outputId": "db6dfb65-6f72-4897-d395-957db6f6db12"
      },
      "execution_count": null,
      "outputs": [
        {
          "output_type": "stream",
          "name": "stdout",
          "text": [
            "5\n"
          ]
        }
      ]
    },
    {
      "cell_type": "code",
      "source": [
        "str1 = \"hello\"\n",
        "extra = \"a\"\n",
        "join = extra.join(str1)\n",
        "count = join.count(extra)\n",
        "print(count+1)"
      ],
      "metadata": {
        "colab": {
          "base_uri": "https://localhost:8080/"
        },
        "id": "iVyXtN_DO7yu",
        "outputId": "d4089b9f-95fe-45ad-cf8f-b1f872f452ad"
      },
      "execution_count": null,
      "outputs": [
        {
          "output_type": "stream",
          "name": "stdout",
          "text": [
            "5\n"
          ]
        }
      ]
    },
    {
      "cell_type": "markdown",
      "source": [
        "5.Python – Avoid Spaces in string length"
      ],
      "metadata": {
        "id": "6XsGnbWpElGi"
      }
    },
    {
      "cell_type": "code",
      "source": [
        "str1 = \"        Hi        \"\n",
        "str1.strip(\" \")"
      ],
      "metadata": {
        "colab": {
          "base_uri": "https://localhost:8080/",
          "height": 37
        },
        "id": "P1143ZAkqdV3",
        "outputId": "2ba30762-e96b-4c86-be7c-9ef159976a88"
      },
      "execution_count": null,
      "outputs": [
        {
          "output_type": "execute_result",
          "data": {
            "application/vnd.google.colaboratory.intrinsic+json": {
              "type": "string"
            },
            "text/plain": [
              "'Hi'"
            ]
          },
          "metadata": {},
          "execution_count": 1
        }
      ]
    },
    {
      "cell_type": "markdown",
      "source": [
        "6.Python program to print even length words in a string"
      ],
      "metadata": {
        "id": "5qtzjq1JEn3o"
      }
    },
    {
      "cell_type": "code",
      "source": [
        "#counts even indexes with space\n",
        "str1 = \"A fish swims in water.\"\n",
        "count = 0\n",
        "\n",
        "for i in range(0, len(str1)):\n",
        "  if i%2==0:\n",
        "    count+=1\n",
        "print(count)"
      ],
      "metadata": {
        "colab": {
          "base_uri": "https://localhost:8080/"
        },
        "id": "H7MCBx4GZ3yQ",
        "outputId": "70e70f97-29cf-4a1a-f92f-9a70806418f9"
      },
      "execution_count": null,
      "outputs": [
        {
          "output_type": "stream",
          "name": "stdout",
          "text": [
            "11\n"
          ]
        }
      ]
    },
    {
      "cell_type": "code",
      "source": [
        "#counts even indexes without space\n",
        "str1 = \"A fish swims in water.\"\n",
        "count = 0\n",
        "\n",
        "for i in range(0, len(str1)):\n",
        "  if i%2==0 and str1[i]!=\" \":\n",
        "    count+=1\n",
        "print(count)"
      ],
      "metadata": {
        "colab": {
          "base_uri": "https://localhost:8080/"
        },
        "id": "BwZpzIn4azz-",
        "outputId": "efaf31dc-ed81-487a-84db-417185145f98"
      },
      "execution_count": null,
      "outputs": [
        {
          "output_type": "stream",
          "name": "stdout",
          "text": [
            "9\n"
          ]
        }
      ]
    },
    {
      "cell_type": "markdown",
      "source": [
        "7.Python – Uppercase Half String"
      ],
      "metadata": {
        "id": "n45ZjAygEowa"
      }
    },
    {
      "cell_type": "code",
      "source": [
        "str1 = \"i am here.\"\n",
        "first_half = str1[:4].upper()\n",
        "other_half = str1[4:]\n",
        "\n",
        "print(first_half+other_half)"
      ],
      "metadata": {
        "colab": {
          "base_uri": "https://localhost:8080/"
        },
        "id": "ASMlb5ngbyZf",
        "outputId": "2c34a585-7e27-4952-898a-b23a28270a0f"
      },
      "execution_count": null,
      "outputs": [
        {
          "output_type": "stream",
          "name": "stdout",
          "text": [
            "I AM here.\n"
          ]
        }
      ]
    },
    {
      "cell_type": "markdown",
      "source": [
        "9.Python program to check if a string has at least one letter and one number"
      ],
      "metadata": {
        "id": "tmaD1WWaEsmT"
      }
    },
    {
      "cell_type": "code",
      "source": [
        "# str1 = 'X Æ A-12'\n",
        "# str1.isalnum()\n",
        "\n",
        "\n",
        "string = input(\"Enter a string: \")\n",
        "for i in range(0,len(string)):\n",
        "  if string[i].isalpha():\n",
        "    print(\"The string contains only letters.\")\n",
        "    break\n",
        "  elif string[i].isdigit():\n",
        "    print(\"The string contains only numbers.\")\n",
        "    break\n",
        "  elif string[i].isalnum():\n",
        "    print(\"The string contains atleast one letter and one number.\")\n",
        "    break"
      ],
      "metadata": {
        "colab": {
          "base_uri": "https://localhost:8080/"
        },
        "id": "4-4YXUKLcSNR",
        "outputId": "f2ddf4a8-377a-4880-a9a0-e3c6dd35b6a5"
      },
      "execution_count": null,
      "outputs": [
        {
          "output_type": "stream",
          "name": "stdout",
          "text": [
            "Enter a string: jek34\n",
            "The string contains only letters.\n"
          ]
        }
      ]
    },
    {
      "cell_type": "code",
      "source": [
        "string = input(\"Enter a string: \")\n",
        "for i in range(0,len(string)):\n",
        "  if string[i].isalnum():\n",
        "    print(\"The string contains atleast one letter and one number.\")\n",
        "    break\n",
        "  elif string[i].isdigit():\n",
        "    print(\"The string contains only numbers.\")\n",
        "    break\n",
        "  elif string[i].isalpha():\n",
        "    print(\"The string contains only letters.\")\n",
        "    break"
      ],
      "metadata": {
        "colab": {
          "base_uri": "https://localhost:8080/"
        },
        "id": "jUFOHOQagvI8",
        "outputId": "037ef33a-e41c-4222-8e58-0ce18dcdab9c"
      },
      "execution_count": null,
      "outputs": [
        {
          "output_type": "stream",
          "name": "stdout",
          "text": [
            "Enter a string: 324\n",
            "The string contains atleast one letter and one number.\n"
          ]
        }
      ]
    },
    {
      "cell_type": "code",
      "source": [
        "string = input(\"Enter a string: \")\n",
        "for i in range(0,len(string)):\n",
        "  if string[i].isalpha() and string[i].isdigit():\n",
        "    print(\"The string contains atleast one letter and one number.\")\n",
        "    break\n",
        "  else:\n",
        "    print(\"The string doesn\\'t contain one letter or one number.\")\n",
        "    break"
      ],
      "metadata": {
        "colab": {
          "base_uri": "https://localhost:8080/"
        },
        "id": "_PqiSpcNfIPl",
        "outputId": "6a81eb27-4c08-499e-cb75-ed6016abb46f"
      },
      "execution_count": null,
      "outputs": [
        {
          "output_type": "stream",
          "name": "stdout",
          "text": [
            "Enter a string: gj89\n",
            "The string doesn't contain one letter or one number.\n"
          ]
        }
      ]
    },
    {
      "cell_type": "code",
      "source": [
        "string = input(\"Enter a string: \")\n",
        "for i in range(0,len(string)):\n",
        "  if string[i].isalnum():\n",
        "    print(\"The string contains atleast one letter and one number.\")\n",
        "    break\n",
        "  else:\n",
        "    print(\"The string doesn\\'t contain one letter or one number.\")\n",
        "    break"
      ],
      "metadata": {
        "colab": {
          "base_uri": "https://localhost:8080/"
        },
        "id": "zIdNbaL-gDee",
        "outputId": "6154fd47-e7c7-48b3-d3cc-b50f4654250c"
      },
      "execution_count": null,
      "outputs": [
        {
          "output_type": "stream",
          "name": "stdout",
          "text": [
            "Enter a string: hj\n",
            "The string contains atleast one letter and one number.\n"
          ]
        }
      ]
    },
    {
      "cell_type": "markdown",
      "source": [
        "10.Python | Program to accept the strings which contains all vowels"
      ],
      "metadata": {
        "id": "0QR5eAtNEub_"
      }
    },
    {
      "cell_type": "code",
      "source": [
        "string = input(\"Enter a string: \")\n",
        "string = string.lower()\n",
        "vowels = 'aeiou'\n",
        "\n",
        "for i in range(len(string)):\n",
        "  if string[i] in vowels:\n",
        "    print(string[i],end=\"\")"
      ],
      "metadata": {
        "colab": {
          "base_uri": "https://localhost:8080/"
        },
        "id": "-9ehHHchhioQ",
        "outputId": "60d59c83-5f10-40a9-9f41-3a2e3ebd96d0"
      },
      "execution_count": null,
      "outputs": [
        {
          "output_type": "stream",
          "name": "stdout",
          "text": [
            "Enter a string: SiMeEn\n",
            "iee"
          ]
        }
      ]
    },
    {
      "cell_type": "code",
      "source": [
        "string = input(\"Enter a string: \")\n",
        "string = string.lower()\n",
        "vowels = 'aeiou'\n",
        "collection = ''\n",
        "\n",
        "for i in range(len(string)):\n",
        "  if string[i] in vowels:\n",
        "     collection = collection + string[i]\n",
        "    \n",
        "if len(collection) == len(vowels):\n",
        "  print(\"All vowels are present in the string.\")\n",
        "else:\n",
        "  print(\"Not all vowels are present in the provided string. The present ones are\", collection)"
      ],
      "metadata": {
        "colab": {
          "base_uri": "https://localhost:8080/"
        },
        "id": "g7LgmMK_iLbs",
        "outputId": "c8ee7312-a971-42eb-c7dc-e5133e4bc986"
      },
      "execution_count": null,
      "outputs": [
        {
          "output_type": "stream",
          "name": "stdout",
          "text": [
            "Enter a string: Eutopia\n",
            "All vowels are present in the string.\n"
          ]
        }
      ]
    },
    {
      "cell_type": "markdown",
      "source": [
        "11.Python | Count the Number of matching characters in a pair of string"
      ],
      "metadata": {
        "id": "zoiTcGTuEwV6"
      }
    },
    {
      "cell_type": "code",
      "source": [
        "str1 = input(\"Enter the first string: \")\n",
        "str2 = input(\"Enter the second string: \")\n",
        "\n",
        "count = 0\n",
        "match = ''\n",
        "\n",
        "for i in range(len(str1)):\n",
        "  if str1[i] in str2:\n",
        "    match = match + str1[i]\n",
        "    if str1[i]!=\" \":\n",
        "      count+=1\n",
        "\n",
        "print(\"\\nThe matching characters are \\'\"+match+\"\\'\")\n",
        "print(\"Count:\",count)"
      ],
      "metadata": {
        "colab": {
          "base_uri": "https://localhost:8080/"
        },
        "id": "ZlNPsq_00r5h",
        "outputId": "008f957e-9d86-474a-e008-b0f8a963611f"
      },
      "execution_count": null,
      "outputs": [
        {
          "output_type": "stream",
          "name": "stdout",
          "text": [
            "Enter the first string: apple\n",
            "Enter the second string: pineapple\n",
            "\n",
            "The matching characters are 'apple'\n",
            "Count: 5\n"
          ]
        }
      ]
    },
    {
      "cell_type": "markdown",
      "source": [
        "12.Python program to count number of vowels using sets in given string"
      ],
      "metadata": {
        "id": "lJYLLciREz5Q"
      }
    },
    {
      "cell_type": "code",
      "source": [
        "string = input(\"Enter a string: \")\n",
        "string = string.lower()\n",
        "vowels = {'a','e','i','o','u'}\n",
        "count = 0\n",
        "\n",
        "for i in range(len(string)):\n",
        "  if string[i] in vowels:\n",
        "    count+=1\n",
        "\n",
        "print(\"Number of vowels in the string:\",count)\n"
      ],
      "metadata": {
        "colab": {
          "base_uri": "https://localhost:8080/"
        },
        "id": "Ag5VaYFCo2mC",
        "outputId": "3761b138-f1c3-493e-f369-fe2f95874c9f"
      },
      "execution_count": null,
      "outputs": [
        {
          "output_type": "stream",
          "name": "stdout",
          "text": [
            "Enter a string: Simeen\n",
            "Number of vowels in the string: 3\n"
          ]
        }
      ]
    },
    {
      "cell_type": "markdown",
      "source": [
        "13.Python Program to remove all duplicates from a given string"
      ],
      "metadata": {
        "id": "UmAs9f58E0ey"
      }
    },
    {
      "cell_type": "code",
      "source": [
        "a = 'ereq'\n",
        "b = ''\n",
        "for i in a:\n",
        "  if i not in b:\n",
        "    b = b + i\n",
        "b\n",
        "\n",
        "if len(a) == len(b):\n",
        "  print(\"No duplicates\")"
      ],
      "metadata": {
        "id": "VuOZxLBHrX4j"
      },
      "execution_count": null,
      "outputs": []
    },
    {
      "cell_type": "code",
      "source": [
        "str1 = input(\"Enter a string: \")\n",
        "count = 0\n",
        "duplicate = ''\n",
        "\n",
        "for i in range(len(str1)):\n",
        "  if str1[i] == str1[i+1]:\n",
        "    count=+1\n",
        "    duplicate = duplicate + str1[i]\n",
        "    print(duplicate)\n",
        "    break\n",
        "  else:\n",
        "    print(\"No duplicates found!\")\n",
        "\n",
        "print(\"Duplicate characters: \"+duplicate)\n",
        "print(\"Count:\",count)"
      ],
      "metadata": {
        "colab": {
          "base_uri": "https://localhost:8080/"
        },
        "id": "krlliTdwo6sw",
        "outputId": "887a8e67-c6fb-441d-f670-8a1c94cd5e2f"
      },
      "execution_count": null,
      "outputs": [
        {
          "output_type": "stream",
          "name": "stdout",
          "text": [
            "Enter a string: simeen\n",
            "No duplicates found!\n",
            "No duplicates found!\n",
            "No duplicates found!\n",
            "e\n",
            "Duplicate characters: e\n",
            "Count: 1\n"
          ]
        }
      ]
    },
    {
      "cell_type": "code",
      "source": [
        "str1 = input(\"Enter a string: \")\n",
        "str1 = str1.lower()\n",
        "no_duplicate = ''\n",
        "\n",
        "for i in range(len(str1)):\n",
        "  if str1[i] not in no_duplicate:\n",
        "    no_duplicate = no_duplicate + str1[i]\n",
        "\n",
        "# print(\"String without duplicates:\",no_duplicate)\n",
        "\n",
        "if no_duplicate!=\"\":\n",
        "  print(\"String without duplicates:\",no_duplicate)\n",
        "else:\n",
        "  print(\"No duplicates found!\")"
      ],
      "metadata": {
        "colab": {
          "base_uri": "https://localhost:8080/"
        },
        "id": "ei8izLVi-82G",
        "outputId": "98017abc-fadf-4722-8cea-b71990999af3"
      },
      "execution_count": null,
      "outputs": [
        {
          "output_type": "stream",
          "name": "stdout",
          "text": [
            "Enter a string: apple\n",
            "String without duplicates: aple\n"
          ]
        }
      ]
    },
    {
      "cell_type": "markdown",
      "source": [
        "14.Python – Least Frequent Character in String"
      ],
      "metadata": {
        "id": "Fx0O8EttE3ak"
      }
    },
    {
      "cell_type": "code",
      "source": [
        "str1 = input(\"Enter a string: \")\n",
        "dup_str1 = ''\n",
        "\n",
        "# list1 = []\n",
        "for i in str1:\n",
        "  dup_str1 = str1.count(i)\n",
        "  if dup_str1 == 1:\n",
        "    print(i)\n",
        "  # print(count)\n",
        "  # print(list1[i],count)\n",
        "\n",
        "# for x in list1:\n",
        "#   print(x)\n",
        "\n",
        "\n",
        "# for i in range(len(str1)):\n",
        "#   if str1[i] == str1[i+1]:\n",
        "    \n",
        "#     count =+ 1\n",
        "\n",
        "  # if str1[i] not in dup_str1:\n",
        "  #   dup_str1 = dup_str1 + str1[i]\n",
        "  #   str1 = str1.count(dup_str1[i])\n",
        "  #   print(str1)\n",
        "    "
      ],
      "metadata": {
        "colab": {
          "base_uri": "https://localhost:8080/"
        },
        "id": "ezRl79nXyzAg",
        "outputId": "49455dfb-cd47-42f0-d3dd-63d6a912f1ef"
      },
      "execution_count": null,
      "outputs": [
        {
          "name": "stdout",
          "output_type": "stream",
          "text": [
            "Enter a string: aappp\n"
          ]
        }
      ]
    },
    {
      "cell_type": "code",
      "source": [
        "str1 = input(\"Enter a string: \")\n",
        "dup_str1 = {}\n",
        "\n",
        "for i in str1:\n",
        "  if i in dup_str1:\n",
        "    dup_str1[i] += 1\n",
        "  else:\n",
        "    dup_str1[i] = 1\n",
        "\n",
        "count = str(dup_str1)\n",
        "min = min(dup_str1, key = dup_str1.get)  \n",
        "print(\"Least freq character: \",min)"
      ],
      "metadata": {
        "colab": {
          "base_uri": "https://localhost:8080/"
        },
        "id": "vIQWaGHkUwpF",
        "outputId": "7ce99f53-398e-45d6-9f64-37342630baa8"
      },
      "execution_count": null,
      "outputs": [
        {
          "output_type": "stream",
          "name": "stdout",
          "text": [
            "Enter a string: app\n",
            "Least freq character:  a\n"
          ]
        }
      ]
    },
    {
      "cell_type": "markdown",
      "source": [
        "15.Python | Maximum frequency character in String"
      ],
      "metadata": {
        "id": "0AakmXfXE5U9"
      }
    },
    {
      "cell_type": "code",
      "source": [
        "str1 = input(\"Enter a string: \")\n",
        "dup_str1 = {}\n",
        "\n",
        "for i in str1:\n",
        "  if i in dup_str1:\n",
        "    dup_str1[i] += 1\n",
        "  else:\n",
        "    dup_str1[i] = 1\n",
        "\n",
        "count = str(dup_str1)\n",
        "max = max(dup_str1, key = dup_str1.get)  \n",
        "print(\"Max. freq character:\",max)"
      ],
      "metadata": {
        "colab": {
          "base_uri": "https://localhost:8080/"
        },
        "id": "KgXR3LX6b5KV",
        "outputId": "8763f0a8-bb9e-4950-fc96-b40755a61c9f"
      },
      "execution_count": null,
      "outputs": [
        {
          "output_type": "stream",
          "name": "stdout",
          "text": [
            "Enter a string: app\n",
            "Max. freq character: p\n"
          ]
        }
      ]
    },
    {
      "cell_type": "markdown",
      "source": [
        "16.Python – Odd Frequency Characters"
      ],
      "metadata": {
        "id": "OsOCZTmUE6uT"
      }
    },
    {
      "cell_type": "code",
      "source": [
        "#using str\n",
        "a = 'aaaaassssbbb'\n",
        "b = ''\n",
        "for i in a:\n",
        "  if a.count(i)%2!=0 and i not in b:\n",
        "    b = b + i\n",
        "    print(i,end='')"
      ],
      "metadata": {
        "colab": {
          "base_uri": "https://localhost:8080/"
        },
        "id": "4jwvQYEiJpA1",
        "outputId": "1e886dc2-9451-4632-b1f8-ea39154364cb"
      },
      "execution_count": null,
      "outputs": [
        {
          "output_type": "stream",
          "name": "stdout",
          "text": [
            "ab"
          ]
        }
      ]
    },
    {
      "cell_type": "code",
      "source": [
        "#using list\n",
        "a = 'aaaaassssbbb'\n",
        "b = []\n",
        "for i in a:\n",
        "  if a.count(i)%2!=0 and i not in b:\n",
        "    b.append(i)\n",
        "    print(i,end='')"
      ],
      "metadata": {
        "colab": {
          "base_uri": "https://localhost:8080/"
        },
        "id": "OXiCInAirAvd",
        "outputId": "ebcab3d9-19a8-4f2f-ec56-32000516d7c8"
      },
      "execution_count": null,
      "outputs": [
        {
          "output_type": "stream",
          "name": "stdout",
          "text": [
            "ab"
          ]
        }
      ]
    },
    {
      "cell_type": "markdown",
      "source": [
        "17.Python – Specific Character Frequency in String List"
      ],
      "metadata": {
        "id": "-w_DvghZE8dP"
      }
    },
    {
      "cell_type": "code",
      "source": [
        "string = input(\"Enter a string: \")\n",
        "char = input(\"Enter a character to get its frequency in the string: \")\n",
        "string.count(char)"
      ],
      "metadata": {
        "colab": {
          "base_uri": "https://localhost:8080/"
        },
        "id": "oYNJRWKJSUL2",
        "outputId": "1c98fa0a-fc05-463e-ddac-56ff87c6b0ae"
      },
      "execution_count": null,
      "outputs": [
        {
          "name": "stdout",
          "output_type": "stream",
          "text": [
            "e\n"
          ]
        },
        {
          "output_type": "execute_result",
          "data": {
            "text/plain": [
              "2"
            ]
          },
          "metadata": {},
          "execution_count": 67
        }
      ]
    },
    {
      "cell_type": "markdown",
      "source": [
        "18.Python | Frequency of numbers in String"
      ],
      "metadata": {
        "id": "59PoaCxEE-UB"
      }
    },
    {
      "cell_type": "code",
      "source": [
        "a = '355222'\n",
        "s = input(\"Enter a number to get its frequency: \")\n",
        "\n",
        "a.count(s)"
      ],
      "metadata": {
        "colab": {
          "base_uri": "https://localhost:8080/"
        },
        "id": "pWX1NRKbvYHX",
        "outputId": "4156ae01-b128-4d79-fce4-4b767f3d02db"
      },
      "execution_count": null,
      "outputs": [
        {
          "name": "stdout",
          "output_type": "stream",
          "text": [
            "Enter a number to get its frequency: 5\n"
          ]
        },
        {
          "output_type": "execute_result",
          "data": {
            "text/plain": [
              "2"
            ]
          },
          "metadata": {},
          "execution_count": 6
        }
      ]
    },
    {
      "cell_type": "markdown",
      "source": [
        "19.Python | Program to check if a string contains any special character"
      ],
      "metadata": {
        "id": "F42aUg6wE_z3"
      }
    },
    {
      "cell_type": "code",
      "source": [
        "special_char = [',','.','/','-','+','*']\n",
        "string = input(\"Enter a string: \")\n",
        "\n",
        "for i in string:\n",
        "  if i in special_char:\n",
        "    print(\"String contains special character.\")\n",
        "    break\n",
        "else:\n",
        "  print(\"No special characters in the string.\")"
      ],
      "metadata": {
        "colab": {
          "base_uri": "https://localhost:8080/"
        },
        "id": "NzTgOhowcRDZ",
        "outputId": "cd9d7a10-28d7-468a-d34e-457791d99158"
      },
      "execution_count": null,
      "outputs": [
        {
          "output_type": "stream",
          "name": "stdout",
          "text": [
            "Enter a string: ded-ked\n",
            "String contains special character.\n"
          ]
        }
      ]
    },
    {
      "cell_type": "markdown",
      "source": [
        "20.Generating random strings until a given string is generated"
      ],
      "metadata": {
        "id": "iVAANOpKFBNK"
      }
    },
    {
      "cell_type": "code",
      "source": [
        "a = [chr(i) for i in range(65,91)] \n",
        "print(a)"
      ],
      "metadata": {
        "colab": {
          "base_uri": "https://localhost:8080/"
        },
        "id": "_1cMRJ6Plsyp",
        "outputId": "1e84282e-6612-4d53-8587-b4207c804122"
      },
      "execution_count": null,
      "outputs": [
        {
          "output_type": "stream",
          "name": "stdout",
          "text": [
            "['A', 'B', 'C', 'D', 'E', 'F', 'G', 'H', 'I', 'J', 'K', 'L', 'M', 'N', 'O', 'P', 'Q', 'R', 'S', 'T', 'U', 'V', 'W', 'X', 'Y', 'Z']\n"
          ]
        }
      ]
    },
    {
      "cell_type": "code",
      "source": [
        "import random\n",
        "\n",
        "check = \"VHK\"\n",
        "string = ''\n",
        "# Characters = string.ascii_lowercase + string.digits + string.ascii_uppercase + ' ., !?;:'\n",
        "Cap_letters = [chr(i) for i in range(65,91)] #Capital letters A-Z\n",
        "\n",
        "loop=0\n",
        "while check!='':\n",
        "  string = ''.join(random.choice(Cap_letters)for i in range(len(check)))\n",
        "  \n",
        "  print(string)\n",
        "  loop+=1\n",
        "    # for i in range(len(check)):\n",
        "    #     string = random.choice(Cap_letters) + string\n",
        "    #     print(string)\n",
        "\n",
        "  if string == check:\n",
        "    print(check,\"is found after\",loop,\"iterations.\")\n",
        "    break\n",
        "  "
      ],
      "metadata": {
        "colab": {
          "base_uri": "https://localhost:8080/"
        },
        "id": "exGJI-44NOj0",
        "outputId": "97c46233-075f-4ff4-c29f-dbde75b36fc5"
      },
      "execution_count": null,
      "outputs": [
        {
          "output_type": "stream",
          "name": "stdout",
          "text": [
            "\u001b[1;30;43mStreaming output truncated to the last 5000 lines.\u001b[0m\n",
            "ILW\n",
            "HPN\n",
            "MSF\n",
            "DTO\n",
            "MXL\n",
            "HAI\n",
            "IPI\n",
            "BDS\n",
            "LYN\n",
            "RKM\n",
            "NQX\n",
            "FVA\n",
            "CZB\n",
            "YUF\n",
            "KMV\n",
            "KGP\n",
            "HAJ\n",
            "GWW\n",
            "URA\n",
            "EMX\n",
            "ATM\n",
            "TWJ\n",
            "RTF\n",
            "LFC\n",
            "LBS\n",
            "LHL\n",
            "FKV\n",
            "TCX\n",
            "NZU\n",
            "OOZ\n",
            "DWT\n",
            "DDN\n",
            "WFQ\n",
            "DOW\n",
            "JXE\n",
            "WUS\n",
            "OAV\n",
            "AGZ\n",
            "JDO\n",
            "ULT\n",
            "WRW\n",
            "UWN\n",
            "FCV\n",
            "QRZ\n",
            "VNK\n",
            "VST\n",
            "ASU\n",
            "EKQ\n",
            "YMI\n",
            "DUG\n",
            "HWI\n",
            "TFU\n",
            "DMI\n",
            "DDX\n",
            "XQS\n",
            "RQV\n",
            "VBQ\n",
            "SNM\n",
            "OBG\n",
            "QYU\n",
            "QVU\n",
            "HWY\n",
            "ZQY\n",
            "ZMT\n",
            "ECV\n",
            "AJT\n",
            "DPX\n",
            "NID\n",
            "NSH\n",
            "AQF\n",
            "VSF\n",
            "DLS\n",
            "DAP\n",
            "AST\n",
            "KKR\n",
            "KXG\n",
            "UOP\n",
            "XAG\n",
            "OJD\n",
            "QIE\n",
            "DAJ\n",
            "SRR\n",
            "PXC\n",
            "NQW\n",
            "PIA\n",
            "AEC\n",
            "XAL\n",
            "HGP\n",
            "OFO\n",
            "DZO\n",
            "OTY\n",
            "GXV\n",
            "ZDW\n",
            "JXB\n",
            "BDU\n",
            "HDG\n",
            "VAT\n",
            "LIT\n",
            "YNQ\n",
            "NJN\n",
            "QKS\n",
            "XXR\n",
            "QOG\n",
            "IIJ\n",
            "AKE\n",
            "OFQ\n",
            "BXW\n",
            "OIF\n",
            "PLC\n",
            "HEZ\n",
            "JKT\n",
            "JAO\n",
            "HSZ\n",
            "WHT\n",
            "SFD\n",
            "JQW\n",
            "PDO\n",
            "SIV\n",
            "SMD\n",
            "ZPQ\n",
            "JBS\n",
            "CAC\n",
            "AUC\n",
            "OPD\n",
            "RAV\n",
            "CWA\n",
            "SGI\n",
            "QRA\n",
            "LJF\n",
            "TAX\n",
            "CZS\n",
            "NXU\n",
            "YEL\n",
            "FQK\n",
            "HWH\n",
            "ABK\n",
            "UXQ\n",
            "PSH\n",
            "SPB\n",
            "JGB\n",
            "VFT\n",
            "LBU\n",
            "MBA\n",
            "VMY\n",
            "UOD\n",
            "EBQ\n",
            "OQP\n",
            "CFJ\n",
            "DNY\n",
            "QGI\n",
            "GUU\n",
            "NBV\n",
            "AHV\n",
            "DMO\n",
            "JDQ\n",
            "HWS\n",
            "RSF\n",
            "ONU\n",
            "EMG\n",
            "CUE\n",
            "OER\n",
            "MWV\n",
            "GCV\n",
            "WRY\n",
            "DDR\n",
            "EJY\n",
            "PLX\n",
            "GDW\n",
            "KUV\n",
            "QJX\n",
            "CZB\n",
            "PNH\n",
            "TCX\n",
            "UMO\n",
            "XAZ\n",
            "SEX\n",
            "EPC\n",
            "HAL\n",
            "ATD\n",
            "KDG\n",
            "WVY\n",
            "TIV\n",
            "NBW\n",
            "XLN\n",
            "GTB\n",
            "IOK\n",
            "ZBH\n",
            "FZK\n",
            "VNC\n",
            "FFJ\n",
            "ZBW\n",
            "EWE\n",
            "PNW\n",
            "SJI\n",
            "XHW\n",
            "VNH\n",
            "PQP\n",
            "PQM\n",
            "NCH\n",
            "AQM\n",
            "XSQ\n",
            "NQU\n",
            "UWP\n",
            "YIN\n",
            "UCA\n",
            "CCS\n",
            "IIG\n",
            "NIF\n",
            "NNE\n",
            "HQW\n",
            "KCK\n",
            "PEH\n",
            "QSR\n",
            "KWB\n",
            "AYN\n",
            "NAP\n",
            "FBD\n",
            "HBR\n",
            "DBW\n",
            "YPJ\n",
            "OZN\n",
            "ZKT\n",
            "PXP\n",
            "YPX\n",
            "PTO\n",
            "LOL\n",
            "AYH\n",
            "ZIC\n",
            "YSK\n",
            "QXH\n",
            "XVU\n",
            "LFB\n",
            "FHU\n",
            "QHE\n",
            "KXK\n",
            "AKU\n",
            "QTD\n",
            "HOI\n",
            "VWV\n",
            "RLZ\n",
            "JOI\n",
            "GGZ\n",
            "NTS\n",
            "RAA\n",
            "SEZ\n",
            "JUK\n",
            "RHE\n",
            "ZWS\n",
            "FEA\n",
            "HBF\n",
            "SEG\n",
            "YSC\n",
            "GJD\n",
            "EDC\n",
            "GEN\n",
            "RRM\n",
            "CEH\n",
            "FVI\n",
            "UTL\n",
            "ZAY\n",
            "UDR\n",
            "KFK\n",
            "EYL\n",
            "GXZ\n",
            "AAG\n",
            "MFR\n",
            "NIA\n",
            "GGR\n",
            "WXZ\n",
            "ATL\n",
            "ZAO\n",
            "WJZ\n",
            "DHI\n",
            "FEJ\n",
            "LPI\n",
            "SNA\n",
            "OUT\n",
            "NFB\n",
            "GZU\n",
            "YZY\n",
            "JYE\n",
            "TJO\n",
            "KFR\n",
            "EHM\n",
            "HEP\n",
            "CDT\n",
            "KBL\n",
            "WFK\n",
            "FGW\n",
            "BCI\n",
            "RWQ\n",
            "DTZ\n",
            "JRV\n",
            "BQH\n",
            "HUC\n",
            "NHI\n",
            "BMH\n",
            "ATQ\n",
            "GVV\n",
            "RAQ\n",
            "HZR\n",
            "CQE\n",
            "BVM\n",
            "VPE\n",
            "BBJ\n",
            "OGH\n",
            "LBN\n",
            "EUH\n",
            "IIV\n",
            "MYS\n",
            "HLB\n",
            "AEJ\n",
            "YCD\n",
            "IPT\n",
            "ZQR\n",
            "MSE\n",
            "JBT\n",
            "SJT\n",
            "ERM\n",
            "DDK\n",
            "YHQ\n",
            "JOT\n",
            "IQB\n",
            "VYM\n",
            "DFE\n",
            "LWB\n",
            "YQV\n",
            "QZU\n",
            "OWM\n",
            "QGD\n",
            "NAH\n",
            "EGI\n",
            "XGY\n",
            "RWS\n",
            "FEQ\n",
            "FAM\n",
            "KNW\n",
            "HFJ\n",
            "ZNT\n",
            "LSO\n",
            "AOX\n",
            "FYB\n",
            "VYK\n",
            "WBH\n",
            "MDU\n",
            "AGL\n",
            "QON\n",
            "AFF\n",
            "WHU\n",
            "UDG\n",
            "XFM\n",
            "WAY\n",
            "EYG\n",
            "BSS\n",
            "HAE\n",
            "OPA\n",
            "JLR\n",
            "MMS\n",
            "SQK\n",
            "PQA\n",
            "NQG\n",
            "VVW\n",
            "QME\n",
            "WHV\n",
            "LSQ\n",
            "IJN\n",
            "OKV\n",
            "CXB\n",
            "DDV\n",
            "OUH\n",
            "TFP\n",
            "JFP\n",
            "MAF\n",
            "NZP\n",
            "SAI\n",
            "WOV\n",
            "DSS\n",
            "GKJ\n",
            "KLY\n",
            "RCI\n",
            "BKH\n",
            "OBT\n",
            "XAZ\n",
            "YKL\n",
            "OYX\n",
            "ALB\n",
            "VLL\n",
            "ZLB\n",
            "BUG\n",
            "UEE\n",
            "ZBM\n",
            "ZFA\n",
            "KFN\n",
            "JDR\n",
            "YQK\n",
            "UCT\n",
            "GFC\n",
            "GHU\n",
            "IOX\n",
            "KYF\n",
            "XDT\n",
            "XNM\n",
            "HCD\n",
            "PRH\n",
            "JST\n",
            "WFL\n",
            "BUP\n",
            "GBR\n",
            "TKA\n",
            "YFH\n",
            "CNC\n",
            "FWX\n",
            "IFA\n",
            "NGQ\n",
            "GYJ\n",
            "SHA\n",
            "BSA\n",
            "WNQ\n",
            "ALB\n",
            "BAB\n",
            "VWJ\n",
            "SEL\n",
            "HBL\n",
            "GWU\n",
            "USH\n",
            "ADL\n",
            "UQM\n",
            "EVD\n",
            "XOL\n",
            "DBG\n",
            "THG\n",
            "ZXX\n",
            "OES\n",
            "YYY\n",
            "RFZ\n",
            "TEC\n",
            "CVF\n",
            "WIE\n",
            "SLD\n",
            "ZGB\n",
            "SZJ\n",
            "HDG\n",
            "NZJ\n",
            "ANZ\n",
            "VGC\n",
            "HWZ\n",
            "RTP\n",
            "IHY\n",
            "PMI\n",
            "RWC\n",
            "PAY\n",
            "OYN\n",
            "RBL\n",
            "BHR\n",
            "LIY\n",
            "HSU\n",
            "CWW\n",
            "OKX\n",
            "TRP\n",
            "MIX\n",
            "KFB\n",
            "NVV\n",
            "RIW\n",
            "STZ\n",
            "YTI\n",
            "KLO\n",
            "ATF\n",
            "SZR\n",
            "GLF\n",
            "QPV\n",
            "ODQ\n",
            "CMA\n",
            "PFJ\n",
            "JYI\n",
            "DAI\n",
            "SBW\n",
            "YYF\n",
            "GUI\n",
            "ZDY\n",
            "VHE\n",
            "ORE\n",
            "DJU\n",
            "PXT\n",
            "ZQJ\n",
            "CYP\n",
            "WFG\n",
            "CXJ\n",
            "YYC\n",
            "CWI\n",
            "WAG\n",
            "KZS\n",
            "ICN\n",
            "IJO\n",
            "BAQ\n",
            "JLS\n",
            "TEU\n",
            "QBZ\n",
            "FSC\n",
            "PSR\n",
            "FDX\n",
            "RBQ\n",
            "LYB\n",
            "NHU\n",
            "CUM\n",
            "ZBG\n",
            "BFM\n",
            "RXZ\n",
            "AHG\n",
            "PJT\n",
            "KMX\n",
            "WQO\n",
            "KCZ\n",
            "DPF\n",
            "MOD\n",
            "EPN\n",
            "OSO\n",
            "BUA\n",
            "UGW\n",
            "QYM\n",
            "IFW\n",
            "KLN\n",
            "KVV\n",
            "FQR\n",
            "FVR\n",
            "HPD\n",
            "IHV\n",
            "DWZ\n",
            "GVQ\n",
            "NCA\n",
            "NXI\n",
            "GMH\n",
            "HNE\n",
            "EET\n",
            "ZCW\n",
            "IKA\n",
            "MLZ\n",
            "HUQ\n",
            "WFW\n",
            "KQS\n",
            "OHN\n",
            "RTA\n",
            "WCP\n",
            "JCM\n",
            "CQD\n",
            "YEH\n",
            "RVT\n",
            "IVR\n",
            "IJX\n",
            "JRW\n",
            "ACD\n",
            "XKT\n",
            "PWA\n",
            "BZL\n",
            "CPK\n",
            "FQP\n",
            "TFN\n",
            "GIB\n",
            "CTZ\n",
            "HOQ\n",
            "ORZ\n",
            "NRC\n",
            "RHH\n",
            "FHS\n",
            "KHB\n",
            "ARM\n",
            "WRJ\n",
            "IYV\n",
            "EFD\n",
            "GQE\n",
            "FSK\n",
            "TYY\n",
            "VCA\n",
            "WRE\n",
            "XCQ\n",
            "KWU\n",
            "RSZ\n",
            "YDG\n",
            "QUW\n",
            "ODM\n",
            "SFJ\n",
            "UFE\n",
            "CJT\n",
            "KGA\n",
            "YHX\n",
            "YCA\n",
            "BQH\n",
            "WIK\n",
            "YNL\n",
            "NWV\n",
            "NCJ\n",
            "JPA\n",
            "VCH\n",
            "JHT\n",
            "LSP\n",
            "ZNX\n",
            "LQC\n",
            "WZQ\n",
            "KNK\n",
            "CMM\n",
            "MBB\n",
            "FFD\n",
            "MCH\n",
            "JMD\n",
            "FFL\n",
            "SEC\n",
            "ANR\n",
            "YIV\n",
            "GGJ\n",
            "RTS\n",
            "KNT\n",
            "RDY\n",
            "KCP\n",
            "GHQ\n",
            "HSS\n",
            "ZVI\n",
            "QRQ\n",
            "DEQ\n",
            "FUO\n",
            "RKL\n",
            "FSF\n",
            "KYY\n",
            "DXJ\n",
            "DKK\n",
            "FOS\n",
            "FEA\n",
            "YZL\n",
            "DUB\n",
            "VQL\n",
            "ZIS\n",
            "SSF\n",
            "XHT\n",
            "XWT\n",
            "MFV\n",
            "QXI\n",
            "VSC\n",
            "QCE\n",
            "RBI\n",
            "QDO\n",
            "BEV\n",
            "FPJ\n",
            "TQT\n",
            "MZA\n",
            "FQT\n",
            "OHM\n",
            "AKN\n",
            "GUN\n",
            "OSO\n",
            "QNE\n",
            "NGQ\n",
            "DWJ\n",
            "EHU\n",
            "VNZ\n",
            "HMJ\n",
            "GCF\n",
            "UKO\n",
            "OJI\n",
            "WGY\n",
            "OER\n",
            "NYX\n",
            "BRO\n",
            "VTN\n",
            "SUD\n",
            "PXL\n",
            "GVS\n",
            "XBJ\n",
            "YBN\n",
            "UZG\n",
            "XUQ\n",
            "AIK\n",
            "MFU\n",
            "HDG\n",
            "UAX\n",
            "ZPW\n",
            "OXP\n",
            "QNM\n",
            "MEG\n",
            "BGD\n",
            "BKW\n",
            "VJE\n",
            "CVL\n",
            "RJI\n",
            "QHY\n",
            "KCB\n",
            "GZD\n",
            "LKD\n",
            "OSF\n",
            "OTN\n",
            "YAF\n",
            "QGS\n",
            "DBG\n",
            "XLS\n",
            "FVH\n",
            "DWQ\n",
            "XJF\n",
            "TDZ\n",
            "FLO\n",
            "JEN\n",
            "AZP\n",
            "SPN\n",
            "QHU\n",
            "HRY\n",
            "ZAJ\n",
            "BGN\n",
            "BAB\n",
            "XEH\n",
            "HTK\n",
            "MCP\n",
            "WJY\n",
            "LHY\n",
            "KQS\n",
            "OSG\n",
            "TFE\n",
            "KTH\n",
            "KPE\n",
            "HIN\n",
            "OUW\n",
            "MAA\n",
            "ULB\n",
            "YEC\n",
            "DKP\n",
            "XCG\n",
            "WWY\n",
            "ROH\n",
            "LEJ\n",
            "VLE\n",
            "FOL\n",
            "VGA\n",
            "CCM\n",
            "XHC\n",
            "QEH\n",
            "IKT\n",
            "CBE\n",
            "ELU\n",
            "MCK\n",
            "PNP\n",
            "MZC\n",
            "TXJ\n",
            "LHG\n",
            "VZC\n",
            "TCE\n",
            "GNI\n",
            "BJB\n",
            "LPX\n",
            "FVE\n",
            "XHK\n",
            "DAK\n",
            "UNW\n",
            "SNY\n",
            "LOY\n",
            "TJN\n",
            "OLO\n",
            "ISO\n",
            "ZZQ\n",
            "YIC\n",
            "ZTD\n",
            "KTY\n",
            "WFL\n",
            "AKP\n",
            "CYO\n",
            "CAN\n",
            "XHV\n",
            "FMV\n",
            "AGJ\n",
            "YFQ\n",
            "WGB\n",
            "RXT\n",
            "PIJ\n",
            "UIQ\n",
            "RLH\n",
            "MJN\n",
            "BLV\n",
            "RAZ\n",
            "DPE\n",
            "SRK\n",
            "NAN\n",
            "DCG\n",
            "BYX\n",
            "GQZ\n",
            "SWI\n",
            "GOY\n",
            "OSJ\n",
            "UST\n",
            "QOS\n",
            "XSW\n",
            "YOH\n",
            "XKE\n",
            "ZOP\n",
            "LZS\n",
            "OHU\n",
            "EUK\n",
            "ZQM\n",
            "DQM\n",
            "TXJ\n",
            "GKF\n",
            "CAX\n",
            "QHH\n",
            "QNO\n",
            "RLA\n",
            "FFE\n",
            "LWB\n",
            "TKV\n",
            "EED\n",
            "EKA\n",
            "CFK\n",
            "ZWD\n",
            "BJF\n",
            "ZGC\n",
            "DYA\n",
            "VYA\n",
            "SFB\n",
            "TOF\n",
            "SCK\n",
            "XKW\n",
            "GEK\n",
            "QVD\n",
            "IIM\n",
            "ABV\n",
            "FJE\n",
            "TOQ\n",
            "GQS\n",
            "QOW\n",
            "IFT\n",
            "PXR\n",
            "PVN\n",
            "RHR\n",
            "RHQ\n",
            "ISK\n",
            "KXZ\n",
            "XGW\n",
            "DRT\n",
            "KGV\n",
            "JIS\n",
            "KHK\n",
            "WMB\n",
            "YXD\n",
            "RRP\n",
            "EZP\n",
            "GFE\n",
            "HIE\n",
            "SGX\n",
            "VCQ\n",
            "SGG\n",
            "AWH\n",
            "TCH\n",
            "MLA\n",
            "SWQ\n",
            "GTU\n",
            "LKM\n",
            "ULI\n",
            "DVR\n",
            "CEU\n",
            "WSZ\n",
            "DTS\n",
            "PCU\n",
            "JLR\n",
            "YQS\n",
            "YDY\n",
            "DTG\n",
            "IKK\n",
            "HZC\n",
            "ING\n",
            "LWJ\n",
            "UWG\n",
            "NSA\n",
            "XTU\n",
            "AAS\n",
            "GYW\n",
            "MHB\n",
            "OCM\n",
            "HLJ\n",
            "VCN\n",
            "CSG\n",
            "XWM\n",
            "GDE\n",
            "HYK\n",
            "FIS\n",
            "PFF\n",
            "DXF\n",
            "CGY\n",
            "YYR\n",
            "JYN\n",
            "TPE\n",
            "GHB\n",
            "KLL\n",
            "KJU\n",
            "ELU\n",
            "JMU\n",
            "NCN\n",
            "YZF\n",
            "LAJ\n",
            "FWS\n",
            "AEK\n",
            "FRF\n",
            "CFX\n",
            "QBJ\n",
            "GAW\n",
            "XCS\n",
            "DVP\n",
            "IXX\n",
            "PQL\n",
            "BXV\n",
            "FBI\n",
            "ZKG\n",
            "MWB\n",
            "JFH\n",
            "VUJ\n",
            "RFU\n",
            "UKK\n",
            "PSE\n",
            "VYW\n",
            "DIS\n",
            "VCF\n",
            "SNA\n",
            "EST\n",
            "JJN\n",
            "PNJ\n",
            "DKP\n",
            "COU\n",
            "WHJ\n",
            "SEU\n",
            "RKD\n",
            "FPZ\n",
            "QUV\n",
            "SCC\n",
            "JEW\n",
            "QIP\n",
            "VIY\n",
            "SOR\n",
            "JTY\n",
            "WJO\n",
            "JKM\n",
            "JIT\n",
            "YDA\n",
            "VJL\n",
            "ULX\n",
            "JEV\n",
            "TWL\n",
            "ZZY\n",
            "ZWO\n",
            "TCK\n",
            "FJT\n",
            "AOV\n",
            "STC\n",
            "WAP\n",
            "DYX\n",
            "WJA\n",
            "DVL\n",
            "UHL\n",
            "JFT\n",
            "VYN\n",
            "YXC\n",
            "DGZ\n",
            "HJC\n",
            "AIX\n",
            "WFX\n",
            "POW\n",
            "OHT\n",
            "LGN\n",
            "TAE\n",
            "RFH\n",
            "TDP\n",
            "KTU\n",
            "JFM\n",
            "JMK\n",
            "ILA\n",
            "IHL\n",
            "RMI\n",
            "CNR\n",
            "TMK\n",
            "VIH\n",
            "OHM\n",
            "CGO\n",
            "DHG\n",
            "NJH\n",
            "IWL\n",
            "ADM\n",
            "BDW\n",
            "RHY\n",
            "DXY\n",
            "XYW\n",
            "BWE\n",
            "WLC\n",
            "OLO\n",
            "TFB\n",
            "CET\n",
            "ZML\n",
            "SDI\n",
            "PNM\n",
            "ROM\n",
            "LDH\n",
            "EIR\n",
            "EYV\n",
            "QDW\n",
            "PVC\n",
            "DYL\n",
            "SMH\n",
            "FKR\n",
            "HTE\n",
            "BEM\n",
            "FDU\n",
            "FMW\n",
            "DWA\n",
            "AOI\n",
            "XBA\n",
            "HQV\n",
            "OLR\n",
            "AQA\n",
            "BIA\n",
            "WRU\n",
            "XXZ\n",
            "QVL\n",
            "DNS\n",
            "NVO\n",
            "FLH\n",
            "OUR\n",
            "GKD\n",
            "GRI\n",
            "AYH\n",
            "QOZ\n",
            "IJX\n",
            "GIX\n",
            "AFK\n",
            "OFS\n",
            "PZT\n",
            "ZJP\n",
            "JQW\n",
            "MAP\n",
            "EJL\n",
            "SRU\n",
            "HYK\n",
            "ZTI\n",
            "IWV\n",
            "YYG\n",
            "IIE\n",
            "ERN\n",
            "YAE\n",
            "WPH\n",
            "UBG\n",
            "WSS\n",
            "BXE\n",
            "YLU\n",
            "UFE\n",
            "RKS\n",
            "KCW\n",
            "ASY\n",
            "NYW\n",
            "SLN\n",
            "VFY\n",
            "JQE\n",
            "HQE\n",
            "DCO\n",
            "HJE\n",
            "UHM\n",
            "WFL\n",
            "WGY\n",
            "JKA\n",
            "CAZ\n",
            "OPR\n",
            "LQT\n",
            "JBX\n",
            "LLV\n",
            "BKO\n",
            "SQG\n",
            "NXX\n",
            "IIO\n",
            "SAX\n",
            "OPB\n",
            "ZAK\n",
            "CKE\n",
            "RXS\n",
            "DSR\n",
            "ASO\n",
            "IAU\n",
            "ORN\n",
            "MGO\n",
            "WUR\n",
            "NPB\n",
            "ZEA\n",
            "RET\n",
            "ZPZ\n",
            "MEM\n",
            "NYY\n",
            "WPK\n",
            "LWY\n",
            "YYV\n",
            "ZMJ\n",
            "FVE\n",
            "PPG\n",
            "XPY\n",
            "YWS\n",
            "HGZ\n",
            "NNX\n",
            "JVV\n",
            "CVN\n",
            "PCO\n",
            "LEB\n",
            "NOE\n",
            "KNE\n",
            "FPD\n",
            "UXZ\n",
            "NTG\n",
            "IMQ\n",
            "KGE\n",
            "KVJ\n",
            "MSD\n",
            "HGE\n",
            "LQS\n",
            "VOC\n",
            "XKX\n",
            "LUQ\n",
            "UJK\n",
            "PYQ\n",
            "WWO\n",
            "PUJ\n",
            "VTG\n",
            "SGX\n",
            "HDC\n",
            "RXC\n",
            "AMJ\n",
            "NCB\n",
            "LDK\n",
            "HLK\n",
            "KVI\n",
            "RWX\n",
            "FBK\n",
            "LXZ\n",
            "SEU\n",
            "HRS\n",
            "IUR\n",
            "UXY\n",
            "PAY\n",
            "ACI\n",
            "AJS\n",
            "YUK\n",
            "SBN\n",
            "KNU\n",
            "KNQ\n",
            "YFI\n",
            "RCM\n",
            "LCR\n",
            "GJC\n",
            "AVV\n",
            "KXO\n",
            "YKP\n",
            "QMA\n",
            "YKW\n",
            "WHQ\n",
            "PRG\n",
            "STY\n",
            "CBJ\n",
            "TUM\n",
            "ZJU\n",
            "VXB\n",
            "BZB\n",
            "HNO\n",
            "MBR\n",
            "WOV\n",
            "LDM\n",
            "KGK\n",
            "JIH\n",
            "NGL\n",
            "UBA\n",
            "UED\n",
            "TQY\n",
            "UTF\n",
            "VVC\n",
            "EKX\n",
            "EEZ\n",
            "FUL\n",
            "CUY\n",
            "SPB\n",
            "UDH\n",
            "ZNB\n",
            "ARX\n",
            "SQC\n",
            "EJO\n",
            "DDB\n",
            "JBJ\n",
            "OSU\n",
            "INM\n",
            "POZ\n",
            "JGU\n",
            "RNR\n",
            "HJD\n",
            "NMP\n",
            "NFV\n",
            "JPM\n",
            "UOJ\n",
            "YDO\n",
            "XAV\n",
            "EGQ\n",
            "YZL\n",
            "KOJ\n",
            "GQB\n",
            "MEH\n",
            "TBX\n",
            "BOK\n",
            "URB\n",
            "WQY\n",
            "FMU\n",
            "OHH\n",
            "QIT\n",
            "ETW\n",
            "BHR\n",
            "KYX\n",
            "RQK\n",
            "QFK\n",
            "PKJ\n",
            "LCG\n",
            "UUH\n",
            "VMI\n",
            "USF\n",
            "VPD\n",
            "PUM\n",
            "AYQ\n",
            "OSK\n",
            "NXJ\n",
            "XRA\n",
            "CRU\n",
            "ZFW\n",
            "TFB\n",
            "ENE\n",
            "LMW\n",
            "PEL\n",
            "QLF\n",
            "EAZ\n",
            "DFN\n",
            "HMB\n",
            "FAF\n",
            "TAO\n",
            "PFR\n",
            "JVQ\n",
            "WGZ\n",
            "ZLL\n",
            "MUT\n",
            "CRH\n",
            "YAM\n",
            "LGQ\n",
            "UYO\n",
            "TSV\n",
            "TJD\n",
            "FDK\n",
            "DCJ\n",
            "LVO\n",
            "JBT\n",
            "QFR\n",
            "YUO\n",
            "UJC\n",
            "AYS\n",
            "RUX\n",
            "LYW\n",
            "WJN\n",
            "BNL\n",
            "OZE\n",
            "IDX\n",
            "UZQ\n",
            "ACB\n",
            "LWF\n",
            "DNJ\n",
            "ORE\n",
            "JSF\n",
            "FNQ\n",
            "JJE\n",
            "MLP\n",
            "RYT\n",
            "QHH\n",
            "NKW\n",
            "HZK\n",
            "UHT\n",
            "GXL\n",
            "CHJ\n",
            "BYH\n",
            "MNL\n",
            "KHE\n",
            "RTT\n",
            "FTP\n",
            "RXH\n",
            "VTD\n",
            "ASE\n",
            "GJD\n",
            "PKA\n",
            "SUB\n",
            "NPG\n",
            "XRK\n",
            "CBV\n",
            "DXO\n",
            "TMV\n",
            "RSL\n",
            "HXJ\n",
            "DKJ\n",
            "YGO\n",
            "EHT\n",
            "JPZ\n",
            "IBP\n",
            "LUC\n",
            "YSW\n",
            "WCM\n",
            "WEE\n",
            "TEY\n",
            "GFR\n",
            "RJQ\n",
            "EOE\n",
            "INJ\n",
            "URA\n",
            "DZN\n",
            "AWW\n",
            "OCN\n",
            "YCM\n",
            "BLW\n",
            "ZYR\n",
            "YAC\n",
            "DHH\n",
            "ATI\n",
            "VKC\n",
            "CVC\n",
            "ICZ\n",
            "EJU\n",
            "JSF\n",
            "XXJ\n",
            "DDI\n",
            "DZH\n",
            "IAE\n",
            "WUB\n",
            "FNM\n",
            "YHY\n",
            "HZH\n",
            "GTI\n",
            "EUF\n",
            "MRH\n",
            "GIB\n",
            "RJX\n",
            "ARZ\n",
            "DJK\n",
            "XOD\n",
            "BXT\n",
            "GJZ\n",
            "POC\n",
            "NXL\n",
            "YEP\n",
            "URI\n",
            "GIR\n",
            "BMD\n",
            "PBJ\n",
            "OYT\n",
            "QTE\n",
            "HTE\n",
            "HXA\n",
            "TBE\n",
            "RUN\n",
            "JNB\n",
            "HMO\n",
            "DJF\n",
            "IPH\n",
            "RUE\n",
            "ORY\n",
            "YHH\n",
            "RJS\n",
            "ILS\n",
            "HBG\n",
            "IEF\n",
            "RSI\n",
            "XPL\n",
            "KAK\n",
            "ION\n",
            "WKX\n",
            "FYG\n",
            "EJD\n",
            "DDA\n",
            "RKV\n",
            "WIN\n",
            "JAA\n",
            "GSL\n",
            "MFB\n",
            "AWE\n",
            "NFQ\n",
            "JZY\n",
            "TXV\n",
            "DVN\n",
            "RCQ\n",
            "ZIA\n",
            "PVH\n",
            "LYW\n",
            "DTU\n",
            "CLB\n",
            "THO\n",
            "CZG\n",
            "DHH\n",
            "RJR\n",
            "AFN\n",
            "LTO\n",
            "RNF\n",
            "FES\n",
            "DDN\n",
            "MBE\n",
            "FCB\n",
            "JBE\n",
            "CXS\n",
            "VVF\n",
            "SUS\n",
            "ART\n",
            "EHI\n",
            "AER\n",
            "XTP\n",
            "YMF\n",
            "ZAT\n",
            "QQX\n",
            "LNJ\n",
            "DNV\n",
            "LWA\n",
            "NPT\n",
            "KFQ\n",
            "DQW\n",
            "LRM\n",
            "DQT\n",
            "KXC\n",
            "DEM\n",
            "AVJ\n",
            "XYA\n",
            "MMH\n",
            "EMA\n",
            "VPW\n",
            "SIX\n",
            "YTI\n",
            "CZW\n",
            "WDL\n",
            "APN\n",
            "TCF\n",
            "WSQ\n",
            "YVW\n",
            "OWJ\n",
            "GAU\n",
            "ZDR\n",
            "OSF\n",
            "IZS\n",
            "IFT\n",
            "GCE\n",
            "ESO\n",
            "EGX\n",
            "FKP\n",
            "PPL\n",
            "IIE\n",
            "LJS\n",
            "GYM\n",
            "FPS\n",
            "ZLI\n",
            "FFS\n",
            "AUM\n",
            "PHP\n",
            "UPB\n",
            "QIK\n",
            "FED\n",
            "KGM\n",
            "SUY\n",
            "ZCR\n",
            "DQL\n",
            "ROO\n",
            "OTJ\n",
            "BIZ\n",
            "GEK\n",
            "CCH\n",
            "GKT\n",
            "WQQ\n",
            "MEZ\n",
            "XNE\n",
            "CYF\n",
            "YOE\n",
            "RID\n",
            "GZO\n",
            "DDY\n",
            "TTG\n",
            "KMY\n",
            "IMM\n",
            "WJG\n",
            "BFY\n",
            "NKH\n",
            "FLB\n",
            "YQO\n",
            "YOI\n",
            "OLQ\n",
            "TPA\n",
            "NHE\n",
            "SDX\n",
            "YIL\n",
            "HUZ\n",
            "DQQ\n",
            "QTN\n",
            "JAO\n",
            "AHQ\n",
            "DCQ\n",
            "BXF\n",
            "OBQ\n",
            "ZWP\n",
            "JCF\n",
            "SEY\n",
            "EQP\n",
            "ADC\n",
            "DNW\n",
            "YBP\n",
            "JBV\n",
            "DIX\n",
            "EFJ\n",
            "WOG\n",
            "BJQ\n",
            "LQP\n",
            "CDI\n",
            "FHK\n",
            "ERY\n",
            "ION\n",
            "ILF\n",
            "VGK\n",
            "OTN\n",
            "YVZ\n",
            "HED\n",
            "DUC\n",
            "MHZ\n",
            "LPE\n",
            "FLE\n",
            "PDK\n",
            "PQZ\n",
            "UNF\n",
            "TKP\n",
            "DRU\n",
            "YJR\n",
            "UMK\n",
            "WSN\n",
            "RGN\n",
            "WFW\n",
            "UTB\n",
            "QIH\n",
            "TAI\n",
            "JMP\n",
            "CGG\n",
            "RPV\n",
            "HEB\n",
            "QOO\n",
            "AYI\n",
            "TPH\n",
            "HYX\n",
            "QHB\n",
            "QHT\n",
            "CNA\n",
            "VVC\n",
            "ZHZ\n",
            "WNX\n",
            "HBC\n",
            "KHR\n",
            "DEZ\n",
            "FSE\n",
            "FJU\n",
            "NEB\n",
            "DTC\n",
            "TUY\n",
            "GON\n",
            "JOX\n",
            "YSM\n",
            "JOL\n",
            "CVI\n",
            "PJR\n",
            "KEQ\n",
            "QJY\n",
            "DMU\n",
            "ZTJ\n",
            "YCF\n",
            "JUB\n",
            "QLM\n",
            "VCD\n",
            "IVC\n",
            "SUU\n",
            "DQN\n",
            "XDM\n",
            "LQL\n",
            "UUG\n",
            "YNT\n",
            "CYR\n",
            "BON\n",
            "TKN\n",
            "UJS\n",
            "WEA\n",
            "LQX\n",
            "QOE\n",
            "SLA\n",
            "UFJ\n",
            "YYI\n",
            "SPG\n",
            "BXR\n",
            "UZX\n",
            "CBE\n",
            "EGX\n",
            "YZY\n",
            "DJG\n",
            "WGA\n",
            "OPB\n",
            "AOK\n",
            "OPL\n",
            "FOX\n",
            "ZQU\n",
            "BSH\n",
            "YXI\n",
            "IYJ\n",
            "OKC\n",
            "UVR\n",
            "SZO\n",
            "VWM\n",
            "KLM\n",
            "QEY\n",
            "CNC\n",
            "RDS\n",
            "HGV\n",
            "HTO\n",
            "YWV\n",
            "LFW\n",
            "DNB\n",
            "PAI\n",
            "MWE\n",
            "PKN\n",
            "REE\n",
            "KQI\n",
            "JVR\n",
            "RVE\n",
            "GCW\n",
            "FTF\n",
            "EUM\n",
            "KVF\n",
            "ZMM\n",
            "NLR\n",
            "ODA\n",
            "NTJ\n",
            "GDK\n",
            "YAD\n",
            "TTP\n",
            "NHY\n",
            "CDH\n",
            "HMQ\n",
            "DZZ\n",
            "ETK\n",
            "LHC\n",
            "MEW\n",
            "NXB\n",
            "APT\n",
            "OTG\n",
            "OGP\n",
            "AHS\n",
            "SRX\n",
            "MHS\n",
            "FLH\n",
            "CHX\n",
            "INN\n",
            "OFJ\n",
            "UVJ\n",
            "HZR\n",
            "QDO\n",
            "UFB\n",
            "EYV\n",
            "ZKT\n",
            "WIL\n",
            "HMC\n",
            "QEX\n",
            "GQK\n",
            "VFM\n",
            "WUS\n",
            "CTY\n",
            "OJD\n",
            "VHW\n",
            "TIC\n",
            "XDB\n",
            "PCL\n",
            "IEG\n",
            "CHW\n",
            "ZUF\n",
            "FTH\n",
            "IDD\n",
            "UQV\n",
            "JJZ\n",
            "EYZ\n",
            "EYR\n",
            "CQQ\n",
            "HMN\n",
            "DJI\n",
            "UPG\n",
            "WTR\n",
            "SGG\n",
            "ULH\n",
            "UIA\n",
            "UVA\n",
            "XWG\n",
            "EVT\n",
            "UTP\n",
            "RFF\n",
            "MBY\n",
            "CJS\n",
            "FWK\n",
            "OFD\n",
            "BOT\n",
            "FSJ\n",
            "QRM\n",
            "XFK\n",
            "ACH\n",
            "UYY\n",
            "FRZ\n",
            "YWL\n",
            "LGP\n",
            "QPP\n",
            "WKX\n",
            "WNP\n",
            "VUB\n",
            "YZS\n",
            "ILA\n",
            "UEU\n",
            "GJJ\n",
            "MDQ\n",
            "NYK\n",
            "GLB\n",
            "OTQ\n",
            "XJN\n",
            "ZAE\n",
            "IRW\n",
            "DCO\n",
            "TGL\n",
            "EVU\n",
            "CSR\n",
            "CYS\n",
            "JVC\n",
            "NQQ\n",
            "CVK\n",
            "GHT\n",
            "DAM\n",
            "UNK\n",
            "GKB\n",
            "RYO\n",
            "WNR\n",
            "ACF\n",
            "HJI\n",
            "FJQ\n",
            "HJI\n",
            "GUV\n",
            "AQR\n",
            "KEL\n",
            "YTH\n",
            "NID\n",
            "MXT\n",
            "TNG\n",
            "RFC\n",
            "RML\n",
            "PCP\n",
            "ADX\n",
            "FLI\n",
            "PPX\n",
            "QUD\n",
            "HLR\n",
            "PNH\n",
            "ANT\n",
            "VGY\n",
            "QCO\n",
            "GOT\n",
            "WBH\n",
            "JEZ\n",
            "GQK\n",
            "BBT\n",
            "KYC\n",
            "VPC\n",
            "ORD\n",
            "KOR\n",
            "SJS\n",
            "KFY\n",
            "VYB\n",
            "QHX\n",
            "DIA\n",
            "WGQ\n",
            "BVB\n",
            "JDG\n",
            "OSL\n",
            "JRQ\n",
            "JQR\n",
            "PNM\n",
            "ZEA\n",
            "WOW\n",
            "TUF\n",
            "ZEA\n",
            "IFP\n",
            "GYA\n",
            "BGV\n",
            "EIQ\n",
            "MPX\n",
            "SUM\n",
            "NKH\n",
            "XXG\n",
            "FZS\n",
            "LRU\n",
            "AJR\n",
            "GIW\n",
            "MGY\n",
            "UFB\n",
            "LWZ\n",
            "EQF\n",
            "LLE\n",
            "SDO\n",
            "EWM\n",
            "XJP\n",
            "VNQ\n",
            "ZHP\n",
            "PCQ\n",
            "UEW\n",
            "API\n",
            "REX\n",
            "JXI\n",
            "ONF\n",
            "VJL\n",
            "UUQ\n",
            "QLM\n",
            "JWW\n",
            "KNG\n",
            "MRQ\n",
            "XOO\n",
            "ZPB\n",
            "HTV\n",
            "YAF\n",
            "RSZ\n",
            "YZM\n",
            "BJK\n",
            "ZCN\n",
            "KWC\n",
            "YVM\n",
            "CXQ\n",
            "ULH\n",
            "LQA\n",
            "NFA\n",
            "CCY\n",
            "QGS\n",
            "MQA\n",
            "JUQ\n",
            "NAA\n",
            "JUK\n",
            "FYF\n",
            "HSL\n",
            "QQG\n",
            "RER\n",
            "KCI\n",
            "BVV\n",
            "YOG\n",
            "ORY\n",
            "GXP\n",
            "BQF\n",
            "QXC\n",
            "SNC\n",
            "KKD\n",
            "WFY\n",
            "ARO\n",
            "EXG\n",
            "AJL\n",
            "JAI\n",
            "RQL\n",
            "SVS\n",
            "ZGX\n",
            "KLL\n",
            "NIJ\n",
            "LTF\n",
            "GEG\n",
            "NET\n",
            "LZD\n",
            "QDK\n",
            "UEV\n",
            "UDQ\n",
            "XNA\n",
            "NYT\n",
            "LYT\n",
            "YEU\n",
            "EUR\n",
            "KXJ\n",
            "YYD\n",
            "BFL\n",
            "OJX\n",
            "SJM\n",
            "IFZ\n",
            "IRB\n",
            "PIO\n",
            "XEZ\n",
            "GFY\n",
            "IFD\n",
            "ELI\n",
            "FSM\n",
            "IBO\n",
            "HJC\n",
            "OUS\n",
            "YRT\n",
            "XUO\n",
            "QED\n",
            "IEH\n",
            "ABN\n",
            "AQY\n",
            "LZA\n",
            "GGD\n",
            "FTU\n",
            "MBS\n",
            "IEO\n",
            "RPN\n",
            "ZQA\n",
            "SAG\n",
            "BKD\n",
            "IDM\n",
            "NZL\n",
            "SNB\n",
            "KAG\n",
            "IFP\n",
            "CDH\n",
            "HYV\n",
            "LZK\n",
            "FEU\n",
            "IWU\n",
            "JEV\n",
            "MDM\n",
            "ZMV\n",
            "GEJ\n",
            "QVH\n",
            "ZFI\n",
            "UPT\n",
            "DDC\n",
            "GXZ\n",
            "XIM\n",
            "HTI\n",
            "BPO\n",
            "PXR\n",
            "OQD\n",
            "XKN\n",
            "HTT\n",
            "LAU\n",
            "LTN\n",
            "PFW\n",
            "WJX\n",
            "FYP\n",
            "TZI\n",
            "PFZ\n",
            "MSP\n",
            "ZGM\n",
            "SVM\n",
            "HAC\n",
            "PFB\n",
            "CPF\n",
            "FZA\n",
            "PFF\n",
            "ZPW\n",
            "INT\n",
            "LLO\n",
            "RTZ\n",
            "QUC\n",
            "SMY\n",
            "MXJ\n",
            "CYP\n",
            "OWF\n",
            "GWU\n",
            "WUY\n",
            "CPG\n",
            "QKI\n",
            "OCG\n",
            "YIX\n",
            "YYT\n",
            "EBW\n",
            "EJL\n",
            "MBA\n",
            "FDY\n",
            "RGE\n",
            "SRD\n",
            "SRT\n",
            "RMJ\n",
            "ERI\n",
            "YVF\n",
            "FCJ\n",
            "VVL\n",
            "YVA\n",
            "LDZ\n",
            "HJN\n",
            "JXO\n",
            "SPA\n",
            "VUS\n",
            "UWI\n",
            "MNG\n",
            "BNW\n",
            "HSO\n",
            "QBP\n",
            "EDE\n",
            "LES\n",
            "JDB\n",
            "IGA\n",
            "UWI\n",
            "ATF\n",
            "YVQ\n",
            "MWT\n",
            "VEZ\n",
            "GUV\n",
            "AIU\n",
            "VYP\n",
            "MGL\n",
            "VDY\n",
            "XVP\n",
            "CVS\n",
            "TOO\n",
            "RLN\n",
            "CST\n",
            "BFA\n",
            "PSF\n",
            "ZHV\n",
            "WBI\n",
            "JHG\n",
            "DBR\n",
            "TKM\n",
            "FBA\n",
            "RRR\n",
            "CIM\n",
            "ETC\n",
            "ZHX\n",
            "ACT\n",
            "YOG\n",
            "VXV\n",
            "NZA\n",
            "GXF\n",
            "SGW\n",
            "QXL\n",
            "ALN\n",
            "PGZ\n",
            "NPH\n",
            "HCZ\n",
            "EJH\n",
            "MLR\n",
            "LGT\n",
            "HNK\n",
            "UVX\n",
            "AHO\n",
            "RGA\n",
            "GII\n",
            "AEW\n",
            "DYG\n",
            "ITR\n",
            "GRK\n",
            "ORQ\n",
            "XZD\n",
            "ENZ\n",
            "MXP\n",
            "GYW\n",
            "ADY\n",
            "CHG\n",
            "WMT\n",
            "WLI\n",
            "BJM\n",
            "MAR\n",
            "PDC\n",
            "XIT\n",
            "HNZ\n",
            "ADD\n",
            "ZXR\n",
            "RUT\n",
            "LAV\n",
            "SNS\n",
            "XJM\n",
            "HMT\n",
            "GUC\n",
            "ZIC\n",
            "XJE\n",
            "BSM\n",
            "JLS\n",
            "NAG\n",
            "OZS\n",
            "QFX\n",
            "DBW\n",
            "XWU\n",
            "LTI\n",
            "OHN\n",
            "CAL\n",
            "SOC\n",
            "EDV\n",
            "YYG\n",
            "LGD\n",
            "MXJ\n",
            "PQU\n",
            "FIO\n",
            "IIN\n",
            "HQY\n",
            "QWT\n",
            "OGB\n",
            "JMC\n",
            "RJD\n",
            "BIW\n",
            "LTY\n",
            "HBQ\n",
            "OGO\n",
            "IDZ\n",
            "ZOQ\n",
            "CPN\n",
            "CQV\n",
            "XMN\n",
            "EHF\n",
            "XPJ\n",
            "BGE\n",
            "ELO\n",
            "BGX\n",
            "AQG\n",
            "RLR\n",
            "ZGU\n",
            "JHC\n",
            "JDY\n",
            "EJG\n",
            "GTY\n",
            "WSC\n",
            "XJU\n",
            "LEH\n",
            "GTQ\n",
            "UQD\n",
            "SGR\n",
            "NLA\n",
            "WBS\n",
            "MUV\n",
            "KWV\n",
            "GFN\n",
            "BQG\n",
            "LON\n",
            "SIB\n",
            "UQR\n",
            "ISK\n",
            "KGF\n",
            "BHB\n",
            "PXT\n",
            "DUW\n",
            "RLW\n",
            "FDS\n",
            "UIM\n",
            "QDZ\n",
            "UUM\n",
            "ZRK\n",
            "OSQ\n",
            "XEP\n",
            "IAZ\n",
            "BER\n",
            "YYA\n",
            "DAD\n",
            "FYX\n",
            "DNA\n",
            "ASO\n",
            "RUI\n",
            "OIE\n",
            "NJZ\n",
            "YVI\n",
            "ACX\n",
            "DHT\n",
            "QIP\n",
            "PMS\n",
            "ZVX\n",
            "YKC\n",
            "OXN\n",
            "UKI\n",
            "SUN\n",
            "RIC\n",
            "EVT\n",
            "LRN\n",
            "ZPL\n",
            "WDS\n",
            "JQX\n",
            "KXW\n",
            "BHH\n",
            "QYO\n",
            "OMB\n",
            "ERV\n",
            "FJJ\n",
            "KVZ\n",
            "SIP\n",
            "ELA\n",
            "XGZ\n",
            "GRB\n",
            "LSZ\n",
            "CKP\n",
            "AOF\n",
            "UGQ\n",
            "BYU\n",
            "BCK\n",
            "WYZ\n",
            "UQJ\n",
            "FDN\n",
            "YUK\n",
            "CBU\n",
            "NGB\n",
            "HNQ\n",
            "NTX\n",
            "ELO\n",
            "TTW\n",
            "SJN\n",
            "JTW\n",
            "WFE\n",
            "PTY\n",
            "HFR\n",
            "OUH\n",
            "QXC\n",
            "TSF\n",
            "EUZ\n",
            "UOB\n",
            "SZU\n",
            "AZT\n",
            "AKE\n",
            "IDD\n",
            "TNF\n",
            "QDW\n",
            "IUH\n",
            "CCD\n",
            "TLC\n",
            "NEN\n",
            "GHH\n",
            "KNZ\n",
            "UAO\n",
            "TJN\n",
            "DAL\n",
            "AKK\n",
            "ONO\n",
            "CSF\n",
            "EIJ\n",
            "PJM\n",
            "NJT\n",
            "RMW\n",
            "LGU\n",
            "PZK\n",
            "TBX\n",
            "WCH\n",
            "XRY\n",
            "OXP\n",
            "KZN\n",
            "NRD\n",
            "ZIG\n",
            "ZVM\n",
            "BON\n",
            "HEJ\n",
            "PNJ\n",
            "ZHO\n",
            "MIM\n",
            "VTR\n",
            "TEY\n",
            "OOJ\n",
            "ERS\n",
            "NFO\n",
            "IDL\n",
            "WEA\n",
            "BHO\n",
            "HSY\n",
            "MTA\n",
            "ULJ\n",
            "GTG\n",
            "TWU\n",
            "XWM\n",
            "TVY\n",
            "VGK\n",
            "MMU\n",
            "BJO\n",
            "PRG\n",
            "RVA\n",
            "XCX\n",
            "SGT\n",
            "RAX\n",
            "GIP\n",
            "ZSZ\n",
            "HSV\n",
            "AKI\n",
            "NJY\n",
            "TWN\n",
            "HAV\n",
            "RZH\n",
            "RFC\n",
            "GNN\n",
            "MAQ\n",
            "ECZ\n",
            "JTR\n",
            "BNS\n",
            "KOV\n",
            "SGS\n",
            "CIE\n",
            "BAE\n",
            "ZGV\n",
            "WJW\n",
            "XXP\n",
            "RBP\n",
            "KIB\n",
            "BRK\n",
            "DXW\n",
            "AFG\n",
            "OOW\n",
            "HIC\n",
            "BLF\n",
            "NGF\n",
            "ZLC\n",
            "WPU\n",
            "CYL\n",
            "QEA\n",
            "HBS\n",
            "UCD\n",
            "RLD\n",
            "CQD\n",
            "GCX\n",
            "RVH\n",
            "IQG\n",
            "YGC\n",
            "QUX\n",
            "MLL\n",
            "OLP\n",
            "WPU\n",
            "RJN\n",
            "WOO\n",
            "EDM\n",
            "KRX\n",
            "TCA\n",
            "AZB\n",
            "LLE\n",
            "AAF\n",
            "EGK\n",
            "ASQ\n",
            "FZH\n",
            "YHP\n",
            "WQG\n",
            "HQC\n",
            "JIV\n",
            "TFI\n",
            "KKW\n",
            "EAQ\n",
            "AKL\n",
            "OUS\n",
            "AVB\n",
            "WND\n",
            "WTZ\n",
            "WZC\n",
            "PDD\n",
            "AHU\n",
            "QYD\n",
            "JTN\n",
            "GJC\n",
            "TID\n",
            "YRC\n",
            "ODJ\n",
            "VBM\n",
            "OQR\n",
            "STT\n",
            "KUS\n",
            "PPH\n",
            "NNN\n",
            "XTN\n",
            "RLC\n",
            "CRM\n",
            "SSZ\n",
            "BXB\n",
            "KGE\n",
            "NDX\n",
            "EZB\n",
            "WCP\n",
            "RTK\n",
            "PUT\n",
            "UEL\n",
            "NFH\n",
            "GUP\n",
            "BTG\n",
            "VRD\n",
            "FWT\n",
            "GMI\n",
            "JJU\n",
            "WVM\n",
            "HIH\n",
            "NYM\n",
            "VOG\n",
            "JNE\n",
            "YQQ\n",
            "QZP\n",
            "LOB\n",
            "UBC\n",
            "GLH\n",
            "HAG\n",
            "RFQ\n",
            "BGS\n",
            "DBA\n",
            "QKS\n",
            "APD\n",
            "OIN\n",
            "FKR\n",
            "NXL\n",
            "DZJ\n",
            "HTI\n",
            "LSN\n",
            "SPF\n",
            "AQX\n",
            "ERG\n",
            "TKM\n",
            "LPS\n",
            "RED\n",
            "BOQ\n",
            "TRI\n",
            "BMN\n",
            "WVS\n",
            "RPM\n",
            "SQZ\n",
            "UBG\n",
            "LLG\n",
            "XSI\n",
            "URC\n",
            "EDO\n",
            "VUN\n",
            "IBR\n",
            "GCU\n",
            "WFW\n",
            "SUK\n",
            "WSP\n",
            "NWU\n",
            "BVZ\n",
            "TXV\n",
            "UFK\n",
            "ARP\n",
            "BTI\n",
            "NFH\n",
            "RQQ\n",
            "LTI\n",
            "VTR\n",
            "BPC\n",
            "VZD\n",
            "NXK\n",
            "MUZ\n",
            "LWT\n",
            "GYU\n",
            "IRE\n",
            "HSA\n",
            "HDW\n",
            "MGY\n",
            "JID\n",
            "KJQ\n",
            "ROJ\n",
            "PIZ\n",
            "MAT\n",
            "FNS\n",
            "BSC\n",
            "KLW\n",
            "TGY\n",
            "DTO\n",
            "KIU\n",
            "UFF\n",
            "YTG\n",
            "BKY\n",
            "UFU\n",
            "ZBR\n",
            "MBG\n",
            "DDC\n",
            "IHD\n",
            "XYF\n",
            "ULY\n",
            "RPL\n",
            "GYU\n",
            "WCE\n",
            "TNQ\n",
            "KJC\n",
            "QJD\n",
            "PQV\n",
            "JTZ\n",
            "CWM\n",
            "QRI\n",
            "ZIC\n",
            "VYJ\n",
            "ZQN\n",
            "XLM\n",
            "NZB\n",
            "NBB\n",
            "QYS\n",
            "VZL\n",
            "REG\n",
            "OHA\n",
            "AZZ\n",
            "TFM\n",
            "XDD\n",
            "JOO\n",
            "IPX\n",
            "CJZ\n",
            "ZLA\n",
            "SMP\n",
            "PSJ\n",
            "NXV\n",
            "PGA\n",
            "TMB\n",
            "MWI\n",
            "APP\n",
            "DLR\n",
            "YLG\n",
            "PPT\n",
            "CEX\n",
            "MRT\n",
            "BUY\n",
            "YHD\n",
            "RCW\n",
            "CRJ\n",
            "PKJ\n",
            "SEL\n",
            "XSZ\n",
            "REK\n",
            "FNO\n",
            "TAB\n",
            "JFT\n",
            "XPV\n",
            "TTV\n",
            "VQX\n",
            "AIO\n",
            "HXQ\n",
            "UIP\n",
            "HCK\n",
            "EJA\n",
            "TEY\n",
            "YFL\n",
            "EAB\n",
            "TJY\n",
            "EOM\n",
            "BZW\n",
            "GCI\n",
            "VNJ\n",
            "BDO\n",
            "XVZ\n",
            "UPH\n",
            "DOZ\n",
            "VKH\n",
            "AMD\n",
            "DNF\n",
            "EHU\n",
            "LGJ\n",
            "YKS\n",
            "KIO\n",
            "YFE\n",
            "FMS\n",
            "WMO\n",
            "FBS\n",
            "ISH\n",
            "LNJ\n",
            "YXE\n",
            "EAL\n",
            "WWQ\n",
            "VOX\n",
            "ECF\n",
            "PTO\n",
            "AQN\n",
            "IYU\n",
            "MIN\n",
            "YYZ\n",
            "VZB\n",
            "DLP\n",
            "AMY\n",
            "RCQ\n",
            "JSR\n",
            "FGJ\n",
            "YIQ\n",
            "DEG\n",
            "UIP\n",
            "KCE\n",
            "NQU\n",
            "VDH\n",
            "GTE\n",
            "HCM\n",
            "IUI\n",
            "NKD\n",
            "UGP\n",
            "OFW\n",
            "LZD\n",
            "WAQ\n",
            "DDY\n",
            "EAM\n",
            "QIO\n",
            "NYL\n",
            "YKM\n",
            "ICB\n",
            "IJP\n",
            "GLN\n",
            "BBV\n",
            "BAR\n",
            "KDI\n",
            "RTC\n",
            "ISX\n",
            "BIR\n",
            "CDX\n",
            "BOV\n",
            "MLA\n",
            "VPI\n",
            "NKS\n",
            "ZNK\n",
            "CXI\n",
            "EFH\n",
            "NAX\n",
            "WVY\n",
            "XFJ\n",
            "FQS\n",
            "EUV\n",
            "OPE\n",
            "TEC\n",
            "NYZ\n",
            "IUK\n",
            "OLM\n",
            "ODH\n",
            "TLO\n",
            "BZE\n",
            "AOE\n",
            "VQO\n",
            "HDV\n",
            "CFY\n",
            "YLZ\n",
            "MNH\n",
            "ANT\n",
            "ZBY\n",
            "AFB\n",
            "TTT\n",
            "MIG\n",
            "OIQ\n",
            "AKM\n",
            "JSM\n",
            "UJS\n",
            "HWD\n",
            "TWX\n",
            "GUG\n",
            "CIP\n",
            "CQK\n",
            "DMF\n",
            "OQP\n",
            "QXY\n",
            "ULH\n",
            "BQR\n",
            "BPB\n",
            "SKP\n",
            "OVJ\n",
            "QFJ\n",
            "YGT\n",
            "WCN\n",
            "IDX\n",
            "RAR\n",
            "PLY\n",
            "CZV\n",
            "WHT\n",
            "SXR\n",
            "FBI\n",
            "IRW\n",
            "MIF\n",
            "DNJ\n",
            "IYN\n",
            "REX\n",
            "VSP\n",
            "UJV\n",
            "CCC\n",
            "LWM\n",
            "WSR\n",
            "POD\n",
            "OJL\n",
            "JIF\n",
            "JTF\n",
            "RFX\n",
            "WWS\n",
            "OBO\n",
            "PZX\n",
            "CRY\n",
            "SIP\n",
            "ZYE\n",
            "VGJ\n",
            "QRO\n",
            "JCW\n",
            "KHV\n",
            "ZNS\n",
            "GHM\n",
            "OUA\n",
            "CTJ\n",
            "WWU\n",
            "GUX\n",
            "BTK\n",
            "UDQ\n",
            "IJL\n",
            "KIC\n",
            "EVF\n",
            "MSH\n",
            "HBE\n",
            "YAH\n",
            "FOA\n",
            "GKG\n",
            "DQN\n",
            "JAH\n",
            "CXZ\n",
            "YJG\n",
            "DFM\n",
            "WGZ\n",
            "QEF\n",
            "KPU\n",
            "KXV\n",
            "EKD\n",
            "DZW\n",
            "PBK\n",
            "LJY\n",
            "VMK\n",
            "UXD\n",
            "RWB\n",
            "BGF\n",
            "AZT\n",
            "UKJ\n",
            "THZ\n",
            "CYL\n",
            "SGT\n",
            "IMF\n",
            "CQH\n",
            "VJW\n",
            "MCY\n",
            "XJU\n",
            "VIL\n",
            "YIX\n",
            "SYG\n",
            "LEV\n",
            "NXF\n",
            "FEG\n",
            "GXN\n",
            "POP\n",
            "TNB\n",
            "BXZ\n",
            "IVF\n",
            "QAT\n",
            "CXP\n",
            "PWL\n",
            "LFM\n",
            "XDF\n",
            "PKY\n",
            "XUQ\n",
            "VRN\n",
            "LRT\n",
            "PMU\n",
            "XZV\n",
            "UXY\n",
            "UER\n",
            "VOQ\n",
            "AOE\n",
            "UAG\n",
            "QBD\n",
            "XBI\n",
            "BEC\n",
            "SBF\n",
            "JOO\n",
            "XFN\n",
            "YKS\n",
            "QZX\n",
            "UIT\n",
            "XYI\n",
            "MYR\n",
            "HHK\n",
            "CQF\n",
            "DKL\n",
            "QCL\n",
            "VCC\n",
            "KAL\n",
            "WPS\n",
            "AMP\n",
            "ARM\n",
            "GXN\n",
            "JER\n",
            "FPS\n",
            "AHE\n",
            "FET\n",
            "WJY\n",
            "UML\n",
            "HIS\n",
            "PFY\n",
            "ZDQ\n",
            "GHV\n",
            "OMF\n",
            "HOI\n",
            "WNA\n",
            "LJH\n",
            "DCP\n",
            "AXT\n",
            "IBW\n",
            "CMI\n",
            "IHL\n",
            "VOO\n",
            "YOL\n",
            "PIH\n",
            "GDD\n",
            "YDQ\n",
            "WOB\n",
            "DSN\n",
            "TUC\n",
            "YZC\n",
            "WIO\n",
            "BLI\n",
            "ZLV\n",
            "GAM\n",
            "VJQ\n",
            "IZT\n",
            "AOP\n",
            "IEV\n",
            "DHN\n",
            "ZMV\n",
            "ETZ\n",
            "UJO\n",
            "VSP\n",
            "ESX\n",
            "LLX\n",
            "JOV\n",
            "CSS\n",
            "RVY\n",
            "AFI\n",
            "KHS\n",
            "JOF\n",
            "WRJ\n",
            "UNJ\n",
            "OED\n",
            "FEL\n",
            "LZX\n",
            "JYL\n",
            "DLB\n",
            "PXF\n",
            "YQI\n",
            "PTE\n",
            "EFK\n",
            "YTQ\n",
            "VSD\n",
            "ZDF\n",
            "SDA\n",
            "OUH\n",
            "RUJ\n",
            "OXU\n",
            "UFR\n",
            "MCT\n",
            "UCU\n",
            "WJW\n",
            "DAU\n",
            "PFL\n",
            "NVA\n",
            "SCX\n",
            "EKO\n",
            "LFT\n",
            "AYX\n",
            "UUL\n",
            "HIA\n",
            "YYZ\n",
            "KEJ\n",
            "ZVI\n",
            "MQZ\n",
            "WDY\n",
            "AVW\n",
            "MPK\n",
            "VYW\n",
            "EMO\n",
            "NFG\n",
            "BMV\n",
            "CWO\n",
            "GEU\n",
            "CRV\n",
            "IMI\n",
            "FTF\n",
            "BWU\n",
            "FXW\n",
            "TJY\n",
            "SPL\n",
            "HSE\n",
            "ZMV\n",
            "SCO\n",
            "EGE\n",
            "GZA\n",
            "FCM\n",
            "FGZ\n",
            "KQF\n",
            "FGV\n",
            "AXZ\n",
            "EZZ\n",
            "MZO\n",
            "EDS\n",
            "QSC\n",
            "LPI\n",
            "UZZ\n",
            "QSL\n",
            "WKP\n",
            "NHI\n",
            "QBA\n",
            "BOK\n",
            "WER\n",
            "TWJ\n",
            "GIC\n",
            "VXX\n",
            "GSX\n",
            "BNN\n",
            "CKJ\n",
            "BAY\n",
            "IDF\n",
            "OKA\n",
            "RLT\n",
            "HFD\n",
            "GZO\n",
            "XYB\n",
            "WJY\n",
            "YKT\n",
            "YDM\n",
            "UZL\n",
            "RLE\n",
            "PJQ\n",
            "RUA\n",
            "JLS\n",
            "WBL\n",
            "HLW\n",
            "QHK\n",
            "RUE\n",
            "MDP\n",
            "KBC\n",
            "FAA\n",
            "PKJ\n",
            "ISZ\n",
            "JKT\n",
            "WXY\n",
            "RWL\n",
            "PMM\n",
            "MNV\n",
            "VJF\n",
            "IZS\n",
            "AJP\n",
            "BPD\n",
            "GMO\n",
            "BZI\n",
            "DDD\n",
            "ECA\n",
            "MYT\n",
            "HRJ\n",
            "ZZF\n",
            "ASV\n",
            "KYR\n",
            "HYX\n",
            "CET\n",
            "ADM\n",
            "FWW\n",
            "TXU\n",
            "TKX\n",
            "SFL\n",
            "DQI\n",
            "EHB\n",
            "XQX\n",
            "GJI\n",
            "ABS\n",
            "WEW\n",
            "FEG\n",
            "EZK\n",
            "MTQ\n",
            "RMD\n",
            "LEN\n",
            "QGQ\n",
            "HZP\n",
            "JES\n",
            "TPQ\n",
            "KSF\n",
            "YIF\n",
            "IWF\n",
            "IVL\n",
            "AGJ\n",
            "BLV\n",
            "MNI\n",
            "VKO\n",
            "KQV\n",
            "FZY\n",
            "LPL\n",
            "MYM\n",
            "UOP\n",
            "JJJ\n",
            "CBK\n",
            "PJN\n",
            "OOR\n",
            "WWE\n",
            "NKZ\n",
            "ZBK\n",
            "AVE\n",
            "IPP\n",
            "LJW\n",
            "OIW\n",
            "AHB\n",
            "NSK\n",
            "GFO\n",
            "BJG\n",
            "SHU\n",
            "HJD\n",
            "CNH\n",
            "YIN\n",
            "VFM\n",
            "XXZ\n",
            "KZB\n",
            "UEI\n",
            "XHE\n",
            "CHT\n",
            "DJX\n",
            "BIK\n",
            "GCJ\n",
            "NNR\n",
            "RZN\n",
            "IKQ\n",
            "KQJ\n",
            "MWF\n",
            "QXO\n",
            "UHO\n",
            "EWT\n",
            "ZRR\n",
            "DVF\n",
            "MTJ\n",
            "QQG\n",
            "NKU\n",
            "ILZ\n",
            "WGT\n",
            "LSB\n",
            "FIB\n",
            "ODS\n",
            "JQE\n",
            "KLK\n",
            "MMZ\n",
            "EJP\n",
            "SND\n",
            "GER\n",
            "OLW\n",
            "XOC\n",
            "TJF\n",
            "EWV\n",
            "UVN\n",
            "YLS\n",
            "MWV\n",
            "ZYM\n",
            "FVT\n",
            "JTC\n",
            "VJM\n",
            "MAF\n",
            "MWG\n",
            "WTR\n",
            "KGJ\n",
            "NNI\n",
            "ATK\n",
            "BQO\n",
            "VPB\n",
            "EEB\n",
            "VSP\n",
            "ZQE\n",
            "CVN\n",
            "BWM\n",
            "MUI\n",
            "DCP\n",
            "NHO\n",
            "CVN\n",
            "QPS\n",
            "IUJ\n",
            "SAM\n",
            "YSM\n",
            "LVN\n",
            "IPW\n",
            "ANV\n",
            "TVY\n",
            "DPK\n",
            "RXD\n",
            "LQY\n",
            "AIV\n",
            "ANZ\n",
            "WMR\n",
            "QZT\n",
            "KYP\n",
            "QIM\n",
            "NNY\n",
            "IOA\n",
            "GBK\n",
            "FMA\n",
            "IID\n",
            "FID\n",
            "LMG\n",
            "OUE\n",
            "YCF\n",
            "HWJ\n",
            "CKK\n",
            "ISD\n",
            "ACS\n",
            "IEV\n",
            "UQO\n",
            "VAQ\n",
            "GQC\n",
            "BZJ\n",
            "DFE\n",
            "IUL\n",
            "ODF\n",
            "GRV\n",
            "NAA\n",
            "LQJ\n",
            "HWC\n",
            "TZN\n",
            "XOM\n",
            "PKK\n",
            "WEA\n",
            "KTI\n",
            "ACJ\n",
            "BST\n",
            "NML\n",
            "GCG\n",
            "TCT\n",
            "QVX\n",
            "VMX\n",
            "TVX\n",
            "HBB\n",
            "VPU\n",
            "VQJ\n",
            "BPO\n",
            "TGJ\n",
            "CJO\n",
            "CKO\n",
            "VJC\n",
            "FRE\n",
            "KBD\n",
            "SDL\n",
            "XUX\n",
            "EUW\n",
            "JKR\n",
            "FGY\n",
            "ADU\n",
            "XUF\n",
            "CHM\n",
            "ACR\n",
            "KIL\n",
            "QCA\n",
            "ZVH\n",
            "HDW\n",
            "LNQ\n",
            "EFD\n",
            "WOW\n",
            "QNC\n",
            "NZV\n",
            "AQI\n",
            "HIO\n",
            "FQY\n",
            "KFL\n",
            "NIB\n",
            "JVT\n",
            "CAE\n",
            "AAO\n",
            "QLL\n",
            "HBE\n",
            "PUL\n",
            "RPM\n",
            "XRZ\n",
            "KWL\n",
            "SHX\n",
            "XZU\n",
            "KPP\n",
            "CJW\n",
            "XQN\n",
            "MNP\n",
            "ARU\n",
            "KSK\n",
            "RXD\n",
            "ZTL\n",
            "KKS\n",
            "DDR\n",
            "YZQ\n",
            "DTW\n",
            "ZZU\n",
            "DVM\n",
            "ZOW\n",
            "FQH\n",
            "VZE\n",
            "QQU\n",
            "DSP\n",
            "XXY\n",
            "ABT\n",
            "NGT\n",
            "ASZ\n",
            "NSH\n",
            "RJV\n",
            "BKB\n",
            "HXT\n",
            "YMQ\n",
            "PUF\n",
            "JXG\n",
            "RVF\n",
            "YAU\n",
            "QUF\n",
            "QJE\n",
            "ZVO\n",
            "MJJ\n",
            "EOX\n",
            "HIV\n",
            "JRD\n",
            "IYB\n",
            "HXQ\n",
            "OTC\n",
            "CHP\n",
            "IFQ\n",
            "LJY\n",
            "NDY\n",
            "GAE\n",
            "WXN\n",
            "TTJ\n",
            "FSH\n",
            "STU\n",
            "KQD\n",
            "RFC\n",
            "RGF\n",
            "MKC\n",
            "EIT\n",
            "OIK\n",
            "SCI\n",
            "GZR\n",
            "GPX\n",
            "XSC\n",
            "RJD\n",
            "PQZ\n",
            "RSO\n",
            "NNT\n",
            "CWU\n",
            "RXJ\n",
            "MZD\n",
            "KXE\n",
            "GWF\n",
            "IGS\n",
            "AWU\n",
            "ORF\n",
            "WEI\n",
            "QAJ\n",
            "TJD\n",
            "NPO\n",
            "QNI\n",
            "NCO\n",
            "CRX\n",
            "WCT\n",
            "FUP\n",
            "LSY\n",
            "NSL\n",
            "RZE\n",
            "GEZ\n",
            "CZN\n",
            "FCM\n",
            "WIY\n",
            "JMX\n",
            "GDJ\n",
            "MLI\n",
            "BEW\n",
            "NXY\n",
            "QDI\n",
            "OKP\n",
            "ERG\n",
            "OTL\n",
            "VJW\n",
            "YFD\n",
            "FYI\n",
            "QFP\n",
            "TUI\n",
            "IHV\n",
            "CYL\n",
            "OAS\n",
            "MDX\n",
            "KRS\n",
            "NZM\n",
            "CHC\n",
            "GXV\n",
            "DVT\n",
            "JTH\n",
            "PKE\n",
            "VQC\n",
            "MDM\n",
            "RBX\n",
            "BUA\n",
            "WYQ\n",
            "AZY\n",
            "UYI\n",
            "AVU\n",
            "DPK\n",
            "VSF\n",
            "MWL\n",
            "PIR\n",
            "YBN\n",
            "KYB\n",
            "HEM\n",
            "JCM\n",
            "HUJ\n",
            "HHF\n",
            "UZX\n",
            "MAH\n",
            "ODX\n",
            "COS\n",
            "SKG\n",
            "SAV\n",
            "YKY\n",
            "VXN\n",
            "KWS\n",
            "JBE\n",
            "ECV\n",
            "TRA\n",
            "XKN\n",
            "MBS\n",
            "ZPW\n",
            "ZMZ\n",
            "VWH\n",
            "YZS\n",
            "DRJ\n",
            "CHU\n",
            "HNX\n",
            "ZXY\n",
            "BDP\n",
            "UXN\n",
            "YXJ\n",
            "QFU\n",
            "BTZ\n",
            "HDI\n",
            "NZW\n",
            "TAP\n",
            "MTY\n",
            "SRQ\n",
            "SGU\n",
            "PLA\n",
            "IGN\n",
            "QLU\n",
            "HQP\n",
            "CTL\n",
            "ZGC\n",
            "RAU\n",
            "EPY\n",
            "XMN\n",
            "WVY\n",
            "XQH\n",
            "RSH\n",
            "QDT\n",
            "QOM\n",
            "DNH\n",
            "ATS\n",
            "DNQ\n",
            "CHN\n",
            "PKF\n",
            "EUX\n",
            "NLK\n",
            "JYQ\n",
            "BFY\n",
            "NZI\n",
            "UML\n",
            "WSK\n",
            "QYP\n",
            "RKS\n",
            "WQF\n",
            "CFR\n",
            "DPK\n",
            "QBN\n",
            "TPD\n",
            "YFS\n",
            "JGJ\n",
            "NHX\n",
            "IEE\n",
            "DQC\n",
            "OBG\n",
            "OIM\n",
            "WSQ\n",
            "BFP\n",
            "CDZ\n",
            "TRL\n",
            "CNF\n",
            "LJZ\n",
            "WKV\n",
            "LBO\n",
            "SPZ\n",
            "PZI\n",
            "SAK\n",
            "YVX\n",
            "HOA\n",
            "QMZ\n",
            "PCH\n",
            "LKL\n",
            "TCV\n",
            "GUJ\n",
            "PVN\n",
            "XXD\n",
            "VOQ\n",
            "DRJ\n",
            "DPV\n",
            "YFH\n",
            "XIG\n",
            "IPP\n",
            "MPC\n",
            "POF\n",
            "ITQ\n",
            "DVJ\n",
            "OFY\n",
            "HQI\n",
            "YJR\n",
            "OYY\n",
            "UGT\n",
            "WYL\n",
            "FMN\n",
            "RGT\n",
            "WFR\n",
            "BSW\n",
            "HKZ\n",
            "ZNU\n",
            "ITX\n",
            "XXQ\n",
            "PGC\n",
            "IZR\n",
            "BIH\n",
            "AHZ\n",
            "RQW\n",
            "QOT\n",
            "WCD\n",
            "WRT\n",
            "SAC\n",
            "BUS\n",
            "WPH\n",
            "NQQ\n",
            "QND\n",
            "RWQ\n",
            "CQP\n",
            "KBM\n",
            "YOY\n",
            "DDV\n",
            "DWZ\n",
            "NUF\n",
            "QFF\n",
            "MGX\n",
            "PIV\n",
            "ULO\n",
            "UJE\n",
            "WAC\n",
            "YNP\n",
            "ZXP\n",
            "NFP\n",
            "ZYQ\n",
            "VLV\n",
            "MHN\n",
            "RBA\n",
            "YRM\n",
            "CRF\n",
            "SRX\n",
            "FJL\n",
            "WWN\n",
            "QLY\n",
            "HSN\n",
            "DYP\n",
            "QFW\n",
            "LRJ\n",
            "BRS\n",
            "LEA\n",
            "WDS\n",
            "XTC\n",
            "ZAK\n",
            "YJK\n",
            "KHD\n",
            "AYO\n",
            "VEY\n",
            "WBU\n",
            "HKR\n",
            "PMY\n",
            "SDT\n",
            "SSD\n",
            "FAL\n",
            "MBT\n",
            "SPX\n",
            "KER\n",
            "IWP\n",
            "HYP\n",
            "GFM\n",
            "MAI\n",
            "DKS\n",
            "NQX\n",
            "PYN\n",
            "UTX\n",
            "MNX\n",
            "ETT\n",
            "QQD\n",
            "ELV\n",
            "NME\n",
            "RHM\n",
            "ZJV\n",
            "WLU\n",
            "BQR\n",
            "LQL\n",
            "QBC\n",
            "CEA\n",
            "HKT\n",
            "TUB\n",
            "ZNY\n",
            "IMO\n",
            "TWR\n",
            "CWZ\n",
            "OWF\n",
            "MJY\n",
            "TVN\n",
            "GFQ\n",
            "JSR\n",
            "USP\n",
            "ABS\n",
            "CTE\n",
            "QJT\n",
            "AXO\n",
            "PRI\n",
            "PGZ\n",
            "DJL\n",
            "NXQ\n",
            "ZDS\n",
            "IDV\n",
            "NCI\n",
            "DZI\n",
            "NGG\n",
            "ZWB\n",
            "BLV\n",
            "GAV\n",
            "SPI\n",
            "PRB\n",
            "RGB\n",
            "MSU\n",
            "IZT\n",
            "DBL\n",
            "UNZ\n",
            "KXS\n",
            "TYV\n",
            "DKV\n",
            "APP\n",
            "LYN\n",
            "DHB\n",
            "MHO\n",
            "ZSK\n",
            "OUW\n",
            "RTE\n",
            "QAZ\n",
            "CGY\n",
            "TOU\n",
            "YZY\n",
            "IQD\n",
            "ABF\n",
            "KGC\n",
            "EKU\n",
            "QLK\n",
            "WUV\n",
            "ZLF\n",
            "YMF\n",
            "CZD\n",
            "VEQ\n",
            "JAN\n",
            "MFL\n",
            "ESO\n",
            "JGO\n",
            "DXI\n",
            "KFN\n",
            "NSO\n",
            "BYA\n",
            "KEK\n",
            "GKW\n",
            "GVT\n",
            "MMC\n",
            "PMS\n",
            "XHG\n",
            "MRR\n",
            "GRA\n",
            "DGU\n",
            "SMC\n",
            "XIZ\n",
            "FAD\n",
            "MGZ\n",
            "AGT\n",
            "ZSD\n",
            "HJN\n",
            "ZVY\n",
            "ACJ\n",
            "ZBY\n",
            "IKA\n",
            "IUE\n",
            "DRV\n",
            "RUP\n",
            "AIV\n",
            "KEX\n",
            "GQT\n",
            "GKW\n",
            "III\n",
            "MTX\n",
            "NOK\n",
            "ZVZ\n",
            "LXW\n",
            "HCT\n",
            "HXQ\n",
            "HXH\n",
            "HML\n",
            "IOO\n",
            "NVH\n",
            "GAO\n",
            "MTY\n",
            "XWK\n",
            "ATG\n",
            "QWO\n",
            "JTO\n",
            "DCL\n",
            "TNX\n",
            "TIF\n",
            "MIU\n",
            "UYB\n",
            "GRM\n",
            "GZB\n",
            "JRI\n",
            "DCH\n",
            "KIP\n",
            "OMQ\n",
            "FKR\n",
            "WAB\n",
            "QXW\n",
            "LIM\n",
            "VTL\n",
            "PAV\n",
            "GED\n",
            "POV\n",
            "YQU\n",
            "VSD\n",
            "PTR\n",
            "LIE\n",
            "VYV\n",
            "QMY\n",
            "REN\n",
            "YBW\n",
            "DLX\n",
            "SRP\n",
            "XYS\n",
            "BNE\n",
            "RRN\n",
            "CFK\n",
            "MBC\n",
            "OHB\n",
            "IED\n",
            "YKR\n",
            "MUT\n",
            "NTM\n",
            "IMT\n",
            "ZLP\n",
            "AXW\n",
            "KVX\n",
            "KDW\n",
            "YYV\n",
            "AJE\n",
            "PHF\n",
            "LHB\n",
            "SAU\n",
            "YCH\n",
            "DLM\n",
            "APB\n",
            "CIY\n",
            "YLG\n",
            "ZVZ\n",
            "HDR\n",
            "LOV\n",
            "MWG\n",
            "AOP\n",
            "AUT\n",
            "HMO\n",
            "GKE\n",
            "NLM\n",
            "RTM\n",
            "WXO\n",
            "YJU\n",
            "RMR\n",
            "YCP\n",
            "FQW\n",
            "SMO\n",
            "IXQ\n",
            "PEV\n",
            "BKT\n",
            "WVF\n",
            "RYZ\n",
            "RSS\n",
            "PMK\n",
            "BYB\n",
            "GZQ\n",
            "UGJ\n",
            "BBB\n",
            "XZE\n",
            "BSQ\n",
            "SHK\n",
            "MRJ\n",
            "DVY\n",
            "HIQ\n",
            "IRG\n",
            "XVH\n",
            "MLE\n",
            "EHQ\n",
            "FPO\n",
            "STN\n",
            "UQM\n",
            "EAP\n",
            "FTQ\n",
            "SBJ\n",
            "ZSD\n",
            "KSN\n",
            "GEC\n",
            "MND\n",
            "RFW\n",
            "POT\n",
            "JYW\n",
            "AZM\n",
            "THX\n",
            "HQR\n",
            "GEQ\n",
            "ZOC\n",
            "EIR\n",
            "QNW\n",
            "JFN\n",
            "VDK\n",
            "YPE\n",
            "AIQ\n",
            "CCR\n",
            "XQF\n",
            "IAV\n",
            "JKV\n",
            "HHB\n",
            "UNI\n",
            "PXX\n",
            "NDC\n",
            "BEC\n",
            "WJN\n",
            "WJV\n",
            "JNY\n",
            "JDY\n",
            "SBJ\n",
            "AER\n",
            "RQW\n",
            "QYQ\n",
            "KFJ\n",
            "YWY\n",
            "EFE\n",
            "CGI\n",
            "TBU\n",
            "ZDV\n",
            "ETO\n",
            "XQQ\n",
            "PRF\n",
            "WBI\n",
            "FQI\n",
            "ZPO\n",
            "ECQ\n",
            "HLQ\n",
            "QBT\n",
            "PCN\n",
            "WBO\n",
            "NCE\n",
            "UTB\n",
            "WLL\n",
            "AEW\n",
            "KRH\n",
            "BDO\n",
            "SDN\n",
            "XYS\n",
            "NWN\n",
            "CJA\n",
            "HLV\n",
            "UMJ\n",
            "TAP\n",
            "EPU\n",
            "CWI\n",
            "FXI\n",
            "XJB\n",
            "BDI\n",
            "NPG\n",
            "TYD\n",
            "NOX\n",
            "XHB\n",
            "WBI\n",
            "AFB\n",
            "IPF\n",
            "DXL\n",
            "JVR\n",
            "QUQ\n",
            "PPF\n",
            "QRM\n",
            "IQN\n",
            "BDD\n",
            "OVM\n",
            "KQC\n",
            "ZIV\n",
            "OHX\n",
            "IZO\n",
            "XGF\n",
            "MWI\n",
            "QKZ\n",
            "HFJ\n",
            "LXY\n",
            "OOI\n",
            "SMZ\n",
            "VRT\n",
            "MYI\n",
            "SEF\n",
            "YEJ\n",
            "WGK\n",
            "SFW\n",
            "ZMN\n",
            "UTW\n",
            "IZS\n",
            "IOZ\n",
            "UNC\n",
            "GGU\n",
            "PJK\n",
            "ARP\n",
            "NAZ\n",
            "VDJ\n",
            "JMC\n",
            "LJL\n",
            "LXH\n",
            "JMM\n",
            "VKU\n",
            "JSY\n",
            "SQD\n",
            "DMI\n",
            "MWG\n",
            "JPJ\n",
            "AWB\n",
            "JWH\n",
            "WUK\n",
            "ITW\n",
            "BPO\n",
            "EUZ\n",
            "YHG\n",
            "KMT\n",
            "DMT\n",
            "URV\n",
            "TZB\n",
            "LIR\n",
            "MXI\n",
            "KRM\n",
            "TUD\n",
            "GSV\n",
            "QFY\n",
            "KFP\n",
            "MDG\n",
            "ADU\n",
            "VNU\n",
            "QHM\n",
            "PBN\n",
            "FPR\n",
            "LZT\n",
            "BYV\n",
            "VLK\n",
            "EXH\n",
            "EFJ\n",
            "YID\n",
            "FHY\n",
            "NNH\n",
            "NFB\n",
            "WIT\n",
            "ORK\n",
            "WZH\n",
            "ABU\n",
            "BHD\n",
            "ZUV\n",
            "VUO\n",
            "FBC\n",
            "UMH\n",
            "TLU\n",
            "NHP\n",
            "FSZ\n",
            "HWZ\n",
            "FBM\n",
            "WSF\n",
            "LHG\n",
            "YSC\n",
            "NRI\n",
            "NXI\n",
            "ZHK\n",
            "YFX\n",
            "EBJ\n",
            "REG\n",
            "OPV\n",
            "SRP\n",
            "KVP\n",
            "PJN\n",
            "ACO\n",
            "RXP\n",
            "WMT\n",
            "KUT\n",
            "RTX\n",
            "XOM\n",
            "DNU\n",
            "XFD\n",
            "EFY\n",
            "RTN\n",
            "BBQ\n",
            "RKJ\n",
            "CZN\n",
            "BVT\n",
            "NPI\n",
            "YCI\n",
            "ZBI\n",
            "AEA\n",
            "PWR\n",
            "ARC\n",
            "AZG\n",
            "KLV\n",
            "VZJ\n",
            "KVC\n",
            "YIZ\n",
            "LJN\n",
            "XKF\n",
            "YST\n",
            "WNO\n",
            "FAH\n",
            "SOF\n",
            "UYJ\n",
            "FAQ\n",
            "EAO\n",
            "LXP\n",
            "VAQ\n",
            "REI\n",
            "JZV\n",
            "ARS\n",
            "IWY\n",
            "PYU\n",
            "AIW\n",
            "YIW\n",
            "JRS\n",
            "SGW\n",
            "KOP\n",
            "INO\n",
            "TUP\n",
            "JGT\n",
            "PAO\n",
            "LCK\n",
            "TVB\n",
            "ZCD\n",
            "QHG\n",
            "SCJ\n",
            "WLB\n",
            "XXA\n",
            "ITY\n",
            "OOA\n",
            "LCW\n",
            "VZE\n",
            "EWA\n",
            "DHH\n",
            "ZJR\n",
            "DTT\n",
            "JMX\n",
            "FAG\n",
            "BIQ\n",
            "FOJ\n",
            "GJV\n",
            "GUS\n",
            "POB\n",
            "MHM\n",
            "EPY\n",
            "TJR\n",
            "ZXN\n",
            "GGA\n",
            "QBE\n",
            "QFE\n",
            "PGL\n",
            "QYF\n",
            "MKB\n",
            "YNZ\n",
            "QQG\n",
            "PGN\n",
            "RYG\n",
            "XAJ\n",
            "WNN\n",
            "TIQ\n",
            "FIW\n",
            "EIZ\n",
            "FOC\n",
            "MZO\n",
            "DGY\n",
            "DHN\n",
            "NUQ\n",
            "CIE\n",
            "EQY\n",
            "ZHD\n",
            "OKL\n",
            "ZGE\n",
            "UUM\n",
            "HMR\n",
            "NEW\n",
            "MRZ\n",
            "OBU\n",
            "LDR\n",
            "VYX\n",
            "DEE\n",
            "FII\n",
            "DCL\n",
            "MDK\n",
            "CCD\n",
            "EIM\n",
            "BXD\n",
            "TEK\n",
            "GIU\n",
            "NCA\n",
            "MHV\n",
            "FCK\n",
            "TQG\n",
            "HLS\n",
            "SBK\n",
            "ZXP\n",
            "JBS\n",
            "KBN\n",
            "DPZ\n",
            "ISZ\n",
            "WQJ\n",
            "NNC\n",
            "MMM\n",
            "LVT\n",
            "OHS\n",
            "FNJ\n",
            "IMZ\n",
            "ZZD\n",
            "UZB\n",
            "QNA\n",
            "WXI\n",
            "HXH\n",
            "HVT\n",
            "VQN\n",
            "PFB\n",
            "UXL\n",
            "DHJ\n",
            "BHC\n",
            "QFG\n",
            "CRZ\n",
            "RPN\n",
            "TNO\n",
            "XMX\n",
            "RTF\n",
            "KLY\n",
            "DBT\n",
            "WPT\n",
            "ZNP\n",
            "QIZ\n",
            "DAT\n",
            "NFM\n",
            "GYB\n",
            "QFU\n",
            "HDI\n",
            "SKA\n",
            "VMQ\n",
            "NNM\n",
            "RRW\n",
            "PYC\n",
            "SKD\n",
            "IMY\n",
            "AFT\n",
            "FTO\n",
            "AAD\n",
            "JGA\n",
            "JOG\n",
            "ZJX\n",
            "LTH\n",
            "MCI\n",
            "FLV\n",
            "FGB\n",
            "HGR\n",
            "SVN\n",
            "QMK\n",
            "ORY\n",
            "STE\n",
            "RNC\n",
            "KAP\n",
            "MJT\n",
            "KOO\n",
            "EIU\n",
            "ZAF\n",
            "JUA\n",
            "BAA\n",
            "WPK\n",
            "LWV\n",
            "XJO\n",
            "ISQ\n",
            "BDH\n",
            "RPA\n",
            "ZWO\n",
            "VXG\n",
            "EES\n",
            "FEU\n",
            "VMQ\n",
            "YLW\n",
            "WRT\n",
            "PVY\n",
            "RCE\n",
            "NTU\n",
            "PNW\n",
            "PFV\n",
            "LRU\n",
            "BGR\n",
            "HOI\n",
            "KXD\n",
            "DUM\n",
            "NWR\n",
            "UEH\n",
            "KBH\n",
            "AWX\n",
            "WAY\n",
            "DTJ\n",
            "HQB\n",
            "KVF\n",
            "IZP\n",
            "MTF\n",
            "EZB\n",
            "ELO\n",
            "RIL\n",
            "WMZ\n",
            "FUB\n",
            "ZOX\n",
            "ELR\n",
            "DPJ\n",
            "DFY\n",
            "DQA\n",
            "XTV\n",
            "AKO\n",
            "OSV\n",
            "TJF\n",
            "YFL\n",
            "IKD\n",
            "PZE\n",
            "PCI\n",
            "JQH\n",
            "GFA\n",
            "JJH\n",
            "KVQ\n",
            "KJL\n",
            "VDB\n",
            "FHX\n",
            "LQT\n",
            "OMG\n",
            "XGC\n",
            "GCU\n",
            "WZE\n",
            "MZV\n",
            "YOQ\n",
            "HTK\n",
            "VCZ\n",
            "NMD\n",
            "HZL\n",
            "ZTH\n",
            "AYX\n",
            "SSU\n",
            "GMO\n",
            "NQH\n",
            "DON\n",
            "KUT\n",
            "TMO\n",
            "YDZ\n",
            "RDO\n",
            "AWD\n",
            "AZY\n",
            "PHF\n",
            "QZK\n",
            "SCT\n",
            "JPM\n",
            "YSQ\n",
            "PZW\n",
            "YGB\n",
            "AMM\n",
            "RKL\n",
            "HTY\n",
            "PQN\n",
            "PXH\n",
            "JVG\n",
            "KAJ\n",
            "MMG\n",
            "KUS\n",
            "UKA\n",
            "FME\n",
            "IEZ\n",
            "CFM\n",
            "ACV\n",
            "GFT\n",
            "LJV\n",
            "ESL\n",
            "IKV\n",
            "KUG\n",
            "SSW\n",
            "KUJ\n",
            "BIT\n",
            "VOA\n",
            "ILS\n",
            "REI\n",
            "BGR\n",
            "PZG\n",
            "LAY\n",
            "HLX\n",
            "TLP\n",
            "COT\n",
            "OXR\n",
            "YXV\n",
            "XTK\n",
            "ANV\n",
            "ZTH\n",
            "DCQ\n",
            "OHM\n",
            "KIW\n",
            "UBD\n",
            "WOV\n",
            "RHZ\n",
            "XCO\n",
            "WNE\n",
            "SFN\n",
            "TNS\n",
            "YGK\n",
            "NLO\n",
            "MIA\n",
            "TQL\n",
            "NFC\n",
            "BXX\n",
            "YVF\n",
            "LMU\n",
            "YVA\n",
            "SIZ\n",
            "SZZ\n",
            "RHI\n",
            "OLP\n",
            "TGI\n",
            "HSY\n",
            "KLP\n",
            "TEX\n",
            "EKS\n",
            "GSV\n",
            "FHT\n",
            "PLZ\n",
            "NHV\n",
            "EZH\n",
            "RXL\n",
            "IAO\n",
            "KOM\n",
            "OSM\n",
            "UPO\n",
            "QVK\n",
            "ECQ\n",
            "TLX\n",
            "HPJ\n",
            "QDN\n",
            "WMR\n",
            "TRP\n",
            "WRI\n",
            "GUR\n",
            "SDK\n",
            "JSP\n",
            "TBA\n",
            "OMA\n",
            "LOG\n",
            "AUB\n",
            "MXJ\n",
            "WFZ\n",
            "JFV\n",
            "QGN\n",
            "PLH\n",
            "TLD\n",
            "THZ\n",
            "EFS\n",
            "NBS\n",
            "WGL\n",
            "RCH\n",
            "TAM\n",
            "SWK\n",
            "IJJ\n",
            "UEB\n",
            "AGM\n",
            "CYL\n",
            "DPF\n",
            "JMP\n",
            "KNA\n",
            "TZM\n",
            "HQP\n",
            "NAT\n",
            "MKZ\n",
            "SLP\n",
            "XXB\n",
            "RVA\n",
            "ZBK\n",
            "SFP\n",
            "UZM\n",
            "QTR\n",
            "FGX\n",
            "AMF\n",
            "FLX\n",
            "GJW\n",
            "FJR\n",
            "OOD\n",
            "KIQ\n",
            "NSK\n",
            "OHC\n",
            "WGF\n",
            "BST\n",
            "YJE\n",
            "SFN\n",
            "IYZ\n",
            "SPX\n",
            "HNC\n",
            "BLQ\n",
            "QCK\n",
            "MGR\n",
            "DGX\n",
            "HXQ\n",
            "IZA\n",
            "IFU\n",
            "SOB\n",
            "ZPQ\n",
            "QTL\n",
            "DIZ\n",
            "GIF\n",
            "RLJ\n",
            "KPR\n",
            "ENO\n",
            "BOO\n",
            "SGA\n",
            "YEJ\n",
            "UOC\n",
            "JZL\n",
            "MRM\n",
            "CZW\n",
            "DFJ\n",
            "XDY\n",
            "TBB\n",
            "LQJ\n",
            "QAQ\n",
            "ISU\n",
            "PKW\n",
            "TAC\n",
            "LXH\n",
            "ZVZ\n",
            "ATV\n",
            "XHO\n",
            "TAZ\n",
            "WDE\n",
            "LAX\n",
            "ITU\n",
            "UHY\n",
            "ZKC\n",
            "PPY\n",
            "QSU\n",
            "QVG\n",
            "QMR\n",
            "XSV\n",
            "DLV\n",
            "LZG\n",
            "LAF\n",
            "GHA\n",
            "YFH\n",
            "TIY\n",
            "XYZ\n",
            "GAP\n",
            "IGY\n",
            "UJE\n",
            "ZIO\n",
            "NPJ\n",
            "SWX\n",
            "XKH\n",
            "DBY\n",
            "KAM\n",
            "SCE\n",
            "LXD\n",
            "WNB\n",
            "EJB\n",
            "ASR\n",
            "GSP\n",
            "HYR\n",
            "IEA\n",
            "UHE\n",
            "DAP\n",
            "FCF\n",
            "XXN\n",
            "XEO\n",
            "LLR\n",
            "XMF\n",
            "ARG\n",
            "UDI\n",
            "XVZ\n",
            "NLN\n",
            "SHS\n",
            "YXR\n",
            "LTZ\n",
            "AJY\n",
            "QCC\n",
            "YYJ\n",
            "XMC\n",
            "HUH\n",
            "NPX\n",
            "WPZ\n",
            "TWJ\n",
            "DRU\n",
            "GDQ\n",
            "EYA\n",
            "OZT\n",
            "LKH\n",
            "JPS\n",
            "QSX\n",
            "AGW\n",
            "OSO\n",
            "OEL\n",
            "EVH\n",
            "UMB\n",
            "RNZ\n",
            "NNT\n",
            "FYB\n",
            "TCN\n",
            "ZVA\n",
            "UYN\n",
            "KLF\n",
            "RHW\n",
            "ZIU\n",
            "EEN\n",
            "XIS\n",
            "PLP\n",
            "SIE\n",
            "QBO\n",
            "ZCP\n",
            "SEZ\n",
            "TNC\n",
            "LVV\n",
            "DWP\n",
            "YSK\n",
            "ZPC\n",
            "EZL\n",
            "QPE\n",
            "UXA\n",
            "KHJ\n",
            "QYR\n",
            "PPG\n",
            "YQL\n",
            "SBF\n",
            "QVZ\n",
            "VYB\n",
            "FCO\n",
            "LZN\n",
            "RYI\n",
            "OHN\n",
            "KIG\n",
            "ITR\n",
            "SNY\n",
            "LIZ\n",
            "ORE\n",
            "ICQ\n",
            "TJV\n",
            "NNT\n",
            "YEE\n",
            "OVE\n",
            "MZI\n",
            "DQF\n",
            "LET\n",
            "GRV\n",
            "NYZ\n",
            "LJQ\n",
            "JNJ\n",
            "CSE\n",
            "NRU\n",
            "ILZ\n",
            "LOA\n",
            "ZAU\n",
            "DIE\n",
            "YJX\n",
            "LEW\n",
            "RWE\n",
            "PKQ\n",
            "CMP\n",
            "WZF\n",
            "OIF\n",
            "SJG\n",
            "KGL\n",
            "JIH\n",
            "EHJ\n",
            "PYQ\n",
            "JUS\n",
            "RFP\n",
            "KEP\n",
            "IOM\n",
            "PSN\n",
            "WQP\n",
            "FVY\n",
            "ZUS\n",
            "SYN\n",
            "CQR\n",
            "KDW\n",
            "FRS\n",
            "DMK\n",
            "MAK\n",
            "YIF\n",
            "LVX\n",
            "CXH\n",
            "CHT\n",
            "VXC\n",
            "ENV\n",
            "VFR\n",
            "RDB\n",
            "GBN\n",
            "HDX\n",
            "PLD\n",
            "DRF\n",
            "PWP\n",
            "EJD\n",
            "LOA\n",
            "STJ\n",
            "INH\n",
            "CDP\n",
            "KPX\n",
            "SMG\n",
            "MEV\n",
            "VWS\n",
            "ONQ\n",
            "MPY\n",
            "PDS\n",
            "OEK\n",
            "KKE\n",
            "IXQ\n",
            "XOB\n",
            "DPC\n",
            "FPF\n",
            "ELK\n",
            "WCE\n",
            "MHA\n",
            "OGH\n",
            "GLU\n",
            "MJF\n",
            "MFW\n",
            "PEV\n",
            "KIX\n",
            "LOR\n",
            "EPW\n",
            "QVE\n",
            "CSM\n",
            "FMS\n",
            "FPS\n",
            "CBT\n",
            "LLU\n",
            "LOR\n",
            "IJL\n",
            "FYW\n",
            "SHW\n",
            "YAR\n",
            "QNN\n",
            "OZB\n",
            "QGJ\n",
            "MOW\n",
            "ESO\n",
            "HNN\n",
            "HMP\n",
            "BUQ\n",
            "AZO\n",
            "XYT\n",
            "UXQ\n",
            "FSF\n",
            "OMF\n",
            "JUS\n",
            "DPO\n",
            "NBA\n",
            "YHG\n",
            "SLS\n",
            "NVO\n",
            "OMZ\n",
            "VQB\n",
            "NWL\n",
            "IRD\n",
            "FPL\n",
            "UJH\n",
            "JMK\n",
            "ZFJ\n",
            "NBG\n",
            "UVG\n",
            "NSO\n",
            "NEI\n",
            "STJ\n",
            "HTH\n",
            "KAS\n",
            "FWM\n",
            "UVB\n",
            "JYO\n",
            "ADT\n",
            "HGM\n",
            "SJY\n",
            "ODR\n",
            "CTW\n",
            "WUI\n",
            "POE\n",
            "LAG\n",
            "JAM\n",
            "HBU\n",
            "OEK\n",
            "WWO\n",
            "FPA\n",
            "OMH\n",
            "JGY\n",
            "QTQ\n",
            "EZN\n",
            "BSX\n",
            "TRK\n",
            "TUF\n",
            "LRI\n",
            "NBV\n",
            "EYB\n",
            "AQY\n",
            "WEC\n",
            "IEB\n",
            "SCT\n",
            "FZJ\n",
            "LFX\n",
            "NAJ\n",
            "XNF\n",
            "GMS\n",
            "ZJB\n",
            "GCW\n",
            "MFL\n",
            "FUR\n",
            "VWO\n",
            "BNY\n",
            "FQF\n",
            "LEI\n",
            "DVZ\n",
            "XOK\n",
            "MCR\n",
            "KYU\n",
            "FVW\n",
            "XVQ\n",
            "JGL\n",
            "KUY\n",
            "SUN\n",
            "KKM\n",
            "BAM\n",
            "ZYP\n",
            "YFD\n",
            "ZLA\n",
            "QAT\n",
            "DAE\n",
            "KCG\n",
            "SFA\n",
            "OJV\n",
            "QRF\n",
            "WKE\n",
            "EJI\n",
            "LFY\n",
            "DFV\n",
            "DQK\n",
            "HPH\n",
            "HWS\n",
            "WMY\n",
            "IDL\n",
            "BSN\n",
            "UQK\n",
            "MXK\n",
            "FYF\n",
            "CTC\n",
            "NFQ\n",
            "NVT\n",
            "QJD\n",
            "TLB\n",
            "CYB\n",
            "JUI\n",
            "YAR\n",
            "HNJ\n",
            "EZI\n",
            "XSK\n",
            "GSH\n",
            "WZO\n",
            "VVX\n",
            "OUB\n",
            "DFB\n",
            "NMT\n",
            "SPI\n",
            "GAP\n",
            "HBS\n",
            "UPD\n",
            "MFP\n",
            "QMF\n",
            "CFZ\n",
            "ALC\n",
            "EMW\n",
            "YWL\n",
            "QKR\n",
            "LMT\n",
            "IKW\n",
            "FNP\n",
            "JKF\n",
            "TDB\n",
            "MHE\n",
            "GLU\n",
            "QRU\n",
            "TFC\n",
            "DDZ\n",
            "MLM\n",
            "MQK\n",
            "LTS\n",
            "WKL\n",
            "APB\n",
            "VGL\n",
            "AFZ\n",
            "LDW\n",
            "FKA\n",
            "BNC\n",
            "WKB\n",
            "UYG\n",
            "CLR\n",
            "ZLS\n",
            "PIF\n",
            "YXG\n",
            "OPE\n",
            "VKS\n",
            "VJM\n",
            "QTZ\n",
            "XUR\n",
            "DDB\n",
            "HRF\n",
            "GOU\n",
            "LOH\n",
            "UEB\n",
            "UUX\n",
            "VGW\n",
            "UIQ\n",
            "TQE\n",
            "QNV\n",
            "DGL\n",
            "WCE\n",
            "GWD\n",
            "JGQ\n",
            "AUX\n",
            "BYL\n",
            "VPK\n",
            "THM\n",
            "SDR\n",
            "TUG\n",
            "GZD\n",
            "PMS\n",
            "ROM\n",
            "RZI\n",
            "EIV\n",
            "VNV\n",
            "WBH\n",
            "VZD\n",
            "PNS\n",
            "HQG\n",
            "FKU\n",
            "RRE\n",
            "BTE\n",
            "RBT\n",
            "UEJ\n",
            "ODS\n",
            "FXC\n",
            "VJK\n",
            "LCM\n",
            "YSQ\n",
            "JKK\n",
            "BFF\n",
            "XDO\n",
            "OPQ\n",
            "LVB\n",
            "FJI\n",
            "GQP\n",
            "JUW\n",
            "XMR\n",
            "BQS\n",
            "XXG\n",
            "SSR\n",
            "CWW\n",
            "XWL\n",
            "CBH\n",
            "HKO\n",
            "BOJ\n",
            "DIB\n",
            "EKH\n",
            "HMZ\n",
            "LXL\n",
            "EPV\n",
            "SHM\n",
            "SKC\n",
            "VMN\n",
            "HZI\n",
            "ULE\n",
            "GSD\n",
            "GFT\n",
            "LKO\n",
            "VQA\n",
            "YOH\n",
            "AJN\n",
            "MGV\n",
            "YZY\n",
            "UEA\n",
            "YMQ\n",
            "DSZ\n",
            "RSW\n",
            "AKW\n",
            "TJG\n",
            "TCQ\n",
            "TIJ\n",
            "EJQ\n",
            "NKT\n",
            "IXW\n",
            "AFV\n",
            "QFC\n",
            "AHY\n",
            "ROA\n",
            "DOJ\n",
            "VYT\n",
            "DQB\n",
            "UAQ\n",
            "AZH\n",
            "JZP\n",
            "HKE\n",
            "HVK\n",
            "PMY\n",
            "MXY\n",
            "WRD\n",
            "GVX\n",
            "CFU\n",
            "LFO\n",
            "YBQ\n",
            "XFP\n",
            "HFT\n",
            "WWG\n",
            "JNE\n",
            "JRG\n",
            "NVT\n",
            "CTE\n",
            "CBI\n",
            "XGQ\n",
            "UKP\n",
            "EZO\n",
            "BEZ\n",
            "FFX\n",
            "DHF\n",
            "PCN\n",
            "SCO\n",
            "GVI\n",
            "RJJ\n",
            "NHC\n",
            "SYY\n",
            "JIT\n",
            "UOQ\n",
            "CRG\n",
            "OQM\n",
            "MJJ\n",
            "HKD\n",
            "CPL\n",
            "UAM\n",
            "FAW\n",
            "DQH\n",
            "EXB\n",
            "VGW\n",
            "AYT\n",
            "MUG\n",
            "RJC\n",
            "HEP\n",
            "YAC\n",
            "ZOZ\n",
            "GHX\n",
            "IYC\n",
            "GZS\n",
            "WAJ\n",
            "TRF\n",
            "RBJ\n",
            "MXI\n",
            "YRE\n",
            "BVB\n",
            "NGC\n",
            "YNF\n",
            "JYZ\n",
            "LBZ\n",
            "YTU\n",
            "UGV\n",
            "NMB\n",
            "DYS\n",
            "NBT\n",
            "HPY\n",
            "LXG\n",
            "CLH\n",
            "NQO\n",
            "CSX\n",
            "UGM\n",
            "JLS\n",
            "MJY\n",
            "VIC\n",
            "WCP\n",
            "PJY\n",
            "ROI\n",
            "NJU\n",
            "EPC\n",
            "JSN\n",
            "JCE\n",
            "IQO\n",
            "TTX\n",
            "DRM\n",
            "KLY\n",
            "FCF\n",
            "IOY\n",
            "AFY\n",
            "NFO\n",
            "DJP\n",
            "HXE\n",
            "CSI\n",
            "UTK\n",
            "ECA\n",
            "YQH\n",
            "IEJ\n",
            "MJS\n",
            "MLH\n",
            "MYI\n",
            "QAJ\n",
            "KAD\n",
            "AKI\n",
            "WEV\n",
            "NIG\n",
            "GNF\n",
            "FZV\n",
            "PKX\n",
            "VTI\n",
            "YIR\n",
            "GWM\n",
            "MIA\n",
            "FEU\n",
            "FAE\n",
            "EBJ\n",
            "MGI\n",
            "RDN\n",
            "HPP\n",
            "PQZ\n",
            "RVW\n",
            "EIE\n",
            "SFO\n",
            "RUP\n",
            "PYG\n",
            "SYL\n",
            "KET\n",
            "OEK\n",
            "BQE\n",
            "ZEG\n",
            "DHG\n",
            "EZR\n",
            "WJI\n",
            "NUK\n",
            "BQY\n",
            "FGR\n",
            "DEF\n",
            "NAD\n",
            "ZPZ\n",
            "FWL\n",
            "LMX\n",
            "YZL\n",
            "NSY\n",
            "HMZ\n",
            "PRR\n",
            "IIL\n",
            "PAY\n",
            "JQH\n",
            "HRN\n",
            "VEG\n",
            "XLI\n",
            "PDS\n",
            "GSO\n",
            "FSO\n",
            "EIV\n",
            "GEP\n",
            "DDB\n",
            "UDD\n",
            "ZCI\n",
            "VXJ\n",
            "AEZ\n",
            "HCJ\n",
            "JVX\n",
            "HDV\n",
            "YVW\n",
            "BQT\n",
            "OPD\n",
            "FKT\n",
            "XPD\n",
            "KDJ\n",
            "KMA\n",
            "SJX\n",
            "UCL\n",
            "PHI\n",
            "QIA\n",
            "CER\n",
            "AJP\n",
            "MLN\n",
            "KWK\n",
            "ZQA\n",
            "LVG\n",
            "ZRY\n",
            "IQL\n",
            "RGX\n",
            "WBN\n",
            "EVS\n",
            "OJQ\n",
            "ASF\n",
            "QYH\n",
            "ORJ\n",
            "YXM\n",
            "XEI\n",
            "GVK\n",
            "QEE\n",
            "ZDQ\n",
            "ERN\n",
            "KLW\n",
            "LTV\n",
            "TQV\n",
            "XFR\n",
            "YYK\n",
            "JPG\n",
            "XNR\n",
            "JWK\n",
            "HHD\n",
            "LSK\n",
            "GSK\n",
            "LPS\n",
            "LWP\n",
            "TWN\n",
            "OIQ\n",
            "PTH\n",
            "FPL\n",
            "XFD\n",
            "VTV\n",
            "YIB\n",
            "QQL\n",
            "UJP\n",
            "FIR\n",
            "RNQ\n",
            "MPJ\n",
            "EHD\n",
            "MJD\n",
            "ZGE\n",
            "VKJ\n",
            "JLO\n",
            "YLV\n",
            "YMX\n",
            "HFL\n",
            "VZM\n",
            "CTB\n",
            "KHA\n",
            "HNA\n",
            "VHK\n",
            "VHK is found after 22501 iterations.\n"
          ]
        }
      ]
    },
    {
      "cell_type": "markdown",
      "source": [
        "21.Find words which are greater than given length k"
      ],
      "metadata": {
        "id": "YEc6cVQzFCq7"
      }
    },
    {
      "cell_type": "code",
      "source": [
        "string = \"This is Planet A, there isn't any planet B.\"\n",
        "split = string.split(\" \")\n",
        "k = int(input(\"Enter a number as length for providing words greater than this length: \"))\n",
        "\n",
        "for i in range(0,len(split)):\n",
        "  if len(split[i]) > k:\n",
        "    print(split[i])"
      ],
      "metadata": {
        "colab": {
          "base_uri": "https://localhost:8080/"
        },
        "id": "_CxZ3GxBlKEr",
        "outputId": "a8d8f876-9f85-464e-e2d3-f806ac448db5"
      },
      "execution_count": null,
      "outputs": [
        {
          "output_type": "stream",
          "name": "stdout",
          "text": [
            "Enter a number as length for providing words greater than this length: 3\n",
            "This\n",
            "Planet\n",
            "there\n",
            "isn't\n",
            "planet\n"
          ]
        }
      ]
    },
    {
      "cell_type": "markdown",
      "source": [
        "23.Python program to split and join a string"
      ],
      "metadata": {
        "id": "WQE9E98kFFf8"
      }
    },
    {
      "cell_type": "code",
      "source": [
        "string = input(\"Enter a string: \")\n",
        "\n",
        "#split\n",
        "split = string.split()\n",
        "print(split)\n",
        "\n",
        "#join\n",
        "join = \" \".join(split)\n",
        "print(join)"
      ],
      "metadata": {
        "colab": {
          "base_uri": "https://localhost:8080/"
        },
        "id": "_84BHJIeahv-",
        "outputId": "63f81aba-3548-453b-d06b-7d7982007578"
      },
      "execution_count": null,
      "outputs": [
        {
          "output_type": "stream",
          "name": "stdout",
          "text": [
            "Enter a string: aa kk\n",
            "['aa', 'kk']\n",
            "aa kk\n"
          ]
        }
      ]
    },
    {
      "cell_type": "markdown",
      "source": [
        "24.Python | Check if a given string is binary string or not"
      ],
      "metadata": {
        "id": "5FNRN8fIFHLR"
      }
    },
    {
      "cell_type": "code",
      "source": [
        "string = input(\"Enter a string: \")\n",
        "b = \"01\"\n",
        "flag = 0\n",
        "\n",
        "for i in string:\n",
        "  if i not in b:\n",
        "    flag = 1\n",
        "    break\n",
        "  \n",
        "if flag:\n",
        "  print(\"Not Binary\")\n",
        "else:\n",
        "  print(\"Binary\")\n"
      ],
      "metadata": {
        "colab": {
          "base_uri": "https://localhost:8080/"
        },
        "id": "qNfzpwexSkgb",
        "outputId": "d665b095-8b24-4929-9441-771a5a4733d4"
      },
      "execution_count": null,
      "outputs": [
        {
          "output_type": "stream",
          "name": "stdout",
          "text": [
            "Enter a string: 01\n",
            "Binary\n"
          ]
        }
      ]
    },
    {
      "cell_type": "markdown",
      "source": [
        "\n",
        "25.Python | Find all close matches of input string from a list"
      ],
      "metadata": {
        "id": "4UgjBp2AFJW2"
      }
    },
    {
      "cell_type": "code",
      "source": [
        "str1 = \"Hello world\"\n",
        "str2 = \"Hi world\"\n",
        "\n",
        "split1 = str1.split()\n",
        "split2 = str2.split()\n",
        "\n",
        "for i in range(len(split1)):\n",
        "  for x in range(len(split2)):\n",
        "    if split1[i] == split2[x]:\n",
        "      print(split1[i])"
      ],
      "metadata": {
        "colab": {
          "base_uri": "https://localhost:8080/"
        },
        "id": "g_3616zPxLrN",
        "outputId": "ce368c27-3fc6-48cf-d52d-a6f9fe63e6f8"
      },
      "execution_count": null,
      "outputs": [
        {
          "output_type": "stream",
          "name": "stdout",
          "text": [
            "world\n"
          ]
        }
      ]
    },
    {
      "cell_type": "markdown",
      "source": [
        "26.Python program to find uncommon words from two Strings"
      ],
      "metadata": {
        "id": "tw1vC9nLFKFA"
      }
    },
    {
      "cell_type": "code",
      "source": [
        "str1 = \"Hello world\"\n",
        "str2 = \"Hi world\"\n",
        "\n",
        "split1 = str1.split()\n",
        "split2 = str2.split()\n",
        "\n",
        "split1.extend(split2)\n",
        "# print(split1)\n",
        "\n",
        "for i in a:\n",
        "  if a.count(i) == 1:\n",
        "    print(i)"
      ],
      "metadata": {
        "colab": {
          "base_uri": "https://localhost:8080/"
        },
        "id": "bN_ZYBZvu56u",
        "outputId": "5ea2b71f-fb72-4dac-9ca4-07921af48ca5"
      },
      "execution_count": null,
      "outputs": [
        {
          "output_type": "stream",
          "name": "stdout",
          "text": [
            "['Hello', 'world', 'Hi', 'world']\n",
            "Hello\n",
            "Hi\n"
          ]
        }
      ]
    },
    {
      "cell_type": "markdown",
      "source": [
        "27.Python | Swap commas and dots in a String"
      ],
      "metadata": {
        "id": "dZXdiuEWFMZp"
      }
    },
    {
      "cell_type": "code",
      "source": [
        "str1 = \"This is Friday. not Saturday,\"\n",
        "str1.replace(\".\",\"-\").replace(\",\",\".\").replace(\"-\",\",\")"
      ],
      "metadata": {
        "id": "CozMM_q1KDdd",
        "colab": {
          "base_uri": "https://localhost:8080/",
          "height": 37
        },
        "outputId": "4d20da79-0e34-4f01-c3f7-c068240fcad1"
      },
      "execution_count": null,
      "outputs": [
        {
          "output_type": "execute_result",
          "data": {
            "application/vnd.google.colaboratory.intrinsic+json": {
              "type": "string"
            },
            "text/plain": [
              "'This is Friday, not Saturday.'"
            ]
          },
          "metadata": {},
          "execution_count": 9
        }
      ]
    },
    {
      "cell_type": "markdown",
      "source": [
        "28.Python | Permutation of a given string using inbuilt function"
      ],
      "metadata": {
        "id": "MiQWm2jMFOCG"
      }
    },
    {
      "cell_type": "code",
      "source": [
        "import random\n",
        "str1 = \"ABC\"\n",
        "comb = [] #combinations\n",
        "\n",
        "#getting no. of combinations with factorial of string's length\n",
        "fact = 1\n",
        "for i in range(1,len(str1)+1):\n",
        "  fact = fact*i\n",
        "print(\"Number of combinations of\",str1,\":\",fact)\n",
        "\n",
        "l = []\n",
        "d = [str1[i] for i in range(len(str1)) ]   #['A', 'B', 'C']\n",
        "\n",
        "# for i in range(fact):\n",
        "#   string = ''.join(random.choice(d)for i in range(len(str1)))\n",
        "#   for x in d:\n",
        "#     if string not in comb and d[x] not in string:\n",
        "#       comb.append(string)\n",
        "# print(comb)\n",
        "\n",
        "for i in range(fact):\n",
        "  string = ''.join(random.choice(d)for i in range(len(str1)))\n",
        "  if string not in comb:\n",
        "    comb.append(string)\n",
        "print(comb)"
      ],
      "metadata": {
        "colab": {
          "base_uri": "https://localhost:8080/"
        },
        "id": "HY0ASR1VPzew",
        "outputId": "c284e26a-d302-4eb0-d239-1a13fce023de"
      },
      "execution_count": null,
      "outputs": [
        {
          "output_type": "stream",
          "name": "stdout",
          "text": [
            "Number of combinations of ABC : 6\n",
            "['CCA', 'BBC', 'BCB', 'BCA', 'BBB', 'ABA']\n"
          ]
        }
      ]
    },
    {
      "cell_type": "code",
      "source": [
        "import random\n",
        "comb = []\n",
        "d = ['A', 'B', 'C']\n",
        "for i in range(6):\n",
        "  string = ''.join(random.choice(d)for i in range(len(d)))\n",
        "  if string not in comb and d[i] not in comb:\n",
        "    comb.append(string)\n",
        "print(comb)"
      ],
      "metadata": {
        "colab": {
          "base_uri": "https://localhost:8080/",
          "height": 232
        },
        "id": "DFuBrg9KrlwN",
        "outputId": "b8255769-7eab-412d-8534-a9eaaef0af34"
      },
      "execution_count": null,
      "outputs": [
        {
          "output_type": "error",
          "ename": "IndexError",
          "evalue": "ignored",
          "traceback": [
            "\u001b[0;31m---------------------------------------------------------------------------\u001b[0m",
            "\u001b[0;31mIndexError\u001b[0m                                Traceback (most recent call last)",
            "\u001b[0;32m<ipython-input-9-ebdd35f387a2>\u001b[0m in \u001b[0;36m<module>\u001b[0;34m()\u001b[0m\n\u001b[1;32m      4\u001b[0m \u001b[0;32mfor\u001b[0m \u001b[0mi\u001b[0m \u001b[0;32min\u001b[0m \u001b[0mrange\u001b[0m\u001b[0;34m(\u001b[0m\u001b[0;36m6\u001b[0m\u001b[0;34m)\u001b[0m\u001b[0;34m:\u001b[0m\u001b[0;34m\u001b[0m\u001b[0;34m\u001b[0m\u001b[0m\n\u001b[1;32m      5\u001b[0m   \u001b[0mstring\u001b[0m \u001b[0;34m=\u001b[0m \u001b[0;34m''\u001b[0m\u001b[0;34m.\u001b[0m\u001b[0mjoin\u001b[0m\u001b[0;34m(\u001b[0m\u001b[0mrandom\u001b[0m\u001b[0;34m.\u001b[0m\u001b[0mchoice\u001b[0m\u001b[0;34m(\u001b[0m\u001b[0md\u001b[0m\u001b[0;34m)\u001b[0m\u001b[0;32mfor\u001b[0m \u001b[0mi\u001b[0m \u001b[0;32min\u001b[0m \u001b[0mrange\u001b[0m\u001b[0;34m(\u001b[0m\u001b[0mlen\u001b[0m\u001b[0;34m(\u001b[0m\u001b[0md\u001b[0m\u001b[0;34m)\u001b[0m\u001b[0;34m)\u001b[0m\u001b[0;34m)\u001b[0m\u001b[0;34m\u001b[0m\u001b[0;34m\u001b[0m\u001b[0m\n\u001b[0;32m----> 6\u001b[0;31m   \u001b[0;32mif\u001b[0m \u001b[0mstring\u001b[0m \u001b[0;32mnot\u001b[0m \u001b[0;32min\u001b[0m \u001b[0mcomb\u001b[0m \u001b[0;32mand\u001b[0m \u001b[0md\u001b[0m\u001b[0;34m[\u001b[0m\u001b[0mi\u001b[0m\u001b[0;34m]\u001b[0m \u001b[0;32mnot\u001b[0m \u001b[0;32min\u001b[0m \u001b[0mcomb\u001b[0m\u001b[0;34m:\u001b[0m\u001b[0;34m\u001b[0m\u001b[0;34m\u001b[0m\u001b[0m\n\u001b[0m\u001b[1;32m      7\u001b[0m     \u001b[0mcomb\u001b[0m\u001b[0;34m.\u001b[0m\u001b[0mappend\u001b[0m\u001b[0;34m(\u001b[0m\u001b[0mstring\u001b[0m\u001b[0;34m)\u001b[0m\u001b[0;34m\u001b[0m\u001b[0;34m\u001b[0m\u001b[0m\n\u001b[1;32m      8\u001b[0m \u001b[0mprint\u001b[0m\u001b[0;34m(\u001b[0m\u001b[0mcomb\u001b[0m\u001b[0;34m)\u001b[0m\u001b[0;34m\u001b[0m\u001b[0;34m\u001b[0m\u001b[0m\n",
            "\u001b[0;31mIndexError\u001b[0m: list index out of range"
          ]
        }
      ]
    },
    {
      "cell_type": "code",
      "source": [
        "import random\n",
        "import math\n",
        "comb = []\n",
        "d = ['A', 'B', 'C']\n",
        "\n",
        "c = math.factorial(len(d))\n",
        "b = []\n",
        "\n",
        "while len(comb)<c:  #0<6\n",
        "  while len(b)<len(d):  #0<3\n",
        "    a = random.choice(d)\n",
        "    if a not in b:\n",
        "      b.append(a)\n",
        "    else:\n",
        "      if b not in comb:\n",
        "        b = ''.join(b)\n",
        "        comb.append(b)\n",
        "        b = list(b)\n",
        "      b.clear()\n",
        "print(len(comb))\n",
        "\n",
        "print(\"Number of combinations:\",c)\n",
        "print(comb)\n"
      ],
      "metadata": {
        "colab": {
          "base_uri": "https://localhost:8080/",
          "height": 232
        },
        "id": "F-eGQAcM4Vob",
        "outputId": "170adac5-da90-4ab0-bcb2-926ae9a703d2"
      },
      "execution_count": null,
      "outputs": [
        {
          "output_type": "error",
          "ename": "KeyboardInterrupt",
          "evalue": "ignored",
          "traceback": [
            "\u001b[0;31m---------------------------------------------------------------------------\u001b[0m",
            "\u001b[0;31mKeyboardInterrupt\u001b[0m                         Traceback (most recent call last)",
            "\u001b[0;32m<ipython-input-14-ec1aa8651c91>\u001b[0m in \u001b[0;36m<module>\u001b[0;34m()\u001b[0m\n\u001b[1;32m      7\u001b[0m \u001b[0mb\u001b[0m \u001b[0;34m=\u001b[0m \u001b[0;34m[\u001b[0m\u001b[0;34m]\u001b[0m\u001b[0;34m\u001b[0m\u001b[0;34m\u001b[0m\u001b[0m\n\u001b[1;32m      8\u001b[0m \u001b[0;34m\u001b[0m\u001b[0m\n\u001b[0;32m----> 9\u001b[0;31m \u001b[0;32mwhile\u001b[0m \u001b[0mlen\u001b[0m\u001b[0;34m(\u001b[0m\u001b[0mcomb\u001b[0m\u001b[0;34m)\u001b[0m\u001b[0;34m<\u001b[0m\u001b[0mc\u001b[0m\u001b[0;34m:\u001b[0m  \u001b[0;31m#0<6\u001b[0m\u001b[0;34m\u001b[0m\u001b[0;34m\u001b[0m\u001b[0m\n\u001b[0m\u001b[1;32m     10\u001b[0m   \u001b[0;32mwhile\u001b[0m \u001b[0mlen\u001b[0m\u001b[0;34m(\u001b[0m\u001b[0mb\u001b[0m\u001b[0;34m)\u001b[0m\u001b[0;34m<\u001b[0m\u001b[0mlen\u001b[0m\u001b[0;34m(\u001b[0m\u001b[0md\u001b[0m\u001b[0;34m)\u001b[0m\u001b[0;34m:\u001b[0m  \u001b[0;31m#0<3\u001b[0m\u001b[0;34m\u001b[0m\u001b[0;34m\u001b[0m\u001b[0m\n\u001b[1;32m     11\u001b[0m     \u001b[0ma\u001b[0m \u001b[0;34m=\u001b[0m \u001b[0mrandom\u001b[0m\u001b[0;34m.\u001b[0m\u001b[0mchoice\u001b[0m\u001b[0;34m(\u001b[0m\u001b[0md\u001b[0m\u001b[0;34m)\u001b[0m\u001b[0;34m\u001b[0m\u001b[0;34m\u001b[0m\u001b[0m\n",
            "\u001b[0;31mKeyboardInterrupt\u001b[0m: "
          ]
        }
      ]
    },
    {
      "cell_type": "code",
      "source": [
        "import random\n",
        "import math\n",
        "comb = []\n",
        "d = ['A', 'B', 'C']\n",
        "\n",
        "c = math.factorial(len(d))\n",
        "b = []\n",
        "\n",
        "while len(comb)<c:  #0<6\n",
        "  while len(b)<len(d):  #0<3\n",
        "    a = random.choice(d)\n",
        "    if a not in b:\n",
        "      b.append(a)\n",
        "    else:\n",
        "      b = ''.join(b)\n",
        "      if b not in comb:\n",
        "        comb.append(b)\n",
        "      b = []\n",
        "\n",
        "print(\"Number of combinations:\",c)\n",
        "print(comb)"
      ],
      "metadata": {
        "colab": {
          "base_uri": "https://localhost:8080/"
        },
        "id": "ubQcGTqnL06V",
        "outputId": "d70b2394-50da-4150-d064-f143017df10b"
      },
      "execution_count": null,
      "outputs": [
        {
          "output_type": "stream",
          "name": "stdout",
          "text": [
            "Number of combinations: 6\n",
            "['B', 'C', 'A', 'BC', 'AC', 'CA']\n"
          ]
        }
      ]
    },
    {
      "cell_type": "code",
      "source": [
        "import random\n",
        "import math\n",
        "comb = []\n",
        "d = ['A', 'B', 'C']\n",
        "\n",
        "c = math.factorial(len(d))\n",
        "b = []\n",
        "\n",
        "while len(comb)<c:  #0<6\n",
        "  for i in d:  #0<3\n",
        "    a = random.choice(d)\n",
        "    if a not in b:\n",
        "      b.append(a)\n",
        "    else:\n",
        "      if b not in comb:\n",
        "        b = ''.join(b)\n",
        "        comb.append(b)\n",
        "        b = list(b)\n",
        "      b.clear()\n",
        "\n",
        "print(\"Number of combinations:\",c)\n",
        "print(comb)"
      ],
      "metadata": {
        "id": "nHAYQqBy-dKS",
        "colab": {
          "base_uri": "https://localhost:8080/"
        },
        "outputId": "f7cf43d3-d79a-42ef-ebd2-1ec569dca381"
      },
      "execution_count": null,
      "outputs": [
        {
          "output_type": "stream",
          "name": "stdout",
          "text": [
            "Number of combinations: 6\n",
            "['ACB', 'A', 'C', 'BC', 'C', 'ABC']\n"
          ]
        }
      ]
    },
    {
      "cell_type": "markdown",
      "source": [
        "29.Python | Check for URL in a String"
      ],
      "metadata": {
        "id": "hMHX2wd0FPTE"
      }
    },
    {
      "cell_type": "code",
      "source": [
        "url = \"www.google.com\"\n",
        "\n",
        "# first = url[:4]\n",
        "# last = url[-4:]\n",
        "\n",
        "url[4:-4]"
      ],
      "metadata": {
        "colab": {
          "base_uri": "https://localhost:8080/",
          "height": 37
        },
        "id": "yJ-hOSJ0I5m5",
        "outputId": "365d8100-9ea8-4d5b-e610-25c9d92a72df"
      },
      "execution_count": null,
      "outputs": [
        {
          "output_type": "execute_result",
          "data": {
            "application/vnd.google.colaboratory.intrinsic+json": {
              "type": "string"
            },
            "text/plain": [
              "'google'"
            ]
          },
          "metadata": {},
          "execution_count": 1
        }
      ]
    },
    {
      "cell_type": "markdown",
      "source": [
        "*30*.Execute a String of Code in Python"
      ],
      "metadata": {
        "id": "o6QSfL1WFQmK"
      }
    },
    {
      "cell_type": "code",
      "source": [
        "mycode = 'print(\"hello world\")'\n",
        "exec(mycode)"
      ],
      "metadata": {
        "colab": {
          "base_uri": "https://localhost:8080/"
        },
        "id": "rmBXtxgUoU0C",
        "outputId": "2ff095c1-9877-46a5-eb1d-08300fe8ba96"
      },
      "execution_count": null,
      "outputs": [
        {
          "output_type": "stream",
          "name": "stdout",
          "text": [
            "hello world\n"
          ]
        }
      ]
    },
    {
      "cell_type": "code",
      "source": [
        "#without built-in function\n",
        "\n",
        "mycode = input(\"Enter a python code line: \")\n",
        "# mycode = 'print(\"hello world\")'\n",
        "\n",
        "first = mycode[:7]  # slicing : print(\"\n",
        "last = mycode[-2:]  # slicing : \")\n",
        "\n",
        "mycode[7:-2]"
      ],
      "metadata": {
        "colab": {
          "base_uri": "https://localhost:8080/",
          "height": 54
        },
        "id": "zfqksB5cYTJu",
        "outputId": "1599008f-6496-470a-8567-c9eb56042511"
      },
      "execution_count": null,
      "outputs": [
        {
          "name": "stdout",
          "output_type": "stream",
          "text": [
            "Enter a python code line: print(\"Nilesh\")\n"
          ]
        },
        {
          "output_type": "execute_result",
          "data": {
            "application/vnd.google.colaboratory.intrinsic+json": {
              "type": "string"
            },
            "text/plain": [
              "'Nilesh'"
            ]
          },
          "metadata": {},
          "execution_count": 4
        }
      ]
    },
    {
      "cell_type": "markdown",
      "source": [
        "Q. Print first letter of string"
      ],
      "metadata": {
        "id": "lA6qaUUMs3sD"
      }
    },
    {
      "cell_type": "code",
      "source": [
        "#Better code\n",
        "str1 = input(\"Enter a string: \")\n",
        "split = str1.split()\n",
        "\n",
        "output = ''\n",
        "\n",
        "for i in range(len(split)):\n",
        "     print(split[i][0])"
      ],
      "metadata": {
        "id": "5dQbYJAys3Bk",
        "colab": {
          "base_uri": "https://localhost:8080/"
        },
        "outputId": "42ef8c4a-37d8-4eb7-9d0c-3e28a7af14e6"
      },
      "execution_count": null,
      "outputs": [
        {
          "output_type": "stream",
          "name": "stdout",
          "text": [
            "Enter a string: hi the\n",
            "h\n",
            "t\n"
          ]
        }
      ]
    },
    {
      "cell_type": "code",
      "source": [
        "list1 = []\n",
        "words = int(input(\"How many words would you like to input? \"))\n",
        "output = ''\n",
        "\n",
        "for i in range(0,words):  \n",
        "  list1.append(input(\"Enter a string: \"))\n",
        "  output = output + list1[i][0] \n",
        "\n",
        "print(output)"
      ],
      "metadata": {
        "colab": {
          "base_uri": "https://localhost:8080/",
          "height": 88
        },
        "id": "GbUPCv2VfJCs",
        "outputId": "56c9e6d8-e95f-4a04-d5b8-43fca36c1ec2"
      },
      "execution_count": null,
      "outputs": [
        {
          "name": "stdout",
          "output_type": "stream",
          "text": [
            "How many words would you like to input? 2\n",
            "Enter a string: Hey\n",
            "Enter a string: there\n"
          ]
        },
        {
          "output_type": "execute_result",
          "data": {
            "application/vnd.google.colaboratory.intrinsic+json": {
              "type": "string"
            },
            "text/plain": [
              "'Ht'"
            ]
          },
          "metadata": {},
          "execution_count": 6
        }
      ]
    }
  ]
}