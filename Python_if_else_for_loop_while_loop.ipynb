{
  "nbformat": 4,
  "nbformat_minor": 0,
  "metadata": {
    "colab": {
      "name": "Python_if else_for loop_while loop.ipynb",
      "provenance": [],
      "collapsed_sections": [],
      "authorship_tag": "ABX9TyML2ktf9ebwIz4O625gU8TV",
      "include_colab_link": true
    },
    "kernelspec": {
      "name": "python3",
      "display_name": "Python 3"
    },
    "language_info": {
      "name": "python"
    }
  },
  "cells": [
    {
      "cell_type": "markdown",
      "metadata": {
        "id": "view-in-github",
        "colab_type": "text"
      },
      "source": [
        "<a href=\"https://colab.research.google.com/github/Simeen01/Python-Solutions/blob/main/Python_if_else_for_loop_while_loop.ipynb\" target=\"_parent\"><img src=\"https://colab.research.google.com/assets/colab-badge.svg\" alt=\"Open In Colab\"/></a>"
      ]
    },
    {
      "cell_type": "markdown",
      "source": [
        "**Variable Ex.**\n",
        "1. Create a variable called break and assign it a value 5. See what happens and find out the reason behind the behavior that you see.\n",
        "\n",
        "Ans: break is a keyword, a reserved word in python. It cannot be used as a variable. Hence, it prompts an error when done so."
      ],
      "metadata": {
        "id": "f7FXUf33sVab"
      }
    },
    {
      "cell_type": "code",
      "source": [
        "break = 5"
      ],
      "metadata": {
        "colab": {
          "base_uri": "https://localhost:8080/",
          "height": 130
        },
        "id": "weK2CXQHsSjt",
        "outputId": "1226dba9-b091-403a-e6bf-f145f8f4bcaf"
      },
      "execution_count": null,
      "outputs": [
        {
          "output_type": "error",
          "ename": "SyntaxError",
          "evalue": "ignored",
          "traceback": [
            "\u001b[0;36m  File \u001b[0;32m\"<ipython-input-2-00bd2e73219f>\"\u001b[0;36m, line \u001b[0;32m1\u001b[0m\n\u001b[0;31m    break = 5\u001b[0m\n\u001b[0m          ^\u001b[0m\n\u001b[0;31mSyntaxError\u001b[0m\u001b[0;31m:\u001b[0m invalid syntax\n"
          ]
        }
      ]
    },
    {
      "cell_type": "markdown",
      "source": [
        "2. Create two variables. One to store your birth year and another one to store current year. Now calculate your age using these two variables"
      ],
      "metadata": {
        "id": "vutvmi4IskP6"
      }
    },
    {
      "cell_type": "code",
      "source": [
        "birth_year = 2002\n",
        "current_year = 2022\n",
        "age = current_year - birth_year\n",
        "print(age)"
      ],
      "metadata": {
        "colab": {
          "base_uri": "https://localhost:8080/"
        },
        "id": "AI5bNh6Bsk2v",
        "outputId": "28ca6fe5-46e8-42b9-f7e5-bbfd02ce15c0"
      },
      "execution_count": null,
      "outputs": [
        {
          "output_type": "stream",
          "name": "stdout",
          "text": [
            "20\n"
          ]
        }
      ]
    },
    {
      "cell_type": "markdown",
      "source": [
        "3. Store your first, middle and last name in three different variables and then print your full name using these variables"
      ],
      "metadata": {
        "id": "C94E35gss-GH"
      }
    },
    {
      "cell_type": "code",
      "source": [
        "first = 'Simeen'\n",
        "middle = 'Khan'\n",
        "last = 'Ayyub'\n",
        "print(first, middle,last)"
      ],
      "metadata": {
        "colab": {
          "base_uri": "https://localhost:8080/"
        },
        "id": "1AzHswAns_Cn",
        "outputId": "7c205aba-9deb-4673-d9e3-04aebac10400"
      },
      "execution_count": null,
      "outputs": [
        {
          "output_type": "stream",
          "name": "stdout",
          "text": [
            "Simeen Khan Ayyub\n"
          ]
        }
      ]
    },
    {
      "cell_type": "markdown",
      "source": [
        "4. Answer which of these are invalid variable names: \n",
        "   _nation \n",
        "\n",
        "---valid\n",
        "\n",
        "\n",
        "   1record\n",
        "\n",
        "---valid\n",
        "\n",
        "\n",
        "   record1\n",
        "\n",
        "---valid\n",
        "\n",
        "\n",
        "   record_one\n",
        "\n",
        "---valid\n",
        "\n",
        "\n",
        "   record-one\n",
        "\n",
        "---invalid\n",
        "\n",
        "\n",
        "   record^one\n",
        "\n",
        "---invalid\n",
        "\n",
        "\n",
        "   continue\n",
        "\n",
        "---invalid\n",
        "\n"
      ],
      "metadata": {
        "id": "N6ZpxncF8t2s"
      }
    },
    {
      "cell_type": "markdown",
      "source": [
        "**Number Ex.**\n",
        "1. You have a football field that is 92 meter long and 48.8 meter wide. Find out total\n",
        "area using python and print it.**bold text**"
      ],
      "metadata": {
        "id": "bo5XQ23jt9S1"
      }
    },
    {
      "cell_type": "code",
      "source": [
        "import math\n",
        "length = 92\n",
        "wide = 48.8\n",
        "area = length * wide\n",
        "print(area)\n",
        "print(round(area,3))\n",
        "print(math.trunc(area))"
      ],
      "metadata": {
        "colab": {
          "base_uri": "https://localhost:8080/"
        },
        "id": "yGAryk6Xt953",
        "outputId": "e4b13d06-86e6-4ede-c383-d51633071f9d"
      },
      "execution_count": null,
      "outputs": [
        {
          "output_type": "stream",
          "name": "stdout",
          "text": [
            "4489.599999999999\n",
            "4489.6\n",
            "4489\n"
          ]
        }
      ]
    },
    {
      "cell_type": "markdown",
      "source": [
        "2. You bought 9 packets of potato chips from a store. Each packet costs 1.49 dollar\n",
        "and you gave shopkeeper 20 dollar. Find out using python, how many dollars is the shopkeeper going to give you back?"
      ],
      "metadata": {
        "id": "UBdoUtFPwXBv"
      }
    },
    {
      "cell_type": "code",
      "source": [
        "totalPackets=9\n",
        "onePacketCost = 1.49\n",
        "amountGiven=20\n",
        "totalCost = totalPackets*onePacketCost\n",
        "AmountRemains = amountGiven-totalCost\n",
        "print(AmountRemains)"
      ],
      "metadata": {
        "colab": {
          "base_uri": "https://localhost:8080/"
        },
        "id": "14OntEnswRWQ",
        "outputId": "7e48e2df-4a06-4776-f15a-1e1bb6c65079"
      },
      "execution_count": null,
      "outputs": [
        {
          "output_type": "stream",
          "name": "stdout",
          "text": [
            "6.59\n"
          ]
        }
      ]
    },
    {
      "cell_type": "markdown",
      "source": [
        "3. You want to replace tiles in your bathroom which is exactly square and 5.5 feet\n",
        "is its length. If tiles cost 500 rs per square feet, how much will be the total\n",
        "cost to replace all tiles. Calculate and print the cost using python\n",
        "(Hint: Use power operator ** to find area of a square)"
      ],
      "metadata": {
        "id": "D-2YNYZfxNeP"
      }
    },
    {
      "cell_type": "code",
      "source": [
        "length=5.5\n",
        "oneTileCost=500\n",
        "area=length**length\n",
        "print(area)\n",
        "totalCost=oneTileCost*area\n",
        "print(round(totalCost))"
      ],
      "metadata": {
        "colab": {
          "base_uri": "https://localhost:8080/"
        },
        "id": "bliSZPGgxFe4",
        "outputId": "b49e6878-7ec2-4746-ed6b-14697f929fea"
      },
      "execution_count": null,
      "outputs": [
        {
          "output_type": "stream",
          "name": "stdout",
          "text": [
            "11803.064820864423\n",
            "5901532\n"
          ]
        }
      ]
    },
    {
      "cell_type": "markdown",
      "source": [
        "4. Print binary representation of number 17"
      ],
      "metadata": {
        "id": "thjf6S72yJM-"
      }
    },
    {
      "cell_type": "code",
      "source": [
        "num=17\n",
        "print(bin(num))"
      ],
      "metadata": {
        "colab": {
          "base_uri": "https://localhost:8080/"
        },
        "id": "6XfV03AyyJ-3",
        "outputId": "1d6d39de-2316-4071-d25a-940c641faa87"
      },
      "execution_count": null,
      "outputs": [
        {
          "output_type": "stream",
          "name": "stdout",
          "text": [
            "0b10001\n"
          ]
        }
      ]
    },
    {
      "cell_type": "markdown",
      "source": [
        "**Exercise: String in Python**\n",
        "\n",
        "1. Create 3 variables to store street, city and country, now create address variable to\n",
        "store entire address. Use two ways of creating this variable, one using + operator and the other using f-string.\n",
        "Now Print the address in such a way that the street, city and country prints in a separate line"
      ],
      "metadata": {
        "id": "SNyXkg17zCNd"
      }
    },
    {
      "cell_type": "code",
      "source": [
        "street='sad'\n",
        "city='fdg'\n",
        "country='ftgh'\n",
        "address=street+\" \"+ city+' '+ country\n",
        "\n",
        "print(f\"{address}\")"
      ],
      "metadata": {
        "colab": {
          "base_uri": "https://localhost:8080/"
        },
        "id": "0YQZPPmvyj14",
        "outputId": "354c31ca-a206-4fca-e304-2f9ed4b3ffb1"
      },
      "execution_count": null,
      "outputs": [
        {
          "output_type": "stream",
          "name": "stdout",
          "text": [
            "sad fdg ftgh\n"
          ]
        }
      ]
    },
    {
      "cell_type": "markdown",
      "source": [
        "2. Create a variable to store the string \"Earth revolves around the sun\"\n",
        "    1. Print \"revolves\" using slice operator\n",
        "    2. Print \"sun\" using negative index"
      ],
      "metadata": {
        "id": "OJrNpmrV7tam"
      }
    },
    {
      "cell_type": "code",
      "source": [
        "str1 = \"Earth revolves around the sun\"\n",
        "print(str1[5:14])\n",
        "print(str1[-4:])"
      ],
      "metadata": {
        "colab": {
          "base_uri": "https://localhost:8080/"
        },
        "id": "LdDGemJB7sPa",
        "outputId": "dce0b70f-a179-4716-dfd3-849d32c1b78b"
      },
      "execution_count": null,
      "outputs": [
        {
          "output_type": "stream",
          "name": "stdout",
          "text": [
            " revolves\n",
            " sun\n"
          ]
        }
      ]
    },
    {
      "cell_type": "code",
      "source": [
        "num = int(input(\"Enter a number: \"))\n",
        "print(num)\n",
        "print(type(num))\n",
        "\n",
        "x = float(num)\n",
        "print(x)\n",
        "print(type(x))\n",
        "\n",
        "y = str(num)\n",
        "print(y)\n",
        "print(type(y))"
      ],
      "metadata": {
        "colab": {
          "base_uri": "https://localhost:8080/"
        },
        "id": "WbUYFGgM-Dm1",
        "outputId": "801d0f22-7a68-4f94-992d-ff3841b2939c"
      },
      "execution_count": null,
      "outputs": [
        {
          "output_type": "stream",
          "name": "stdout",
          "text": [
            "Enter a number: 45\n",
            "45\n",
            "<class 'int'>\n",
            "45.0\n",
            "<class 'float'>\n",
            "45\n",
            "<class 'str'>\n"
          ]
        }
      ]
    },
    {
      "cell_type": "code",
      "source": [
        "num=float(input('A number'))\n",
        "# y=int(num)\n",
        "# print(y)\n",
        "z=complex(num)\n",
        "\n",
        "print(z)"
      ],
      "metadata": {
        "id": "rZhgiG5T-Uc0",
        "colab": {
          "base_uri": "https://localhost:8080/"
        },
        "outputId": "6a48d25d-8a63-463f-960e-af5059c31a14"
      },
      "execution_count": null,
      "outputs": [
        {
          "output_type": "stream",
          "name": "stdout",
          "text": [
            "A number2.8999\n",
            "(2.8999+0j)\n"
          ]
        }
      ]
    },
    {
      "cell_type": "code",
      "source": [
        "print(type(num))"
      ],
      "metadata": {
        "id": "gqvX_4wMkN7J"
      },
      "execution_count": null,
      "outputs": []
    },
    {
      "cell_type": "code",
      "source": [
        "a = 33\n",
        "b = 33\n",
        "if b > a:\n",
        "  print(\"b is greater than a\")\n",
        "elif:\n",
        "  print(\"a and b are equal\")\n"
      ],
      "metadata": {
        "colab": {
          "base_uri": "https://localhost:8080/",
          "height": 131
        },
        "id": "ySklZAuPknPr",
        "outputId": "b9244d83-49a8-41b6-ca45-4acf50cebc97"
      },
      "execution_count": null,
      "outputs": [
        {
          "output_type": "error",
          "ename": "SyntaxError",
          "evalue": "ignored",
          "traceback": [
            "\u001b[0;36m  File \u001b[0;32m\"<ipython-input-10-3895812bb0e0>\"\u001b[0;36m, line \u001b[0;32m5\u001b[0m\n\u001b[0;31m    elif:\u001b[0m\n\u001b[0m        ^\u001b[0m\n\u001b[0;31mSyntaxError\u001b[0m\u001b[0;31m:\u001b[0m invalid syntax\n"
          ]
        }
      ]
    },
    {
      "cell_type": "code",
      "source": [
        "print(10 > 9)\n",
        "print(10 = 9)\n",
        "print(10 < 9)"
      ],
      "metadata": {
        "colab": {
          "base_uri": "https://localhost:8080/",
          "height": 131
        },
        "id": "yyD-4T4NpteZ",
        "outputId": "66cb902c-4219-4caf-d907-43940d7c8f69"
      },
      "execution_count": null,
      "outputs": [
        {
          "output_type": "error",
          "ename": "SyntaxError",
          "evalue": "ignored",
          "traceback": [
            "\u001b[0;36m  File \u001b[0;32m\"<ipython-input-12-4522d5aaca7e>\"\u001b[0;36m, line \u001b[0;32m2\u001b[0m\n\u001b[0;31m    print(10 = 9)\u001b[0m\n\u001b[0m         ^\u001b[0m\n\u001b[0;31mSyntaxError\u001b[0m\u001b[0;31m:\u001b[0m keyword can't be an expression\n"
          ]
        }
      ]
    },
    {
      "cell_type": "code",
      "source": [
        "bool(\"abc\")\n"
      ],
      "metadata": {
        "colab": {
          "base_uri": "https://localhost:8080/"
        },
        "id": "tTPsMTI0qvBa",
        "outputId": "8f33f161-7d92-4aa6-a349-5b0600673360"
      },
      "execution_count": null,
      "outputs": [
        {
          "output_type": "execute_result",
          "data": {
            "text/plain": [
              "True"
            ]
          },
          "metadata": {},
          "execution_count": 16
        }
      ]
    },
    {
      "cell_type": "code",
      "source": [
        "bool(0)\n"
      ],
      "metadata": {
        "colab": {
          "base_uri": "https://localhost:8080/"
        },
        "id": "-DCFcvyRrXCc",
        "outputId": "4850faf0-70e3-4c53-c443-03c1669073db"
      },
      "execution_count": null,
      "outputs": [
        {
          "output_type": "execute_result",
          "data": {
            "text/plain": [
              "False"
            ]
          },
          "metadata": {},
          "execution_count": 17
        }
      ]
    },
    {
      "cell_type": "code",
      "source": [
        "bool([0])"
      ],
      "metadata": {
        "colab": {
          "base_uri": "https://localhost:8080/"
        },
        "id": "DZED-wNUrt99",
        "outputId": "fb7c1eb7-19db-4c8d-c852-aca0abf16316"
      },
      "execution_count": null,
      "outputs": [
        {
          "output_type": "execute_result",
          "data": {
            "text/plain": [
              "True"
            ]
          },
          "metadata": {},
          "execution_count": 26
        }
      ]
    },
    {
      "cell_type": "markdown",
      "source": [
        "**Exercise: Python If Condition**\n",
        "\n",
        "1. Using following list of cities per country,\n",
        "    ```\n",
        "    india = [\"mumbai\", \"banglore\", \"chennai\", \"delhi\"]\n",
        "    pakistan = [\"lahore\",\"karachi\",\"islamabad\"]\n",
        "    bangladesh = [\"dhaka\", \"khulna\", \"rangpur\"]\n",
        "    ```\n",
        "    1. Write a program that asks user to enter a city name and it should tell which country the city belongs to"
      ],
      "metadata": {
        "id": "D5M6Pp6nw1QR"
      }
    },
    {
      "cell_type": "code",
      "source": [
        "India = [\"mumbai\", \"banglore\", \"chennai\", \"delhi\"]\n",
        "Pakistan = [\"lahore\",\"karachi\",\"islamabad\"]\n",
        "Bangladesh = [\"dhaka\", \"khulna\", \"rangpur\"]\n",
        "\n",
        "city = input(\"Enter a city: \")\n",
        "\n",
        "if city in India:\n",
        "  print(city+\" \"+ \"belongs in India.\")\n",
        "elif city in Pakistan:\n",
        "  print(city+\" \"+ \"belongs in Pakistan.\")\n",
        "elif city in Bangladesh:\n",
        "  print(city+\" \"+ \"belongs in Bangladesh.\")\n",
        "else:\n",
        "  print(\"The city does not belong in India, Pakistan or Bangladesh\")"
      ],
      "metadata": {
        "colab": {
          "base_uri": "https://localhost:8080/"
        },
        "id": "U1XpzB3Gw2eC",
        "outputId": "14ab417a-df57-46fe-96a5-3154fa9cfc19"
      },
      "execution_count": null,
      "outputs": [
        {
          "output_type": "stream",
          "name": "stdout",
          "text": [
            "Enter a city: borli\n",
            "The city does not belong in India, Pakistan or Bangladesh\n"
          ]
        }
      ]
    },
    {
      "cell_type": "markdown",
      "source": [
        "2. Write a program that asks user to enter two cities and it tells you if they both are in same country or not. For example if I enter mumbai and chennai, it will print \"Both cities are in India\" but if I enter mumbai and dhaka it should print \"They don't belong to same country\""
      ],
      "metadata": {
        "id": "EMtl-ExJyOU6"
      }
    },
    {
      "cell_type": "code",
      "source": [
        "India = [\"mumbai\", \"banglore\", \"chennai\", \"delhi\"]\n",
        "Pakistan = [\"lahore\",\"karachi\",\"islamabad\"]\n",
        "Bangladesh = [\"dhaka\", \"khulna\", \"rangpur\"]\n",
        "\n",
        "city = input(\"Enter a city: \")\n",
        "city1 = city.lower()\n",
        "anotherCity = input(\"Please enter another city: \")\n",
        "city2 = anotherCity.lower()\n",
        "\n",
        "if (city1 and city2) in India:\n",
        "  print(city1+\" and \"+city2+\" are in India.\")\n",
        "elif (city1 and city2) in Pakistan:\n",
        "  print(city1+\" and \"+city2+\" are in Pakistan.\")\n",
        "elif (city1 and city2) in Bangladesh:\n",
        "  print(city1+\" and \"+city2+\" are in Bangladesh.\")\n",
        "elif (city1 or city2) not in India or Pakistan or Bangladesh:\n",
        "  print(\"Both the cities do not belong in India, Pakistan or Bangladesh\")"
      ],
      "metadata": {
        "colab": {
          "base_uri": "https://localhost:8080/"
        },
        "id": "sXpKfTZFyFpo",
        "outputId": "be082c44-3d8b-4d32-9ac7-4f959aff5288"
      },
      "execution_count": null,
      "outputs": [
        {
          "output_type": "stream",
          "name": "stdout",
          "text": [
            "Enter a city: lahore\n",
            "Please enter another city: delhi\n",
            "lahore and delhi are in India.\n"
          ]
        }
      ]
    },
    {
      "cell_type": "markdown",
      "source": [
        "2. Write a python program that can tell you if your sugar is normal or not. Normal fasting level sugar range is 80 to 100.\n",
        "    1. Ask user to enter his fasting sugar level\n",
        "    2. If it is below 80 to 100 range then print that sugar is low\n",
        "    3. If it is above 100 then print that it is high otherwise print that it is normal"
      ],
      "metadata": {
        "id": "kVc1o6Tn1nx7"
      }
    },
    {
      "cell_type": "code",
      "source": [
        "sugar_level = int(input(\"Enter your sugar level: \"))\n",
        "if sugar_level < 80:\n",
        "  print(\"Sugar is low.\")\n",
        "elif sugar_level > 100:\n",
        "  print(\"Sugar is high.\")\n",
        "else:\n",
        "  print(\"Sugar is normal.\")"
      ],
      "metadata": {
        "colab": {
          "base_uri": "https://localhost:8080/"
        },
        "id": "1deHV8eAy743",
        "outputId": "db4a63eb-a051-442a-bdc6-bf2b8267d7e0"
      },
      "execution_count": null,
      "outputs": [
        {
          "output_type": "stream",
          "name": "stdout",
          "text": [
            "Enter your sugar level: 111\n",
            "Sugar is high.\n"
          ]
        }
      ]
    },
    {
      "cell_type": "markdown",
      "source": [
        "***Exercise: Python User Input***\n",
        "\n",
        "1. Write a program that can find area of a triangle. It should take base and height as an input from user and using that it should print an area of a triangle"
      ],
      "metadata": {
        "id": "I-XZLvPK36AY"
      }
    },
    {
      "cell_type": "code",
      "source": [
        "base = float(input(\"Enter the base of the triangle: \"))\n",
        "height = float(input(\"Enter the height of the triangle: \"))\n",
        "\n",
        "area_of_triangle = 0.5*base*height\n",
        "\n",
        "print(\"Area of triangle = \",area_of_triangle,\"square units\")"
      ],
      "metadata": {
        "colab": {
          "base_uri": "https://localhost:8080/"
        },
        "id": "JUHyvbNM2aoU",
        "outputId": "442c2606-4bee-4ced-eef9-06d77efcbe95"
      },
      "execution_count": null,
      "outputs": [
        {
          "output_type": "stream",
          "name": "stdout",
          "text": [
            "Enter the base of the triangle: 98\n",
            "Enter the height of the triangle: 7\n",
            "Area of triangle =  343.0 square units\n"
          ]
        }
      ]
    },
    {
      "cell_type": "markdown",
      "source": [
        "2. Write a program that takes file name with extension as an input and\n",
        "prints just the file name without extension (you can assume that file extensions are always 3 character long)"
      ],
      "metadata": {
        "id": "QnyZeaiX42Mn"
      }
    },
    {
      "cell_type": "code",
      "source": [
        "filename_with_extension = input(\"Enter a filename with extension: \")\n",
        "filename = filename_with_extension[:-4]\n",
        "print(filename)"
      ],
      "metadata": {
        "colab": {
          "base_uri": "https://localhost:8080/"
        },
        "id": "_l1ibsKY4cKr",
        "outputId": "2a98bed6-8b77-457e-da8a-cc285191489d"
      },
      "execution_count": null,
      "outputs": [
        {
          "output_type": "stream",
          "name": "stdout",
          "text": [
            "Enter a filename with extension: text.txt\n",
            "text\n"
          ]
        }
      ]
    },
    {
      "cell_type": "markdown",
      "source": [
        "***if-else***\n",
        "\n",
        "Q1. Name the keyword which helps in writing code involves condition.\n",
        "\n",
        "---\n",
        "if-else\n",
        "\n",
        "Q2. Write the syntax of simple if statement.\n",
        "\n",
        "---\n",
        "\n",
        "if (condition):\n",
        "  print(statement)\n",
        "elif(condition):\n",
        "  print(statement)\n",
        "else:\n",
        "  print(statement)\n",
        "\n",
        "\n",
        "Q3. Is there any limit of statement that can appear under an if block.\n",
        "\n",
        "\n",
        "---\n",
        "No limit\n",
        "\n",
        "\n"
      ],
      "metadata": {
        "id": "eP_X3rLf6tQk"
      }
    },
    {
      "cell_type": "markdown",
      "source": [
        "Q4. Write a program to check whether a person is eligible for voting or not. (accept age from user)"
      ],
      "metadata": {
        "id": "-YzeHaon7dPZ"
      }
    },
    {
      "cell_type": "code",
      "source": [
        "age = int(input(\"Enter age: \"))\n",
        "if age >= 18:\n",
        "  print(\"Eligible\")\n",
        "else:\n",
        "  print(\"Not Eligible\")"
      ],
      "metadata": {
        "colab": {
          "base_uri": "https://localhost:8080/"
        },
        "id": "MlBqOppQ5qPN",
        "outputId": "edb35d10-0de7-4f34-8e31-a6e21c95a0aa"
      },
      "execution_count": null,
      "outputs": [
        {
          "output_type": "stream",
          "name": "stdout",
          "text": [
            "Enter age: 18\n",
            "Eligible\n"
          ]
        }
      ]
    },
    {
      "cell_type": "markdown",
      "source": [
        "Q5. Write a program to check whether a number entered by user is even or odd."
      ],
      "metadata": {
        "id": "y59LsFh379lO"
      }
    },
    {
      "cell_type": "code",
      "source": [
        "num = int(input(\"Enter a number: \"))\n",
        "if num%2==0:\n",
        "  print(\"Number is even.\")\n",
        "else:\n",
        "  print(\"Number is odd.\")"
      ],
      "metadata": {
        "colab": {
          "base_uri": "https://localhost:8080/"
        },
        "id": "reKjpQBw7xSn",
        "outputId": "b8be333b-5ff7-42dc-f9f4-96caaa7dede9"
      },
      "execution_count": null,
      "outputs": [
        {
          "output_type": "stream",
          "name": "stdout",
          "text": [
            "Enter a number: 22\n",
            "Number is even.\n"
          ]
        }
      ]
    },
    {
      "cell_type": "markdown",
      "source": [
        "Q6. Write a program to check whether a number is divisible by 7 or not.\n",
        "eg: 483: 48 − (3 × 2) = 42 = 7 × 6."
      ],
      "metadata": {
        "id": "T_CQJMox9LXm"
      }
    },
    {
      "cell_type": "code",
      "source": [
        "num = int(input(\"Enter a number: \"))\n",
        "last_digit = num%10\n",
        "remaining_digits = num//10  #dividing the number by 10, Float div - last digit will not come.eg:483/10=48.3 so,48.\n",
        "divisible = remaining_digits - (last_digit*2) #divisibility rule of 7\n",
        "if divisible%7==0:\n",
        "  print(num,\"is divisible by 7.\")\n",
        "else:\n",
        "  print(num,\"is not divisible by 7.\")\n"
      ],
      "metadata": {
        "colab": {
          "base_uri": "https://localhost:8080/"
        },
        "id": "NDPX7Hu_9NTG",
        "outputId": "a7d4b2e7-6177-42d2-fbc4-5662699f37be"
      },
      "execution_count": null,
      "outputs": [
        {
          "output_type": "stream",
          "name": "stdout",
          "text": [
            "Enter a number: 9\n",
            "9 is not divisible by 7.\n"
          ]
        }
      ]
    },
    {
      "cell_type": "markdown",
      "source": [
        "Q7. Write a program to display \"Hello\" if a number entered by user is a multiple of five,otherwise print \"Bye\"."
      ],
      "metadata": {
        "id": "qw1t1BZf_acx"
      }
    },
    {
      "cell_type": "code",
      "source": [
        "num = int(input(\"Enter a number: \"))\n",
        "last_digit = num%10\n",
        "\n",
        "if last_digit == 5 or last_digit == 0:\n",
        "  print(\"Hello\")\n",
        "else:\n",
        "  print(\"Bye\")"
      ],
      "metadata": {
        "colab": {
          "base_uri": "https://localhost:8080/"
        },
        "id": "CqX7OuCz-i_W",
        "outputId": "995633d2-b030-4641-dc20-8f34e9dda6ae"
      },
      "execution_count": null,
      "outputs": [
        {
          "output_type": "stream",
          "name": "stdout",
          "text": [
            "Enter a number: 99\n",
            "Bye\n"
          ]
        }
      ]
    },
    {
      "cell_type": "markdown",
      "source": [
        "Q8. Write a program to display the last digit of a number.\n",
        "   (hint : any number % 10 will return the last digit)"
      ],
      "metadata": {
        "id": "6w3eZ3nC_2qL"
      }
    },
    {
      "cell_type": "code",
      "source": [
        "num = int(input(\"Enter a number: \"))\n",
        "last_digit = num%10\n",
        "print(\"The last digit is\",last_digit)"
      ],
      "metadata": {
        "colab": {
          "base_uri": "https://localhost:8080/"
        },
        "id": "6_DtqVQV_4CD",
        "outputId": "3d2c1069-05b7-4a51-f0ce-6e5d0433a4cb"
      },
      "execution_count": null,
      "outputs": [
        {
          "output_type": "stream",
          "name": "stdout",
          "text": [
            "Enter a number: 234\n",
            "The last digit is 4\n"
          ]
        }
      ]
    },
    {
      "cell_type": "markdown",
      "source": [
        "Q10. Write a program to check whether the last digit of a number( entered by user ) is divisible by 3 or not.\n",
        "\n",
        "[sum of its digits is divisible by 3]"
      ],
      "metadata": {
        "id": "yIj_GZm0Afc0"
      }
    },
    {
      "cell_type": "code",
      "source": [
        "num = int(input(\"Enter a number: \"))\n",
        "if num%3==0:\n",
        "  print(num,\"is divisible by 3.\")\n",
        "else:\n",
        "  print(num,\"is not divisible by 3.\")\n",
        "\n"
      ],
      "metadata": {
        "id": "ajn1AkfZ_9uC",
        "colab": {
          "base_uri": "https://localhost:8080/"
        },
        "outputId": "a7d09f40-d09d-4041-99a6-3b717c794581"
      },
      "execution_count": null,
      "outputs": [
        {
          "output_type": "stream",
          "name": "stdout",
          "text": [
            "Enter a number: 4\n",
            "4 is not divisible by 3.\n"
          ]
        }
      ]
    },
    {
      "cell_type": "markdown",
      "source": [
        "Q11. Write a program to accept percentage from the user and display the grade according to the following criteria:\n",
        "\n",
        "         Marks                                    Grade\n",
        "         > 90                                       A\n",
        "         > 80 and <= 90                      \t      B\n",
        "         >= 60 and <= 80                       \t    C\n",
        "         below 60                                   D"
      ],
      "metadata": {
        "id": "53ARKHrHBKWM"
      }
    },
    {
      "cell_type": "code",
      "source": [
        "percent = float(input(\"Enter percentage: \"))\n",
        "\n",
        "if percent > 90:\n",
        "  print(\"Grade: A\")\n",
        "elif percent > 80 and percent <= 90:\n",
        "  print(\"Grade: B\")\n",
        "elif percent >= 60 and percent <= 80:\n",
        "  print(\"Grade: B\")\n",
        "elif percent < 60:\n",
        "  print(\"Grade: D\")\n",
        "else:\n",
        "  print(\"Invalid input. Please try again.\")"
      ],
      "metadata": {
        "colab": {
          "base_uri": "https://localhost:8080/"
        },
        "id": "HzBtf5vutEQH",
        "outputId": "1c59e236-f9b4-4c05-8629-8a09ad2da224"
      },
      "execution_count": null,
      "outputs": [
        {
          "output_type": "stream",
          "name": "stdout",
          "text": [
            "Enter percentage: 90.8\n",
            "Grade: A\n"
          ]
        }
      ]
    },
    {
      "cell_type": "markdown",
      "source": [
        "Q12. Write a program to check whether an years is leap year or not."
      ],
      "metadata": {
        "id": "Rj5QKe5_BRVB"
      }
    },
    {
      "cell_type": "code",
      "source": [
        "leap_year = int(input(\"Enter year: \"))\n",
        "if leap_year%400==0 or leap_year%100!=0 and leap_year%4==0:\n",
        "    print(\"It is a leap year.\")\n",
        "else:\n",
        "  print(\"Not a leap year.\")"
      ],
      "metadata": {
        "colab": {
          "base_uri": "https://localhost:8080/"
        },
        "id": "Am2zf36Wqru1",
        "outputId": "85415786-56cf-4c65-d4db-989bc5aeb40d"
      },
      "execution_count": null,
      "outputs": [
        {
          "output_type": "stream",
          "name": "stdout",
          "text": [
            "Enter year: 2100\n",
            "Not a leap year.\n"
          ]
        }
      ]
    },
    {
      "cell_type": "markdown",
      "source": [
        "Q13. Write a program to accept a number from 1 to 7 and display the name of the day like 1 for Sunday , 2 for Monday and so on."
      ],
      "metadata": {
        "id": "ezkHw5PZBTaW"
      }
    },
    {
      "cell_type": "code",
      "source": [
        "dayNum = int(input(\"Enter the day number: \"))\n",
        "\n",
        "if dayNum > 7 or dayNum < 1:\n",
        "  print(\"Please enter a number between 1 and 7.\")\n",
        "\n",
        "if dayNum == 1:\n",
        "  print(\"Sunday\")\n",
        "elif dayNum == 2:\n",
        "  print(\"Monday\")\n",
        "elif dayNum == 3:\n",
        "  print(\"Tuesday\")\n",
        "elif dayNum == 4:\n",
        "  print(\"Wednesday\")\n",
        "elif dayNum == 5:\n",
        "  print(\"Thursday\")\n",
        "elif dayNum == 6:\n",
        "  print(\"Friday\")\n",
        "elif dayNum == 7:\n",
        "  print(\"Saturday\")"
      ],
      "metadata": {
        "colab": {
          "base_uri": "https://localhost:8080/"
        },
        "id": "7qxY0wQgnBLz",
        "outputId": "6bf5e8c9-f02e-4e20-8ca4-ca2543063346"
      },
      "execution_count": null,
      "outputs": [
        {
          "output_type": "stream",
          "name": "stdout",
          "text": [
            "Enter the day number: 21\n",
            "Please enter a number between 1 and 7.\n"
          ]
        }
      ]
    },
    {
      "cell_type": "markdown",
      "source": [
        "Q14. Write a program to accept a number from 1 to 12 and display name of the month and days in that month like 1 for January and number of days 31 and so on"
      ],
      "metadata": {
        "id": "kK08WGfqBWDg"
      }
    },
    {
      "cell_type": "code",
      "source": [
        "monthNum = int(input(\"Enter the day number: \"))\n",
        "\n",
        "if monthNum > 12 or monthNum < 1:\n",
        "  print(\"Please enter a number between 1 and 12.\")\n",
        "\n",
        "if monthNum == 1:\n",
        "  print(\"January\")\n",
        "elif monthNum == 2:\n",
        "  print(\"Febuary\")\n",
        "elif monthNum == 3:\n",
        "  print(\"March\")\n",
        "elif monthNum == 4:\n",
        "  print(\"April\")\n",
        "elif monthNum == 5:\n",
        "  print(\"May\")\n",
        "elif monthNum == 6:\n",
        "  print(\"June\")\n",
        "elif monthNum == 7:\n",
        "  print(\"July\")\n",
        "elif monthNum == 8:\n",
        "  print(\"August\")\n",
        "elif monthNum == 9:\n",
        "  print(\"September\")\n",
        "elif monthNum == 10:\n",
        "  print(\"October\")\n",
        "elif monthNum == 11:\n",
        "  print(\"November\")\n",
        "elif monthNum == 12:\n",
        "  print(\"December\")\n",
        "\n",
        "# months with 31 days: Jan, Mar, Jul, Aug, Oct, Dec\n",
        "# months with 30 days: Apr, Jun, Sept, Nov\n",
        "# month with 28/29 days: Feb\n",
        "\n",
        "if monthNum == 1 or monthNum == 3 or monthNum == 7 or monthNum == 8 or monthNum == 10 or monthNum == 12:\n",
        "  print(\"Days: 31\")\n",
        "elif monthNum == 4 or monthNum == 7 or monthNum == 9 or monthNum == 11:\n",
        "  print(\"Days: 30\")\n",
        "elif monthNum == 2:\n",
        "  print(\"Days: 28/29\")\n"
      ],
      "metadata": {
        "colab": {
          "base_uri": "https://localhost:8080/"
        },
        "id": "SV2a8xHKoAtO",
        "outputId": "d69a707f-de23-4442-f745-eb4e08cc49d6"
      },
      "execution_count": null,
      "outputs": [
        {
          "output_type": "stream",
          "name": "stdout",
          "text": [
            "Enter the day number: 9\n",
            "September\n",
            "Days: 30\n"
          ]
        }
      ]
    },
    {
      "cell_type": "markdown",
      "source": [
        "Q15. Accept any city from the user and display monument of that city.\n",
        "\n",
        "\n",
        "\n",
        "\n",
        "                  City                                 Monument\n",
        "                  Delhi                               Red Fort\n",
        "                  Agra                                Taj Mahal\n",
        "                  Jaipur                              Jal Mahal"
      ],
      "metadata": {
        "id": "KZWaH4WKBZga"
      }
    },
    {
      "cell_type": "code",
      "source": [
        "city = [\"Delhi, Agra, Jaipur\"]\n",
        "monument = [\"Red Fort\", \"Taj Mahal\", \"Jal Mahal\"]\n",
        "\n",
        "cityInput = input(\"Enter a city: \")\n",
        "city = cityInput.title()\n",
        "\n",
        "if city == \"Delhi\":\n",
        "  print(\"Monument: Red Fort\")\n",
        "elif city == \"Agra\":\n",
        "  print(\"Monument: Taj Mahal\")\n",
        "elif city == \"Jaipur\":\n",
        "  print(\"Monument: Jal Mahal\")\n",
        "else:\n",
        "  print(\"Invalid input. Try again!\")"
      ],
      "metadata": {
        "colab": {
          "base_uri": "https://localhost:8080/"
        },
        "id": "R-NhlkPokPFx",
        "outputId": "22d32e47-941b-40ed-c47f-364b612c7eaa"
      },
      "execution_count": null,
      "outputs": [
        {
          "output_type": "stream",
          "name": "stdout",
          "text": [
            "Enter a city: delhi\n",
            "Monument: Red Fort\n"
          ]
        }
      ]
    },
    {
      "cell_type": "markdown",
      "source": [
        "Q16. Write a program to check whether a number entered is three digit number or not."
      ],
      "metadata": {
        "id": "IjDAoUu9Beo0"
      }
    },
    {
      "cell_type": "code",
      "source": [
        "num = input(\"Enter a number: \")\n",
        "count=0\n",
        "\n",
        "if len(num) == 3:\n",
        "  print(num,\"is a 3 digit number.\")\n",
        "#using for - count occurences of last digit\n",
        "#last_digit=num%10\n",
        "# if count<=3:\n",
        "#   print(num,\"is a 3 digit number.\")"
      ],
      "metadata": {
        "id": "HzZRsfBOuWVw",
        "colab": {
          "base_uri": "https://localhost:8080/"
        },
        "outputId": "5ab0809d-d540-4223-d61c-d0f60279a453"
      },
      "execution_count": null,
      "outputs": [
        {
          "output_type": "stream",
          "name": "stdout",
          "text": [
            "Enter a number: 232\n",
            "232 is a 3 digit number.\n"
          ]
        }
      ]
    },
    {
      "cell_type": "markdown",
      "source": [
        "Q17. Write a program to check whether a person is senior citizen or not."
      ],
      "metadata": {
        "id": "3Q06CN6gBfhT"
      }
    },
    {
      "cell_type": "code",
      "source": [
        "# senior citizen age = 60 or above\n",
        "\n",
        "age = int(input(\"Enter age: \"))\n",
        "if age>=60:\n",
        "  print(\"Senior Citizen\")\n",
        "else:\n",
        "  print(\"Not a senior citizen\")"
      ],
      "metadata": {
        "colab": {
          "base_uri": "https://localhost:8080/"
        },
        "id": "jR3cEigqjYmX",
        "outputId": "c58ce353-e385-462f-f0f2-4bbaf07c048b"
      },
      "execution_count": null,
      "outputs": [
        {
          "output_type": "stream",
          "name": "stdout",
          "text": [
            "Enter age: 43\n",
            "Not a senior citizen\n"
          ]
        }
      ]
    },
    {
      "cell_type": "markdown",
      "source": [
        "Q18.Write a program to find the lowest number and largest number out of two numbers excepted from user."
      ],
      "metadata": {
        "id": "61_nr287Bhdz"
      }
    },
    {
      "cell_type": "code",
      "source": [
        "num1 = int(input(\"Enter a number: \"))\n",
        "num2 = int(input(\"Enter another number: \"))\n",
        "if num1 > num2:\n",
        "  print(num1,\"is the largest number and\",num2,\"is the lowest number.\")\n",
        "else:\n",
        "  print(num1,\"is the lowest number and\",num2,\"is the largest number.\")"
      ],
      "metadata": {
        "colab": {
          "base_uri": "https://localhost:8080/"
        },
        "id": "p8xmGc9IqrtX",
        "outputId": "ca0b5f30-74f7-48e1-ba0f-ebbf069be17c"
      },
      "execution_count": null,
      "outputs": [
        {
          "output_type": "stream",
          "name": "stdout",
          "text": [
            "Enter a number: 45\n",
            "Enter another number: 939\n",
            "45 is the lowest number and 939 is the largest number.\n"
          ]
        }
      ]
    },
    {
      "cell_type": "markdown",
      "source": [
        "Q19. Write a program to check whether a number (accepted from user) is positive or negative."
      ],
      "metadata": {
        "id": "iZ9BQCIBBkZS"
      }
    },
    {
      "cell_type": "code",
      "source": [
        "num = int(input(\"Enter a number: \"))\n",
        "if num<0:\n",
        "  print(num,\"is negative.\")\n",
        "else:\n",
        "  print(num,\"is positive.\")"
      ],
      "metadata": {
        "colab": {
          "base_uri": "https://localhost:8080/"
        },
        "id": "pnWqEW1oraIO",
        "outputId": "06d51fc0-7bf5-46e8-ac68-08ea5dd298dc"
      },
      "execution_count": null,
      "outputs": [
        {
          "output_type": "stream",
          "name": "stdout",
          "text": [
            "Enter a number: -342\n",
            "-342 is negative.\n"
          ]
        }
      ]
    },
    {
      "cell_type": "markdown",
      "source": [
        "Q21. Write a program to whether a number (accepted from user) is divisible by 2 and 3 both."
      ],
      "metadata": {
        "id": "5y8ohqHDBowF"
      }
    },
    {
      "cell_type": "code",
      "source": [
        "num = int(input(\"Enter a number: \"))\n",
        "if num%2==0 and num%3==0:\n",
        "  print(num,\"is divisible by both 2 and 3.\")\n",
        "else:\n",
        "  print(num,\"is not divisible by both 2 and 3.\")"
      ],
      "metadata": {
        "colab": {
          "base_uri": "https://localhost:8080/"
        },
        "id": "u__rGQUaskS3",
        "outputId": "aff201bb-57b6-40a3-afb7-1888601d0006"
      },
      "execution_count": null,
      "outputs": [
        {
          "output_type": "stream",
          "name": "stdout",
          "text": [
            "Enter a number: 6\n",
            "6 is divisible by both 2 and 3.\n"
          ]
        }
      ]
    },
    {
      "cell_type": "markdown",
      "source": [
        "Q22. Write a program to find the largest number out of three numbers excepted from user."
      ],
      "metadata": {
        "id": "x6ev5NBMBq5D"
      }
    },
    {
      "cell_type": "code",
      "source": [
        "num1 = int(input(\"Enter first number: \"))\n",
        "num2 = int(input(\"Enter second number: \"))\n",
        "num3 = int(input(\"Enter third number: \"))\n",
        "\n",
        "if num1 > num2 and num1 > num3:\n",
        "  print(num1, \"is the largest number.\")\n",
        "elif num2 > num1 and num2 > num3:\n",
        "  print(num2, \"is the largest number.\")\n",
        "elif num3 > num1 and num2 > num2:\n",
        "  print(num3, \"is the largest number.\")\n",
        "else:\n",
        "  print(\"All numbers are equal.\")"
      ],
      "metadata": {
        "colab": {
          "base_uri": "https://localhost:8080/"
        },
        "id": "feiootcuuZOw",
        "outputId": "2cbea356-afaf-416b-deec-9911ecaa8f3f"
      },
      "execution_count": null,
      "outputs": [
        {
          "output_type": "stream",
          "name": "stdout",
          "text": [
            "Enter first number: 3\n",
            "Enter second number: 3\n",
            "Enter third number: 3\n",
            "All numbers are equal.\n"
          ]
        }
      ]
    },
    {
      "cell_type": "markdown",
      "source": [
        "3Q23. Accept the following from the user and calculate the percentage of class attended:\n",
        "\n",
        "\ta.     Total number of working days\n",
        "\n",
        "\tb.     Total number of days for absent\n",
        "\n",
        "       After calculating percentage show that, If the percentage is less than 75, than student will not be able to sit in exam."
      ],
      "metadata": {
        "id": "yoxvI2OgButQ"
      }
    },
    {
      "cell_type": "code",
      "source": [
        "total_no_of_working_days = int(input(\"Enter total number of working days: \"))\n",
        "total_no_of_days_absent = int(input(\"Enter total number of days absent: \"))\n",
        "attended = total_no_of_working_days - total_no_of_days_absent\n",
        "percent = attended/total_no_of_working_days*100\n",
        "if percent<75:\n",
        "  print(\"Student cannot attend exam.\")\n",
        "else:\n",
        "  print(\"Student can attend exam.\")\n"
      ],
      "metadata": {
        "colab": {
          "base_uri": "https://localhost:8080/"
        },
        "id": "h_B8zATEtEts",
        "outputId": "9432848f-c583-457b-ea8d-d4d5fd4d3651"
      },
      "execution_count": null,
      "outputs": [
        {
          "output_type": "stream",
          "name": "stdout",
          "text": [
            "Enter total number of working days: 100\n",
            "Enter total number of days absent: 25\n",
            "Student can attend exam.\n"
          ]
        }
      ]
    },
    {
      "cell_type": "markdown",
      "source": [
        "Q24. Write a program to accept two numbers and mathematical operators and perform operation accordingly.\n",
        "\n",
        "\tLike:\n",
        "\n",
        "\tEnter First Number: 7\n",
        "\n",
        "\tEnter Second Number : 9\n",
        "\n",
        "\tEnter operator : +\n",
        "\n",
        "\tYour Answer is : 16"
      ],
      "metadata": {
        "id": "7KrPIaG_Bxoc"
      }
    },
    {
      "cell_type": "code",
      "source": [
        "num1 = int(input(\"Enter the first number: \"))\n",
        "num2 = int(input(\"Enter the second number: \"))\n",
        "operator = input(\"Enter a operator to perform the calculation (+,-,/,*,%): \")\n",
        "\n",
        "if operator == '+':\n",
        "  result = num1 + num2\n",
        "  print(\"The addition of the numbers is\",result)\n",
        "elif operator == '-':\n",
        "  result = num1 - num2\n",
        "  print(\"The subtraction of the numbers is\",result)\n",
        "elif operator == '/':\n",
        "  result = num1 / num2\n",
        "  print(\"The division of the numbers is\",result)\n",
        "elif operator == '*':\n",
        "  result = num1 * num2\n",
        "  print(\"The multiplication of the numbers is\",result)\n",
        "elif operator == '%':\n",
        "  result = num1 % num2\n",
        "  print(\"The remainder of the numbers is\",result)\n",
        "else:\n",
        "  print(\"Invalid input! Please Try Again.\")\n"
      ],
      "metadata": {
        "id": "uI0r3jgxBNq2",
        "colab": {
          "base_uri": "https://localhost:8080/"
        },
        "outputId": "0394d784-f99c-4c2e-897e-cec31d893d61"
      },
      "execution_count": null,
      "outputs": [
        {
          "output_type": "stream",
          "name": "stdout",
          "text": [
            "Enter the first number: 30\n",
            "Enter the second number: 20\n",
            "Enter a operator to perform the calculation (+,-,/,*,%): /\n",
            "The division of the numbers is 1.5\n"
          ]
        }
      ]
    },
    {
      "cell_type": "markdown",
      "source": [
        "Q. Write a program to find the largest number out of three numbers excepted from user without using and or."
      ],
      "metadata": {
        "id": "I7RYCMHby-Td"
      }
    },
    {
      "cell_type": "code",
      "source": [
        "num1 = int(input(\"Enter first number: \"))\n",
        "num2 = int(input(\"Enter second number: \"))\n",
        "num3 = int(input(\"Enter third number: \"))\n",
        "\n",
        "if num1>num2:\n",
        "  if num1>num3:\n",
        "    print(num1,\"is the largest number\")\n",
        "  else:\n",
        "    print(num3,\"is the largest number\")\n",
        "elif num2>num1:\n",
        "  if num2>num3:\n",
        "    print(num2,\"is the largest number\")\n",
        "  else:\n",
        "    print(num3,\"is the largest number\")\n",
        "else:\n",
        "  print(\"All are equal numbers.\")"
      ],
      "metadata": {
        "colab": {
          "base_uri": "https://localhost:8080/"
        },
        "id": "vjcm9sVBy94S",
        "outputId": "a03230ad-c860-4176-fa79-533613eb5f44"
      },
      "execution_count": null,
      "outputs": [
        {
          "output_type": "stream",
          "name": "stdout",
          "text": [
            "Enter first number: 45\n",
            "Enter second number: 3\n",
            "Enter third number: 98\n",
            "98 is the largest number\n"
          ]
        }
      ]
    },
    {
      "cell_type": "markdown",
      "source": [
        "If program:\n",
        "\n",
        "\n",
        "\n",
        "1)   Write a program to find greater between two numbers."
      ],
      "metadata": {
        "id": "pgsDkxA_p7k8"
      }
    },
    {
      "cell_type": "code",
      "source": [
        "num1 = int(input(\"Enter first number: \"))\n",
        "num2 = int(input(\"Enter second number: \"))\n",
        "\n",
        "if num1>num2:\n",
        "  print(num1,\"is greater than\",num2)\n",
        "else:\n",
        "  print(num2,\"is greater than\",num1)"
      ],
      "metadata": {
        "colab": {
          "base_uri": "https://localhost:8080/"
        },
        "id": "KqSpknL0qQSU",
        "outputId": "4812d595-904e-4feb-a629-94ed9fce2d24"
      },
      "execution_count": null,
      "outputs": [
        {
          "output_type": "stream",
          "name": "stdout",
          "text": [
            "Enter first number: 3\n",
            "Enter second number: 565\n",
            "565 is greater than 3\n"
          ]
        }
      ]
    },
    {
      "cell_type": "markdown",
      "source": [
        "2)   Write a program to check whether a given number is divisible by 5 or not."
      ],
      "metadata": {
        "id": "Sfdy857op9pc"
      }
    },
    {
      "cell_type": "code",
      "source": [
        "num = int(input(\"Enter a number: \"))\n",
        "if num%5==0:\n",
        "  print(num,\"is divisible by 5.\")\n",
        "else:\n",
        "  print(num,\"is not divisible by 5.\")"
      ],
      "metadata": {
        "colab": {
          "base_uri": "https://localhost:8080/"
        },
        "id": "bDAmZMm9qsNy",
        "outputId": "8fd6e772-601c-4309-9fd6-881aae99dc45"
      },
      "execution_count": null,
      "outputs": [
        {
          "output_type": "stream",
          "name": "stdout",
          "text": [
            "Enter a number: 34\n",
            "34 is not divisible by 5.\n"
          ]
        }
      ]
    },
    {
      "cell_type": "markdown",
      "source": [
        "5)   Write a program to check whether a given number is positive negative or zero."
      ],
      "metadata": {
        "id": "lafXRfZYqEOj"
      }
    },
    {
      "cell_type": "code",
      "source": [
        "num = int(input(\"Enter a number: \"))\n",
        "if num>0:\n",
        "  print(num,\"is positive.\")\n",
        "elif num==0:\n",
        "  print(\"The number is zero.\")\n",
        "else:\n",
        "  print(num,\"is negative\")"
      ],
      "metadata": {
        "colab": {
          "base_uri": "https://localhost:8080/"
        },
        "id": "ZLHcbA-HrGcn",
        "outputId": "c1eb2052-bd0f-42c6-bff5-7db05138fc96"
      },
      "execution_count": null,
      "outputs": [
        {
          "output_type": "stream",
          "name": "stdout",
          "text": [
            "Enter a number: -768\n",
            "-768 is negative\n"
          ]
        }
      ]
    },
    {
      "cell_type": "markdown",
      "source": [
        "7)   Write a program to find greatest among 3 numbers (use ternary operator)\n",
        "\n",
        "[on_true] if [expression] else [on_false]"
      ],
      "metadata": {
        "id": "XqCLyWMxqH-c"
      }
    },
    {
      "cell_type": "code",
      "source": [
        "num1 = int(input(\"Enter first number: \"))\n",
        "num2 = int(input(\"Enter second number: \"))\n",
        "num3 = int(input(\"Enter third number: \"))\n",
        "\n",
        "largest = num1 if num1>num2 and num1>num3 else num2 if num2>num1 and num2>num3 else num3\n",
        "print(largest,\"is greater.\")"
      ],
      "metadata": {
        "colab": {
          "base_uri": "https://localhost:8080/"
        },
        "id": "7BIU19PlseIX",
        "outputId": "64a679f5-f271-4417-a36d-125f282e11e0"
      },
      "execution_count": null,
      "outputs": [
        {
          "output_type": "stream",
          "name": "stdout",
          "text": [
            "Enter first number: 3\n",
            "Enter second number: 2\n",
            "Enter third number: 4\n",
            "4 is greater.\n"
          ]
        }
      ]
    },
    {
      "cell_type": "markdown",
      "source": [
        "8)   Write a program to check whether a given character is digit, uppercase alphabet, lower case alphabet or any other character"
      ],
      "metadata": {
        "id": "yHuI4I6UqKmQ"
      }
    },
    {
      "cell_type": "code",
      "source": [
        "char = input(\"Enter a character: \")\n",
        "if char.isdigit():\n",
        "  print(char,\"is a digit\")\n",
        "elif char.islower():\n",
        "  print(char,\"is a lowercase alphabet.\")\n",
        "elif char.isupper():\n",
        "  print(char,\"is a uppercase alphabet.\")\n",
        "else:\n",
        "  print(char,\"is a character other than digit, uppercase or lowercase alphabet.\")"
      ],
      "metadata": {
        "colab": {
          "base_uri": "https://localhost:8080/"
        },
        "id": "l7edEiWCsc70",
        "outputId": "a61330c0-c9f1-4ede-a6bf-a99e3fbd0326"
      },
      "execution_count": null,
      "outputs": [
        {
          "output_type": "stream",
          "name": "stdout",
          "text": [
            "Enter a character: 9\n",
            "9 is a digit\n"
          ]
        }
      ]
    },
    {
      "cell_type": "markdown",
      "source": [
        "9)   Write a program that takes marks of five subjects from user. Display result as PASS or FAIL. If candidate is passed then print its percentage and division."
      ],
      "metadata": {
        "id": "NwZHw7gKqOkj"
      }
    },
    {
      "cell_type": "code",
      "source": [
        "Eng_marks = int(input(\"Enter marks for English: \"))\n",
        "Math_marks = int(input(\"Enter marks for Math: \"))\n",
        "Science_marks = int(input(\"Enter marks for Science: \"))\n",
        "Computer_marks = int(input(\"Enter marks for Computer: \"))\n",
        "History_marks = int(input(\"Enter marks for History: \"))\n",
        "\n",
        "if Eng_marks>33 and Math_marks>33 and Science_marks>33 and Computer_marks>33 and History_marks>33:\n",
        "  print(\"\\nResult: PASS\")\n",
        "  total_marks = Eng_marks+Math_marks+Science_marks+Computer_marks+History_marks\n",
        "  percentage = (total_marks/500)*100\n",
        "  print(\"Percentage: \",round(percentage,2),\"%\")\n",
        "else:\n",
        "  print(\"\\nResult: FAIL\")"
      ],
      "metadata": {
        "id": "PnwrwQ851v9K",
        "colab": {
          "base_uri": "https://localhost:8080/"
        },
        "outputId": "eb7bd39e-0053-4a13-c06c-a1466f8ff00f"
      },
      "execution_count": null,
      "outputs": [
        {
          "output_type": "stream",
          "name": "stdout",
          "text": [
            "Enter marks for English: 90\n",
            "Enter marks for Math: 78\n",
            "Enter marks for Science: 98\n",
            "Enter marks for Computer: 87\n",
            "Enter marks for History: 98\n",
            "\n",
            "Result: PASS\n",
            "Percentage:  90.2 %\n"
          ]
        }
      ]
    },
    {
      "cell_type": "markdown",
      "source": [
        "Find largest among 3 and if two numbers are equal print them both as largest.\n",
        "\n"
      ],
      "metadata": {
        "id": "6HOMTguvw5BF"
      }
    },
    {
      "cell_type": "code",
      "source": [
        "num1 = int(input(\"Enter first number: \"))\n",
        "num2 = int(input(\"Enter second number: \"))\n",
        "num3 = int(input(\"Enter third number: \"))\n",
        "\n",
        "# if num1 >= num2:\n",
        "#   if num1 >= num3:\n",
        "#     print(num1,\"is largest.\")\n",
        "#   elif num1 == num2:\n",
        "#     print(\"First and second are equal.\")\n",
        "#   elif num1 == num3:\n",
        "#     print(\"First and third are equal.\")\n",
        "#   else:\n",
        "#     print(num3,\"is largest than first and second.\")\n",
        "\n",
        "  # if num1 == num2:\n",
        "  # print(\"First and second are equal.\")\n",
        "  # if num1 == num3 != num2:\n",
        "  #   print(\"First and third are equal.\")\n",
        "  #   print(num1,\"is largest than second number.\")\n",
        "  # elif num3>num1:\n",
        "  #   print(num3,\"is largest among second and first number.\")\n",
        "\n",
        "# elif num2 == num3 != num1:\n",
        "#   print(\"Second and third are equal.\")\n",
        "#   print(num2, \"is largest than first number.\")\n",
        "#   if num2>num3:\n",
        "#     print(num2,\"is largest.\")\n",
        "#   else:\n",
        "#     print(num3,\"is largest among second and first number.\")\n",
        "\n",
        "# if num1>num2:\n",
        "#   if num1==num2:\n",
        "#     print(\"1 and 2 are equal\")\n",
        "#   if num1>num3:\n",
        "#     print(num1,\"is largest2\")\n",
        "#   else:\n",
        "#     print(num3,\"is largest1\") \n",
        "\n",
        "if num1>=num2: \n",
        "  if num1>=num3:\n",
        "    print(num1,\"is largest1.\")\n",
        "    if num1==num2:\n",
        "      print(\"1st and 2nd numbers are equal.\")\n",
        "      if num1>num3:\n",
        "        print(num1,\"is largest\")\n",
        "      else:\n",
        "        print(num3,\"is largest\")\n",
        "\n",
        "elif num2>=num3:\n",
        "  print(num2,\"is largest.\")\n",
        "  if num2==num3:\n",
        "    print(\"2nd and 3rd numbers are equal.\")\n",
        "    if num2>num1:\n",
        "      print(num2,\"is largest\")\n",
        "    else:\n",
        "      print(num1,\"is largest\")\n",
        "\n",
        "elif num3>=num1:\n",
        "  print(num3,\"is largest3.\")\n",
        "  if num3==num1:\n",
        "    print(\"1st and 3rd numbers are equal.\")\n",
        "    if num3>num2:\n",
        "      print(num3,\"is largest\")\n",
        "    else:\n",
        "      print(num2,\"is largest\")\n",
        "else:\n",
        "  print(\"All are equal.\")\n",
        "\n",
        "\n",
        "\n",
        "\n",
        "  \n",
        "# elif num1==num3:\n",
        "#     print(\"1st and 3rd are equal.\")\n",
        "#   else:\n",
        "#     print(num3,\"is the largest number1\")\n",
        "# elif num2>=num1:\n",
        "#   if num2>=num3:\n",
        "#     print(num2,\"is the largest number\")\n",
        "#   else:\n",
        "#     print(num3,\"is the largest number\")\n",
        "\n",
        "\n",
        "# elif num1==num2:\n",
        "#   print(\"First and second are equal.\")\n",
        "#   # if num1 == num3:\n",
        "#   #   print(\"First and third are equal.\")\n",
        "# elif num2==num3:\n",
        "#   print(\"Second and third are equal.\")\n",
        "# elif num1==num3:\n",
        "#   print(\"First and third are equal.\")\n",
        "# else:\n",
        "#   print(\"All are equal numbers.\")\n",
        "\n",
        "\n",
        "\n",
        "# if num1>=num2:\n",
        "#   print(\"The first and second are equal and largest numbers.\")\n",
        "#   print(\"Largest number\",num1)\n",
        "#   if num1>=num3:\n",
        "#     print(\"The first and third are equal and largest numbers.\")\n",
        "#     print(\"Largest number\",num1)\n",
        "#   else:\n",
        "#     print(num3,\"is the largest number\")\n",
        "# elif num2>=num1:\n",
        "#   print(\"The first and second are equal and largest numbers.\")\n",
        "#   print(\"Largest number\",num2)\n",
        "#   if num2>=num3:\n",
        "#     print(\"The second and third are equal and largest numbers.\")\n",
        "#     print(\"Largest number\",num2)\n",
        "#   else:\n",
        "#     print(num3,\"is the largest number\")\n",
        "# else:\n",
        "#   print(\"All are equal numbers.\")\n",
        "\n",
        "# 113   331   313\n",
        "        # 123"
      ],
      "metadata": {
        "id": "EJ5NmvjAsyJn",
        "colab": {
          "base_uri": "https://localhost:8080/"
        },
        "outputId": "597143e2-ed10-49e0-d391-ad7d3c9727d9"
      },
      "execution_count": null,
      "outputs": [
        {
          "output_type": "stream",
          "name": "stdout",
          "text": [
            "Enter first number: 1\n",
            "Enter second number: 2\n",
            "Enter third number: 3\n",
            "3 is largest3.\n"
          ]
        }
      ]
    },
    {
      "cell_type": "markdown",
      "source": [
        "Find largest among 3 and if two numbers are equal print them both as largest.\n"
      ],
      "metadata": {
        "id": "M3IiJTb_afi1"
      }
    },
    {
      "cell_type": "code",
      "source": [
        "num1 = int(input(\"Enter first number: \"))\n",
        "num2 = int(input(\"Enter second number: \"))\n",
        "num3 = int(input(\"Enter third number: \"))\n",
        "\n",
        "if num1>num2:\n",
        "  if num1>num3:\n",
        "    print(num1,\"is largest\")\n",
        "  else:\n",
        "    print(num3,\"is largest\")\n",
        "\n",
        "elif num2>num1:\n",
        "  if num2>num3:\n",
        "    print(num2,\"is largest\")\n",
        "  else:\n",
        "    print(num3,\"is largest\")\n",
        "\n",
        "elif num1==num2==num3:\n",
        "  print(\"All are equal.\")\n",
        "  \n",
        "# if num1==num3:\n",
        "#   print(\"First and Third are equal\")\n",
        "# elif num1==num2:\n",
        "#   print(\"First and Second are equal\")\n",
        "# elif num2==num3:\n",
        "#   print(\"Second and Third are equal\")\n",
        "\n",
        "\n",
        "elif num1==num2:\n",
        "  print(\"First and Second are equal\")\n",
        "  if num1>num3:\n",
        "    print(num1,\"is largest\")\n",
        "  else:\n",
        "    print(num3,\"is largest\")\n",
        "  \n",
        "elif num1==num3:\n",
        "  print(\"First and Third are equal\")\n",
        "  if num1>num2:\n",
        "    print(num1,\"is largest\")\n",
        "  else:\n",
        "    print(num2,\"is largest\")\n",
        "\n",
        "elif num2==num3:\n",
        "  print(\"Second and Third are equal\")\n",
        "  if num2>num1:\n",
        "    print(num2,\"is largest\")\n",
        "  else:\n",
        "    print(num1,\"is largest\")\n",
        "\n",
        "# else:\n",
        "#   print(\"All are equal.\")"
      ],
      "metadata": {
        "colab": {
          "base_uri": "https://localhost:8080/"
        },
        "id": "21YhDAjqafJv",
        "outputId": "f100f8e8-583f-49de-991f-501b02dd0b7f"
      },
      "execution_count": null,
      "outputs": [
        {
          "output_type": "stream",
          "name": "stdout",
          "text": [
            "Enter first number: 1\n",
            "Enter second number: 3\n",
            "Enter third number: 3\n",
            "3 is largest\n",
            "Second and Third are equal\n",
            "3 is largest\n"
          ]
        }
      ]
    },
    {
      "cell_type": "markdown",
      "source": [
        "Largest among 3 and print equal only if 2 of them are largest."
      ],
      "metadata": {
        "id": "ptwjZGf83Ch6"
      }
    },
    {
      "cell_type": "code",
      "source": [
        "num1 = int(input(\"Enter first number: \"))\n",
        "num2 = int(input(\"Enter second number: \"))\n",
        "num3 = int(input(\"Enter third number: \"))\n",
        "\n",
        "if num1>=num2: \n",
        "  if num1>=num3:\n",
        "    print(num1,\"is largest.\")\n",
        "    if num1==num2:\n",
        "      print(\"First and Second are largest\")\n",
        "    else:\n",
        "      print(\"First and Third are largest\")\n",
        "\n",
        "elif num2>=num1:\n",
        "  if num2>=num3:\n",
        "    print(num2,\"is largest\")\n",
        "    if num2==num1:\n",
        "      print(\"Second and First are largest\")\n",
        "    else:\n",
        "      print(\"Second and Third are largest\")\n",
        "    \n",
        "elif num3>=num1:\n",
        "  if num3>=num2:\n",
        "    print(num3,\"is largest\")\n",
        "    if num3==num1:\n",
        "      print(\"Third and First are largest\")\n",
        "    else:\n",
        "      print(\"Third and Second are largest\")\n",
        "    \n",
        "else:\n",
        "  print(\"All are equal\")"
      ],
      "metadata": {
        "colab": {
          "base_uri": "https://localhost:8080/"
        },
        "id": "YoRlTquF3KFo",
        "outputId": "7af0f61d-5427-4819-993c-af37e1b0e32e"
      },
      "execution_count": null,
      "outputs": [
        {
          "output_type": "stream",
          "name": "stdout",
          "text": [
            "Enter first number: 1\n",
            "Enter second number: 3\n",
            "Enter third number: 3\n",
            "3 is largest\n",
            "Second and Third are largest\n"
          ]
        }
      ]
    },
    {
      "cell_type": "markdown",
      "source": [
        "Find largest among three, without using ==, say they are equal"
      ],
      "metadata": {
        "id": "5fZgo55z-FhP"
      }
    },
    {
      "cell_type": "code",
      "source": [
        "num1 = int(input(\"Enter first number: \"))\n",
        "num2 = int(input(\"Enter second number: \"))\n",
        "num3 = int(input(\"Enter third number: \"))\n",
        "# 2 3 1\n",
        "if num1==num2==num3:\n",
        "  print(\"All are equal\")\n",
        "\n",
        "elif num1>=num3: \n",
        "  if num1>=num2:\n",
        "    print(num1,\"is largest.\")\n",
        "    if num1<=num2:\n",
        "      print(\"First and Second are equal.\")\n",
        "    elif num1<=num3:\n",
        "      print(\"First and Third are equal.\")\n",
        "\n",
        "elif num2>=num1: \n",
        "  if num2>=num3:\n",
        "    print(num2,\"is largest.\")\n",
        "    if num2<=num1:\n",
        "      print(\"Second and First are equal.\")\n",
        "    elif num2<=num3:\n",
        "      print(\"Second and Third are equal.\")\n",
        "\n",
        "elif num3>=num1: \n",
        "  if num3>=num2:\n",
        "    print(num3,\"is largest.\")\n",
        "    if num3<=num1:\n",
        "      print(\"Third and First are equal.\")\n",
        "    elif num3<=num2:\n",
        "      print(\"Third and Second are equal.\")"
      ],
      "metadata": {
        "colab": {
          "base_uri": "https://localhost:8080/"
        },
        "id": "tBdv_5SD-PYi",
        "outputId": "0e01db3f-abc4-4190-fe54-307a6167b379"
      },
      "execution_count": null,
      "outputs": [
        {
          "name": "stdout",
          "output_type": "stream",
          "text": [
            "Enter first number: 2\n",
            "Enter second number: 3\n",
            "Enter third number: 1\n"
          ]
        }
      ]
    },
    {
      "cell_type": "markdown",
      "source": [
        "**for loop**"
      ],
      "metadata": {
        "id": "XWUhR-0buOqk"
      }
    },
    {
      "cell_type": "code",
      "source": [
        "lis1=[21,'apple','banana','cherry','cherry']\n",
        "\n",
        "for i in lis1:\n",
        "  print(i)\n"
      ],
      "metadata": {
        "id": "Ztat8yLAxGcW",
        "colab": {
          "base_uri": "https://localhost:8080/"
        },
        "outputId": "d84147bf-32bf-4a7e-83e6-793e57c39f8a"
      },
      "execution_count": null,
      "outputs": [
        {
          "output_type": "stream",
          "name": "stdout",
          "text": [
            "21\n",
            "appple\n",
            "banana\n",
            "cherry\n",
            "cherry\n"
          ]
        }
      ]
    },
    {
      "cell_type": "markdown",
      "source": [
        "output in line"
      ],
      "metadata": {
        "id": "pQN9Nl7Ue_qv"
      }
    },
    {
      "cell_type": "code",
      "source": [
        "lis1=[21,'apple','banana','cherry','cherry']\n",
        "print(*lis1)\n",
        "# for line in range(len(lis1)):\n",
        "\n",
        "# for line in lis1:\n",
        "#   a = str(lis1)\n",
        "#   print(a)\n",
        "#   print(line[a])"
      ],
      "metadata": {
        "colab": {
          "base_uri": "https://localhost:8080/"
        },
        "id": "KktSxHmOg28P",
        "outputId": "b4ed6bc0-bc48-44e6-94b7-673eeead8bb4"
      },
      "execution_count": null,
      "outputs": [
        {
          "output_type": "stream",
          "name": "stdout",
          "text": [
            "21 apple banana cherry cherry\n"
          ]
        }
      ]
    },
    {
      "cell_type": "markdown",
      "source": [
        "break on banana"
      ],
      "metadata": {
        "id": "WpkW12dZj9Nj"
      }
    },
    {
      "cell_type": "code",
      "source": [
        "lis1=[21,'apple','banana','cherry','cherry']\n",
        "for i in lis1:\n",
        "  print(i)\n",
        "  if i=='banana':\n",
        "    break"
      ],
      "metadata": {
        "colab": {
          "base_uri": "https://localhost:8080/"
        },
        "id": "yRj22MDtew6j",
        "outputId": "4880f935-90e9-4bce-ef11-57f74f7e93f6"
      },
      "execution_count": null,
      "outputs": [
        {
          "output_type": "stream",
          "name": "stdout",
          "text": [
            "21\n",
            "apple\n",
            "banana\n"
          ]
        }
      ]
    },
    {
      "cell_type": "markdown",
      "source": [
        "cherry continue"
      ],
      "metadata": {
        "id": "jWMREXGCkARa"
      }
    },
    {
      "cell_type": "code",
      "source": [
        "lis1=[21,'apple','banana','cherry','cherry']\n",
        "for i in lis1:\n",
        "  if i=='cherry':\n",
        "    continue\n",
        "  print(i)"
      ],
      "metadata": {
        "colab": {
          "base_uri": "https://localhost:8080/"
        },
        "id": "ZfsSEbyUfyzM",
        "outputId": "41373dd2-25b4-499f-e887-45add3a9270f"
      },
      "execution_count": null,
      "outputs": [
        {
          "output_type": "stream",
          "name": "stdout",
          "text": [
            "21\n",
            "apple\n",
            "banana\n"
          ]
        }
      ]
    },
    {
      "cell_type": "markdown",
      "source": [
        "Q1. Write a program to print first 10 natural number."
      ],
      "metadata": {
        "id": "E0FY39oqkDOF"
      }
    },
    {
      "cell_type": "code",
      "source": [
        "for i in range(1,11):\n",
        "  print(i)"
      ],
      "metadata": {
        "colab": {
          "base_uri": "https://localhost:8080/"
        },
        "id": "Z4OZNA_8gDzL",
        "outputId": "4ca2b878-c232-4995-a9e7-f79ed664b733"
      },
      "execution_count": null,
      "outputs": [
        {
          "output_type": "stream",
          "name": "stdout",
          "text": [
            "1\n",
            "2\n",
            "3\n",
            "4\n",
            "5\n",
            "6\n",
            "7\n",
            "8\n",
            "9\n",
            "10\n"
          ]
        }
      ]
    },
    {
      "cell_type": "code",
      "source": [
        "i=1\n",
        "while i<=10:\n",
        "  print(i)\n",
        "  i+=1"
      ],
      "metadata": {
        "colab": {
          "base_uri": "https://localhost:8080/"
        },
        "id": "j3Q7EAFaudGa",
        "outputId": "3d49f871-fea5-4934-a652-8e776437cd4f"
      },
      "execution_count": null,
      "outputs": [
        {
          "output_type": "stream",
          "name": "stdout",
          "text": [
            "1\n",
            "2\n",
            "3\n",
            "4\n",
            "5\n",
            "6\n",
            "7\n",
            "8\n",
            "9\n",
            "10\n"
          ]
        }
      ]
    },
    {
      "cell_type": "markdown",
      "source": [
        "Q2. Write a program to print first 10 even numbers."
      ],
      "metadata": {
        "id": "19sdKL0PkRc8"
      }
    },
    {
      "cell_type": "code",
      "source": [
        "for i in range(0,11):\n",
        "  if i%2==0:\n",
        "    print(i)"
      ],
      "metadata": {
        "colab": {
          "base_uri": "https://localhost:8080/"
        },
        "id": "sgWB_XTkkK6N",
        "outputId": "5597ba8c-bc9f-4416-c0ef-5f02fa89cd26"
      },
      "execution_count": null,
      "outputs": [
        {
          "output_type": "stream",
          "name": "stdout",
          "text": [
            "0\n",
            "2\n",
            "4\n",
            "6\n",
            "8\n",
            "10\n"
          ]
        }
      ]
    },
    {
      "cell_type": "code",
      "source": [
        "i=0\n",
        "while i<=10:\n",
        "  if i%2==0:\n",
        "    print(i)\n",
        "  i+=1"
      ],
      "metadata": {
        "colab": {
          "base_uri": "https://localhost:8080/"
        },
        "id": "Q6daUU_Quw3b",
        "outputId": "109f2551-fe93-4205-8257-3a287df21665"
      },
      "execution_count": null,
      "outputs": [
        {
          "output_type": "stream",
          "name": "stdout",
          "text": [
            "0\n",
            "2\n",
            "4\n",
            "6\n",
            "8\n",
            "10\n"
          ]
        }
      ]
    },
    {
      "cell_type": "markdown",
      "source": [
        "Even no.s with upper and lower. Count the iteration of for loop."
      ],
      "metadata": {
        "id": "TAwXKjXUe-V0"
      }
    },
    {
      "cell_type": "code",
      "source": [
        "lower = int(input(\"Enter lower range: \"))\n",
        "upper = int(input(\"Enter upper range: \"))\n",
        "count=0\n",
        "\n",
        "for i in range(lower, upper+1):\n",
        "  if i%2==0:\n",
        "    count +=1\n",
        "    print(i)\n",
        "print(\"\\nNo. of iterations:\",count)\n"
      ],
      "metadata": {
        "colab": {
          "base_uri": "https://localhost:8080/"
        },
        "id": "PfRbEBvqe992",
        "outputId": "138a91b9-a3f5-44a2-f19b-7bc305909e41"
      },
      "execution_count": null,
      "outputs": [
        {
          "output_type": "stream",
          "name": "stdout",
          "text": [
            "Enter lower range: 0\n",
            "Enter upper range: 11\n",
            "0\n",
            "2\n",
            "4\n",
            "6\n",
            "8\n",
            "10\n",
            "\n",
            "No. of iterations: 6\n"
          ]
        }
      ]
    },
    {
      "cell_type": "code",
      "source": [
        "lower = int(input(\"Enter lower range: \"))\n",
        "upper = int(input(\"Enter upper range: \"))\n",
        "count=0\n",
        "\n",
        "i=lower\n",
        "while i<=upper:\n",
        "  if i%2==0:\n",
        "    count+=1\n",
        "    print(i)\n",
        "  i+=1\n",
        "\n",
        "print(\"\\nNumber of iterations: \",count)"
      ],
      "metadata": {
        "colab": {
          "base_uri": "https://localhost:8080/"
        },
        "id": "tX2HfWyoyqhL",
        "outputId": "f4d860a2-f626-4f0b-ff14-8d69ea66d307"
      },
      "execution_count": null,
      "outputs": [
        {
          "output_type": "stream",
          "name": "stdout",
          "text": [
            "Enter lower range: 1\n",
            "Enter upper range: 10\n",
            "2\n",
            "4\n",
            "6\n",
            "8\n",
            "10\n",
            "\n",
            "Number of iterations:  5\n"
          ]
        }
      ]
    },
    {
      "cell_type": "markdown",
      "source": [
        "Q3. Write a program to print first 10 odd numbers."
      ],
      "metadata": {
        "id": "R9SsTlejkbAv"
      }
    },
    {
      "cell_type": "code",
      "source": [
        "for i in range(0,11):\n",
        "  if i%2!=0:\n",
        "    print(i)"
      ],
      "metadata": {
        "colab": {
          "base_uri": "https://localhost:8080/"
        },
        "id": "xtzh57StkYZV",
        "outputId": "ec0513a7-62bd-46fd-acc2-34691faa7c90"
      },
      "execution_count": null,
      "outputs": [
        {
          "output_type": "stream",
          "name": "stdout",
          "text": [
            "1\n",
            "3\n",
            "5\n",
            "7\n",
            "9\n"
          ]
        }
      ]
    },
    {
      "cell_type": "code",
      "source": [
        "i=0\n",
        "while i<=10:\n",
        "  if i%2!=0:\n",
        "    print(i)\n",
        "  i+=1"
      ],
      "metadata": {
        "colab": {
          "base_uri": "https://localhost:8080/"
        },
        "id": "6xVX24M4z2QZ",
        "outputId": "cbe11b68-5f41-451a-9369-c42734a32693"
      },
      "execution_count": null,
      "outputs": [
        {
          "output_type": "stream",
          "name": "stdout",
          "text": [
            "1\n",
            "3\n",
            "5\n",
            "7\n",
            "9\n"
          ]
        }
      ]
    },
    {
      "cell_type": "markdown",
      "source": [
        "Q5. Write a program to print first 10 even numbers in reverse order."
      ],
      "metadata": {
        "id": "GL4_MYLFklA6"
      }
    },
    {
      "cell_type": "code",
      "source": [
        "for i in range(21,1,-1):\n",
        "  if i%2==0:\n",
        "    i = i-2 \n",
        "    print(i)"
      ],
      "metadata": {
        "colab": {
          "base_uri": "https://localhost:8080/"
        },
        "id": "zO9m0Y0WkeY0",
        "outputId": "de174e43-3aa0-48b3-dfbb-307c2494b510"
      },
      "execution_count": null,
      "outputs": [
        {
          "output_type": "stream",
          "name": "stdout",
          "text": [
            "18\n",
            "16\n",
            "14\n",
            "12\n",
            "10\n",
            "8\n",
            "6\n",
            "4\n",
            "2\n",
            "0\n"
          ]
        }
      ]
    },
    {
      "cell_type": "code",
      "source": [
        "i=10\n",
        "while i>=0:\n",
        "  if i%2==0:\n",
        "    print(i)\n",
        "  i-=1"
      ],
      "metadata": {
        "colab": {
          "base_uri": "https://localhost:8080/"
        },
        "id": "ujFJgwmu0BCl",
        "outputId": "e95629c8-4479-4abb-a5dd-ef44886084b2"
      },
      "execution_count": null,
      "outputs": [
        {
          "output_type": "stream",
          "name": "stdout",
          "text": [
            "10\n",
            "8\n",
            "6\n",
            "4\n",
            "2\n",
            "0\n"
          ]
        }
      ]
    },
    {
      "cell_type": "markdown",
      "source": [
        "Q6. Write a program to print table of a number accepted from user."
      ],
      "metadata": {
        "id": "niEQwLGFmX_Z"
      }
    },
    {
      "cell_type": "code",
      "source": [
        "num = int(input(\"Enter a number to produce multiplication table: \"))\n",
        "for i in range(0,11):\n",
        "    table = num*i\n",
        "    print(table)"
      ],
      "metadata": {
        "colab": {
          "base_uri": "https://localhost:8080/"
        },
        "id": "nvljkjFJmXmb",
        "outputId": "2274296c-def5-49e5-a26c-645459dfcc9e"
      },
      "execution_count": null,
      "outputs": [
        {
          "output_type": "stream",
          "name": "stdout",
          "text": [
            "Enter a number to produce multiplication table: 6\n",
            "0\n",
            "6\n",
            "12\n",
            "18\n",
            "24\n",
            "30\n",
            "36\n",
            "42\n",
            "48\n",
            "54\n",
            "60\n"
          ]
        }
      ]
    },
    {
      "cell_type": "code",
      "source": [
        "num = int(input(\"Enter a number for producing multiplication table: \"))\n",
        "i=0\n",
        "while i<=10:\n",
        "  table = num*i\n",
        "  print(table)\n",
        "  i+=1"
      ],
      "metadata": {
        "colab": {
          "base_uri": "https://localhost:8080/"
        },
        "id": "yGP2hx_g1SZ5",
        "outputId": "c05ef2d6-ea7c-4239-9a43-749a6556bd67"
      },
      "execution_count": null,
      "outputs": [
        {
          "output_type": "stream",
          "name": "stdout",
          "text": [
            "Enter a number for producing multiplication table: 2\n",
            "0\n",
            "2\n",
            "4\n",
            "6\n",
            "8\n",
            "10\n",
            "12\n",
            "14\n",
            "16\n",
            "18\n",
            "20\n"
          ]
        }
      ]
    },
    {
      "cell_type": "markdown",
      "source": [
        "Q7. Write a program to find the factorial of a number. 3! = 3x2x1"
      ],
      "metadata": {
        "id": "cs9nwM7Cnjmm"
      }
    },
    {
      "cell_type": "code",
      "source": [
        "num = int(input(\"Enter a number to produce a fatorial: \"))\n",
        "fact = 1\n",
        "for i in range(1,num+1):\n",
        "  fact = fact*i\n",
        "print(\"Factorial of\",num,\":\",fact)"
      ],
      "metadata": {
        "colab": {
          "base_uri": "https://localhost:8080/"
        },
        "id": "tp8rLE_Ikw9o",
        "outputId": "c545b46f-884e-4060-f775-31e86de2a355"
      },
      "execution_count": null,
      "outputs": [
        {
          "output_type": "stream",
          "name": "stdout",
          "text": [
            "Enter a number to produce a fatorial: 5\n",
            "Factorial of 5 : 120\n"
          ]
        }
      ]
    },
    {
      "cell_type": "code",
      "source": [
        "num = int(input(\"Enter a number: \"))\n",
        "i=1\n",
        "fact = 1\n",
        "while i<=num:\n",
        "  fact = fact*i\n",
        "  i+=1\n",
        "print(\"Factorial of\",num,\":\",fact)"
      ],
      "metadata": {
        "colab": {
          "base_uri": "https://localhost:8080/"
        },
        "id": "l5twoJ9Y2m7i",
        "outputId": "5bbbff23-d931-496e-afe6-dc92dea75679"
      },
      "execution_count": null,
      "outputs": [
        {
          "output_type": "stream",
          "name": "stdout",
          "text": [
            "Enter a number: 4\n",
            "Factorial of 4 : 24\n"
          ]
        }
      ]
    },
    {
      "cell_type": "markdown",
      "source": [
        "Q8. Write a program to print prime number between 1 to 50."
      ],
      "metadata": {
        "id": "7SWUhbLloLLX"
      }
    },
    {
      "cell_type": "code",
      "source": [
        "for num in range(1,51):\n",
        "  for i in range(2, num):\n",
        "    if num%i==0: #not a prime no.\n",
        "      break\n",
        "  else:\n",
        "    print(num)"
      ],
      "metadata": {
        "id": "GvG-_E0ioLrG",
        "colab": {
          "base_uri": "https://localhost:8080/"
        },
        "outputId": "9b7b6094-e865-408a-d061-16ff4a6d942c"
      },
      "execution_count": null,
      "outputs": [
        {
          "output_type": "stream",
          "name": "stdout",
          "text": [
            "1\n",
            "2\n",
            "3\n",
            "5\n",
            "7\n",
            "11\n",
            "13\n",
            "17\n",
            "19\n",
            "23\n",
            "29\n",
            "31\n",
            "37\n",
            "41\n",
            "43\n",
            "47\n"
          ]
        }
      ]
    },
    {
      "cell_type": "code",
      "source": [
        "i=1\n",
        "while i<=50:\n",
        "  for a in range(2, i):\n",
        "    if num%i==0: #not a prime no.\n",
        "      break\n",
        "  else:\n",
        "    print(num)\n",
        "  i+=1"
      ],
      "metadata": {
        "id": "RxlKaCQAeBfY"
      },
      "execution_count": null,
      "outputs": []
    },
    {
      "cell_type": "code",
      "source": [
        "i=1\n",
        "while i<51:\n",
        "  i+=1\n",
        "  num=2\n",
        "  while num<i:\n",
        "    if num%i==0:\n",
        "      break\n",
        "    num+=1\n",
        "  else:\n",
        "    print(num)"
      ],
      "metadata": {
        "id": "4QoNMjTl4CLU",
        "colab": {
          "base_uri": "https://localhost:8080/"
        },
        "outputId": "372a4c0f-89ea-4125-b284-25bf9791e555"
      },
      "execution_count": null,
      "outputs": [
        {
          "output_type": "stream",
          "name": "stdout",
          "text": [
            "2\n",
            "3\n",
            "4\n",
            "5\n",
            "6\n",
            "7\n",
            "8\n",
            "9\n",
            "10\n",
            "11\n",
            "12\n",
            "13\n",
            "14\n",
            "15\n",
            "16\n",
            "17\n",
            "18\n",
            "19\n",
            "20\n",
            "21\n",
            "22\n",
            "23\n",
            "24\n",
            "25\n",
            "26\n",
            "27\n",
            "28\n",
            "29\n",
            "30\n",
            "31\n",
            "32\n",
            "33\n",
            "34\n",
            "35\n",
            "36\n",
            "37\n",
            "38\n",
            "39\n",
            "40\n",
            "41\n",
            "42\n",
            "43\n",
            "44\n",
            "45\n",
            "46\n",
            "47\n",
            "48\n",
            "49\n",
            "50\n",
            "51\n"
          ]
        }
      ]
    },
    {
      "cell_type": "markdown",
      "source": [
        "Q9. Write a program to print table of a number(accepted from user) in the following format. \n",
        "\t\n",
        "        Like : input number is 7, so expected output  is\n",
        "        7 * 1 = 7\n",
        "        7 * 2 = 14 and so on"
      ],
      "metadata": {
        "id": "G7EfPcasp6WA"
      }
    },
    {
      "cell_type": "code",
      "source": [
        "num = int(input(\"Enter a number to produce multiplication table: \"))\n",
        "for i in range(0,11):\n",
        "    table = num*i\n",
        "    i+=1\n",
        "    print(num,\"*\",i,\"=\",table)"
      ],
      "metadata": {
        "colab": {
          "base_uri": "https://localhost:8080/"
        },
        "id": "cR1AK_WHp7Gf",
        "outputId": "1eaf132e-9356-4817-8125-99f7215b003e"
      },
      "execution_count": null,
      "outputs": [
        {
          "output_type": "stream",
          "name": "stdout",
          "text": [
            "Enter a number to produce multiplication table: 5\n",
            "5 * 1 = 0\n",
            "5 * 2 = 5\n",
            "5 * 3 = 10\n",
            "5 * 4 = 15\n",
            "5 * 5 = 20\n",
            "5 * 6 = 25\n",
            "5 * 7 = 30\n",
            "5 * 8 = 35\n",
            "5 * 9 = 40\n",
            "5 * 10 = 45\n",
            "5 * 11 = 50\n"
          ]
        }
      ]
    },
    {
      "cell_type": "code",
      "source": [
        "num = int(input(\"Enter a number to produce a multiplication table:\"))\n",
        "i=0\n",
        "while i<=10:\n",
        "  table = num*i\n",
        "  print(num,\"*\",i,\"=\",num*i)\n",
        "  i+=1"
      ],
      "metadata": {
        "colab": {
          "base_uri": "https://localhost:8080/"
        },
        "id": "-MdwooI_8EpS",
        "outputId": "38b2802a-dbb3-4dd1-f4a1-30299ab78ce3"
      },
      "execution_count": null,
      "outputs": [
        {
          "output_type": "stream",
          "name": "stdout",
          "text": [
            "Enter a number to produce a multiplication table:4\n",
            "4 * 0 = 0\n",
            "4 * 1 = 4\n",
            "4 * 2 = 8\n",
            "4 * 3 = 12\n",
            "4 * 4 = 16\n",
            "4 * 5 = 20\n",
            "4 * 6 = 24\n",
            "4 * 7 = 28\n",
            "4 * 8 = 32\n",
            "4 * 9 = 36\n",
            "4 * 10 = 40\n"
          ]
        }
      ]
    },
    {
      "cell_type": "markdown",
      "source": [
        "Q10. Write a program to print the following pattern\n",
        "\n",
        "\t5 5 5 5 5\n",
        "\t4 4 4 4\n",
        "\t3 3 3\n",
        "\t2 2\n",
        "\t1"
      ],
      "metadata": {
        "id": "mSw5LxPtrmwg"
      }
    },
    {
      "cell_type": "code",
      "source": [
        "num = int(input(\"Enter a number: \"))\n",
        "for row in range(1,6):\n",
        "  for col in range(1,6):\n",
        "    print(num, end='')\n",
        "  print('')"
      ],
      "metadata": {
        "colab": {
          "base_uri": "https://localhost:8080/"
        },
        "id": "svATL_py6Pim",
        "outputId": "b71e7246-56e7-420a-9a5b-2c4e047a858b"
      },
      "execution_count": null,
      "outputs": [
        {
          "output_type": "stream",
          "name": "stdout",
          "text": [
            "Enter a number: 5\n",
            "55555\n",
            "55555\n",
            "55555\n",
            "55555\n",
            "55555\n"
          ]
        }
      ]
    },
    {
      "cell_type": "markdown",
      "source": [
        "11. Accept a number and check whether it is palindrome or not."
      ],
      "metadata": {
        "id": "sEOG817402J2"
      }
    },
    {
      "cell_type": "code",
      "source": [
        "num = input(\"Enter a number: \")\n",
        "reverse=''\n",
        "for x in range(len(num)-1,-1,-1):\n",
        "  # print(num[x], end=\"\")\n",
        "  reverse= reverse+num[x]\n",
        "# print(reverse)\n",
        "\n",
        "if num==reverse:\n",
        "  print(num,\"is a palindrome\")\n",
        "else:\n",
        "  print(num,\"is not a palindrome\")\n",
        "\n"
      ],
      "metadata": {
        "colab": {
          "base_uri": "https://localhost:8080/"
        },
        "id": "JgXG492I8dL2",
        "outputId": "28d97d0f-cb41-4037-dd50-4cda9679ec83"
      },
      "execution_count": null,
      "outputs": [
        {
          "output_type": "stream",
          "name": "stdout",
          "text": [
            "Enter a number: 121\n",
            "121 is a palindrome\n"
          ]
        }
      ]
    },
    {
      "cell_type": "code",
      "source": [
        "num = input(\"Enter a number: \")\n",
        "reverse=\"\"\n",
        "i=0\n",
        "n = len(num)\n",
        "while n>i:\n",
        "  reverse = reverse+num[n-1]\n",
        "  # print(reverse,end=\"\")\n",
        "  # print(num[n-1],end=\"\")\n",
        "  n-=1\n",
        "\n",
        "if num==reverse:\n",
        "  print(num,\"is a palindrome\")\n",
        "else:\n",
        "  print(num,\"is not a palindrome\")\n",
        "  \n"
      ],
      "metadata": {
        "colab": {
          "base_uri": "https://localhost:8080/"
        },
        "id": "IsuQKxGXBJun",
        "outputId": "23b31d9b-f190-4873-cb3b-d8dd69c1e25d"
      },
      "execution_count": null,
      "outputs": [
        {
          "output_type": "stream",
          "name": "stdout",
          "text": [
            "Enter a number: 123\n",
            "123 is not a palindrome\n"
          ]
        }
      ]
    },
    {
      "cell_type": "markdown",
      "source": [
        "Q12. Print the following pattern:\n",
        "\n",
        "\n",
        "\n",
        "\n",
        "\t*\n",
        "\t**\n",
        "\t***\n",
        "\t****"
      ],
      "metadata": {
        "id": "eBb10Dswz1yk"
      }
    },
    {
      "cell_type": "code",
      "source": [
        "for row in range(4):\n",
        "  for col in range(4):\n",
        "    print(\"*\", end=\"\")\n",
        "  print(\"\")"
      ],
      "metadata": {
        "colab": {
          "base_uri": "https://localhost:8080/"
        },
        "id": "TltWvxOk2h1Y",
        "outputId": "79b5ab19-75ba-47fd-eda4-b1d6c66f6e57"
      },
      "execution_count": null,
      "outputs": [
        {
          "output_type": "stream",
          "name": "stdout",
          "text": [
            "****\n",
            "****\n",
            "****\n",
            "****\n"
          ]
        }
      ]
    },
    {
      "cell_type": "markdown",
      "source": [
        "Q13. Accept number from user and calculate the sum of all number from 1 to a given number"
      ],
      "metadata": {
        "id": "bqEuBBkA07bB"
      }
    },
    {
      "cell_type": "code",
      "source": [
        "num = int(input(\"Enter a number: \"))\n",
        "sum=0\n",
        "for i in range(1,num+1):\n",
        "  sum = i+sum \n",
        "print(\"Sum from 1 to\",num,\"=\",sum)"
      ],
      "metadata": {
        "colab": {
          "base_uri": "https://localhost:8080/"
        },
        "id": "o4AXiZjN44Z8",
        "outputId": "1076d9b5-6837-49d6-d26a-dae7d033337d"
      },
      "execution_count": null,
      "outputs": [
        {
          "output_type": "stream",
          "name": "stdout",
          "text": [
            "Enter a number: 5\n",
            "Sum from 1 to 5 = 15\n"
          ]
        }
      ]
    },
    {
      "cell_type": "code",
      "source": [
        "num = int(input(\"Enter a number: \"))\n",
        "sum = 0\n",
        "i = 0\n",
        "while i<=num:\n",
        "  sum = i+sum\n",
        "  i+=1\n",
        "print(\"Sum from 1 to\",num,\"=\",sum)"
      ],
      "metadata": {
        "colab": {
          "base_uri": "https://localhost:8080/"
        },
        "id": "rOlrsl5j8xnQ",
        "outputId": "a2eca59c-422e-4748-f377-533620f13169"
      },
      "execution_count": null,
      "outputs": [
        {
          "output_type": "stream",
          "name": "stdout",
          "text": [
            "Enter a number: 5\n",
            "Sum from 1 to 5 = 15\n"
          ]
        }
      ]
    },
    {
      "cell_type": "markdown",
      "source": [
        "Q15.Given a list, iterate it, and display numbers divisible by five, and if you find a number greater than 150, stop the loop iteration.\n",
        "\n",
        "\n",
        "    list1 = [12, 15, 32, 42, 55, 75, 122, 132, 150, 180, 200]"
      ],
      "metadata": {
        "id": "Fm5ajTni1E-y"
      }
    },
    {
      "cell_type": "code",
      "source": [
        "list1 = [12, 15, 32, 42, 55, 75, 122, 132, 150, 180, 200]\n",
        "for i in list1:\n",
        "  if i%5==0:\n",
        "    if i==150:\n",
        "      break\n",
        "    print(i)"
      ],
      "metadata": {
        "colab": {
          "base_uri": "https://localhost:8080/"
        },
        "id": "zTzjvi9T8kKS",
        "outputId": "71bcdc07-6c9f-43b4-ced7-69335afb3451"
      },
      "execution_count": null,
      "outputs": [
        {
          "output_type": "stream",
          "name": "stdout",
          "text": [
            "15\n",
            "55\n",
            "75\n"
          ]
        }
      ]
    },
    {
      "cell_type": "code",
      "source": [
        "list1 = [12, 15, 32, 42, 55, 75, 122, 132, 150, 180, 200]\n",
        "i=0\n",
        "while i in list1:\n",
        "  if i%5==0:\n",
        "    if i>150:\n",
        "      break\n",
        "    print(i)\n",
        "  i+=1"
      ],
      "metadata": {
        "id": "eOZRNnsr9VKt"
      },
      "execution_count": null,
      "outputs": []
    },
    {
      "cell_type": "markdown",
      "source": [
        "Q18. Display Fibonacci series up to 10 terms"
      ],
      "metadata": {
        "id": "x0EXtRo414oj"
      }
    },
    {
      "cell_type": "code",
      "source": [
        "first_term = 0\n",
        "second_term = 1\n",
        "temp = 0 #for adding and recurring values\n",
        "\n",
        "print(first_term)\n",
        "print(second_term)\n",
        "for i in range(10):\n",
        "  temp = first_term + second_term\n",
        "  first_term = second_term\n",
        "  second_term = temp\n",
        "  print(temp)"
      ],
      "metadata": {
        "colab": {
          "base_uri": "https://localhost:8080/"
        },
        "id": "fQzSryNFz3Jo",
        "outputId": "9f603ea7-e41b-474c-c4de-479466666f76"
      },
      "execution_count": null,
      "outputs": [
        {
          "output_type": "stream",
          "name": "stdout",
          "text": [
            "0\n",
            "1\n",
            "1\n",
            "2\n",
            "3\n",
            "5\n",
            "8\n",
            "13\n",
            "21\n",
            "34\n",
            "55\n",
            "89\n"
          ]
        }
      ]
    },
    {
      "cell_type": "code",
      "source": [
        "first_term = 0\n",
        "second_term = 1\n",
        "temp = 0 #for adding and recurring values\n",
        "\n",
        "print(first_term)\n",
        "print(second_term)\n",
        "\n",
        "i=0\n",
        "while i<8:\n",
        "  temp = first_term + second_term\n",
        "  first_term = second_term\n",
        "  second_term = temp\n",
        "  print(temp)\n",
        "  i+=1"
      ],
      "metadata": {
        "colab": {
          "base_uri": "https://localhost:8080/"
        },
        "id": "mVBLDLI5-Zoe",
        "outputId": "38bf79ef-e371-42b3-cefd-63fa6db55078"
      },
      "execution_count": null,
      "outputs": [
        {
          "output_type": "stream",
          "name": "stdout",
          "text": [
            "0\n",
            "1\n",
            "1\n",
            "2\n",
            "3\n",
            "5\n",
            "8\n",
            "13\n",
            "21\n",
            "34\n"
          ]
        }
      ]
    },
    {
      "cell_type": "markdown",
      "source": [
        "Q19. Reverse a given integer number,  Given:76542"
      ],
      "metadata": {
        "id": "TIVZUXIR168y"
      }
    },
    {
      "cell_type": "code",
      "source": [
        "num='76542'\n",
        "# num = input(\"Enter a number: \")\n",
        "for i in range(len(num)-1,-1,-1):\n",
        "  print(num[i], end=\"\")"
      ],
      "metadata": {
        "id": "o-vA-EEV9RL8",
        "colab": {
          "base_uri": "https://localhost:8080/"
        },
        "outputId": "1e87226e-c1ed-4fc5-bcbc-a0196588c434"
      },
      "execution_count": null,
      "outputs": [
        {
          "output_type": "stream",
          "name": "stdout",
          "text": [
            "24567"
          ]
        }
      ]
    },
    {
      "cell_type": "code",
      "source": [
        "num='76542'\n",
        "i=0\n",
        "n = len(num)\n",
        "while n>i:\n",
        "  print(num[n-1],end=\"\")\n",
        "  n-=1"
      ],
      "metadata": {
        "colab": {
          "base_uri": "https://localhost:8080/"
        },
        "id": "1GWqwr57_G0g",
        "outputId": "42fa6b48-488a-4773-b0f2-70d1f1f4c487"
      },
      "execution_count": null,
      "outputs": [
        {
          "output_type": "stream",
          "name": "stdout",
          "text": [
            "24567"
          ]
        }
      ]
    },
    {
      "cell_type": "markdown",
      "source": [
        "Q20. Display the cube of the number up to a given integer"
      ],
      "metadata": {
        "id": "3Mthk8SC19Ur"
      }
    },
    {
      "cell_type": "code",
      "source": [
        "num = int(input(\"Enter a number: \"))\n",
        "for i in range(0,num+1):\n",
        "  cube = i**3\n",
        "  print(cube)"
      ],
      "metadata": {
        "colab": {
          "base_uri": "https://localhost:8080/"
        },
        "id": "4j9s7iLdrhKp",
        "outputId": "812b2736-4f85-4135-c433-191065334915"
      },
      "execution_count": null,
      "outputs": [
        {
          "output_type": "stream",
          "name": "stdout",
          "text": [
            "Enter a number: 3\n",
            "0\n",
            "1\n",
            "8\n",
            "27\n"
          ]
        }
      ]
    },
    {
      "cell_type": "code",
      "source": [
        "num = int(input(\"Enter a number: \"))\n",
        "i=0\n",
        "while i<=num:\n",
        "  cube=i**3\n",
        "  print(cube)\n",
        "  i+=1 "
      ],
      "metadata": {
        "colab": {
          "base_uri": "https://localhost:8080/"
        },
        "id": "Nld7RmRLAVWK",
        "outputId": "432e9e6f-6847-4a24-aa78-526fa708c1f9"
      },
      "execution_count": null,
      "outputs": [
        {
          "output_type": "stream",
          "name": "stdout",
          "text": [
            "Enter a number: 3\n",
            "0\n",
            "1\n",
            "8\n",
            "27\n"
          ]
        }
      ]
    },
    {
      "cell_type": "markdown",
      "source": [
        "Addition of 2 nos., if int values print type int. Float for whole no.s not allowed"
      ],
      "metadata": {
        "id": "sw9_zzSf_Xff"
      }
    },
    {
      "cell_type": "code",
      "source": [
        "num1 = input(\"Enter first number: \")\n",
        "num2 = input(\"Enter second number: \")\n",
        "\n",
        "\n",
        "# if '.' not in num1:\n",
        "#   if '.' not in num2:\n",
        "#     print(int(num1)+int(num2))\n",
        "# else:\n",
        "#   print(float(num1)+float(num2))\n",
        "\n",
        "# if num1.endswith('.0') and num2.endswith('.0'):\n",
        "#   num1 = num1.removesuffix('.0')\n",
        "#   num2 = num2.removesuffix('.0')\n",
        "#   int_num1 = int(num1)\n",
        "#   int_num2 = int(num2)\n",
        "#   print(int_num1+int_num2)\n",
        "\n"
      ],
      "metadata": {
        "colab": {
          "base_uri": "https://localhost:8080/"
        },
        "id": "ueawtVfM_s-q",
        "outputId": "3ee62b39-899c-4216-e53f-0f2d73946843"
      },
      "execution_count": null,
      "outputs": [
        {
          "output_type": "stream",
          "name": "stdout",
          "text": [
            "Enter first number: 3.2\n",
            "Enter second number: 3\n",
            "6.2\n"
          ]
        }
      ]
    },
    {
      "cell_type": "code",
      "source": [
        "# n = int(input(\"Enter a number: \"))\n",
        "n = 24\n",
        "if n%2!=0:\n",
        "    print(\"Weird\")\n",
        "\n",
        "elif n%2==0:\n",
        "    if n in range(2,6):\n",
        "        print(\"Not Weird\")\n",
        "    elif n in range(6,21):\n",
        "        print(\"Weird\")\n",
        "    elif n>20:\n",
        "        print(\"Not Weird\")   "
      ],
      "metadata": {
        "id": "BwwzHfCoN12E",
        "colab": {
          "base_uri": "https://localhost:8080/"
        },
        "outputId": "e1e337a9-2e2c-4a29-a0d7-4f561621ba8a"
      },
      "execution_count": null,
      "outputs": [
        {
          "output_type": "stream",
          "name": "stdout",
          "text": [
            "Not Weird\n"
          ]
        }
      ]
    },
    {
      "cell_type": "code",
      "source": [
        "n = int(input())\n",
        "for i in range(99999):\n",
        "  if i<n:\n",
        "    print(i**2)  "
      ],
      "metadata": {
        "colab": {
          "base_uri": "https://localhost:8080/"
        },
        "id": "4L8RqbpBAGNo",
        "outputId": "a6c3bb5a-7c21-492a-8ab7-cfcb428a38c8"
      },
      "execution_count": null,
      "outputs": [
        {
          "output_type": "stream",
          "name": "stdout",
          "text": [
            "3\n",
            "0\n",
            "1\n",
            "4\n"
          ]
        }
      ]
    },
    {
      "cell_type": "code",
      "source": [
        "def is_leap(year):\n",
        "  leap = False\n",
        "  if year%400==0 or year%100==100 and year%4==0:\n",
        "    leap = True   \n",
        "    return leap\n",
        "    \n",
        "year = int(input())\n",
        "print(is_leap(year))"
      ],
      "metadata": {
        "colab": {
          "base_uri": "https://localhost:8080/"
        },
        "id": "00QrajnVLOgN",
        "outputId": "5e51cfd9-3718-4377-d706-540e8524b1a5"
      },
      "execution_count": null,
      "outputs": [
        {
          "output_type": "stream",
          "name": "stdout",
          "text": [
            "2012\n",
            "None\n"
          ]
        }
      ]
    },
    {
      "cell_type": "markdown",
      "source": [
        "Using for loop,\n",
        "\n",
        "2      1\n",
        "4      3\n",
        "6      5\n",
        "8      7\n",
        "10     9\n",
        "---\n",
        "\n",
        "\n",
        "\n",
        "30     25 (sum of even, sum of odd)\n",
        "\n"
      ],
      "metadata": {
        "id": "T0cd6lIM7Z7E"
      }
    },
    {
      "cell_type": "code",
      "source": [
        "sum_even = 0 \n",
        "sum_odd = 0\n",
        "for i in range(1,11):\n",
        "  if i%2==0:\n",
        "    print(i)\n",
        "    sum_even = i+sum_even\n",
        "print('--------------')\n",
        "print(sum_even)\n",
        "print()\n",
        "\n",
        "for i in range(1,11):\n",
        "  if i%2!=0:\n",
        "    print(i)\n",
        "    sum_odd = i+sum_odd\n",
        "print('--------------')\n",
        "print(sum_odd)"
      ],
      "metadata": {
        "id": "co_t0ZdAXAnx",
        "colab": {
          "base_uri": "https://localhost:8080/"
        },
        "outputId": "abe118a2-5bf4-4eb9-e262-02b19a665a87"
      },
      "execution_count": null,
      "outputs": [
        {
          "output_type": "stream",
          "name": "stdout",
          "text": [
            "2\n",
            "4\n",
            "6\n",
            "8\n",
            "10\n",
            "--------------\n",
            "30\n",
            "\n",
            "1\n",
            "3\n",
            "5\n",
            "7\n",
            "9\n",
            "--------------\n",
            "25\n"
          ]
        }
      ]
    },
    {
      "cell_type": "code",
      "source": [
        "sum_even = 0 \n",
        "sum_odd = 0\n",
        "for i in range(1,11):\n",
        "  if i%2==0:\n",
        "    print(i)\n",
        "    sum_even = i+sum_even\n",
        "  if i%2!=0:\n",
        "    print(i,end ='\\t')\n",
        "    sum_odd = i+sum_odd\n",
        "print('--------------')\n",
        "print(sum_odd,\"\\t\",sum_even)"
      ],
      "metadata": {
        "colab": {
          "base_uri": "https://localhost:8080/"
        },
        "id": "VNJqjk888b10",
        "outputId": "863926ba-7326-4b12-ac90-7ff3a2ac6412"
      },
      "execution_count": null,
      "outputs": [
        {
          "output_type": "stream",
          "name": "stdout",
          "text": [
            "1\t2\n",
            "3\t4\n",
            "5\t6\n",
            "7\t8\n",
            "9\t10\n",
            "--------------\n",
            "25 \t 30\n"
          ]
        }
      ]
    },
    {
      "cell_type": "code",
      "source": [
        "sum_even = 0 \n",
        "sum_odd = 0\n",
        "list1 = [x for x in range(1,11)]\n",
        "# list1 = [1,2,3,4,5,6,7,8,9,10]\n",
        "for even,odd in zip(list1,list1):\n",
        "  if even%2==0:\n",
        "    sum_even = even+sum_even\n",
        "    print(even)\n",
        "  elif odd%2!=0:\n",
        "    sum_odd = odd+sum_odd\n",
        "    print(odd,end='         ')\n",
        "print('--------------')\n",
        "print(sum_odd,\"\\t\",sum_even)"
      ],
      "metadata": {
        "colab": {
          "base_uri": "https://localhost:8080/"
        },
        "id": "CFmRfXTkAGur",
        "outputId": "8c3afea2-c1ad-47b0-c309-07732a8fb453"
      },
      "execution_count": null,
      "outputs": [
        {
          "output_type": "stream",
          "name": "stdout",
          "text": [
            "1         2\n",
            "3         4\n",
            "5         6\n",
            "7         8\n",
            "9         10\n",
            "--------------\n",
            "25 \t 30\n"
          ]
        }
      ]
    },
    {
      "cell_type": "code",
      "source": [
        "name = [ \"Manjeet\", \"Nikhil\", \"Shambhavi\", \"Astha\" ]\n",
        "roll_no = [ 4, 1, 3, 2 ]\n",
        " \n",
        "# using zip() to map values\n",
        "mapped = zip(name, roll_no)\n",
        " \n",
        "print(list(mapped))"
      ],
      "metadata": {
        "colab": {
          "base_uri": "https://localhost:8080/"
        },
        "id": "6DZKPV2WBn8m",
        "outputId": "c907b0f1-773d-40e0-d0c5-c8ab67a80202"
      },
      "execution_count": null,
      "outputs": [
        {
          "output_type": "stream",
          "name": "stdout",
          "text": [
            "[('Manjeet', 4), ('Nikhil', 1), ('Shambhavi', 3), ('Astha', 2)]\n"
          ]
        }
      ]
    },
    {
      "cell_type": "code",
      "source": [
        "odd =0\n",
        "even =0\n",
        "for i in range(1,11,2):\n",
        "  odd = odd + i\n",
        "  even = even + (i+1)\n",
        "  print(f\"{i}       {i+1}\")\n",
        "print(\"===========\")\n",
        "print(f\"{odd}      {even}\")"
      ],
      "metadata": {
        "colab": {
          "base_uri": "https://localhost:8080/"
        },
        "id": "KYXjlllwNOtQ",
        "outputId": "9e4e4e1d-b5d3-4fc3-a41b-fad149443738"
      },
      "execution_count": null,
      "outputs": [
        {
          "output_type": "stream",
          "name": "stdout",
          "text": [
            "1       2\n",
            "3       4\n",
            "5       6\n",
            "7       8\n",
            "9       10\n",
            "===========\n",
            "25      30\n"
          ]
        }
      ]
    },
    {
      "cell_type": "markdown",
      "source": [
        "**While Loop**"
      ],
      "metadata": {
        "id": "-vBVAMS1fonL"
      }
    },
    {
      "cell_type": "code",
      "source": [
        "for i in range(1,11):\n",
        "  print(i)"
      ],
      "metadata": {
        "colab": {
          "base_uri": "https://localhost:8080/"
        },
        "id": "-ThES_6ygId-",
        "outputId": "e1d8d0c8-3b1e-4cd8-e9c6-64eea0054412"
      },
      "execution_count": null,
      "outputs": [
        {
          "output_type": "stream",
          "name": "stdout",
          "text": [
            "1\n",
            "2\n",
            "3\n",
            "4\n",
            "5\n",
            "6\n",
            "7\n",
            "8\n",
            "9\n",
            "10\n"
          ]
        }
      ]
    },
    {
      "cell_type": "code",
      "source": [
        "i=0\n",
        "while i<=10:\n",
        "  print(i)\n",
        "  i+=1"
      ],
      "metadata": {
        "id": "t0TnzTRBS0lK",
        "colab": {
          "base_uri": "https://localhost:8080/"
        },
        "outputId": "72afe3d6-eb9d-43f8-be4f-b236c580c36b"
      },
      "execution_count": null,
      "outputs": [
        {
          "output_type": "stream",
          "name": "stdout",
          "text": [
            "0\n",
            "1\n",
            "2\n",
            "3\n",
            "4\n",
            "5\n",
            "6\n",
            "7\n",
            "8\n",
            "9\n",
            "10\n"
          ]
        }
      ]
    },
    {
      "cell_type": "code",
      "source": [
        "i=10\n",
        "while i>0:\n",
        "  print(i)\n",
        "  i-=1"
      ],
      "metadata": {
        "colab": {
          "base_uri": "https://localhost:8080/"
        },
        "id": "-FvibLbzgLUl",
        "outputId": "cfc04d83-fda9-4e73-f6ad-bfca30250720"
      },
      "execution_count": null,
      "outputs": [
        {
          "output_type": "stream",
          "name": "stdout",
          "text": [
            "10\n",
            "9\n",
            "8\n",
            "7\n",
            "6\n",
            "5\n",
            "4\n",
            "3\n",
            "2\n",
            "1\n"
          ]
        }
      ]
    },
    {
      "cell_type": "code",
      "source": [
        "i=11\n",
        "while i:\n",
        "  i-=1\n",
        "  if i==4:\n",
        "    continue\n",
        "  print(i)\n",
        "  # i-=1 '''stuck at i=4,at continue statement since value is not decrementing i and is on 4'''  "
      ],
      "metadata": {
        "colab": {
          "base_uri": "https://localhost:8080/"
        },
        "id": "Cxa-M6T1m-a6",
        "outputId": "9ef70755-018d-4e00-ed7e-c89bd5d7631d"
      },
      "execution_count": null,
      "outputs": [
        {
          "output_type": "stream",
          "name": "stdout",
          "text": [
            "10\n",
            "9\n",
            "8\n",
            "7\n",
            "6\n",
            "5\n",
            "3\n",
            "2\n",
            "1\n",
            "0\n"
          ]
        }
      ]
    },
    {
      "cell_type": "code",
      "source": [
        "str_num = \"six\"\n",
        "for i in range(1,14):\n",
        "  print(i,\"times\",str_num,\"equals\",i*str_num)"
      ],
      "metadata": {
        "id": "EfLj5aYAnnJ6",
        "colab": {
          "base_uri": "https://localhost:8080/"
        },
        "outputId": "1abfce19-240c-4855-f98d-3b8c0c69627e"
      },
      "execution_count": null,
      "outputs": [
        {
          "output_type": "stream",
          "name": "stdout",
          "text": [
            "1 times six equals six\n",
            "2 times six equals sixsix\n",
            "3 times six equals sixsixsix\n",
            "4 times six equals sixsixsixsix\n",
            "5 times six equals sixsixsixsixsix\n",
            "6 times six equals sixsixsixsixsixsix\n",
            "7 times six equals sixsixsixsixsixsixsix\n",
            "8 times six equals sixsixsixsixsixsixsixsix\n",
            "9 times six equals sixsixsixsixsixsixsixsixsix\n",
            "10 times six equals sixsixsixsixsixsixsixsixsixsix\n",
            "11 times six equals sixsixsixsixsixsixsixsixsixsixsix\n",
            "12 times six equals sixsixsixsixsixsixsixsixsixsixsixsix\n",
            "13 times six equals sixsixsixsixsixsixsixsixsixsixsixsixsix\n"
          ]
        }
      ]
    },
    {
      "cell_type": "code",
      "source": [
        "i=11\n",
        "while i>1:\n",
        "  i-=1\n",
        "  if i==5:   \n",
        "    continue\n",
        "  print(i)\n"
      ],
      "metadata": {
        "id": "Us-YIsMUC2hq",
        "colab": {
          "base_uri": "https://localhost:8080/"
        },
        "outputId": "9d1be8a6-07ea-4919-8208-c2781a40f7e7"
      },
      "execution_count": null,
      "outputs": [
        {
          "output_type": "stream",
          "name": "stdout",
          "text": [
            "10\n",
            "9\n",
            "8\n",
            "7\n",
            "6\n",
            "4\n",
            "3\n",
            "2\n",
            "1\n"
          ]
        }
      ]
    },
    {
      "cell_type": "code",
      "source": [
        "a=[\"apple\",\"orange\",\"cherry\",\"kiwi\",\"grapes\",\"orange\",\"mango\"]\n",
        "n=len(a)-1\n",
        "while n>=0:\n",
        "  print(a[n])\n",
        "  n-=1"
      ],
      "metadata": {
        "colab": {
          "base_uri": "https://localhost:8080/"
        },
        "id": "GVZxq4xgRRwj",
        "outputId": "6a6dd70d-3984-47f8-b78b-defd12cc4b46"
      },
      "execution_count": null,
      "outputs": [
        {
          "output_type": "stream",
          "name": "stdout",
          "text": [
            "mango\n",
            "orange\n",
            "grapes\n",
            "kiwi\n",
            "cherry\n",
            "orange\n",
            "apple\n"
          ]
        }
      ]
    },
    {
      "cell_type": "code",
      "source": [
        ""
      ],
      "metadata": {
        "id": "fUMftwE0bsum"
      },
      "execution_count": null,
      "outputs": []
    }
  ]
}