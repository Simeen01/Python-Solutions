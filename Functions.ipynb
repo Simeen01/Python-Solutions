{
  "nbformat": 4,
  "nbformat_minor": 0,
  "metadata": {
    "colab": {
      "name": "Functions.ipynb",
      "provenance": [],
      "authorship_tag": "ABX9TyOqi2OEdE4awY0Atmu8f2qm",
      "include_colab_link": true
    },
    "kernelspec": {
      "name": "python3",
      "display_name": "Python 3"
    },
    "language_info": {
      "name": "python"
    }
  },
  "cells": [
    {
      "cell_type": "markdown",
      "metadata": {
        "id": "view-in-github",
        "colab_type": "text"
      },
      "source": [
        "<a href=\"https://colab.research.google.com/github/Simeen01/Python-Solutions/blob/main/Functions.ipynb\" target=\"_parent\"><img src=\"https://colab.research.google.com/assets/colab-badge.svg\" alt=\"Open In Colab\"/></a>"
      ]
    },
    {
      "cell_type": "markdown",
      "source": [
        "Absolute value function"
      ],
      "metadata": {
        "id": "VC0pMHzR2gzS"
      }
    },
    {
      "cell_type": "code",
      "execution_count": null,
      "metadata": {
        "id": "jSSEGM5FlhIX"
      },
      "outputs": [],
      "source": [
        "def abs(x):\n",
        "  x = str(x)\n",
        "  if '-' in x:\n",
        "    print(x[1:])\n",
        "  else:\n",
        "    print(x)"
      ]
    },
    {
      "cell_type": "code",
      "source": [
        "abs(-7)"
      ],
      "metadata": {
        "colab": {
          "base_uri": "https://localhost:8080/"
        },
        "id": "vpEqTkbHv6d1",
        "outputId": "af0c7f18-7591-4f5f-a4b4-e3f1d8cad449"
      },
      "execution_count": null,
      "outputs": [
        {
          "output_type": "stream",
          "name": "stdout",
          "text": [
            "7\n"
          ]
        }
      ]
    },
    {
      "cell_type": "code",
      "source": [
        "abs(-232893)"
      ],
      "metadata": {
        "colab": {
          "base_uri": "https://localhost:8080/"
        },
        "id": "af8VpltewA0d",
        "outputId": "0743ea52-3b0d-4699-adc7-e6b041977b20"
      },
      "execution_count": null,
      "outputs": [
        {
          "output_type": "stream",
          "name": "stdout",
          "text": [
            "232893\n"
          ]
        }
      ]
    },
    {
      "cell_type": "code",
      "source": [
        "def absolute(a):\n",
        "  if a<0:\n",
        "    print(a*(-1))\n",
        "  else:\n",
        "    print(a)"
      ],
      "metadata": {
        "id": "SHFFsSmDwfnR"
      },
      "execution_count": null,
      "outputs": []
    },
    {
      "cell_type": "code",
      "source": [
        "absolute(-678.9)"
      ],
      "metadata": {
        "colab": {
          "base_uri": "https://localhost:8080/"
        },
        "id": "jqRh9pyixVoh",
        "outputId": "4133a76b-e3e3-46e9-f61c-5907596e773a"
      },
      "execution_count": null,
      "outputs": [
        {
          "output_type": "stream",
          "name": "stdout",
          "text": [
            "678.9\n"
          ]
        }
      ]
    },
    {
      "cell_type": "code",
      "source": [
        "absolute(6765)"
      ],
      "metadata": {
        "colab": {
          "base_uri": "https://localhost:8080/"
        },
        "id": "RXnf3w0nxYaZ",
        "outputId": "5cc34625-6ee3-495c-ca38-8ea61321c752"
      },
      "execution_count": null,
      "outputs": [
        {
          "output_type": "stream",
          "name": "stdout",
          "text": [
            "6765\n"
          ]
        }
      ]
    },
    {
      "cell_type": "markdown",
      "source": [
        "Factorial function"
      ],
      "metadata": {
        "id": "I_Y3RIcY2jQD"
      }
    },
    {
      "cell_type": "code",
      "source": [
        "def fact(x):\n",
        "  f = 1\n",
        "  for i in range(1,x+1):\n",
        "    f = f*i\n",
        "  return f"
      ],
      "metadata": {
        "id": "F-d6aeudxafS"
      },
      "execution_count": null,
      "outputs": []
    },
    {
      "cell_type": "code",
      "source": [
        "fact(0)"
      ],
      "metadata": {
        "colab": {
          "base_uri": "https://localhost:8080/"
        },
        "id": "pDtfnkvd2_PC",
        "outputId": "17a2fb1a-6aa8-4683-8f1e-839659b41c19"
      },
      "execution_count": null,
      "outputs": [
        {
          "output_type": "execute_result",
          "data": {
            "text/plain": [
              "1"
            ]
          },
          "metadata": {},
          "execution_count": 8
        }
      ]
    },
    {
      "cell_type": "code",
      "source": [
        "def addCost(a,b):\n",
        "  print(f'Item is: {a} and cost is: {b} and stock is {c}')"
      ],
      "metadata": {
        "id": "OmrgnUIi3A8A"
      },
      "execution_count": null,
      "outputs": []
    },
    {
      "cell_type": "code",
      "source": [
        "addCost(a=\"bread\",b=120)"
      ],
      "metadata": {
        "colab": {
          "base_uri": "https://localhost:8080/"
        },
        "id": "JHkYPdJFN9j_",
        "outputId": "4a4ee6f7-b60f-49bc-fc59-536831419e18"
      },
      "execution_count": null,
      "outputs": [
        {
          "output_type": "stream",
          "name": "stdout",
          "text": [
            "Item is: bread and cost is: 120\n"
          ]
        }
      ]
    },
    {
      "cell_type": "code",
      "source": [
        "addCost(a=\"bread\",120)"
      ],
      "metadata": {
        "colab": {
          "base_uri": "https://localhost:8080/",
          "height": 130
        },
        "id": "XgLs0SbNOkvc",
        "outputId": "eb50e56c-41b9-46ee-9144-365b3b387bc3"
      },
      "execution_count": null,
      "outputs": [
        {
          "output_type": "error",
          "ename": "SyntaxError",
          "evalue": "ignored",
          "traceback": [
            "\u001b[0;36m  File \u001b[0;32m\"<ipython-input-4-9cdb749ed22d>\"\u001b[0;36m, line \u001b[0;32m1\u001b[0m\n\u001b[0;31m    addCost(a=\"bread\",120)\u001b[0m\n\u001b[0m                     ^\u001b[0m\n\u001b[0;31mSyntaxError\u001b[0m\u001b[0;31m:\u001b[0m positional argument follows keyword argument\n"
          ]
        }
      ]
    },
    {
      "cell_type": "code",
      "source": [
        "addCost(\"bread\",b=120)"
      ],
      "metadata": {
        "colab": {
          "base_uri": "https://localhost:8080/"
        },
        "id": "v4MwdUFyOo2e",
        "outputId": "03704144-294f-444c-87bd-180c2c8143de"
      },
      "execution_count": null,
      "outputs": [
        {
          "output_type": "stream",
          "name": "stdout",
          "text": [
            "Item is: bread and cost is: 120\n"
          ]
        }
      ]
    },
    {
      "cell_type": "markdown",
      "source": [
        "Write a function called findlargest () which accepts\n",
        "multiple strings as argument and returns the length of the\n",
        "largest string"
      ],
      "metadata": {
        "id": "ZfSDbdARTVft"
      }
    },
    {
      "cell_type": "code",
      "source": [
        "def findlargest(a*):\n",
        "  times = int(input(\"How many strings would you like to enter? \"))\n",
        "  i=0\n",
        "  \n",
        "  while i<times:\n",
        "    string = input(\"Enter string: \")\n",
        "    i += 1\n",
        "  large = max(len(string))\n",
        "  return large"
      ],
      "metadata": {
        "id": "lyLbP3MyOxI0",
        "colab": {
          "base_uri": "https://localhost:8080/",
          "height": 130
        },
        "outputId": "53d9d163-b6b3-4504-bfa8-7cd581f34e20"
      },
      "execution_count": null,
      "outputs": [
        {
          "output_type": "error",
          "ename": "SyntaxError",
          "evalue": "ignored",
          "traceback": [
            "\u001b[0;36m  File \u001b[0;32m\"<ipython-input-3-1288d44eb83c>\"\u001b[0;36m, line \u001b[0;32m1\u001b[0m\n\u001b[0;31m    def findlargest(a*):\u001b[0m\n\u001b[0m                     ^\u001b[0m\n\u001b[0;31mSyntaxError\u001b[0m\u001b[0;31m:\u001b[0m invalid syntax\n"
          ]
        }
      ]
    },
    {
      "cell_type": "code",
      "source": [
        "times = int(input(\"How many strings would you like to enter? \"))\n",
        "i=0\n",
        "l = []\n",
        "\n",
        "while i<times:\n",
        "  string = input(\"Enter string: \")\n",
        "  l.append(string)\n",
        "  i += 1\n",
        "\n",
        "for x in l:\n",
        "  large = l[0]\n",
        "  if large>x\n",
        "  large = max(len(string))\n",
        "# return large"
      ],
      "metadata": {
        "colab": {
          "base_uri": "https://localhost:8080/",
          "height": 283
        },
        "id": "4QSF1bzKV78z",
        "outputId": "c8424f07-6cfa-4e86-b84b-f45004738a4c"
      },
      "execution_count": null,
      "outputs": [
        {
          "output_type": "stream",
          "name": "stdout",
          "text": [
            "How many strings would you like to enter? 2\n",
            "Enter string: hde\n",
            "Enter string: hjkdhkje\n",
            "[<class 'set'>, 'hde', 'hjkdhkje']\n"
          ]
        },
        {
          "output_type": "error",
          "ename": "TypeError",
          "evalue": "ignored",
          "traceback": [
            "\u001b[0;31m---------------------------------------------------------------------------\u001b[0m",
            "\u001b[0;31mTypeError\u001b[0m                                 Traceback (most recent call last)",
            "\u001b[0;32m<ipython-input-6-035df25cf035>\u001b[0m in \u001b[0;36m<module>\u001b[0;34m()\u001b[0m\n\u001b[1;32m      8\u001b[0m   \u001b[0mi\u001b[0m \u001b[0;34m+=\u001b[0m \u001b[0;36m1\u001b[0m\u001b[0;34m\u001b[0m\u001b[0;34m\u001b[0m\u001b[0m\n\u001b[1;32m      9\u001b[0m \u001b[0mprint\u001b[0m\u001b[0;34m(\u001b[0m\u001b[0ml\u001b[0m\u001b[0;34m)\u001b[0m\u001b[0;34m\u001b[0m\u001b[0;34m\u001b[0m\u001b[0m\n\u001b[0;32m---> 10\u001b[0;31m \u001b[0mlarge\u001b[0m \u001b[0;34m=\u001b[0m \u001b[0mmax\u001b[0m\u001b[0;34m(\u001b[0m\u001b[0mlen\u001b[0m\u001b[0;34m(\u001b[0m\u001b[0mstring\u001b[0m\u001b[0;34m)\u001b[0m\u001b[0;34m)\u001b[0m\u001b[0;34m\u001b[0m\u001b[0;34m\u001b[0m\u001b[0m\n\u001b[0m\u001b[1;32m     11\u001b[0m \u001b[0;32mreturn\u001b[0m \u001b[0mlarge\u001b[0m\u001b[0;34m\u001b[0m\u001b[0;34m\u001b[0m\u001b[0m\n",
            "\u001b[0;31mTypeError\u001b[0m: 'int' object is not iterable"
          ]
        }
      ]
    },
    {
      "cell_type": "markdown",
      "source": [
        "Write a function called cal_area() using default\n",
        "argument concept which accepts radius and pi as\n",
        "arguments and calculates and displays area of the Circle.\n",
        "The value of pi should be used as default argument and\n",
        "value of radius should be accepted from the user"
      ],
      "metadata": {
        "id": "Jccd_xuFTZ5f"
      }
    },
    {
      "cell_type": "code",
      "source": [
        "def cal_area(r, pi = 3.14):\n",
        "  area_of_circle = pi*(r**2)\n",
        "  return area_of_circle\n",
        "\n",
        "cal_area(2)"
      ],
      "metadata": {
        "colab": {
          "base_uri": "https://localhost:8080/"
        },
        "id": "JPFXF-jJTdCy",
        "outputId": "a963a25c-0654-45e5-e759-d9dae7662ef9"
      },
      "execution_count": null,
      "outputs": [
        {
          "output_type": "execute_result",
          "data": {
            "text/plain": [
              "12.56"
            ]
          },
          "metadata": {},
          "execution_count": 2
        }
      ]
    },
    {
      "cell_type": "code",
      "source": [
        "def func_s():\n",
        "  print(s) #gives error since print statement above assigned value\n",
        "  s = \"Simeen\"\n",
        "  print(s)\n",
        "\n",
        "func_s()"
      ],
      "metadata": {
        "id": "GWM6Lo7jUf8m",
        "colab": {
          "base_uri": "https://localhost:8080/",
          "height": 317
        },
        "outputId": "6f763333-0d45-4d0a-bdb7-23b286495e8f"
      },
      "execution_count": null,
      "outputs": [
        {
          "output_type": "error",
          "ename": "UnboundLocalError",
          "evalue": "ignored",
          "traceback": [
            "\u001b[0;31m---------------------------------------------------------------------------\u001b[0m",
            "\u001b[0;31mUnboundLocalError\u001b[0m                         Traceback (most recent call last)",
            "\u001b[0;32m<ipython-input-2-edfcd82b525f>\u001b[0m in \u001b[0;36m<module>\u001b[0;34m()\u001b[0m\n\u001b[1;32m      4\u001b[0m   \u001b[0mprint\u001b[0m\u001b[0;34m(\u001b[0m\u001b[0ms\u001b[0m\u001b[0;34m)\u001b[0m\u001b[0;34m\u001b[0m\u001b[0;34m\u001b[0m\u001b[0m\n\u001b[1;32m      5\u001b[0m \u001b[0;34m\u001b[0m\u001b[0m\n\u001b[0;32m----> 6\u001b[0;31m \u001b[0mfunc_s\u001b[0m\u001b[0;34m(\u001b[0m\u001b[0;34m)\u001b[0m\u001b[0;34m\u001b[0m\u001b[0;34m\u001b[0m\u001b[0m\n\u001b[0m",
            "\u001b[0;32m<ipython-input-2-edfcd82b525f>\u001b[0m in \u001b[0;36mfunc_s\u001b[0;34m()\u001b[0m\n\u001b[1;32m      1\u001b[0m \u001b[0;32mdef\u001b[0m \u001b[0mfunc_s\u001b[0m\u001b[0;34m(\u001b[0m\u001b[0;34m)\u001b[0m\u001b[0;34m:\u001b[0m\u001b[0;34m\u001b[0m\u001b[0;34m\u001b[0m\u001b[0m\n\u001b[0;32m----> 2\u001b[0;31m   \u001b[0mprint\u001b[0m\u001b[0;34m(\u001b[0m\u001b[0ms\u001b[0m\u001b[0;34m)\u001b[0m \u001b[0;31m#gives error since print statement above assigned value\u001b[0m\u001b[0;34m\u001b[0m\u001b[0;34m\u001b[0m\u001b[0m\n\u001b[0m\u001b[1;32m      3\u001b[0m   \u001b[0ms\u001b[0m \u001b[0;34m=\u001b[0m \u001b[0;34m\"Simeen\"\u001b[0m\u001b[0;34m\u001b[0m\u001b[0;34m\u001b[0m\u001b[0m\n\u001b[1;32m      4\u001b[0m   \u001b[0mprint\u001b[0m\u001b[0;34m(\u001b[0m\u001b[0ms\u001b[0m\u001b[0;34m)\u001b[0m\u001b[0;34m\u001b[0m\u001b[0;34m\u001b[0m\u001b[0m\n\u001b[1;32m      5\u001b[0m \u001b[0;34m\u001b[0m\u001b[0m\n",
            "\u001b[0;31mUnboundLocalError\u001b[0m: local variable 's' referenced before assignment"
          ]
        }
      ]
    },
    {
      "cell_type": "code",
      "source": [
        "a=abc()\n",
        "a.__dict__['salary'] = 2000000"
      ],
      "metadata": {
        "id": "tUtF_pCxWrfh"
      },
      "execution_count": null,
      "outputs": []
    },
    {
      "cell_type": "code",
      "source": [
        "class aa:\n",
        "  def __init__(self):\n",
        "    self.age=12\n",
        "    self.name='aabs'\n",
        "\n",
        "  def sho():\n",
        "    del self.age"
      ],
      "metadata": {
        "id": "i9mocIqbZT8f"
      },
      "execution_count": null,
      "outputs": []
    },
    {
      "cell_type": "code",
      "source": [
        ""
      ],
      "metadata": {
        "id": "FN6p3HX9ZpXh"
      },
      "execution_count": null,
      "outputs": []
    }
  ]
}