{
  "nbformat": 4,
  "nbformat_minor": 0,
  "metadata": {
    "colab": {
      "name": "Dictionary - Python.ipynb",
      "provenance": [],
      "authorship_tag": "ABX9TyNcC3qvVpuMzc20A1JqbPNB",
      "include_colab_link": true
    },
    "kernelspec": {
      "name": "python3",
      "display_name": "Python 3"
    },
    "language_info": {
      "name": "python"
    }
  },
  "cells": [
    {
      "cell_type": "markdown",
      "metadata": {
        "id": "view-in-github",
        "colab_type": "text"
      },
      "source": [
        "<a href=\"https://colab.research.google.com/github/Simeen01/Python-Solutions/blob/main/Dictionary_Python.ipynb\" target=\"_parent\"><img src=\"https://colab.research.google.com/assets/colab-badge.svg\" alt=\"Open In Colab\"/></a>"
      ]
    },
    {
      "cell_type": "markdown",
      "source": [
        "1. We have following information on countries and their population (population is in crores),\n",
        "\n",
        "\n",
        "```\n",
        " |Country|Population|\n",
        "    |-------|----------|\n",
        "    |China|143|\n",
        "    |India|136|\n",
        "    |USA|32|\n",
        "    |Pakistan|21|\n",
        "```\n",
        "\n",
        "\n",
        "   \n",
        "    1. Using above create a dictionary of countries and its population\n",
        "    2. Write a program that asks user for three type of inputs, \n",
        "        1. print: if user enter print then it should print all countries with their population in this format,\n",
        "            ```\n",
        "            china==>143\n",
        "            india==>136\n",
        "            usa==>32\n",
        "            pakistan==>21\n",
        "            ```\n",
        "    1. add: if user input add then it should further ask for a country name to add. If country already exist in our dataset then it should print that it exist and do nothing. If it doesn't then it asks for population and add that new country/population in our dictionary and print it\n",
        "\n",
        "     2. remove: when user inputs remove it should ask for a country to remove. If country exist in our dictionary then remove it and print new dictionary using format shown above in (a). Else print that country doesn't exist!\n",
        "\n",
        "     3. query: on this again ask user for which country he or she wants to query. When user inputs that country it will print population of that country."
      ],
      "metadata": {
        "id": "2lLlrlcBnmhM"
      }
    },
    {
      "cell_type": "code",
      "execution_count": null,
      "metadata": {
        "colab": {
          "base_uri": "https://localhost:8080/"
        },
        "id": "KdggZlGImWtH",
        "outputId": "6f5aeb36-2e25-45ac-fa5a-cb75dfab0a81"
      },
      "outputs": [
        {
          "output_type": "stream",
          "name": "stdout",
          "text": [
            "Enter your input:query\n",
            "Enter country you want to query about: China\n",
            "Popuation: 143\n"
          ]
        }
      ],
      "source": [
        "#Q1.\n",
        "dict1 = {\"China\":143, \"India\":136, \"USA\":32, \"Pakistan\":21}\n",
        "\n",
        "#Q2.\n",
        "\n",
        "\n",
        "x = input(\"Enter your input:\")\n",
        "x = x.lower() \n",
        "\n",
        "#if user enters the word print\n",
        "\n",
        "if x == \"print\":\n",
        "  for key,val in dict1.items():\n",
        "    print(key,\"==>\",val)\n",
        "\n",
        "# for i in dict1:\n",
        "#   print(i,\"==>\",dict1[i])\n",
        "\n",
        "\n",
        "#if user enters the word add\n",
        "elif x == \"add\":\n",
        "  country = input(\"Enter a country name to add: \")\n",
        "  country = country.lower()\n",
        "  \n",
        "  if country in dict1.keys():\n",
        "    print(\"The entered country exists.\")\n",
        "  else:\n",
        "    population = input(\"Enter the population: \")\n",
        "    dict1.update({country:population})\n",
        "  print(dict1)\n",
        "\n",
        "#if user enters the word remove\n",
        "elif x == \"remove\":\n",
        "  rem = input(\"Enter a country to remove:\")\n",
        "  rem = rem.lower()\n",
        "\n",
        "  if rem in dict1.keys():\n",
        "    dict1.pop(rem)\n",
        "    for i in dict1:\n",
        "      print(\"\\n\",i,\"==>\",dict1[i])\n",
        "  else:\n",
        "    print(\"Country doesn't exist!\")\n",
        "\n",
        "#if user enters the word query\n",
        "elif x == \"query\":\n",
        "  ask = input(\"Enter country you want to query about: \")\n",
        "  ask = ask.lower()\n",
        "\n",
        "  if ask in dict1:\n",
        "    print(\"Popuation:\",dict1[ask])\n",
        "  else:\n",
        "    print(\"Country not found in the database!\")\n",
        "\n",
        "else:\n",
        "  print(\"Invalid input! Try again.\")"
      ]
    },
    {
      "cell_type": "markdown",
      "source": [
        "1.Convert two lists into a dictionary | keys= ['Ten','Twenty','Thirty'],values=[10,20,30] expected o/p: {'Ten': 10, 'Twenty': 20, 'Thirty': 30}"
      ],
      "metadata": {
        "id": "0N8KTcxCn8gQ"
      }
    },
    {
      "cell_type": "code",
      "source": [
        "keys= ['Ten','Twenty','Thirty']\n",
        "values=[10,20,30]\n",
        "\n",
        "d = dict(zip(keys,values))\n",
        "print(d)"
      ],
      "metadata": {
        "colab": {
          "base_uri": "https://localhost:8080/"
        },
        "id": "wrAsGIZZn8ur",
        "outputId": "8dc07df8-3326-475a-d92f-bb4b71df5cd9"
      },
      "execution_count": null,
      "outputs": [
        {
          "output_type": "stream",
          "name": "stdout",
          "text": [
            "{'Ten': 10, 'Twenty': 20, 'Thirty': 30}\n"
          ]
        }
      ]
    },
    {
      "cell_type": "markdown",
      "source": [
        "2.Merge two Python dictionaries into one |dict1={'Ten': 10, 'Twenty': 20, 'Thirty': 30},dict2 = {'Thirty': 30, 'Fourty': 40, 'Fifty': 50}  \n",
        "\texpected o/p: {'Ten': 10, 'Twenty': 20, 'Thirty': 30, 'Fourty': 40, 'Fifty': 50}"
      ],
      "metadata": {
        "id": "u8gXa3Con-pR"
      }
    },
    {
      "cell_type": "code",
      "source": [
        "dict1={'Ten': 10, 'Twenty': 20, 'Thirty': 30}\n",
        "dict2 = {'Thirty': 30, 'Fourty': 40, 'Fifty': 50}\n",
        "output = {}\n",
        "\n",
        "output = dict1.copy()\n",
        "output.update(dict2)\n",
        "print(output)"
      ],
      "metadata": {
        "colab": {
          "base_uri": "https://localhost:8080/"
        },
        "id": "xaZoZr2Fn-3u",
        "outputId": "cfc5a3a7-dd90-4394-b0e2-d37829bd1f3d"
      },
      "execution_count": null,
      "outputs": [
        {
          "output_type": "stream",
          "name": "stdout",
          "text": [
            "{'Ten': 10, 'Twenty': 20, 'Thirty': 30, 'Fourty': 40, 'Fifty': 50}\n"
          ]
        }
      ]
    },
    {
      "cell_type": "markdown",
      "source": [
        "3.Print the value of key ‘history’ from the below dict |dict1= {\"class\":{\"student\":{\"name\": \"Mike\",\"marks\":{\"physics\": 70,\"history\": 80}}}} expected o/p: 80"
      ],
      "metadata": {
        "id": "M1ZX5hxloAVp"
      }
    },
    {
      "cell_type": "code",
      "source": [
        "dict1= {\"class\":{\n",
        "    \"student\":{\n",
        "        \"name\": \"Mike\",\n",
        "        \"marks\":{\n",
        "            \"physics\": 70,\n",
        "            \"history\": 80}}}}\n",
        "\n",
        "print(dict1[\"class\"][\"student\"][\"marks\"][\"history\"])"
      ],
      "metadata": {
        "colab": {
          "base_uri": "https://localhost:8080/"
        },
        "id": "6IzVdR0voAjt",
        "outputId": "f745fe07-1492-4fd4-aeb3-4fa9ac386208"
      },
      "execution_count": null,
      "outputs": [
        {
          "output_type": "stream",
          "name": "stdout",
          "text": [
            "80\n"
          ]
        }
      ]
    },
    {
      "cell_type": "markdown",
      "source": [
        "4.Initialize dictionary with default values | employees = ['Kelly', 'Emma'],defaults = {\"designation\": 'Developer', \"salary\": 8000} \n",
        "\texpected o/p: {'Kelly': {'designation': 'Developer', 'salary': 8000}, 'Emma': {'designation': 'Developer', 'salary': 8000}}"
      ],
      "metadata": {
        "id": "shF4yB2woCRF"
      }
    },
    {
      "cell_type": "code",
      "source": [
        "employees = ['Kelly', 'Emma']\n",
        "defaults = {\"designation\": 'Developer', \"salary\": 8000}\n",
        "dict1 = {}\n",
        "\n",
        "for i in range(len(employees)):\n",
        "  dict1.update({employees[i]:defaults})\n",
        "print(dict1)"
      ],
      "metadata": {
        "colab": {
          "base_uri": "https://localhost:8080/"
        },
        "id": "cXgkeFmkoCfx",
        "outputId": "41762cf5-130f-4860-b1f6-f7ba302fbdac"
      },
      "execution_count": null,
      "outputs": [
        {
          "output_type": "stream",
          "name": "stdout",
          "text": [
            "{'Kelly': {'designation': 'Developer', 'salary': 8000}, 'Emma': {'designation': 'Developer', 'salary': 8000}}\n"
          ]
        }
      ]
    },
    {
      "cell_type": "markdown",
      "source": [
        "5.Create a dictionary by extracting the keys from a given dictionary | dict1={\"name\":\"Kelly\",\"age\": 25,\"salary\": 8000,\"city\": \"New york\"}\n",
        "\t# following Keys to extract,  keys = [\"name\", \"salary\"]   expected o/p: {'name': 'Kelly', 'salary': 8000}"
      ],
      "metadata": {
        "id": "7cAhgn3WoHUl"
      }
    },
    {
      "cell_type": "code",
      "source": [
        "dict1={\"name\":\"Kelly\",\"age\": 25,\"salary\": 8000,\"city\": \"New york\"}\n",
        "keys = [\"name\", \"salary\"] \n",
        "d = {}\n",
        "\n",
        "for i in keys:\n",
        "  if i in dict1:\n",
        "    d.update({i:dict1[i]})\n",
        "\n",
        "print(d)"
      ],
      "metadata": {
        "colab": {
          "base_uri": "https://localhost:8080/"
        },
        "id": "G0PpUo8WoHkv",
        "outputId": "8f1f65f2-f2cd-4cdf-a80e-9f5a799b9985"
      },
      "execution_count": null,
      "outputs": [
        {
          "output_type": "stream",
          "name": "stdout",
          "text": [
            "{'name': 'Kelly', 'salary': 8000}\n"
          ]
        }
      ]
    },
    {
      "cell_type": "markdown",
      "source": [
        "6.Delete a list of keys from a dictionary |dict1={\"name\":\"Kelly\",\"age\": 25,\"salary\": 8000,\"city\": \"New york\"}\n",
        "\t# following Keys to remove,  keys = [\"name\", \"salary\"]  expected o/p:{'city': 'New york', 'age': 25}."
      ],
      "metadata": {
        "id": "xuesnPxcoJ7v"
      }
    },
    {
      "cell_type": "code",
      "source": [
        "dict1={\"name\":\"Kelly\",\"age\": 25,\"salary\": 8000,\"city\": \"New york\"}\n",
        "keys = [\"name\", \"salary\"]\n",
        "\n",
        "for i in keys:\n",
        "    dict1.pop(i)\n",
        "print(dict1)"
      ],
      "metadata": {
        "colab": {
          "base_uri": "https://localhost:8080/"
        },
        "id": "Ni30ZGOMoKKi",
        "outputId": "e21bfcfe-4638-4d19-eae1-6347fa3bdabe"
      },
      "execution_count": null,
      "outputs": [
        {
          "output_type": "stream",
          "name": "stdout",
          "text": [
            "{'age': 25, 'city': 'New york'}\n"
          ]
        }
      ]
    },
    {
      "cell_type": "markdown",
      "source": [
        "7.Check if a value exists in a dictionary |dict1 = {'a': 100, 'b': 200, 'c': 300} expected  o/p: 200 present in a dict"
      ],
      "metadata": {
        "id": "ZWJQ_qFLoLiI"
      }
    },
    {
      "cell_type": "code",
      "source": [
        "dict1 = {'a': 100, 'b': 200, 'c': 300} \n",
        "\n",
        "if 200 in dict1.values():\n",
        "  print(\"200 exists in a dict\")\n",
        "else:\n",
        "  print(\"Does not exist\")"
      ],
      "metadata": {
        "id": "o-m38MZboLwC",
        "colab": {
          "base_uri": "https://localhost:8080/"
        },
        "outputId": "49ac0f68-6f05-4320-c8cf-ceecaeb3fc66"
      },
      "execution_count": null,
      "outputs": [
        {
          "output_type": "stream",
          "name": "stdout",
          "text": [
            "200 exists in a dict\n"
          ]
        }
      ]
    },
    {
      "cell_type": "markdown",
      "source": [
        "8.Rename key of a dictionary |sample_dict = {\"name\": \"Kelly\",\"age\":25,\"salary\": 8000,\"city\": \"New york\"} \n",
        "\texpected o/p:{'name': 'Kelly', 'age': 25, 'salary': 8000, 'location': 'New york'}"
      ],
      "metadata": {
        "id": "9JcmcmdaoNb2"
      }
    },
    {
      "cell_type": "code",
      "source": [
        "sample_dict = {\"name\": \"Kelly\",\"age\":25,\"salary\": 8000,\"city\": \"New york\"}\n",
        "\n",
        "sample_dict[\"location\"] = sample_dict.pop(\"city\")\n",
        "print(sample_dict)"
      ],
      "metadata": {
        "id": "SVyVz0UooNqI",
        "colab": {
          "base_uri": "https://localhost:8080/"
        },
        "outputId": "c05e15c8-1a47-4c13-8b53-1ee79da05bc1"
      },
      "execution_count": null,
      "outputs": [
        {
          "output_type": "stream",
          "name": "stdout",
          "text": [
            "{'name': 'Kelly', 'age': 25, 'salary': 8000, 'location': 'New york'}\n"
          ]
        }
      ]
    },
    {
      "cell_type": "markdown",
      "source": [
        "9.Change value of a key in a nested dictionary |dict1= {'emp1': {'name': 'Jhon', 'salary': 7500},'emp2': {'name': 'Emma', 'salary': 8000},\n",
        "'emp3': {'name': 'Brad', 'salary': 500}}  expected o/p: {'emp1':{'name':'Jhon','salary':7500},'emp2':{'name':'Emma','salary':8000},'emp3':{'name':'Brad','salary': 8500}}"
      ],
      "metadata": {
        "id": "j2gi8McAoPkg"
      }
    },
    {
      "cell_type": "code",
      "source": [
        "dict1= {'emp1': {'name': 'Jhon', 'salary': 7500},\n",
        "        'emp2': {'name': 'Emma', 'salary': 8000}, \n",
        "        'emp3': {'name': 'Brad', 'salary': 500}}\n",
        "\n",
        "dict1[\"emp3\"][\"salary\"] = 8500\n",
        "print(dict1)"
      ],
      "metadata": {
        "id": "1BkSpiocoP3h",
        "colab": {
          "base_uri": "https://localhost:8080/"
        },
        "outputId": "1417b326-b7a2-4c84-9c62-7adea145cfc0"
      },
      "execution_count": null,
      "outputs": [
        {
          "output_type": "stream",
          "name": "stdout",
          "text": [
            "{'emp1': {'name': 'Jhon', 'salary': 7500}, 'emp2': {'name': 'Emma', 'salary': 8000}, 'emp3': {'name': 'Brad', 'salary': 8500}}\n"
          ]
        }
      ]
    },
    {
      "cell_type": "markdown",
      "source": [
        "10.Write a Python program to concatenate following dictionaries to create a new one|dic1={1:10, 2:20},dic2={3:30, 4:40},dic3={5:50,6:60}\n",
        "\texpected o/p: {1: 10, 2: 20, 3: 30, 4: 40, 5: 50, 6: 60}"
      ],
      "metadata": {
        "id": "L0vYSGpKoRYa"
      }
    },
    {
      "cell_type": "code",
      "source": [
        "dic1={1:10, 2:20}\n",
        "dic2={3:30, 4:40}\n",
        "dic3={5:50,6:60} \n",
        "\n",
        "d = dic1.copy()\n",
        "d.update(dic2)\n",
        "d.update(dic3)\n",
        "print(d)"
      ],
      "metadata": {
        "id": "kF14Bu6ooRng",
        "colab": {
          "base_uri": "https://localhost:8080/"
        },
        "outputId": "93bb43ef-ddf0-4799-e405-0ff0d155eb52"
      },
      "execution_count": null,
      "outputs": [
        {
          "output_type": "stream",
          "name": "stdout",
          "text": [
            "{1: 10, 2: 20, 3: 30, 4: 40, 5: 50, 6: 60}\n"
          ]
        }
      ]
    },
    {
      "cell_type": "markdown",
      "source": [
        "11.Add a key to a dictionary | d = {0:10, 1:20}  expected o/p: {0: 10, 1: 20, 2: 30} "
      ],
      "metadata": {
        "id": "cy8uPHxroTJM"
      }
    },
    {
      "cell_type": "code",
      "source": [
        "d = {0:10, 1:20}\n",
        "d[2] = 30\n",
        "d"
      ],
      "metadata": {
        "id": "CbfFwYASoTYL",
        "colab": {
          "base_uri": "https://localhost:8080/"
        },
        "outputId": "3de6c30b-5209-4249-de63-9e4f1bdb4f28"
      },
      "execution_count": null,
      "outputs": [
        {
          "output_type": "execute_result",
          "data": {
            "text/plain": [
              "{0: 10, 1: 20, 2: 30}"
            ]
          },
          "metadata": {},
          "execution_count": 18
        }
      ]
    },
    {
      "cell_type": "markdown",
      "source": [
        "12.Print a dictionary where the keys are numbers between 1 and 15 and the values are square of keys. \n",
        "\texpected o/p: {1: 1, 2: 4, 3: 9, 4: 16, 5: 25, 6: 36, 7: 49, 8: 64, 9: 81, 10: 100, 11: 121, 12: 144, 13: 169, 14: 196, 15: 225}"
      ],
      "metadata": {
        "id": "FyCamzaxoVzA"
      }
    },
    {
      "cell_type": "code",
      "source": [
        "squares = {i:i**2 for i in range(1,16)}\n",
        "print(squares)"
      ],
      "metadata": {
        "id": "9LH0Wwy4oWG5",
        "colab": {
          "base_uri": "https://localhost:8080/"
        },
        "outputId": "767bb73e-e241-40ca-c933-6da4733f0236"
      },
      "execution_count": null,
      "outputs": [
        {
          "output_type": "stream",
          "name": "stdout",
          "text": [
            "{1: 1, 2: 4, 3: 9, 4: 16, 5: 25, 6: 36, 7: 49, 8: 64, 9: 81, 10: 100, 11: 121, 12: 144, 13: 169, 14: 196, 15: 225}\n"
          ]
        }
      ]
    },
    {
      "cell_type": "markdown",
      "source": [
        "13.Write a Python program to iterate over dictionaries using for loops. |d = {'Red': 1, 'Green': 2, 'Blue': 3} \n",
        "\texpected o/p: Red corresponds to 1      Green corresponds to  2    Blue corresponds to  3"
      ],
      "metadata": {
        "id": "RzJri4y6oZGe"
      }
    },
    {
      "cell_type": "code",
      "source": [
        "d = {'Red': 1, 'Green': 2, 'Blue': 3}\n",
        "\n",
        "for i in d:\n",
        "  print(i,\"corresponds to\",d[i])"
      ],
      "metadata": {
        "id": "q5Drg--noZXb",
        "colab": {
          "base_uri": "https://localhost:8080/"
        },
        "outputId": "7fb7b351-d85e-4fd5-cd68-e91e1a58b2e1"
      },
      "execution_count": null,
      "outputs": [
        {
          "output_type": "stream",
          "name": "stdout",
          "text": [
            "Red corresponds to 1\n",
            "Green corresponds to 2\n",
            "Blue corresponds to 3\n"
          ]
        }
      ]
    },
    {
      "cell_type": "markdown",
      "source": [
        "14.Write a Python program to sum all the items in a dictionary.|my_dict = {'data1':100,'data2':-54,'data3':247} expected o/p:293"
      ],
      "metadata": {
        "id": "YWMFNJW7obkj"
      }
    },
    {
      "cell_type": "code",
      "source": [
        "my_dict = {'data1':100,'data2':-54,'data3':247}\n",
        "sum = 0\n",
        "\n",
        "for i in my_dict.values():\n",
        "  sum = sum + i\n",
        "print(sum)"
      ],
      "metadata": {
        "id": "lznU-Ua_obzr",
        "colab": {
          "base_uri": "https://localhost:8080/"
        },
        "outputId": "6fab3a34-19e4-463f-ee2d-5ddd7cf006d4"
      },
      "execution_count": null,
      "outputs": [
        {
          "output_type": "stream",
          "name": "stdout",
          "text": [
            "293\n"
          ]
        }
      ]
    },
    {
      "cell_type": "markdown",
      "source": [
        "15.Write a Python program to multiply all the items in a dictionary. |my_dict = {'data1':100,'data2':54,'data3':247} expected o/p:1333800"
      ],
      "metadata": {
        "id": "_TZzs8iZodQ6"
      }
    },
    {
      "cell_type": "code",
      "source": [
        "my_dict = {'data1':100,'data2':54,'data3':247}\n",
        "mul = 1\n",
        "\n",
        "for i in my_dict.values():\n",
        "  mul = mul * i\n",
        "print(mul)"
      ],
      "metadata": {
        "id": "dcaQ_Zb-odfg",
        "colab": {
          "base_uri": "https://localhost:8080/"
        },
        "outputId": "9a1d1f4e-9e7f-43ba-be58-86f151198dc0"
      },
      "execution_count": null,
      "outputs": [
        {
          "output_type": "stream",
          "name": "stdout",
          "text": [
            "1333800\n"
          ]
        }
      ]
    },
    {
      "cell_type": "markdown",
      "source": [
        "16.Write a Python program to convert given a dictionary to a list of tuples.  |d = {'Red': 1, 'Green': 3, 'White': 5, 'Black': 2, 'Pink': 4}\n",
        "\texpected o/p: [('Red', 1), ('Green', 3), ('White', 5), ('Black', 2), ('Pink', 4)]"
      ],
      "metadata": {
        "id": "ZZQGEXHqogBv"
      }
    },
    {
      "cell_type": "code",
      "source": [
        "d = {'Red': 1, 'Green': 3, 'White': 5, 'Black': 2, 'Pink': 4}\n",
        "\n",
        "l = [(i,j) for i,j in d.items()]\n",
        "print(l)"
      ],
      "metadata": {
        "id": "Uz6mp7V_ogSK",
        "colab": {
          "base_uri": "https://localhost:8080/"
        },
        "outputId": "6ae53434-7cae-4dae-ffb1-74feff62fea5"
      },
      "execution_count": null,
      "outputs": [
        {
          "output_type": "stream",
          "name": "stdout",
          "text": [
            "[('Red', 1), ('Green', 3), ('White', 5), ('Black', 2), ('Pink', 4)]\n"
          ]
        }
      ]
    },
    {
      "cell_type": "markdown",
      "source": [
        "17.Write a Python program to invert a dictionary with unique hashable values.|s = {'Theodore': 10,'Mathew': 11,'Roxanne': 9}  \n",
        "\texpected o/p: {10: 'Theodore', 11: 'Mathew', 9: 'Roxanne'}"
      ],
      "metadata": {
        "id": "hJbj8z70oiWf"
      }
    },
    {
      "cell_type": "code",
      "source": [
        "s = {'Theodore': 10,'Mathew': 11,'Roxanne': 9}\n",
        "temp = {v:k for k,v in s.items()}\n",
        "\n",
        "print(temp)"
      ],
      "metadata": {
        "id": "9evObt4Uoisv",
        "colab": {
          "base_uri": "https://localhost:8080/"
        },
        "outputId": "8c50a1d4-c731-476c-ba83-e8441372071a"
      },
      "execution_count": null,
      "outputs": [
        {
          "output_type": "stream",
          "name": "stdout",
          "text": [
            "{10: 'Theodore', 11: 'Mathew', 9: 'Roxanne'}\n"
          ]
        }
      ]
    },
    {
      "cell_type": "markdown",
      "source": [
        "18.Write a Python program to access dictionary key's element by index.| num = {'physics': 80, 'math': 90, 'chemistry': 86}\n",
        "\texpected o/p: physics  math  chemistry  "
      ],
      "metadata": {
        "id": "1mQBaiKkolAV"
      }
    },
    {
      "cell_type": "code",
      "source": [
        "num = {'physics': 80, 'math': 90, 'chemistry': 86}\n",
        "\n",
        "for i in num:\n",
        "  print(i)"
      ],
      "metadata": {
        "id": "ZLtGy1FUolPZ",
        "colab": {
          "base_uri": "https://localhost:8080/"
        },
        "outputId": "6d39cf30-0254-4485-c359-4d20567de5ad"
      },
      "execution_count": null,
      "outputs": [
        {
          "output_type": "stream",
          "name": "stdout",
          "text": [
            "physics\n",
            "math\n",
            "chemistry\n"
          ]
        }
      ]
    },
    {
      "cell_type": "markdown",
      "source": [
        "19.A Python Dictionary contains List as value. Write a Python program to clear the list values in the said dictionary.\n",
        "\texpected o/p: {'C1': [], 'C2': [], 'C3': []}"
      ],
      "metadata": {
        "id": "Rnfm4YkRom4X"
      }
    },
    {
      "cell_type": "code",
      "source": [
        "dict1 = {\"C1\":[2,3,4],\"C2\":[6,7,8],'C3':[8,45,33]}\n",
        "\n",
        "for k,v in dict1.items():\n",
        "  v.clear()\n",
        "print(dict1)"
      ],
      "metadata": {
        "id": "Q0Y9EWG0onH9",
        "colab": {
          "base_uri": "https://localhost:8080/"
        },
        "outputId": "c76542de-8f2b-4359-a15c-4fd5fbeb5c79"
      },
      "execution_count": null,
      "outputs": [
        {
          "output_type": "stream",
          "name": "stdout",
          "text": [
            "{'C1': [], 'C2': [], 'C3': []}\n"
          ]
        }
      ]
    },
    {
      "cell_type": "markdown",
      "source": [
        "20.Write a Python program to drop empty Items from a given Dictionary.|dict1 = {'c1': 'Red', 'c2': 'Green', 'c3':None}  expected o/p: {'c1': 'Red', 'c2': 'Green'}"
      ],
      "metadata": {
        "id": "wue_mgqNooiW"
      }
    },
    {
      "cell_type": "code",
      "source": [
        "dict1 = {'c1': 'Red', 'c3':None,'c2': 'Green', 'c4':[]}\n",
        "empty = [None,(),[],\"\"]\n",
        "\n",
        "for k,v in list(dict1.items()):\n",
        "  if v in empty:\n",
        "    dict1.pop(k)\n",
        "print(dict1)"
      ],
      "metadata": {
        "id": "n0DriKl_oo6g",
        "colab": {
          "base_uri": "https://localhost:8080/"
        },
        "outputId": "f638086a-ad42-4404-f872-8be0be0feef4"
      },
      "execution_count": null,
      "outputs": [
        {
          "output_type": "stream",
          "name": "stdout",
          "text": [
            "{'c1': 'Red', 'c2': 'Green'}\n"
          ]
        }
      ]
    },
    {
      "cell_type": "markdown",
      "source": [
        "1.Python | Sort Python Dictionaries by Key or Value"
      ],
      "metadata": {
        "id": "TwTCI5hSosub"
      }
    },
    {
      "cell_type": "code",
      "source": [
        "num = {'physics': 80, 'math': 90, 'chemistry': 86}\n",
        "\n",
        "l = [(k,v) for k,v in num.items()]\n",
        "l.sort()\n",
        "print(dict(l))"
      ],
      "metadata": {
        "id": "OxUtyP8Cos-Q",
        "colab": {
          "base_uri": "https://localhost:8080/"
        },
        "outputId": "b272bbc1-758e-4d4f-9c32-73c57e949480"
      },
      "execution_count": null,
      "outputs": [
        {
          "output_type": "stream",
          "name": "stdout",
          "text": [
            "{'chemistry': 86, 'math': 90, 'physics': 80}\n"
          ]
        }
      ]
    },
    {
      "cell_type": "markdown",
      "source": [
        "2.Handling missing keys in Python dictionaries"
      ],
      "metadata": {
        "id": "XaNgznobot6K"
      }
    },
    {
      "cell_type": "code",
      "source": [
        "num = {\"\": 80, 'math': 90, None: 86}\n",
        "empty = [None,(),[],\"\"]\n",
        "\n",
        "while k in empty:\n",
        "  for i in num.items():\n",
        "    if i[0] in empty:\n",
        "      del num[i[0]]\n",
        "      break\n",
        "print(num)\n"
      ],
      "metadata": {
        "id": "kDcfj8NMouIw"
      },
      "execution_count": null,
      "outputs": []
    },
    {
      "cell_type": "markdown",
      "source": [
        "3.Python dictionary with keys having multiple inputs"
      ],
      "metadata": {
        "id": "q75pjEkLovIA"
      }
    },
    {
      "cell_type": "code",
      "source": [
        "dict1 = {\"Simeen\":[1,2,3]}\n",
        "dict1[\"xyz\"] = [\"abc\",\"pqr\"]\n",
        "\n",
        "dict1"
      ],
      "metadata": {
        "id": "ncMl3gpDovYI",
        "colab": {
          "base_uri": "https://localhost:8080/"
        },
        "outputId": "b7ab9e43-3434-486d-eda3-f1ff4b595953"
      },
      "execution_count": null,
      "outputs": [
        {
          "output_type": "execute_result",
          "data": {
            "text/plain": [
              "{'Simeen': [1, 2, 3], 'xyz': ['abc', 'pqr']}"
            ]
          },
          "metadata": {},
          "execution_count": 38
        }
      ]
    },
    {
      "cell_type": "markdown",
      "source": [
        "4.Python program to find the sum of all items in a dictionary"
      ],
      "metadata": {
        "id": "inbYBDibow1s"
      }
    },
    {
      "cell_type": "code",
      "source": [
        "dict1 = {1:39, 2:8493, 3:89, 4:784}\n",
        "sum = 0\n",
        "\n",
        "for i in dict1.values():\n",
        "  sum = sum + i\n",
        "\n",
        "print(sum)"
      ],
      "metadata": {
        "id": "4IXk6JlioxNS",
        "colab": {
          "base_uri": "https://localhost:8080/"
        },
        "outputId": "b67580d4-6890-4281-fcaa-9bbef92ea85a"
      },
      "execution_count": null,
      "outputs": [
        {
          "output_type": "stream",
          "name": "stdout",
          "text": [
            "9405\n"
          ]
        }
      ]
    },
    {
      "cell_type": "markdown",
      "source": [
        "5.Python program to find the size of a Dictionary"
      ],
      "metadata": {
        "id": "_c_pooVroyUP"
      }
    },
    {
      "cell_type": "code",
      "source": [
        "dict1 = {1:39, 2:8493, 3:89, 4:784}\n",
        "len(dict1)"
      ],
      "metadata": {
        "id": "GRtI6jKBoyje",
        "colab": {
          "base_uri": "https://localhost:8080/"
        },
        "outputId": "0aab0c46-d271-40b1-c327-c52dd1c5048b"
      },
      "execution_count": null,
      "outputs": [
        {
          "output_type": "execute_result",
          "data": {
            "text/plain": [
              "4"
            ]
          },
          "metadata": {},
          "execution_count": 6
        }
      ]
    },
    {
      "cell_type": "markdown",
      "source": [
        "6.Ways to sort list of dictionaries by values in Python – Using itemgetter"
      ],
      "metadata": {
        "id": "eRZPkseOo0pL"
      }
    },
    {
      "cell_type": "code",
      "source": [
        "#sort by key\n",
        "num = {'physics': 80, 'math': 90, 'chemistry': 86}\n",
        "\n",
        "l = [(k,v) for k,v in num.items()]\n",
        "l.sort()\n",
        "print(dict(l))"
      ],
      "metadata": {
        "id": "AYrLfmq7o02U",
        "colab": {
          "base_uri": "https://localhost:8080/"
        },
        "outputId": "d69660ae-c034-41ed-ac35-aef8f8de8339"
      },
      "execution_count": null,
      "outputs": [
        {
          "output_type": "stream",
          "name": "stdout",
          "text": [
            "{'chemistry': 86, 'math': 90, 'physics': 80}\n"
          ]
        }
      ]
    },
    {
      "cell_type": "code",
      "source": [
        "lis = [{ \"name\" : \"Nandini\", \"age\" : 20}, \n",
        "{ \"name\" : \"Manjeet\", \"age\" : 20 },\n",
        "{ \"name\" : \"Nikhil\" , \"age\" : 19 }]\n",
        "  \n",
        "print sorted(lis, key=itemgetter('age'))"
      ],
      "metadata": {
        "colab": {
          "base_uri": "https://localhost:8080/",
          "height": 130
        },
        "id": "FVoNoTbSnx6p",
        "outputId": "14b6c1e4-e77f-470b-bcf7-45430ef2ff47"
      },
      "execution_count": null,
      "outputs": [
        {
          "output_type": "error",
          "ename": "SyntaxError",
          "evalue": "ignored",
          "traceback": [
            "\u001b[0;36m  File \u001b[0;32m\"<ipython-input-8-a4063af3b1c4>\"\u001b[0;36m, line \u001b[0;32m5\u001b[0m\n\u001b[0;31m    print sorted(lis, key=itemgetter('age'))\u001b[0m\n\u001b[0m               ^\u001b[0m\n\u001b[0;31mSyntaxError\u001b[0m\u001b[0;31m:\u001b[0m invalid syntax\n"
          ]
        }
      ]
    },
    {
      "cell_type": "markdown",
      "source": [
        "7.Ways to sort list of dictionaries by values in Python – Using lambda function"
      ],
      "metadata": {
        "id": "4lQBZl_8o2GM"
      }
    },
    {
      "cell_type": "code",
      "source": [
        ""
      ],
      "metadata": {
        "id": "F_TiBqudo2XL"
      },
      "execution_count": null,
      "outputs": []
    },
    {
      "cell_type": "markdown",
      "source": [
        "8.Python | Merging two Dictionaries"
      ],
      "metadata": {
        "id": "SZ_xMCfro3h6"
      }
    },
    {
      "cell_type": "code",
      "source": [
        "d1 = { \"name\" : \"Manjeet\", \"age\" : 20 }\n",
        "d2 = { 'physics': 80, 'math': 90, 'chemistry': 86 }\n",
        "\n",
        "d = d1.copy()\n",
        "d.update(d2)\n",
        "d"
      ],
      "metadata": {
        "id": "BkxENaTHo3tp",
        "colab": {
          "base_uri": "https://localhost:8080/"
        },
        "outputId": "38dfab0e-4288-46c1-f295-2818c5fd3528"
      },
      "execution_count": null,
      "outputs": [
        {
          "output_type": "execute_result",
          "data": {
            "text/plain": [
              "{'age': 20, 'chemistry': 86, 'math': 90, 'name': 'Manjeet', 'physics': 80}"
            ]
          },
          "metadata": {},
          "execution_count": 9
        }
      ]
    },
    {
      "cell_type": "markdown",
      "source": [
        "9.Program to create grade calculator in Python"
      ],
      "metadata": {
        "id": "QYkxwEpuo46G"
      }
    },
    {
      "cell_type": "code",
      "source": [
        "grade = {'A' : [i for i in range(90,101)], 'B' : [i for i in range(80,90)] , 'C' : [i for i in range(70,80)], 'D' : [i for i in range(60,70)], 'E' : [i for i in range(30,60)], 'F' : [i for i in range(0,30)]}\n",
        "\n",
        "marks = int(input(\"Enter your marks: \"))\n",
        "if marks in grade.values():\n",
        "  print(grade.keys())"
      ],
      "metadata": {
        "id": "sDsaFbHNo5Hg",
        "colab": {
          "base_uri": "https://localhost:8080/"
        },
        "outputId": "71eb0842-2109-4539-b6aa-f2e1f989f3a9"
      },
      "execution_count": null,
      "outputs": [
        {
          "name": "stdout",
          "output_type": "stream",
          "text": [
            "Enter your marks: 43\n"
          ]
        }
      ]
    },
    {
      "cell_type": "markdown",
      "source": [
        "10.Python – Insertion at the beginning in OrderedDict"
      ],
      "metadata": {
        "id": "kWM6hGTGo6mf"
      }
    },
    {
      "cell_type": "code",
      "source": [
        ""
      ],
      "metadata": {
        "id": "tGkAyF2qo6y4"
      },
      "execution_count": null,
      "outputs": []
    },
    {
      "cell_type": "markdown",
      "source": [
        "11.Python – Dictionary Values Mean"
      ],
      "metadata": {
        "id": "2b5EoWySo779"
      }
    },
    {
      "cell_type": "code",
      "source": [
        ""
      ],
      "metadata": {
        "id": "q4kTrdw0o8IO"
      },
      "execution_count": null,
      "outputs": []
    },
    {
      "cell_type": "markdown",
      "source": [
        "12.Python counter and dictionary intersection example (Make a string using deletion and rearrangement)"
      ],
      "metadata": {
        "id": "qA2-Qjrko9eF"
      }
    },
    {
      "cell_type": "code",
      "source": [
        ""
      ],
      "metadata": {
        "id": "xQj1WbENo9vQ"
      },
      "execution_count": null,
      "outputs": []
    },
    {
      "cell_type": "markdown",
      "source": [
        "13.Python dictionary, set and counter to check if frequencies can become same"
      ],
      "metadata": {
        "id": "c3LDdhyro_Ld"
      }
    },
    {
      "cell_type": "code",
      "source": [
        ""
      ],
      "metadata": {
        "id": "Ab4DsXyOo_a2"
      },
      "execution_count": null,
      "outputs": []
    },
    {
      "cell_type": "markdown",
      "source": [
        "14.Scraping And Finding Ordered Words In A Dictionary using Python"
      ],
      "metadata": {
        "id": "W0RdOIQ7pAwe"
      }
    },
    {
      "cell_type": "code",
      "source": [
        ""
      ],
      "metadata": {
        "id": "mfB7YOIapA9B"
      },
      "execution_count": null,
      "outputs": []
    },
    {
      "cell_type": "markdown",
      "source": [
        "15.Possible Words using given characters in Python"
      ],
      "metadata": {
        "id": "y13D-m8DpCA9"
      }
    },
    {
      "cell_type": "code",
      "source": [
        ""
      ],
      "metadata": {
        "id": "s73DxxtYpCM0"
      },
      "execution_count": null,
      "outputs": []
    },
    {
      "cell_type": "markdown",
      "source": [
        "16.Python – Maximum record value key in dictionary"
      ],
      "metadata": {
        "id": "uMK2JgzkpDef"
      }
    },
    {
      "cell_type": "code",
      "source": [
        ""
      ],
      "metadata": {
        "id": "uM2Nq0_RpDsc"
      },
      "execution_count": null,
      "outputs": []
    },
    {
      "cell_type": "markdown",
      "source": [
        "17.Python – Extract values of Particular Key in Nested Values"
      ],
      "metadata": {
        "id": "tSdalHMjpFGa"
      }
    },
    {
      "cell_type": "code",
      "source": [
        ""
      ],
      "metadata": {
        "id": "3QfNGsYXpFTH"
      },
      "execution_count": null,
      "outputs": []
    },
    {
      "cell_type": "markdown",
      "source": [
        "1.Python | Check order of character in string using OrderedDict( )"
      ],
      "metadata": {
        "id": "iLrVgZgxpG_f"
      }
    },
    {
      "cell_type": "code",
      "source": [
        ""
      ],
      "metadata": {
        "id": "Fn9-_NT1pHLv"
      },
      "execution_count": null,
      "outputs": []
    },
    {
      "cell_type": "markdown",
      "source": [
        "2.Python | Find common elements in three sorted arrays by dictionary intersection"
      ],
      "metadata": {
        "id": "QrAho--SpIf2"
      }
    },
    {
      "cell_type": "markdown",
      "source": [
        "3.Dictionary and counter in Python to find winner of election"
      ],
      "metadata": {
        "id": "pjEtkz0fpIXc"
      }
    },
    {
      "cell_type": "code",
      "source": [
        ""
      ],
      "metadata": {
        "id": "8mVH1d6hpLHj"
      },
      "execution_count": null,
      "outputs": []
    },
    {
      "cell_type": "markdown",
      "source": [
        "4.Python – Key with maximum unique values"
      ],
      "metadata": {
        "id": "-hkMnnpzpMVb"
      }
    },
    {
      "cell_type": "code",
      "source": [
        ""
      ],
      "metadata": {
        "id": "nDRoBq_GpMhi"
      },
      "execution_count": null,
      "outputs": []
    },
    {
      "cell_type": "markdown",
      "source": [
        "5.Find all duplicate characters in string"
      ],
      "metadata": {
        "id": "qWhiF3cVpNzQ"
      }
    },
    {
      "cell_type": "code",
      "source": [
        ""
      ],
      "metadata": {
        "id": "zg4dkF_EpN-h"
      },
      "execution_count": null,
      "outputs": []
    },
    {
      "cell_type": "markdown",
      "source": [
        "6.Python – Group Similar items to Dictionary Values List"
      ],
      "metadata": {
        "id": "1HilQDTPpO_2"
      }
    },
    {
      "cell_type": "code",
      "source": [
        ""
      ],
      "metadata": {
        "id": "Qpaj_ahDpPK5"
      },
      "execution_count": null,
      "outputs": []
    },
    {
      "cell_type": "markdown",
      "source": [
        "7.K’th Non-repeating Character in Python using List Comprehension and OrderedDict"
      ],
      "metadata": {
        "id": "infHCx-wpQQU"
      }
    },
    {
      "cell_type": "code",
      "source": [
        ""
      ],
      "metadata": {
        "id": "EZxewlGxpQcR"
      },
      "execution_count": null,
      "outputs": []
    },
    {
      "cell_type": "markdown",
      "source": [
        "8.Python – Replace String by Kth Dictionary value"
      ],
      "metadata": {
        "id": "5N7vWg2npR1q"
      }
    },
    {
      "cell_type": "code",
      "source": [
        ""
      ],
      "metadata": {
        "id": "tDAuaFWRpSDG"
      },
      "execution_count": null,
      "outputs": []
    },
    {
      "cell_type": "markdown",
      "source": [
        "9.Python | Ways to remove a key from dictionary"
      ],
      "metadata": {
        "id": "chIaJVLBpTPR"
      }
    },
    {
      "cell_type": "code",
      "source": [
        ""
      ],
      "metadata": {
        "id": "69XcSwU3pTbi"
      },
      "execution_count": null,
      "outputs": []
    },
    {
      "cell_type": "markdown",
      "source": [
        "10.Python – Replace words from Dictionary"
      ],
      "metadata": {
        "id": "WuehQ0qSpVAB"
      }
    },
    {
      "cell_type": "code",
      "source": [
        ""
      ],
      "metadata": {
        "id": "yjeVo3LUpVQh"
      },
      "execution_count": null,
      "outputs": []
    },
    {
      "cell_type": "markdown",
      "source": [
        "11.Python – Remove Dictionary Key Words\n"
      ],
      "metadata": {
        "id": "XnUX1ksgpXQz"
      }
    },
    {
      "cell_type": "code",
      "source": [
        ""
      ],
      "metadata": {
        "id": "k5YyF6llpXcq"
      },
      "execution_count": null,
      "outputs": []
    },
    {
      "cell_type": "markdown",
      "source": [
        "12.Python | Remove all duplicates words from a given sentence"
      ],
      "metadata": {
        "id": "bCFIvcYIpYik"
      }
    },
    {
      "cell_type": "code",
      "source": [
        ""
      ],
      "metadata": {
        "id": "c13sdi1apYxQ"
      },
      "execution_count": null,
      "outputs": []
    },
    {
      "cell_type": "markdown",
      "source": [
        "13.Python – Remove duplicate values across Dictionary Values"
      ],
      "metadata": {
        "id": "W7gpiDqjpaB8"
      }
    },
    {
      "cell_type": "code",
      "source": [
        ""
      ],
      "metadata": {
        "id": "0fpfp0UXpaRu"
      },
      "execution_count": null,
      "outputs": []
    },
    {
      "cell_type": "markdown",
      "source": [
        "14.Python Dictionary to find mirror characters in a string"
      ],
      "metadata": {
        "id": "Ar8M18TmpbQk"
      }
    },
    {
      "cell_type": "code",
      "source": [
        ""
      ],
      "metadata": {
        "id": "Fna8mbvUpbdv"
      },
      "execution_count": null,
      "outputs": []
    },
    {
      "cell_type": "markdown",
      "source": [
        "15.Counting the frequencies in a list using dictionary in Python"
      ],
      "metadata": {
        "id": "4-SefztlpdEd"
      }
    },
    {
      "cell_type": "code",
      "source": [
        ""
      ],
      "metadata": {
        "id": "yKvDgpXYpdUJ"
      },
      "execution_count": null,
      "outputs": []
    }
  ]
}