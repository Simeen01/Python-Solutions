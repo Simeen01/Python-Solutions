{
  "nbformat": 4,
  "nbformat_minor": 0,
  "metadata": {
    "colab": {
      "name": "Sets.ipynb",
      "provenance": [],
      "authorship_tag": "ABX9TyP2WMnv3pIHmxB6+KcaUcd4",
      "include_colab_link": true
    },
    "kernelspec": {
      "name": "python3",
      "display_name": "Python 3"
    },
    "language_info": {
      "name": "python"
    }
  },
  "cells": [
    {
      "cell_type": "markdown",
      "metadata": {
        "id": "view-in-github",
        "colab_type": "text"
      },
      "source": [
        "<a href=\"https://colab.research.google.com/github/Simeen01/Python-Solutions/blob/main/Sets.ipynb\" target=\"_parent\"><img src=\"https://colab.research.google.com/assets/colab-badge.svg\" alt=\"Open In Colab\"/></a>"
      ]
    },
    {
      "cell_type": "markdown",
      "source": [
        "1.Add a list of elements to a set \n",
        "\n",
        "\n",
        "```\n",
        "s1= {\"Yellow\", \"Orange\", \"Black\"}\n",
        "l1= [\"Blue\", \"Green\", \"Red\"] \n",
        "```\n",
        "\n",
        "EXPECTED O/P: {'Green', 'Yellow', 'Black', 'Orange', 'Red', 'Blue'}"
      ],
      "metadata": {
        "id": "XeiYvCilsmP2"
      }
    },
    {
      "cell_type": "code",
      "execution_count": null,
      "metadata": {
        "colab": {
          "base_uri": "https://localhost:8080/"
        },
        "id": "xcWTZssnsgeX",
        "outputId": "93c28ad4-8694-493d-f95a-d851eabe6058"
      },
      "outputs": [
        {
          "output_type": "stream",
          "name": "stdout",
          "text": [
            "{'Yellow', 'Red', 'Green', 'Black', 'Blue', 'Orange'}\n"
          ]
        }
      ],
      "source": [
        "s1= {\"Yellow\", \"Orange\", \"Black\"}\n",
        "l1= [\"Blue\", \"Green\", \"Red\"] \n",
        "\n",
        "for i in range(len(l1)):\n",
        "  s1.add(l1[i])\n",
        "print(s1)"
      ]
    },
    {
      "cell_type": "markdown",
      "source": [
        "2.Return a new set of identical items from two sets |set1 = {10, 20, 30, 40, 50} & set2 = {30, 40, 50, 60, 70} EXPECTED O/P:{40, 50, 30}"
      ],
      "metadata": {
        "id": "OiiEiUypsvWa"
      }
    },
    {
      "cell_type": "code",
      "source": [
        "set1 = {10, 20, 30, 40, 50}\n",
        "set2 = {30, 40, 50, 60, 70}\n",
        "output = set({})\n",
        "\n",
        "for i in set1:\n",
        "  for x in set2:\n",
        "    if i == x:\n",
        "      output.add(i)\n",
        "print(output)"
      ],
      "metadata": {
        "colab": {
          "base_uri": "https://localhost:8080/"
        },
        "id": "Yfqunv9bsxR7",
        "outputId": "99388edc-5d71-45ce-c626-4b21b2cae21d"
      },
      "execution_count": null,
      "outputs": [
        {
          "output_type": "stream",
          "name": "stdout",
          "text": [
            "{40, 50, 30}\n"
          ]
        }
      ]
    },
    {
      "cell_type": "code",
      "source": [
        "set1 = {10, 20, 30, 40, 50}\n",
        "set2 = {30, 40, 50, 60, 70}\n",
        "\n",
        "output = set1.intersection(set2)\n",
        "print(output)"
      ],
      "metadata": {
        "colab": {
          "base_uri": "https://localhost:8080/"
        },
        "id": "5XlBtdiRwaBd",
        "outputId": "f7aafa13-0da3-4cbd-b775-b197fd795b0c"
      },
      "execution_count": null,
      "outputs": [
        {
          "output_type": "stream",
          "name": "stdout",
          "text": [
            "{40, 50, 30}\n"
          ]
        }
      ]
    },
    {
      "cell_type": "markdown",
      "source": [
        "3.Get Only unique items from two sets | set1 = {10, 20, 30, 40, 50} & set2 = {30, 40, 50, 60, 70} EXPECTED O/P: {70, 40, 10, 50, 20, 60, 30}"
      ],
      "metadata": {
        "id": "TRccDt7dsx0x"
      }
    },
    {
      "cell_type": "code",
      "source": [
        "set1 = {10, 20, 30, 40, 50}\n",
        "set2 = {30, 40, 50, 60, 70}\n",
        "\n",
        "output = set1.union(set2)\n",
        "output"
      ],
      "metadata": {
        "colab": {
          "base_uri": "https://localhost:8080/"
        },
        "id": "h5kgqBZxsz7G",
        "outputId": "b17a81da-415d-4097-d085-30bc6edd17fe"
      },
      "execution_count": null,
      "outputs": [
        {
          "output_type": "execute_result",
          "data": {
            "text/plain": [
              "{10, 20, 30, 40, 50, 60, 70}"
            ]
          },
          "metadata": {},
          "execution_count": 6
        }
      ]
    },
    {
      "cell_type": "markdown",
      "source": [
        "4.Update the first set with items that don’t exist in the second set| set1 = {10, 20, 30} & set2 = {20, 40, 50} EXPECTED O/P: set1 {10, 30}."
      ],
      "metadata": {
        "id": "tGrxYeabs0So"
      }
    },
    {
      "cell_type": "code",
      "source": [
        "set1 = {10, 20, 30}\n",
        "set2 = {20, 40, 50}\n",
        "\n",
        "set1.difference_update(set2) #difference_update : removes items that exist in both sets\n",
        "print(set1)"
      ],
      "metadata": {
        "colab": {
          "base_uri": "https://localhost:8080/"
        },
        "id": "YHOiFboNs1pq",
        "outputId": "47dc40ce-d8d5-46c5-f737-7e1de37670ad"
      },
      "execution_count": null,
      "outputs": [
        {
          "output_type": "stream",
          "name": "stdout",
          "text": [
            "{10, 30}\n"
          ]
        }
      ]
    },
    {
      "cell_type": "markdown",
      "source": [
        "5.Remove items from the set at once | set1 = {10, 20, 30, 40, 50} EXPECTED O/P: {40, 50}"
      ],
      "metadata": {
        "id": "aOP5O1Z6s3eI"
      }
    },
    {
      "cell_type": "code",
      "source": [
        "set1 = {10, 20, 30, 40, 50}\n",
        "r = {10,20,30}\n",
        "set1.difference_update(r)\n",
        "set1"
      ],
      "metadata": {
        "colab": {
          "base_uri": "https://localhost:8080/"
        },
        "id": "AMqiGG43s3vC",
        "outputId": "4c9c803b-e5a1-4483-fb9f-dc1c239f3c0d"
      },
      "execution_count": null,
      "outputs": [
        {
          "output_type": "execute_result",
          "data": {
            "text/plain": [
              "{40, 50}"
            ]
          },
          "metadata": {},
          "execution_count": 7
        }
      ]
    },
    {
      "cell_type": "markdown",
      "source": [
        "6.Return a set of elements present in Set A or B, but not both |set1 = {10, 20, 30, 40, 50} & set2 = {30, 40, 50, 60, 70} EXPECTED O/P:{20, 70, 10, 60}"
      ],
      "metadata": {
        "id": "80Cn1MKvs5FL"
      }
    },
    {
      "cell_type": "code",
      "source": [
        "set1 = {10, 20, 30, 40, 50}\n",
        "set2 = {30, 40, 50, 60, 70}\n",
        "\n",
        "a = set1.symmetric_difference(set2)   #symmetric_difference : All items except the same ones in 2 sets\n",
        "a"
      ],
      "metadata": {
        "colab": {
          "base_uri": "https://localhost:8080/"
        },
        "id": "11VXMXWRs5ca",
        "outputId": "6a5cba77-55d4-47ef-c187-adac402566e9"
      },
      "execution_count": null,
      "outputs": [
        {
          "output_type": "execute_result",
          "data": {
            "text/plain": [
              "{10, 20, 60, 70}"
            ]
          },
          "metadata": {},
          "execution_count": 10
        }
      ]
    },
    {
      "cell_type": "markdown",
      "source": [
        "7.Check if two sets have any elements in common. If yes, display the common elements| set1 = {10, 20, 30, 40, 50} & set2 = {60, 70, 80, 90, 10} \n",
        "\tEXPECTED O/P:Two sets have items in common   {10}"
      ],
      "metadata": {
        "id": "oRSgymn-s7Q0"
      }
    },
    {
      "cell_type": "code",
      "source": [
        "set1 = {10, 20, 30, 40, 50}\n",
        "set2 = {60, 70, 80, 90, 10} \n",
        "print(\"Two sets have items in common\",set1.intersection(set2))"
      ],
      "metadata": {
        "colab": {
          "base_uri": "https://localhost:8080/"
        },
        "id": "F9a9BLIZs7g_",
        "outputId": "c0b99b55-2576-475f-a32f-5b551aa069e4"
      },
      "execution_count": null,
      "outputs": [
        {
          "output_type": "stream",
          "name": "stdout",
          "text": [
            "Two sets have items in common {10}\n"
          ]
        }
      ]
    },
    {
      "cell_type": "markdown",
      "source": [
        "8.Update set1 by adding items from set2, except common items |set1 = {10, 20, 30, 40, 50} & set2 = {30, 40, 50, 60, 70} EXPECTED O/P: {70, 10, 20, 60}"
      ],
      "metadata": {
        "id": "1tWb1qSls8u0"
      }
    },
    {
      "cell_type": "code",
      "source": [
        "set1 = {10, 20, 30, 40, 50}\n",
        "set2 = {30, 40, 50, 60, 70}\n",
        "\n",
        "set1.symmetric_difference_update(set2)\n",
        "set1"
      ],
      "metadata": {
        "colab": {
          "base_uri": "https://localhost:8080/"
        },
        "id": "bg6IRP1vs8-J",
        "outputId": "d1871086-8ff9-4c33-ede9-9c09b916531a"
      },
      "execution_count": null,
      "outputs": [
        {
          "output_type": "execute_result",
          "data": {
            "text/plain": [
              "{10, 20, 60, 70}"
            ]
          },
          "metadata": {},
          "execution_count": 14
        }
      ]
    },
    {
      "cell_type": "markdown",
      "source": [
        "9.Remove items from set1 that are not common to both set1 and set2 | set1 = {10, 20, 30, 40, 50} & set2 = {30, 40, 50, 60, 70} EXPECTED O/P:{40, 50, 30}"
      ],
      "metadata": {
        "id": "2ukhMkD5s-Qw"
      }
    },
    {
      "cell_type": "code",
      "source": [
        "set1 = {10, 20, 30, 40, 50}\n",
        "set2 = {30, 40, 50, 60, 70}\n",
        "\n",
        "set1.intersection(set2)"
      ],
      "metadata": {
        "colab": {
          "base_uri": "https://localhost:8080/"
        },
        "id": "mzQVqK2Is-t9",
        "outputId": "d4d3332a-9936-45a8-ca56-acb70408e83b"
      },
      "execution_count": null,
      "outputs": [
        {
          "output_type": "execute_result",
          "data": {
            "text/plain": [
              "{30, 40, 50}"
            ]
          },
          "metadata": {},
          "execution_count": 17
        }
      ]
    },
    {
      "cell_type": "markdown",
      "source": [
        "10.Does converting an object to a set maintain the object’s order? "
      ],
      "metadata": {
        "id": "n0xVOFFHtAKn"
      }
    },
    {
      "cell_type": "markdown",
      "source": [
        "No, set is unordered."
      ],
      "metadata": {
        "id": "e-H41VZH3ZOs"
      }
    },
    {
      "cell_type": "markdown",
      "source": [
        "11.CHECK if a set a subset of another set | a = {4,5} b = {1,2,3,4,5}."
      ],
      "metadata": {
        "id": "DfS0dclPtBtV"
      }
    },
    {
      "cell_type": "code",
      "source": [
        "a = {4,5}\n",
        "b = {1,2,3,4,5}\n",
        "\n",
        "a.issubset(b)"
      ],
      "metadata": {
        "colab": {
          "base_uri": "https://localhost:8080/"
        },
        "id": "tsSPPN3FtB7S",
        "outputId": "76a1fbb6-eb9f-4b11-83b6-0e412148b1a2"
      },
      "execution_count": null,
      "outputs": [
        {
          "output_type": "execute_result",
          "data": {
            "text/plain": [
              "True"
            ]
          },
          "metadata": {},
          "execution_count": 18
        }
      ]
    },
    {
      "cell_type": "markdown",
      "source": [
        "12.Check if a specific value exists in a set | s = {5,7,9} check 5."
      ],
      "metadata": {
        "id": "CPKl8hVotDDC"
      }
    },
    {
      "cell_type": "code",
      "source": [
        "s = {5,7,9}\n",
        "\n",
        "if 5 in s:\n",
        "  print(\"present\")\n",
        "else:\n",
        "  print(\"not present\")"
      ],
      "metadata": {
        "colab": {
          "base_uri": "https://localhost:8080/"
        },
        "id": "Rg6A8fc-tDRS",
        "outputId": "15e70f1b-dcef-470f-a120-e68a3aa67b5b"
      },
      "execution_count": null,
      "outputs": [
        {
          "output_type": "stream",
          "name": "stdout",
          "text": [
            "present\n"
          ]
        }
      ]
    },
    {
      "cell_type": "markdown",
      "source": [
        "13. Add an element to a set | s = {'a','b','c'}"
      ],
      "metadata": {
        "id": "7hWb6JzdtEdE"
      }
    },
    {
      "cell_type": "code",
      "source": [
        "s = {'a','b','c'}\n",
        "s.add(\"g\")\n",
        "s"
      ],
      "metadata": {
        "colab": {
          "base_uri": "https://localhost:8080/"
        },
        "id": "pvJw3j3HtErO",
        "outputId": "a29bea9e-429f-48a8-8194-7b9a2428359a"
      },
      "execution_count": null,
      "outputs": [
        {
          "output_type": "execute_result",
          "data": {
            "text/plain": [
              "{'a', 'b', 'c', 'g'}"
            ]
          },
          "metadata": {},
          "execution_count": 22
        }
      ]
    },
    {
      "cell_type": "markdown",
      "source": [
        "14.Make a copy of a set | s1 = {'a','b','c'}"
      ],
      "metadata": {
        "id": "KOdewiSLtGFU"
      }
    },
    {
      "cell_type": "code",
      "source": [
        "s1 = {'a','b','c'}\n",
        "s2 = s1.copy()\n",
        "s2"
      ],
      "metadata": {
        "colab": {
          "base_uri": "https://localhost:8080/"
        },
        "id": "g8ic1adstGSl",
        "outputId": "52986279-89ca-4fd2-e801-31cedd4e9784"
      },
      "execution_count": null,
      "outputs": [
        {
          "output_type": "execute_result",
          "data": {
            "text/plain": [
              "{'a', 'b', 'c'}"
            ]
          },
          "metadata": {},
          "execution_count": 23
        }
      ]
    },
    {
      "cell_type": "markdown",
      "source": [
        "15.Check if a set is a superset of another set |  a = {10,20,30} b = {10,20}\t"
      ],
      "metadata": {
        "id": "9JyNTKyBtIFN"
      }
    },
    {
      "cell_type": "code",
      "source": [
        "a = {10,20,30}\n",
        "b = {10,20}\n",
        "a.issuperset(b)"
      ],
      "metadata": {
        "colab": {
          "base_uri": "https://localhost:8080/"
        },
        "id": "_4ouh_AwtIRO",
        "outputId": "1c000f6a-6d94-4ab6-9d9c-e224a4bf67b4"
      },
      "execution_count": null,
      "outputs": [
        {
          "output_type": "execute_result",
          "data": {
            "text/plain": [
              "True"
            ]
          },
          "metadata": {},
          "execution_count": 24
        }
      ]
    },
    {
      "cell_type": "markdown",
      "source": [
        "16.Convert a set to a list | a = {4,2,3}"
      ],
      "metadata": {
        "id": "16CM08DdtJdw"
      }
    },
    {
      "cell_type": "code",
      "source": [
        "a = {4,2,3}\n",
        "l = list(a)\n",
        "l"
      ],
      "metadata": {
        "colab": {
          "base_uri": "https://localhost:8080/"
        },
        "id": "Kh9bhbQLtJrj",
        "outputId": "886d373e-ddde-434f-e398-a56e12dc706a"
      },
      "execution_count": null,
      "outputs": [
        {
          "output_type": "execute_result",
          "data": {
            "text/plain": [
              "[2, 3, 4]"
            ]
          },
          "metadata": {},
          "execution_count": 26
        }
      ]
    },
    {
      "cell_type": "markdown",
      "source": [
        "17.How can you iterate on values in a set? | s = {'a','b','c','d','e'}"
      ],
      "metadata": {
        "id": "8hPqT82DtK4b"
      }
    },
    {
      "cell_type": "code",
      "source": [
        "#using for loop\n",
        "s = {'a','b','c','d','e'}\n",
        "\n",
        "for i in s:\n",
        "  print(i)"
      ],
      "metadata": {
        "colab": {
          "base_uri": "https://localhost:8080/"
        },
        "id": "fHKmqZ-StLHY",
        "outputId": "e4fdc1d6-4e2f-43e4-c97b-458c66c00658"
      },
      "execution_count": null,
      "outputs": [
        {
          "output_type": "stream",
          "name": "stdout",
          "text": [
            "b\n",
            "d\n",
            "c\n",
            "e\n",
            "a\n"
          ]
        }
      ]
    },
    {
      "cell_type": "markdown",
      "source": [
        "18.Return the length of a set | s = {'a','b','c','d','e'}"
      ],
      "metadata": {
        "id": "ATdrsQtetMfC"
      }
    },
    {
      "cell_type": "code",
      "source": [
        "s = {'a','b','c','d','e'}\n",
        "len(s)"
      ],
      "metadata": {
        "colab": {
          "base_uri": "https://localhost:8080/"
        },
        "id": "ZGbBkRDctMtS",
        "outputId": "aae97fc8-25b3-489e-950a-166513d45735"
      },
      "execution_count": null,
      "outputs": [
        {
          "output_type": "execute_result",
          "data": {
            "text/plain": [
              "5"
            ]
          },
          "metadata": {},
          "execution_count": 29
        }
      ]
    },
    {
      "cell_type": "markdown",
      "source": [
        "19.Find the union of 2 sets. | s1 = {1,2,3,4,5} s2 = {4,5,6,7,8}   | EXPECTED O/P: {1, 2, 3, 4, 5, 6, 7, 8}"
      ],
      "metadata": {
        "id": "vjzCUKhBtOzu"
      }
    },
    {
      "cell_type": "code",
      "source": [
        "s1 = {1,2,3,4,5}\n",
        "s2 = {4,5,6,7,8}\n",
        "\n",
        "s1.union(s2)"
      ],
      "metadata": {
        "colab": {
          "base_uri": "https://localhost:8080/"
        },
        "id": "0kpozqz6tPGr",
        "outputId": "3e3e7648-70e4-473d-d0e5-a19abf9ad510"
      },
      "execution_count": null,
      "outputs": [
        {
          "output_type": "execute_result",
          "data": {
            "text/plain": [
              "{1, 2, 3, 4, 5, 6, 7, 8}"
            ]
          },
          "metadata": {},
          "execution_count": 30
        }
      ]
    },
    {
      "cell_type": "markdown",
      "source": [
        "20. Find the elements in s1 that are not in s2 | s1 = {1,2,3,4,5} s2 = {4,5,6,7,8}"
      ],
      "metadata": {
        "id": "4ku-hDTztRHJ"
      }
    },
    {
      "cell_type": "code",
      "source": [
        "s1 = {1,2,3,4,5}\n",
        "s2 = {4,5,6,7,8}\n",
        "\n",
        "s1.difference(s2)"
      ],
      "metadata": {
        "colab": {
          "base_uri": "https://localhost:8080/"
        },
        "id": "_D0OLJzGtRYc",
        "outputId": "1abe3451-c4ee-4df7-fe28-7a92563dc62c"
      },
      "execution_count": null,
      "outputs": [
        {
          "output_type": "execute_result",
          "data": {
            "text/plain": [
              "{1, 2, 3}"
            ]
          },
          "metadata": {},
          "execution_count": 31
        }
      ]
    },
    {
      "cell_type": "markdown",
      "source": [
        "21.Remove an element from a set | s = {'x','y','z'}  REMOVE Z"
      ],
      "metadata": {
        "id": "qcY13y3PtSqJ"
      }
    },
    {
      "cell_type": "code",
      "source": [
        "s = {'x','y','z'}\n",
        "s.discard(\"Z\")\n",
        "s"
      ],
      "metadata": {
        "colab": {
          "base_uri": "https://localhost:8080/"
        },
        "id": "ouydSqH4tS5-",
        "outputId": "6f2076d5-9ba6-4c96-c1a7-2d14dabbb556"
      },
      "execution_count": null,
      "outputs": [
        {
          "output_type": "execute_result",
          "data": {
            "text/plain": [
              "{'x', 'y', 'z'}"
            ]
          },
          "metadata": {},
          "execution_count": 34
        }
      ]
    },
    {
      "cell_type": "markdown",
      "source": [
        "22.Remove and return an unspecified element from a set | s = {'z','y','x'}."
      ],
      "metadata": {
        "id": "yjmFfZy8tUbK"
      }
    },
    {
      "cell_type": "code",
      "source": [
        "s = {'z','y','x'}\n",
        "a = s.pop()\n",
        "print(\"Removed element:\",a)\n",
        "print(\"Set after removing:\",s)"
      ],
      "metadata": {
        "colab": {
          "base_uri": "https://localhost:8080/"
        },
        "id": "jvKh0DXAtUpx",
        "outputId": "07750001-6ab5-43b1-ed4c-f53913479c34"
      },
      "execution_count": null,
      "outputs": [
        {
          "output_type": "stream",
          "name": "stdout",
          "text": [
            "Removed element: z\n",
            "Set after removing: {'x', 'y'}\n"
          ]
        }
      ]
    },
    {
      "cell_type": "markdown",
      "source": [
        "23.Add all elements from another set to an existing set | a = {1,2,3} b = {3,4,5}    | EXPECTED O/P:{1, 2, 3, 4, 5}"
      ],
      "metadata": {
        "id": "vbY2Y4hdtWFr"
      }
    },
    {
      "cell_type": "code",
      "source": [
        "a = {1,2,3}\n",
        "b = {3,4,5}\n",
        "a.update(b)\n",
        "a"
      ],
      "metadata": {
        "colab": {
          "base_uri": "https://localhost:8080/"
        },
        "id": "6uMTvvGBtWRf",
        "outputId": "a8cab5d6-f5a1-4b22-8674-bb94370ffe4e"
      },
      "execution_count": null,
      "outputs": [
        {
          "output_type": "execute_result",
          "data": {
            "text/plain": [
              "{1, 2, 3, 4, 5}"
            ]
          },
          "metadata": {},
          "execution_count": 38
        }
      ]
    },
    {
      "cell_type": "markdown",
      "source": [
        "24.Remove all elements from a set | a = {1,2,3}"
      ],
      "metadata": {
        "id": "xkDvoerwtXbI"
      }
    },
    {
      "cell_type": "code",
      "source": [
        "a = {1,2,3}\n",
        "a.clear()\n",
        "a"
      ],
      "metadata": {
        "colab": {
          "base_uri": "https://localhost:8080/"
        },
        "id": "QmO26z5qtXq5",
        "outputId": "dc6d1395-770d-4a2c-a61b-a5d28f2a7b06"
      },
      "execution_count": null,
      "outputs": [
        {
          "output_type": "execute_result",
          "data": {
            "text/plain": [
              "set()"
            ]
          },
          "metadata": {},
          "execution_count": 39
        }
      ]
    },
    {
      "cell_type": "markdown",
      "source": [
        "25.Remove an element from a set if it exists. |  a = {1,2,3}"
      ],
      "metadata": {
        "id": "NDeOY-ustZED"
      }
    },
    {
      "cell_type": "code",
      "source": [
        "a = {1,2,3}\n",
        "a.remove(1)\n",
        "a"
      ],
      "metadata": {
        "colab": {
          "base_uri": "https://localhost:8080/"
        },
        "id": "4BmdgVUktZdo",
        "outputId": "2bd1b7f8-4209-4b25-9b7c-5a2bb9261a9f"
      },
      "execution_count": null,
      "outputs": [
        {
          "output_type": "execute_result",
          "data": {
            "text/plain": [
              "{2, 3}"
            ]
          },
          "metadata": {},
          "execution_count": 43
        }
      ]
    },
    {
      "cell_type": "markdown",
      "source": [
        "26. Can a set be accessed by index? |  (its Theory questions)\n",
        "\n",
        "\n",
        "\n",
        "```\n",
        "Ans: No\n",
        "```\n",
        "\n"
      ],
      "metadata": {
        "id": "DOrgYlxHtawK"
      }
    },
    {
      "cell_type": "markdown",
      "source": [
        "27.What is the difference between a set and a tuple?  | (its Theory questions)\n",
        "\n",
        "\n",
        "```\n",
        " Set                             Tuple\n",
        "1. {}                            1. ()\n",
        "2. More methods than tuple       2. Only count and index method\n",
        "3. Unindexed                     3. Indexed\n",
        "4. Unordered                     4. Unordered\n",
        "```\n",
        "\n"
      ],
      "metadata": {
        "id": "vH8sl7FBtcH6"
      }
    },
    {
      "cell_type": "markdown",
      "source": [
        "28.What is the difference between a set and a frozenset? | (its Theory questions)\n",
        "\n",
        "\n",
        "```\n",
        "frozenset -  elements cannot be added or removed once created\n",
        "set - elements can be added or removed\n",
        "```\n",
        "\n"
      ],
      "metadata": {
        "id": "tjj6OqAjtdui"
      }
    },
    {
      "cell_type": "markdown",
      "source": [
        "29.Python program to find the missing of s1 in s2 | s1= {1, 2, 3, 4, 5, 6}, s2={4, 5, 6, 7, 8} | expected o/p : {1,2,3}"
      ],
      "metadata": {
        "id": "BFrgy-06tfHj"
      }
    },
    {
      "cell_type": "code",
      "source": [
        "s1= {1, 2, 3, 4, 5, 6}\n",
        "s2={4, 5, 6, 7, 8}\n",
        "\n",
        "s1.difference(s2)"
      ],
      "metadata": {
        "id": "z0lxAKI1tfVs",
        "colab": {
          "base_uri": "https://localhost:8080/"
        },
        "outputId": "5cc80b2b-c332-43d1-ede7-942bc99a2810"
      },
      "execution_count": null,
      "outputs": [
        {
          "output_type": "execute_result",
          "data": {
            "text/plain": [
              "{1, 2, 3}"
            ]
          },
          "metadata": {},
          "execution_count": 44
        }
      ]
    },
    {
      "cell_type": "markdown",
      "source": [
        "30.remove last item from a given set | s1={'Green', 'Yellow', 'Black', 'Orange', 'Red', 'Blue'}"
      ],
      "metadata": {
        "id": "_bLtobJztgjS"
      }
    },
    {
      "cell_type": "code",
      "source": [
        "s1={'Green', 'Yellow', 'Black', 'Orange', 'Red', 'Blue'}\n",
        "a = s1.pop()\n",
        "print(\"Removed item:\",a)\n",
        "print(\"Final set:\",s1)"
      ],
      "metadata": {
        "id": "HX2AasHPtgwY",
        "colab": {
          "base_uri": "https://localhost:8080/"
        },
        "outputId": "9c0bbc99-25e9-4b27-a251-c5fd505b89ec"
      },
      "execution_count": null,
      "outputs": [
        {
          "output_type": "stream",
          "name": "stdout",
          "text": [
            "Removed item: Red\n",
            "Final set: {'Black', 'Blue', 'Yellow', 'Orange', 'Green'}\n"
          ]
        }
      ]
    },
    {
      "cell_type": "markdown",
      "source": [
        "1.Python program to convert Set into Tuple and Tuple into Set"
      ],
      "metadata": {
        "id": "Ev4mYwOntmcI"
      }
    },
    {
      "cell_type": "code",
      "source": [
        "s1= {1, 2, 3, 4, 5, 6}\n",
        "t = tuple(s1)\n",
        "t"
      ],
      "metadata": {
        "id": "kDbJgn9ztmrd",
        "colab": {
          "base_uri": "https://localhost:8080/"
        },
        "outputId": "a79e03bc-ef41-46e0-ed59-d58f7dd5415a"
      },
      "execution_count": null,
      "outputs": [
        {
          "output_type": "execute_result",
          "data": {
            "text/plain": [
              "(1, 2, 3, 4, 5, 6)"
            ]
          },
          "metadata": {},
          "execution_count": 46
        }
      ]
    },
    {
      "cell_type": "markdown",
      "source": [
        "2.Python program to convert set into a list"
      ],
      "metadata": {
        "id": "r_hNrR5qtoLy"
      }
    },
    {
      "cell_type": "code",
      "source": [
        "s1= {1, 2, 3, 4, 5, 6}\n",
        "t = list(s1)\n",
        "t"
      ],
      "metadata": {
        "id": "Vs0y3z4AtoZL",
        "colab": {
          "base_uri": "https://localhost:8080/"
        },
        "outputId": "2056fabf-a48d-4fce-e077-f57224e1e8e6"
      },
      "execution_count": null,
      "outputs": [
        {
          "output_type": "execute_result",
          "data": {
            "text/plain": [
              "[1, 2, 3, 4, 5, 6]"
            ]
          },
          "metadata": {},
          "execution_count": 47
        }
      ]
    },
    {
      "cell_type": "markdown",
      "source": [
        "3.Python program to convert Set to String"
      ],
      "metadata": {
        "id": "vEWDgvOxtpxN"
      }
    },
    {
      "cell_type": "code",
      "source": [
        "s1= {1, 2, 3, 4, 5, 6}\n",
        "t = str(s1)\n",
        "t"
      ],
      "metadata": {
        "id": "BVh4KV--tp9a",
        "colab": {
          "base_uri": "https://localhost:8080/",
          "height": 37
        },
        "outputId": "a1d2bdbf-4b01-4266-bbb9-0ac275be25b6"
      },
      "execution_count": null,
      "outputs": [
        {
          "output_type": "execute_result",
          "data": {
            "application/vnd.google.colaboratory.intrinsic+json": {
              "type": "string"
            },
            "text/plain": [
              "'{1, 2, 3, 4, 5, 6}'"
            ]
          },
          "metadata": {},
          "execution_count": 48
        }
      ]
    },
    {
      "cell_type": "code",
      "source": [
        "s1= {\"hello\",\"there\"}\n",
        "t = ' '.join(s1)\n",
        "t"
      ],
      "metadata": {
        "colab": {
          "base_uri": "https://localhost:8080/",
          "height": 37
        },
        "id": "zbvGGDOT-qPT",
        "outputId": "ca4d2b8b-8ff6-4555-c171-5dec00d5d935"
      },
      "execution_count": null,
      "outputs": [
        {
          "output_type": "execute_result",
          "data": {
            "application/vnd.google.colaboratory.intrinsic+json": {
              "type": "string"
            },
            "text/plain": [
              "'there hello'"
            ]
          },
          "metadata": {},
          "execution_count": 53
        }
      ]
    },
    {
      "cell_type": "markdown",
      "source": [
        "4.Python program to convert String to Set"
      ],
      "metadata": {
        "id": "YONyFNKOtq-0"
      }
    },
    {
      "cell_type": "code",
      "source": [
        "string = \"Hello\"\n",
        "t = set(string)\n",
        "t"
      ],
      "metadata": {
        "id": "FayJDmIrtrLB",
        "colab": {
          "base_uri": "https://localhost:8080/"
        },
        "outputId": "6a267495-41d6-4d8f-cea9-a2c64f0aebd6"
      },
      "execution_count": null,
      "outputs": [
        {
          "output_type": "execute_result",
          "data": {
            "text/plain": [
              "{'H', 'e', 'l', 'o'}"
            ]
          },
          "metadata": {},
          "execution_count": 49
        }
      ]
    },
    {
      "cell_type": "markdown",
      "source": [
        "5.Python – Convert a set into dictionary"
      ],
      "metadata": {
        "id": "WN57rCFWtsNe"
      }
    },
    {
      "cell_type": "code",
      "source": [
        "s1= {1, 2, 3, 4, 5, 6}\n",
        "t = dict.fromkeys(s1,0)\n",
        "print(t)\n",
        "print(type(t))"
      ],
      "metadata": {
        "id": "FEqt4SAotsaj",
        "colab": {
          "base_uri": "https://localhost:8080/"
        },
        "outputId": "fd8dd5af-15cc-4572-e9f3-1def9bff5d7e"
      },
      "execution_count": null,
      "outputs": [
        {
          "output_type": "stream",
          "name": "stdout",
          "text": [
            "{1: 0, 2: 0, 3: 0, 4: 0, 5: 0, 6: 0}\n",
            "<class 'dict'>\n"
          ]
        }
      ]
    },
    {
      "cell_type": "markdown",
      "source": [
        "1.Find the size of a Set in Python"
      ],
      "metadata": {
        "id": "zuzh-PEntuWM"
      }
    },
    {
      "cell_type": "code",
      "source": [
        "s1= {1, 2, 3, 4, 5, 6}\n",
        "len(s1)"
      ],
      "metadata": {
        "id": "6-c0K3rYtujI",
        "colab": {
          "base_uri": "https://localhost:8080/"
        },
        "outputId": "74cb640e-918f-4330-8fe0-a20419ba794e"
      },
      "execution_count": null,
      "outputs": [
        {
          "output_type": "execute_result",
          "data": {
            "text/plain": [
              "6"
            ]
          },
          "metadata": {},
          "execution_count": 57
        }
      ]
    },
    {
      "cell_type": "markdown",
      "source": [
        "2.Iterate over a set in Python"
      ],
      "metadata": {
        "id": "UJwJ6cgetvxX"
      }
    },
    {
      "cell_type": "code",
      "source": [
        "s1= {1, 2, 3, 4, 5, 6}\n",
        "for i in s1:\n",
        "  print(i)"
      ],
      "metadata": {
        "id": "jj3SYIuWtv-N",
        "colab": {
          "base_uri": "https://localhost:8080/"
        },
        "outputId": "6fbf4838-98a7-433f-f7f9-54bd26446bdc"
      },
      "execution_count": null,
      "outputs": [
        {
          "output_type": "stream",
          "name": "stdout",
          "text": [
            "1\n",
            "2\n",
            "3\n",
            "4\n",
            "5\n",
            "6\n"
          ]
        }
      ]
    },
    {
      "cell_type": "markdown",
      "source": [
        "3.Python – Maximum and Minimum in a Set"
      ],
      "metadata": {
        "id": "covdqPAFtxT7"
      }
    },
    {
      "cell_type": "code",
      "source": [
        "s1= {1, 2, 3, 4, 5, 6}\n",
        "print(\"Min:\",min(s1))\n",
        "print(\"Max:\",max(s1))"
      ],
      "metadata": {
        "id": "u8BsJesatxgb",
        "colab": {
          "base_uri": "https://localhost:8080/"
        },
        "outputId": "7d9168f7-9e11-4295-9c4a-ddb3b1daaa2c"
      },
      "execution_count": null,
      "outputs": [
        {
          "output_type": "stream",
          "name": "stdout",
          "text": [
            "Min: 1\n",
            "Max: 6\n"
          ]
        }
      ]
    },
    {
      "cell_type": "markdown",
      "source": [
        "4.Python – Remove items from Set"
      ],
      "metadata": {
        "id": "CYcoePoAtywR"
      }
    },
    {
      "cell_type": "code",
      "source": [
        "s1= {1, 2, 3, 4, 5, 6}\n",
        "s1.remove(4)\n",
        "s1"
      ],
      "metadata": {
        "id": "U5u3MDMNty9C",
        "colab": {
          "base_uri": "https://localhost:8080/"
        },
        "outputId": "62ca8d74-8c95-4900-b3cd-91a1ea41b1a9"
      },
      "execution_count": null,
      "outputs": [
        {
          "output_type": "execute_result",
          "data": {
            "text/plain": [
              "{1, 2, 3, 5, 6}"
            ]
          },
          "metadata": {},
          "execution_count": 62
        }
      ]
    },
    {
      "cell_type": "markdown",
      "source": [
        "5.Python – Check if two lists have at-least one element common"
      ],
      "metadata": {
        "id": "1zUjVsFPt0Ya"
      }
    },
    {
      "cell_type": "code",
      "source": [
        "s1= {1, 2, 3, 4, 5, 6}\n",
        "s2={4, 7, 8}\n",
        "\n",
        "s1.intersection(s2)"
      ],
      "metadata": {
        "id": "JKKeGmcft0jt",
        "colab": {
          "base_uri": "https://localhost:8080/"
        },
        "outputId": "aab0a231-0066-4f50-8eb1-acd34b28807c"
      },
      "execution_count": null,
      "outputs": [
        {
          "output_type": "execute_result",
          "data": {
            "text/plain": [
              "{4}"
            ]
          },
          "metadata": {},
          "execution_count": 63
        }
      ]
    },
    {
      "cell_type": "markdown",
      "source": [
        "6.Python program to find common elements in three lists using sets"
      ],
      "metadata": {
        "id": "NEiPjSqZt1l0"
      }
    },
    {
      "cell_type": "code",
      "source": [
        "l1 = [1,3,1,5,7]\n",
        "l2 = [6,1,7,100]\n",
        "l3 = [1,4,15,20,1]\n",
        "\n",
        "s1 = set(l1)\n",
        "s2 = set(l2)\n",
        "s3 = set(l3)\n",
        "\n",
        "#common elements in s1 and s2\n",
        "common = s1.intersection(s2) \n",
        "\n",
        "#common elements in s1 and s3\n",
        "common = s1.intersection(s3)\n",
        "\n",
        "print(list(common))"
      ],
      "metadata": {
        "id": "ABKJ6Jitt1wb",
        "colab": {
          "base_uri": "https://localhost:8080/"
        },
        "outputId": "3dfd39a2-12d1-440c-c564-7986d4026e3b"
      },
      "execution_count": null,
      "outputs": [
        {
          "output_type": "stream",
          "name": "stdout",
          "text": [
            "[1]\n"
          ]
        }
      ]
    },
    {
      "cell_type": "markdown",
      "source": [
        "7.Python – Find missing and additional values in two lists\n",
        "\n",
        "```\n",
        "Input : list1 = [1, 2, 3, 4, 5, 6] \n",
        "        list2 = [4, 5, 6, 7, 8] \n",
        "Output : Missing values in list1 = [8, 7] \n",
        "         Additional values in list1 = [1, 2, 3] \n",
        "         Missing values in list2 = [1, 2, 3] \n",
        "         Additional values in list2 = [7, 8] \n",
        "```\n",
        "\n"
      ],
      "metadata": {
        "id": "TAYM__xgt3Bf"
      }
    },
    {
      "cell_type": "code",
      "source": [
        "list1 = [1, 2, 3, 4, 5, 6] \n",
        "list2 = [4, 5, 6, 7, 8] \n",
        "\n",
        "s1 = set(list1)\n",
        "s2 = set(list2)\n",
        "\n",
        "#list1 | s1\n",
        "miss1 = s2.difference(s1)\n",
        "print(\"Missing values in list1 =\",list(miss1))\n",
        "\n",
        "add1 = s1.difference(s2)\n",
        "print(\"Additional values in list1 =\",list(add1))\n",
        "\n",
        "\n",
        "#list2 | s2\n",
        "miss2 = s1.difference(s2)\n",
        "print(\"Missing values in list2 =\",list(miss2))\n",
        "\n",
        "add2 = s2.difference(s1)\n",
        "print(\"Additional values in list1 =\",list(add2))"
      ],
      "metadata": {
        "id": "oBG7enVit3NI",
        "colab": {
          "base_uri": "https://localhost:8080/"
        },
        "outputId": "c040fe68-7b48-4cf0-979a-6f91147349ce"
      },
      "execution_count": null,
      "outputs": [
        {
          "output_type": "stream",
          "name": "stdout",
          "text": [
            "Missing values in list1 = [8, 7]\n",
            "Additional values in list1 = [1, 2, 3]\n",
            "Missing values in list2 = [1, 2, 3]\n",
            "Additional values in list1 = [8, 7]\n"
          ]
        }
      ]
    },
    {
      "cell_type": "markdown",
      "source": [
        "8.Python program to find the difference between two lists"
      ],
      "metadata": {
        "id": "mmAhw-vYt4ip"
      }
    },
    {
      "cell_type": "code",
      "source": [
        "list1 = [1, 2, 3, 4, 5, 6] \n",
        "list2 = [4, 5, 6, 7, 8] \n",
        "\n",
        "set(list1).difference(set(list2))\n",
        "\n"
      ],
      "metadata": {
        "id": "GQallmVIt4uG",
        "colab": {
          "base_uri": "https://localhost:8080/"
        },
        "outputId": "f34672b6-7501-4ae3-95ea-e5edb94c97c0"
      },
      "execution_count": null,
      "outputs": [
        {
          "output_type": "execute_result",
          "data": {
            "text/plain": [
              "{1, 2, 3}"
            ]
          },
          "metadata": {},
          "execution_count": 85
        }
      ]
    },
    {
      "cell_type": "markdown",
      "source": [
        "9.Python Set difference to find lost element from a duplicated array"
      ],
      "metadata": {
        "id": "erdNimKzt6k4"
      }
    },
    {
      "cell_type": "code",
      "source": [
        "A = [1, 4, 5, 7, 9]\n",
        "B = [4, 5, 7, 9]\n",
        "\n",
        "if len(A)>len(B):\n",
        "  print(list(set(A).difference(set(B))))\n",
        "elif len(B)>len(A):\n",
        "  print(list(set(B).difference(set(A))))\n",
        "else:\n",
        "  print(\"No lost element\")"
      ],
      "metadata": {
        "id": "OxJaBy9Yt6x3",
        "colab": {
          "base_uri": "https://localhost:8080/"
        },
        "outputId": "4bb8f3bb-9504-40d9-ae8c-6680d8015592"
      },
      "execution_count": null,
      "outputs": [
        {
          "output_type": "stream",
          "name": "stdout",
          "text": [
            "[1]\n"
          ]
        }
      ]
    },
    {
      "cell_type": "markdown",
      "source": [
        "10.Python program to count number of vowels using sets in given string"
      ],
      "metadata": {
        "id": "pJ0EPi01t8AR"
      }
    },
    {
      "cell_type": "code",
      "source": [
        "str1 = \"hello\"\n",
        "\n",
        "vowels = {\"a\",'e','i','o','u'}\n",
        "l = list(vowels)\n",
        "\n",
        "count = 0\n",
        "\n",
        "for i in l:\n",
        "  if i in str1:\n",
        "    count += 1\n",
        "    print(i)\n",
        "print(\"Count:\",count)"
      ],
      "metadata": {
        "id": "u3JyUQTPt8Lz",
        "colab": {
          "base_uri": "https://localhost:8080/"
        },
        "outputId": "e501db12-3aad-4c6c-e806-33aa7fd9eb9a"
      },
      "execution_count": null,
      "outputs": [
        {
          "output_type": "stream",
          "name": "stdout",
          "text": [
            "o\n",
            "e\n",
            "Count: 2\n"
          ]
        }
      ]
    },
    {
      "cell_type": "markdown",
      "source": [
        "11.Concatenated string with uncommon characters in Python\n",
        "\n",
        "\n",
        "```\n",
        "Input : S1 = \"aacdb\"\n",
        "        S2 = \"gafd\"\n",
        "Output : \"cbgf\"\n",
        "```\n",
        "\n"
      ],
      "metadata": {
        "id": "YyWP3JDkt9Y3"
      }
    },
    {
      "cell_type": "code",
      "source": [
        "str1 = \"aacdb\"\n",
        "s1 = set(str1)\n",
        "\n",
        "str2 = \"gafd\"\n",
        "s2 = set(str2)\n",
        "\n",
        "#removing common characters\n",
        "c1 = s1.difference(s2)\n",
        "c2 = s2.difference(s1)\n",
        "\n",
        "c1.update(c2)\n",
        "\n",
        "result = ''.join(c1)\n",
        "print(result)"
      ],
      "metadata": {
        "id": "39A1mTSSt9kM",
        "colab": {
          "base_uri": "https://localhost:8080/"
        },
        "outputId": "8008e102-88f4-472c-d5c3-2c7f76e141d7"
      },
      "execution_count": null,
      "outputs": [
        {
          "output_type": "stream",
          "name": "stdout",
          "text": [
            "cbfg\n"
          ]
        }
      ]
    },
    {
      "cell_type": "markdown",
      "source": [
        "12.Python – Program to accept the strings which contains all vowels"
      ],
      "metadata": {
        "id": "eHLvnHZ3t-uh"
      }
    },
    {
      "cell_type": "code",
      "source": [
        "word = input(\"Enter string to check if it contains all vowels: \")   #eutopia\n",
        "word = word.lower()\n",
        "word = set(word)\n",
        "vowel = {'a','e','i','o','u'}\n",
        "check = \"\"\n",
        "\n",
        "for i in word:\n",
        "  if i in vowel:\n",
        "    check = check + i\n",
        "print(check)\n",
        "if len(check) == len(vowel):\n",
        "  print(\"All vowels present in the string.\")"
      ],
      "metadata": {
        "colab": {
          "base_uri": "https://localhost:8080/"
        },
        "id": "eGgXYfDoOW3i",
        "outputId": "50a38d0e-469c-491f-e896-3e1562a76840"
      },
      "execution_count": null,
      "outputs": [
        {
          "output_type": "stream",
          "name": "stdout",
          "text": [
            "Enter string to check if it contains all vowels: Eutopia\n",
            "oeaui\n",
            "All vowels present in the string.\n"
          ]
        }
      ]
    },
    {
      "cell_type": "markdown",
      "source": [
        "13.Python – Check if a given string is binary string or not"
      ],
      "metadata": {
        "id": "xQvJA_QAuARd"
      }
    },
    {
      "cell_type": "code",
      "source": [
        "str1 = \"01010101010\"\n",
        "s1 = set(str1)\n",
        "s = {'0', '1'}\n",
        "if s == s1 or s1 == {'0'} or s1 == {'1'}:\n",
        "  print(\"Binary\")\n",
        "else:\n",
        "  print(\"Non-Binary\")"
      ],
      "metadata": {
        "id": "3V9EQAjcuAdP",
        "colab": {
          "base_uri": "https://localhost:8080/"
        },
        "outputId": "732ab259-a4d5-4841-c5ed-3735382e7439"
      },
      "execution_count": null,
      "outputs": [
        {
          "output_type": "stream",
          "name": "stdout",
          "text": [
            "Binary\n"
          ]
        }
      ]
    },
    {
      "cell_type": "markdown",
      "source": [
        "14.Python set to check if string is pangram"
      ],
      "metadata": {
        "id": "mdJFVO6JuB8E"
      }
    },
    {
      "cell_type": "code",
      "source": [
        "import string\n",
        "alphabet=string.ascii_lowercase\n",
        "alphabet = set(alphabet)\n",
        "\n",
        "sentence = \"The quick brown fox jumps over the lazy dog\"\n",
        "sentence = set(sentence.lower())    #also contains space\n",
        "\n",
        "if alphabet <= sentence:\n",
        "  print(\"It is a pangram\")\n",
        "else:\n",
        "  print(\"Not a pangram\")"
      ],
      "metadata": {
        "id": "rrqUOiopuCI2",
        "colab": {
          "base_uri": "https://localhost:8080/"
        },
        "outputId": "a240691a-eee2-4e58-cede-c53a763af85c"
      },
      "execution_count": null,
      "outputs": [
        {
          "output_type": "stream",
          "name": "stdout",
          "text": [
            "It is a pangram\n"
          ]
        }
      ]
    },
    {
      "cell_type": "markdown",
      "source": [
        "15.Python Set – Pairs of complete strings in two sets\n",
        "\n",
        "\n",
        "```\n",
        "Input : set1[] = {\"abcdefgh\", \"geeksforgeeks\",\n",
        "                 \"lmnopqrst\", \"abc\"}\n",
        "        set2[] = {\"ijklmnopqrstuvwxyz\", \n",
        "                 \"abcdefghijklmnopqrstuvwxyz\", \n",
        "                 \"defghijklmnopqrstuvwxyz\"} \n",
        "Output : 7\n",
        "The total complete pairs that are forming are:\n",
        "\"abcdefghijklmnopqrstuvwxyz\"\n",
        "\"abcdefghabcdefghijklmnopqrstuvwxyz\"\n",
        "\"abcdefghdefghijklmnopqrstuvwxyz\"\n",
        "\"geeksforgeeksabcdefghijklmnopqrstuvwxyz\"\n",
        "\"lmnopqrstabcdefghijklmnopqrstuvwxyz\"\n",
        "\"abcabcdefghijklmnopqrstuvwxyz\"\n",
        "\"abcdefghijklmnopqrstuvwxyz\"\n",
        "```\n",
        "\n"
      ],
      "metadata": {
        "id": "m0piM9FIuDPY"
      }
    },
    {
      "cell_type": "code",
      "source": [
        "set1 = {\"abcdefgh\", \"geeksforgeeks\",\"lmnopqrst\", \"abc\"}\n",
        "set2 = {\"ijklmnopqrstuvwxyz\", \"abcdefghijklmnopqrstuvwxyz\", \"defghijklmnopqrstuvwxyz\"} \n",
        "\n",
        "count = 0\n",
        "\n",
        "for i in set1:\n",
        "  for x in set2:\n",
        "    result = i + x\n",
        "\n",
        "    l = set([r for r in result if (ord(r) >= ord(\"a\") and ord(r) <= ord(\"z\"))])\n",
        "    # pair = ''.join(l)\n",
        "    # print(pair)\n",
        "    if len(l) == 26:\n",
        "      count += 1\n",
        "\n",
        "print(count)"
      ],
      "metadata": {
        "id": "vxk3wpHWuDbU",
        "colab": {
          "base_uri": "https://localhost:8080/"
        },
        "outputId": "8249ce4b-5ee7-44bd-9ac0-84483731b87e"
      },
      "execution_count": null,
      "outputs": [
        {
          "output_type": "stream",
          "name": "stdout",
          "text": [
            "7\n"
          ]
        }
      ]
    },
    {
      "cell_type": "markdown",
      "source": [
        "16.Python program to check whether a given string is Heterogram or not"
      ],
      "metadata": {
        "id": "kJvw302EuEvs"
      }
    },
    {
      "cell_type": "code",
      "source": [
        "string = \"ostrich\" #\"apple is healthy\"\n",
        "a = []\n",
        "for i in string:\n",
        "  if ord(i) >= ord('a') and ord(i) <= ord(\"z\"):\n",
        "    a.append(i)\n",
        "  \n",
        "if len(set(a)) == len(a):\n",
        "  print(\"It is Heterogram\")\n",
        "else:\n",
        "  print(\"It is not heterogram\")"
      ],
      "metadata": {
        "id": "GVQ3Sh_QuE-m",
        "colab": {
          "base_uri": "https://localhost:8080/"
        },
        "outputId": "00abf621-dd51-4ae5-a75e-55133343f706"
      },
      "execution_count": null,
      "outputs": [
        {
          "output_type": "stream",
          "name": "stdout",
          "text": [
            "It is Heterogram\n"
          ]
        }
      ]
    }
  ]
}