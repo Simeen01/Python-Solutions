{
  "nbformat": 4,
  "nbformat_minor": 0,
  "metadata": {
    "colab": {
      "name": "Patterns.ipynb",
      "provenance": [],
      "collapsed_sections": [],
      "authorship_tag": "ABX9TyNd9tI5F9Hwj+zuEg1BQe90",
      "include_colab_link": true
    },
    "kernelspec": {
      "name": "python3",
      "display_name": "Python 3"
    },
    "language_info": {
      "name": "python"
    }
  },
  "cells": [
    {
      "cell_type": "markdown",
      "metadata": {
        "id": "view-in-github",
        "colab_type": "text"
      },
      "source": [
        "<a href=\"https://colab.research.google.com/github/Simeen01/Python-Solutions/blob/main/Patterns.ipynb\" target=\"_parent\"><img src=\"https://colab.research.google.com/assets/colab-badge.svg\" alt=\"Open In Colab\"/></a>"
      ]
    },
    {
      "cell_type": "code",
      "execution_count": null,
      "metadata": {
        "colab": {
          "base_uri": "https://localhost:8080/"
        },
        "id": "YtAz5-b1dITw",
        "outputId": "95947d47-8e52-4780-bf5d-66b13d93627b"
      },
      "outputs": [
        {
          "output_type": "stream",
          "name": "stdout",
          "text": [
            "1\n",
            "2\n",
            "3\n",
            "4\n",
            "5\n",
            "6\n"
          ]
        }
      ],
      "source": [
        "for i in range(1,7):\n",
        "    print(i)"
      ]
    },
    {
      "cell_type": "code",
      "source": [
        "for i in range(1,3):\n",
        "    for j in range(1,4):\n",
        "        print(i,j)"
      ],
      "metadata": {
        "colab": {
          "base_uri": "https://localhost:8080/"
        },
        "id": "uiWzKPBzdKlW",
        "outputId": "0a89fef2-99e1-4d04-877d-e6b06f51417d"
      },
      "execution_count": null,
      "outputs": [
        {
          "output_type": "stream",
          "name": "stdout",
          "text": [
            "1 1\n",
            "1 2\n",
            "1 3\n",
            "2 1\n",
            "2 2\n",
            "2 3\n"
          ]
        }
      ]
    },
    {
      "cell_type": "code",
      "source": [
        "for i in range(1,8):\n",
        "    for j in range(1,8):\n",
        "        print(i)"
      ],
      "metadata": {
        "colab": {
          "base_uri": "https://localhost:8080/"
        },
        "id": "YEKwvJFadQLl",
        "outputId": "0d65c6ca-7a72-43be-ea18-5562a30b09f3"
      },
      "execution_count": null,
      "outputs": [
        {
          "output_type": "stream",
          "name": "stdout",
          "text": [
            "1\n",
            "1\n",
            "1\n",
            "1\n",
            "1\n",
            "1\n",
            "1\n",
            "2\n",
            "2\n",
            "2\n",
            "2\n",
            "2\n",
            "2\n",
            "2\n",
            "3\n",
            "3\n",
            "3\n",
            "3\n",
            "3\n",
            "3\n",
            "3\n",
            "4\n",
            "4\n",
            "4\n",
            "4\n",
            "4\n",
            "4\n",
            "4\n",
            "5\n",
            "5\n",
            "5\n",
            "5\n",
            "5\n",
            "5\n",
            "5\n",
            "6\n",
            "6\n",
            "6\n",
            "6\n",
            "6\n",
            "6\n",
            "6\n",
            "7\n",
            "7\n",
            "7\n",
            "7\n",
            "7\n",
            "7\n",
            "7\n"
          ]
        }
      ]
    },
    {
      "cell_type": "code",
      "source": [
        "for i in range(1,8):\n",
        "    for j in range(1,8):\n",
        "        print(i,end=' ')"
      ],
      "metadata": {
        "colab": {
          "base_uri": "https://localhost:8080/"
        },
        "id": "sb2_ZEsmdU0r",
        "outputId": "c389ad3b-2494-4340-b6bc-387476bef129"
      },
      "execution_count": null,
      "outputs": [
        {
          "output_type": "stream",
          "name": "stdout",
          "text": [
            "1 1 1 1 1 1 1 2 2 2 2 2 2 2 3 3 3 3 3 3 3 4 4 4 4 4 4 4 5 5 5 5 5 5 5 6 6 6 6 6 6 6 7 7 7 7 7 7 7 "
          ]
        }
      ]
    },
    {
      "cell_type": "code",
      "source": [
        "for i in range(1,8):\n",
        "    for j in range(1,8):\n",
        "        print(i,end=' ')\n",
        "    print()"
      ],
      "metadata": {
        "colab": {
          "base_uri": "https://localhost:8080/"
        },
        "id": "GXBy9WrHda1t",
        "outputId": "3c12c3bb-3667-47e1-ea99-df98a2678684"
      },
      "execution_count": null,
      "outputs": [
        {
          "output_type": "stream",
          "name": "stdout",
          "text": [
            "1 1 1 1 1 1 1 \n",
            "2 2 2 2 2 2 2 \n",
            "3 3 3 3 3 3 3 \n",
            "4 4 4 4 4 4 4 \n",
            "5 5 5 5 5 5 5 \n",
            "6 6 6 6 6 6 6 \n",
            "7 7 7 7 7 7 7 \n"
          ]
        }
      ]
    },
    {
      "cell_type": "code",
      "source": [
        "# basic structure for letters\n",
        "for r in range(1,8):\n",
        "    for c in range(1,8):\n",
        "        print('*',end=' ')\n",
        "    print()"
      ],
      "metadata": {
        "colab": {
          "base_uri": "https://localhost:8080/"
        },
        "id": "7d-hayoNdd3C",
        "outputId": "9d9ffd2f-d3a5-4e5a-a530-fa1be0a6bf3e"
      },
      "execution_count": null,
      "outputs": [
        {
          "output_type": "stream",
          "name": "stdout",
          "text": [
            "* * * * * * * \n",
            "* * * * * * * \n",
            "* * * * * * * \n",
            "* * * * * * * \n",
            "* * * * * * * \n",
            "* * * * * * * \n",
            "* * * * * * * \n"
          ]
        }
      ]
    },
    {
      "cell_type": "code",
      "source": [
        "for r in range(1,8):\n",
        "  for c in range(1,r+1):\n",
        "      print(\"*\",end=\" \")\n",
        "  print()"
      ],
      "metadata": {
        "colab": {
          "base_uri": "https://localhost:8080/"
        },
        "id": "MSKoGw4ezbjS",
        "outputId": "7b1a0ead-387e-4f0c-e3a5-dc4717f37233"
      },
      "execution_count": null,
      "outputs": [
        {
          "output_type": "stream",
          "name": "stdout",
          "text": [
            "* \n",
            "* * \n",
            "* * * \n",
            "* * * * \n",
            "* * * * * \n",
            "* * * * * * \n",
            "* * * * * * * \n"
          ]
        }
      ]
    },
    {
      "cell_type": "code",
      "source": [
        "for r in range(5,0,-1):\n",
        "  for c in range(1,r+1):\n",
        "      print(r,end=\" \")\n",
        "  print()"
      ],
      "metadata": {
        "id": "FNCcaeVn1180",
        "outputId": "f631d96a-9ebd-4b28-a108-6475b43ded56",
        "colab": {
          "base_uri": "https://localhost:8080/"
        }
      },
      "execution_count": null,
      "outputs": [
        {
          "output_type": "stream",
          "name": "stdout",
          "text": [
            "5 5 5 5 5 \n",
            "4 4 4 4 \n",
            "3 3 3 \n",
            "2 2 \n",
            "1 \n"
          ]
        }
      ]
    },
    {
      "cell_type": "markdown",
      "source": [
        "**Question:**\n",
        "\n",
        "```\n",
        "1  \n",
        "2 2  \n",
        "3 3 3  \n",
        "4 4 4 4  \n",
        "5 5 5 5 5\n",
        "```\n",
        "\n"
      ],
      "metadata": {
        "id": "XAhw1rKuLEN7"
      }
    },
    {
      "cell_type": "code",
      "source": [
        "for r in range(1,6):\n",
        "  for c in range(r):  #other option: for c in range(1,r+1):\n",
        "    print(r,end=\" \")\n",
        "  print()"
      ],
      "metadata": {
        "colab": {
          "base_uri": "https://localhost:8080/"
        },
        "id": "AHoEOsB-K-m_",
        "outputId": "a3a1bada-b2e4-4ab4-f5b0-f61753c4dccf"
      },
      "execution_count": null,
      "outputs": [
        {
          "output_type": "stream",
          "name": "stdout",
          "text": [
            "1 \n",
            "2 2 \n",
            "3 3 3 \n",
            "4 4 4 4 \n",
            "5 5 5 5 5 \n"
          ]
        }
      ]
    },
    {
      "cell_type": "code",
      "source": [
        "for r in range(1,6):\n",
        "  for c in range(6-r,6):\n",
        "    print(r,end=\" \")\n",
        "  print()"
      ],
      "metadata": {
        "colab": {
          "base_uri": "https://localhost:8080/"
        },
        "id": "PV_KbxVQQ3cJ",
        "outputId": "7d5fa1a8-9b05-412b-fde0-a52ac0c50414"
      },
      "execution_count": null,
      "outputs": [
        {
          "output_type": "stream",
          "name": "stdout",
          "text": [
            "1 \n",
            "2 2 \n",
            "3 3 3 \n",
            "4 4 4 4 \n",
            "5 5 5 5 5 \n"
          ]
        }
      ]
    },
    {
      "cell_type": "markdown",
      "source": [
        "**Question:**\n",
        "\n",
        "```\n",
        "1 1 1 1 1 \n",
        "2 2 2 2 \n",
        "3 3 3 \n",
        "4 4 \n",
        "5\n",
        "```\n",
        "\n"
      ],
      "metadata": {
        "id": "dfl_mIv2MbwH"
      }
    },
    {
      "cell_type": "code",
      "source": [
        "for r in range(1,6):\n",
        "  for c in range(6-r):\n",
        "    print(r,end=\" \")\n",
        "  print()"
      ],
      "metadata": {
        "colab": {
          "base_uri": "https://localhost:8080/"
        },
        "id": "u1fGnqPJSKZD",
        "outputId": "72e49549-1a1f-40f9-d910-0cd9df475bf4"
      },
      "execution_count": null,
      "outputs": [
        {
          "output_type": "stream",
          "name": "stdout",
          "text": [
            "1 1 1 1 1 \n",
            "2 2 2 2 \n",
            "3 3 3 \n",
            "4 4 \n",
            "5 \n"
          ]
        }
      ]
    },
    {
      "cell_type": "code",
      "source": [
        "for r in range(1,6):\n",
        "  for c in range(1,6):\n",
        "    print(c,end=\" \")\n",
        "  print()"
      ],
      "metadata": {
        "colab": {
          "base_uri": "https://localhost:8080/"
        },
        "id": "wfDdfZ1BOGE2",
        "outputId": "35e51511-d9ed-4692-b5e5-4dcbd073ef2d"
      },
      "execution_count": null,
      "outputs": [
        {
          "output_type": "stream",
          "name": "stdout",
          "text": [
            "1 2 3 4 5 \n",
            "1 2 3 4 5 \n",
            "1 2 3 4 5 \n",
            "1 2 3 4 5 \n",
            "1 2 3 4 5 \n"
          ]
        }
      ]
    },
    {
      "cell_type": "markdown",
      "source": [
        "**Question:**\n",
        "\n",
        "```\n",
        "1 \n",
        "1 2 \n",
        "1 2 3 \n",
        "1 2 3 4 \n",
        "1 2 3 4 5\n",
        "```\n",
        "\n"
      ],
      "metadata": {
        "id": "_fymo0mIS1L2"
      }
    },
    {
      "cell_type": "code",
      "source": [
        "for r in range(1,7):\n",
        "  for c in range(1,r):\n",
        "    print(c,end=\" \")\n",
        "  print()"
      ],
      "metadata": {
        "colab": {
          "base_uri": "https://localhost:8080/"
        },
        "id": "uWGN9ogPS03w",
        "outputId": "e98032b9-c587-4f1d-e69e-8beb8ec08ff7"
      },
      "execution_count": null,
      "outputs": [
        {
          "output_type": "stream",
          "name": "stdout",
          "text": [
            "\n",
            "1 \n",
            "1 2 \n",
            "1 2 3 \n",
            "1 2 3 4 \n",
            "1 2 3 4 5 \n"
          ]
        }
      ]
    },
    {
      "cell_type": "markdown",
      "source": [
        "**Question:**\n",
        "\n",
        "```\n",
        "5 5 5 5 5 \n",
        "5 5 5 5 \n",
        "5 5 5 \n",
        "5 5 \n",
        "5\n",
        "```\n",
        "\n"
      ],
      "metadata": {
        "id": "7H4LOkKQYwnC"
      }
    },
    {
      "cell_type": "code",
      "source": [
        "for r in range(5,0,-1):\n",
        "  for c in range(1,r+1):\n",
        "    print(\"5\",end=\" \")\n",
        "  print()\n"
      ],
      "metadata": {
        "colab": {
          "base_uri": "https://localhost:8080/"
        },
        "id": "JfDay0cqY4fM",
        "outputId": "f7ac37e8-ecc5-46ba-8909-dcb31f9ff000"
      },
      "execution_count": null,
      "outputs": [
        {
          "output_type": "stream",
          "name": "stdout",
          "text": [
            "5 5 5 5 5 \n",
            "5 5 5 5 \n",
            "5 5 5 \n",
            "5 5 \n",
            "5 \n"
          ]
        }
      ]
    },
    {
      "cell_type": "markdown",
      "source": [
        "***Question:***\n",
        "\n",
        "```\n",
        "1 \n",
        "2 1 \n",
        "3 2 1 \n",
        "4 3 2 1 \n",
        "5 4 3 2 1\n",
        "```\n",
        "\n"
      ],
      "metadata": {
        "id": "OkChCCNoZjJb"
      }
    },
    {
      "cell_type": "code",
      "source": [
        "for r in range(1,6):\n",
        "  for c in range(r,0,-1):\n",
        "      print(c,end=\" \")\n",
        "  print()"
      ],
      "metadata": {
        "colab": {
          "base_uri": "https://localhost:8080/"
        },
        "id": "y7xsDQelZfAW",
        "outputId": "db5e8c9b-a4e4-4d57-e326-225ebdd832e0"
      },
      "execution_count": null,
      "outputs": [
        {
          "output_type": "stream",
          "name": "stdout",
          "text": [
            "1 \n",
            "2 1 \n",
            "3 2 1 \n",
            "4 3 2 1 \n",
            "5 4 3 2 1 \n"
          ]
        }
      ]
    },
    {
      "cell_type": "markdown",
      "source": [
        "**Question:**\n",
        "\n",
        "```\n",
        "0 1 2 3 4 5 \n",
        "0 1 2 3 4 \n",
        "0 1 2 3 \n",
        "0 1 2 \n",
        "0 1\n",
        "```\n",
        "\n"
      ],
      "metadata": {
        "id": "fqUMLyO-fKCF"
      }
    },
    {
      "cell_type": "code",
      "source": [
        "for r in range(6,0,-1):\n",
        "  for c in range(r+1):\n",
        "    print(c,end=\" \")\n",
        "  print() "
      ],
      "metadata": {
        "colab": {
          "base_uri": "https://localhost:8080/"
        },
        "id": "UTzj2k-Cgc4W",
        "outputId": "e6452734-d81e-46e0-ea40-876701213d51"
      },
      "execution_count": null,
      "outputs": [
        {
          "output_type": "stream",
          "name": "stdout",
          "text": [
            "0 1 2 3 4 5 6 \n",
            "0 1 2 3 4 5 \n",
            "0 1 2 3 4 \n",
            "0 1 2 3 \n",
            "0 1 2 \n",
            "0 1 \n"
          ]
        }
      ]
    },
    {
      "cell_type": "code",
      "source": [
        "for r in range(6):\n",
        "  for c in range(6-r):\n",
        "    print(c,end=\" \")\n",
        "  print() "
      ],
      "metadata": {
        "colab": {
          "base_uri": "https://localhost:8080/"
        },
        "id": "YVKxYSojfJuy",
        "outputId": "d417511b-955d-46b9-e851-f0715b5cad85"
      },
      "execution_count": null,
      "outputs": [
        {
          "output_type": "stream",
          "name": "stdout",
          "text": [
            "0 1 2 3 4 5 \n",
            "0 1 2 3 4 \n",
            "0 1 2 3 \n",
            "0 1 2 \n",
            "0 1 \n",
            "0 \n"
          ]
        }
      ]
    },
    {
      "cell_type": "code",
      "source": [
        "for r in range(6):\n",
        "  for c in range(r+1):\n",
        "    print(c,end=\" \")\n",
        "  print() "
      ],
      "metadata": {
        "colab": {
          "base_uri": "https://localhost:8080/"
        },
        "id": "Mf5hU3NVf9-U",
        "outputId": "47f5c3dd-5c4a-4de6-d9f9-483654172223"
      },
      "execution_count": null,
      "outputs": [
        {
          "output_type": "stream",
          "name": "stdout",
          "text": [
            "0 \n",
            "0 1 \n",
            "0 1 2 \n",
            "0 1 2 3 \n",
            "0 1 2 3 4 \n",
            "0 1 2 3 4 5 \n"
          ]
        }
      ]
    },
    {
      "cell_type": "code",
      "source": [
        "for r in range(6):\n",
        "  for c in range(r+1):\n",
        "    print(\"*\",end=\" \")\n",
        "  print()\n",
        "\n",
        "for r in range(1,6):\n",
        "  for c in range(6-r):\n",
        "    print(\"*\",end=\" \")\n",
        "  print()"
      ],
      "metadata": {
        "colab": {
          "base_uri": "https://localhost:8080/"
        },
        "id": "FR4H0nTHppmR",
        "outputId": "fa8f92a0-4384-499c-c649-e01355564998"
      },
      "execution_count": null,
      "outputs": [
        {
          "output_type": "stream",
          "name": "stdout",
          "text": [
            "* \n",
            "* * \n",
            "* * * \n",
            "* * * * \n",
            "* * * * * \n",
            "* * * * * * \n",
            "* * * * * \n",
            "* * * * \n",
            "* * * \n",
            "* * \n",
            "* \n"
          ]
        }
      ]
    },
    {
      "cell_type": "markdown",
      "source": [
        "**Capital Letters from A - Z**"
      ],
      "metadata": {
        "id": "Bxtl_1UCPl4_"
      }
    },
    {
      "cell_type": "code",
      "source": [
        "#Letter A\n",
        "for r in range(1,8):\n",
        "    for c in range(1,8):\n",
        "        if c == 1 or c== 7:\n",
        "            print('*',end=' ')\n",
        "        elif r == 1 or r == 4:\n",
        "            print('*',end=' ')\n",
        "        else:\n",
        "            print(' ',end=' ')\n",
        "    print()"
      ],
      "metadata": {
        "colab": {
          "base_uri": "https://localhost:8080/"
        },
        "id": "ARuy2656diPd",
        "outputId": "e8c282df-8afc-40a4-a8e6-e67db3d01adf"
      },
      "execution_count": null,
      "outputs": [
        {
          "output_type": "stream",
          "name": "stdout",
          "text": [
            "* * * * * * * \n",
            "*           * \n",
            "*           * \n",
            "* * * * * * * \n",
            "*           * \n",
            "*           * \n",
            "*           * \n"
          ]
        }
      ]
    },
    {
      "cell_type": "code",
      "source": [
        "#Letter B\n",
        "for r in range(1,8):\n",
        "  for c in range(1,8):\n",
        "    if c == 1 or c == 7 and 1<r<7 and r!=4:\n",
        "      print(\"*\",end=\" \")\n",
        "    elif (r == 1 or r == 4 or r == 7) and c<7:\n",
        "      print(\"*\",end=\" \")\n",
        "    else:\n",
        "      print(' ',end=' ')\n",
        "  print()"
      ],
      "metadata": {
        "colab": {
          "base_uri": "https://localhost:8080/"
        },
        "id": "pAO3TBqVd4ko",
        "outputId": "1697be28-806d-47dd-b476-c50669a00ad3"
      },
      "execution_count": null,
      "outputs": [
        {
          "output_type": "stream",
          "name": "stdout",
          "text": [
            "* * * * * *   \n",
            "*           * \n",
            "*           * \n",
            "* * * * * *   \n",
            "*           * \n",
            "*           * \n",
            "* * * * * *   \n"
          ]
        }
      ]
    },
    {
      "cell_type": "code",
      "source": [
        "#Letter C\n",
        "for r in range(1,8):\n",
        "    for c in range(1,8):\n",
        "        if c == 1 and 1<r<7:\n",
        "            print('*',end=' ')\n",
        "        elif (r == 1 or r == 7) and c>1:\n",
        "            print('*',end=' ')\n",
        "        else:\n",
        "            print(' ',end=' ')\n",
        "    print()"
      ],
      "metadata": {
        "colab": {
          "base_uri": "https://localhost:8080/"
        },
        "id": "ST1LRutTdnnk",
        "outputId": "a8569a98-6e23-42b1-ed89-fb9e7909cb17"
      },
      "execution_count": null,
      "outputs": [
        {
          "output_type": "stream",
          "name": "stdout",
          "text": [
            "  * * * * * * \n",
            "*             \n",
            "*             \n",
            "*             \n",
            "*             \n",
            "*             \n",
            "  * * * * * * \n"
          ]
        }
      ]
    },
    {
      "cell_type": "code",
      "source": [
        "# Letter D\n",
        "for r in range(1,8):\n",
        "  for c in range(1,8):\n",
        "    if c == 1 or c == 7 and 1<r<7:\n",
        "      print(\"*\",end=\" \")\n",
        "    elif (r == 1 or r == 7) and c<7:\n",
        "      print(\"*\",end=\" \")\n",
        "    else:\n",
        "      print(\" \",end=\" \")\n",
        "  print()"
      ],
      "metadata": {
        "colab": {
          "base_uri": "https://localhost:8080/"
        },
        "id": "QGU4Yo50Pj8U",
        "outputId": "a989b15b-2997-40ee-e1ef-d260713b8622"
      },
      "execution_count": null,
      "outputs": [
        {
          "output_type": "stream",
          "name": "stdout",
          "text": [
            "* * * * * *   \n",
            "*           * \n",
            "*           * \n",
            "*           * \n",
            "*           * \n",
            "*           * \n",
            "* * * * * *   \n"
          ]
        }
      ]
    },
    {
      "cell_type": "code",
      "source": [
        "#Letter E\n",
        "for r in range(1,8):\n",
        "  for c in range(1,8):\n",
        "    if c == 1:\n",
        "      print(\"*\",end=\" \")\n",
        "    elif r == 1 or r == 4 and c<7 or r == 7:\n",
        "      print(\"*\",end=\" \")\n",
        "    else:\n",
        "      print(' ',end=' ')\n",
        "  print()"
      ],
      "metadata": {
        "colab": {
          "base_uri": "https://localhost:8080/"
        },
        "id": "jqTCbM-p09Yj",
        "outputId": "aec941f1-bb11-4b04-9871-7203e5d3cbf2"
      },
      "execution_count": null,
      "outputs": [
        {
          "output_type": "stream",
          "name": "stdout",
          "text": [
            "* * * * * * * \n",
            "*             \n",
            "*             \n",
            "* * * * * *   \n",
            "*             \n",
            "*             \n",
            "* * * * * * * \n"
          ]
        }
      ]
    },
    {
      "cell_type": "code",
      "source": [
        "#Letter F\n",
        "for r in range(1,8):\n",
        "  for c in range(1,8):\n",
        "    if c == 1:\n",
        "      print(\"*\",end=\" \")\n",
        "    elif r == 1 or (r == 4 and c<6):\n",
        "      print(\"*\",end=\" \")\n",
        "    else:\n",
        "      print(\" \",end=\" \")\n",
        "  print()"
      ],
      "metadata": {
        "colab": {
          "base_uri": "https://localhost:8080/"
        },
        "id": "r7f5W2taYmTB",
        "outputId": "d2045961-033b-4608-fa67-090e04ddef53"
      },
      "execution_count": null,
      "outputs": [
        {
          "output_type": "stream",
          "name": "stdout",
          "text": [
            "* * * * * * * \n",
            "*             \n",
            "*             \n",
            "* * * * *     \n",
            "*             \n",
            "*             \n",
            "*             \n"
          ]
        }
      ]
    },
    {
      "cell_type": "code",
      "source": [
        "#Letter G\n",
        "for r in range(1,8):\n",
        "  for c in range(1,8):\n",
        "    if c == 1 or (c == 7 and r>4):\n",
        "      print(\"*\",end=\" \")\n",
        "    elif r == 1 or r == 7 or (r == 4 and c>3):\n",
        "      print(\"*\",end=\" \")\n",
        "    else:\n",
        "      print(\" \",end=\" \")\n",
        "  print()"
      ],
      "metadata": {
        "colab": {
          "base_uri": "https://localhost:8080/"
        },
        "id": "aLsrRb4oZOwH",
        "outputId": "527e2211-5780-4dfa-8710-d2e38bc30f9b"
      },
      "execution_count": null,
      "outputs": [
        {
          "output_type": "stream",
          "name": "stdout",
          "text": [
            "* * * * * * * \n",
            "*             \n",
            "*             \n",
            "*     * * * * \n",
            "*           * \n",
            "*           * \n",
            "* * * * * * * \n"
          ]
        }
      ]
    },
    {
      "cell_type": "code",
      "source": [
        "#Letter H\n",
        "for r in range(1,8):\n",
        "  for c in range(1,8):\n",
        "    if c == 1 or c == 7:\n",
        "      print(\"*\",end=\" \")\n",
        "    elif r == 4:\n",
        "      print(\"*\",end=\" \")\n",
        "    else:\n",
        "      print(\" \",end=\" \")\n",
        "  print()"
      ],
      "metadata": {
        "colab": {
          "base_uri": "https://localhost:8080/"
        },
        "id": "s3cxXUkgaEgh",
        "outputId": "e476f297-ae98-4d97-d5ab-3b194f46f1d2"
      },
      "execution_count": null,
      "outputs": [
        {
          "output_type": "stream",
          "name": "stdout",
          "text": [
            "*           * \n",
            "*           * \n",
            "*           * \n",
            "* * * * * * * \n",
            "*           * \n",
            "*           * \n",
            "*           * \n"
          ]
        }
      ]
    },
    {
      "cell_type": "code",
      "source": [
        "#Letter I\n",
        "for r in range(1,8):\n",
        "    for c in range(1,8):\n",
        "        if c == 4:\n",
        "            print('*',end=' ')\n",
        "        elif r == 1 or r == 7:\n",
        "            print('*',end=' ')\n",
        "        else:\n",
        "            print(' ',end=' ')\n",
        "    print()"
      ],
      "metadata": {
        "colab": {
          "base_uri": "https://localhost:8080/"
        },
        "id": "u_IJs85zdrSj",
        "outputId": "13b9b12e-60b2-4394-bad2-48f693271981"
      },
      "execution_count": null,
      "outputs": [
        {
          "output_type": "stream",
          "name": "stdout",
          "text": [
            "* * * * * * * \n",
            "      *       \n",
            "      *       \n",
            "      *       \n",
            "      *       \n",
            "      *       \n",
            "* * * * * * * \n"
          ]
        }
      ]
    },
    {
      "cell_type": "code",
      "source": [
        "#Letter J\n",
        "for r in range(1,8):\n",
        "    for c in range(1,8):\n",
        "        if c == 4 and r<7:\n",
        "            print('*',end=' ')\n",
        "        elif r == 1 or (r == 7 and c<4):\n",
        "            print('*',end=' ')\n",
        "        else:\n",
        "            print(' ',end=' ')\n",
        "    print()"
      ],
      "metadata": {
        "colab": {
          "base_uri": "https://localhost:8080/"
        },
        "id": "pLa2nhSrdybt",
        "outputId": "912dbf0f-b563-457d-f596-8bf42bc60d64"
      },
      "execution_count": null,
      "outputs": [
        {
          "output_type": "stream",
          "name": "stdout",
          "text": [
            "* * * * * * * \n",
            "      *       \n",
            "      *       \n",
            "      *       \n",
            "      *       \n",
            "      *       \n",
            "* * *         \n"
          ]
        }
      ]
    },
    {
      "cell_type": "code",
      "source": [
        "#Letter K\n",
        "for r in range(1,8):\n",
        "  for c in range(1,8):\n",
        "    if c == 3:\n",
        "      print(\"*\",end=\" \")\n",
        "    elif r+c == 8  and c>3: \n",
        "      print(\"*\",end=\" \")\n",
        "    elif r == c and r>3:\n",
        "      print(\"*\",end=\" \")\n",
        "    else:\n",
        "      print(\" \",end=\" \")\n",
        "  print()"
      ],
      "metadata": {
        "id": "LN5t7laSd1Pn",
        "colab": {
          "base_uri": "https://localhost:8080/"
        },
        "outputId": "034cd682-61db-4201-b98a-f391c6794bd2"
      },
      "execution_count": null,
      "outputs": [
        {
          "output_type": "stream",
          "name": "stdout",
          "text": [
            "    *       * \n",
            "    *     *   \n",
            "    *   *     \n",
            "    * *       \n",
            "    *   *     \n",
            "    *     *   \n",
            "    *       * \n"
          ]
        }
      ]
    },
    {
      "cell_type": "code",
      "source": [
        "#Letter L\n",
        "for r in range(1,8):\n",
        "  for c in range(1,8):\n",
        "    if c == 1:\n",
        "      print(\"*\",end=\" \")\n",
        "    elif r == 7:\n",
        "      print(\"*\",end=\" \")\n",
        "    else:\n",
        "      print(\" \",end=\" \")\n",
        "  print()"
      ],
      "metadata": {
        "colab": {
          "base_uri": "https://localhost:8080/"
        },
        "id": "SqA3CG4va3Ik",
        "outputId": "c407ebaa-7322-41f8-ee7f-555cfc1498d6"
      },
      "execution_count": null,
      "outputs": [
        {
          "output_type": "stream",
          "name": "stdout",
          "text": [
            "*             \n",
            "*             \n",
            "*             \n",
            "*             \n",
            "*             \n",
            "*             \n",
            "* * * * * * * \n"
          ]
        }
      ]
    },
    {
      "cell_type": "code",
      "source": [
        "#Letter M\n",
        "for r in range(1,8):\n",
        "  for c in range(1,8):\n",
        "    if c == 1 or c ==7:\n",
        "      print(\"*\",end=\" \")\n",
        "    elif r == c and c<5:\n",
        "      print(\"*\",end=\" \")\n",
        "    elif r+c == 8 and r<5:\n",
        "      print(\"*\",end=\" \")\n",
        "    else:\n",
        "      print(\" \",end=\" \")\n",
        "  print()"
      ],
      "metadata": {
        "id": "1x551slebGcV",
        "colab": {
          "base_uri": "https://localhost:8080/"
        },
        "outputId": "cadf6b5b-f76c-4f4c-af4a-1f546f191179"
      },
      "execution_count": null,
      "outputs": [
        {
          "output_type": "stream",
          "name": "stdout",
          "text": [
            "*           * \n",
            "* *       * * \n",
            "*   *   *   * \n",
            "*     *     * \n",
            "*           * \n",
            "*           * \n",
            "*           * \n"
          ]
        }
      ]
    },
    {
      "cell_type": "code",
      "source": [
        "#Letter N\n",
        "for r in range(1,8):\n",
        "  for c in range(1,8):\n",
        "    if c == 1 or c ==7:\n",
        "      print(\"*\",end=\" \")\n",
        "    elif r == c: \n",
        "      print(\"*\",end=\" \")\n",
        "    else:\n",
        "      print(\" \",end=\" \")\n",
        "  print()"
      ],
      "metadata": {
        "id": "shHIbaeebJVR",
        "colab": {
          "base_uri": "https://localhost:8080/"
        },
        "outputId": "de436954-a8c9-4cae-b0ff-108175ff7fd9"
      },
      "execution_count": null,
      "outputs": [
        {
          "output_type": "stream",
          "name": "stdout",
          "text": [
            "*           * \n",
            "* *         * \n",
            "*   *       * \n",
            "*     *     * \n",
            "*       *   * \n",
            "*         * * \n",
            "*           * \n"
          ]
        }
      ]
    },
    {
      "cell_type": "code",
      "source": [
        "#Letter O\n",
        "for r in range(1,8):\n",
        "  for c in range(1,8):\n",
        "    if (c == 1 or c == 7) and 1<r<7:\n",
        "      print(\"*\",end=\" \")\n",
        "    elif (r == 1 or r == 7) and c<7 and c>1:\n",
        "      print(\"*\",end=\" \")\n",
        "    else:\n",
        "      print(\" \",end=\" \")\n",
        "  print()"
      ],
      "metadata": {
        "colab": {
          "base_uri": "https://localhost:8080/"
        },
        "id": "mpUS01uNbLS9",
        "outputId": "d057e492-e8d8-47e4-eb76-4eb6793116c0"
      },
      "execution_count": null,
      "outputs": [
        {
          "output_type": "stream",
          "name": "stdout",
          "text": [
            "  * * * * *   \n",
            "*           * \n",
            "*           * \n",
            "*           * \n",
            "*           * \n",
            "*           * \n",
            "  * * * * *   \n"
          ]
        }
      ]
    },
    {
      "cell_type": "code",
      "source": [
        "#Letter P\n",
        "for r in range(1,8):\n",
        "  for c in range(1,8):\n",
        "    if c == 1 or c == 7 and r<5:\n",
        "      print(\"*\",end=\" \")\n",
        "    elif r == 1 or r == 4:\n",
        "      print(\"*\",end=\" \")\n",
        "    else:\n",
        "      print(\" \",end=\" \")\n",
        "  print()"
      ],
      "metadata": {
        "colab": {
          "base_uri": "https://localhost:8080/"
        },
        "id": "IzRs6RSmbM5A",
        "outputId": "2a93e2b6-a316-4138-eadd-87f1109fecc2"
      },
      "execution_count": null,
      "outputs": [
        {
          "output_type": "stream",
          "name": "stdout",
          "text": [
            "* * * * * * * \n",
            "*           * \n",
            "*           * \n",
            "* * * * * * * \n",
            "*             \n",
            "*             \n",
            "*             \n"
          ]
        }
      ]
    },
    {
      "cell_type": "code",
      "source": [
        "#Letter Q\n",
        "for r in range(1,8):\n",
        "  for c in range(1,8):\n",
        "    if (c == 1 and r<6) or (c == 7 and r<6):\n",
        "      print(\"*\",end=\" \")\n",
        "    elif r == 1 or r == 6:\n",
        "      print(\"*\",end=\" \")\n",
        "    elif r == c and r>3:\n",
        "      print(\"*\",end=\" \")\n",
        "    else:\n",
        "      print(\" \",end=\" \")\n",
        "  print()"
      ],
      "metadata": {
        "colab": {
          "base_uri": "https://localhost:8080/"
        },
        "id": "Xjm9ywjrbN6Y",
        "outputId": "ca4e2eae-3cc1-4cda-b48c-aa9a5685b6c8"
      },
      "execution_count": null,
      "outputs": [
        {
          "output_type": "stream",
          "name": "stdout",
          "text": [
            "* * * * * * * \n",
            "*           * \n",
            "*           * \n",
            "*     *     * \n",
            "*       *   * \n",
            "* * * * * * * \n",
            "            * \n"
          ]
        }
      ]
    },
    {
      "cell_type": "code",
      "source": [
        "#Letter R\n",
        "for r in range(1,8):\n",
        "  for c in range(1,8):\n",
        "    if c == 1 or c == 7 and r<5:\n",
        "      print(\"*\",end=\" \")\n",
        "    elif r == 1 or r == 4:\n",
        "      print(\"*\",end=\" \")\n",
        "    elif: #diagonal\n",
        "      print(\"*\",end=\" \")\n",
        "    else:\n",
        "      print(\" \",end=\" \")\n",
        "  print()"
      ],
      "metadata": {
        "colab": {
          "base_uri": "https://localhost:8080/",
          "height": 130
        },
        "id": "jpI2Rt5dbPI0",
        "outputId": "eb6e8221-8728-4c55-e5eb-ea93f77c9c15"
      },
      "execution_count": null,
      "outputs": [
        {
          "output_type": "error",
          "ename": "SyntaxError",
          "evalue": "ignored",
          "traceback": [
            "\u001b[0;36m  File \u001b[0;32m\"<ipython-input-33-9f6aed29c242>\"\u001b[0;36m, line \u001b[0;32m8\u001b[0m\n\u001b[0;31m    elif: #diagonal\u001b[0m\n\u001b[0m        ^\u001b[0m\n\u001b[0;31mSyntaxError\u001b[0m\u001b[0;31m:\u001b[0m invalid syntax\n"
          ]
        }
      ]
    },
    {
      "cell_type": "code",
      "source": [
        "#Letter S\n",
        "for r in range(1,8):\n",
        "  for c in range(1,8):\n",
        "    if c == 1 and r<5 or c == 7 and r>4:\n",
        "      print(\"*\",end=\" \")\n",
        "    elif r == 1 or r == 4 or r == 7:\n",
        "      print(\"*\",end=\" \")\n",
        "    else:\n",
        "      print(\" \",end=\" \")\n",
        "  print()"
      ],
      "metadata": {
        "id": "0dwzMgrWbQcX"
      },
      "execution_count": null,
      "outputs": []
    },
    {
      "cell_type": "code",
      "source": [
        "#Letter T\n",
        "for r in range(1,8):\n",
        "  for c in range(1,8):\n",
        "    if c == 4:\n",
        "      print(\"*\",end=\" \")\n",
        "    elif r == 1:\n",
        "      print(\"*\",end=\" \")\n",
        "    else:\n",
        "      print(\" \",end=\" \")\n",
        "  print()"
      ],
      "metadata": {
        "id": "mRY_A3cubROc"
      },
      "execution_count": null,
      "outputs": []
    },
    {
      "cell_type": "code",
      "source": [
        "#Letter U\n",
        "for r in range(1,8):\n",
        "  for c in range(1,8):\n",
        "    if c == 1 or c == 7:\n",
        "      print(\"*\",end=\" \")\n",
        "    elif r == 7:\n",
        "      print(\"*\",end=\" \")\n",
        "    else:\n",
        "      print(\" \",end=\" \")\n",
        "  print()"
      ],
      "metadata": {
        "id": "xLjlPzPIbR8j"
      },
      "execution_count": null,
      "outputs": []
    },
    {
      "cell_type": "code",
      "source": [
        "#Letter V\n",
        "for r in range(1,8):\n",
        "  for c in range(1,8):\n",
        "    if r == c and r<7:\n",
        "      print(\"*\",end=\"\")\n",
        "    elif r + c == 12 and r<7: \n",
        "      print(\"*\",end=\"\")\n",
        "    else:\n",
        "      print(\" \",end=\"\")\n",
        "  print()"
      ],
      "metadata": {
        "id": "zn5hFGjSbSvW"
      },
      "execution_count": null,
      "outputs": []
    },
    {
      "cell_type": "code",
      "source": [
        "#Letter V\n",
        "for r in range(1,8):\n",
        "  for c in range(1,8):\n",
        "    if r==2*c-1:\n",
        "      print(\"*\",end=\" \")\n",
        "    elif r+2*c==15:\n",
        "      print(\"*\",end=\" \")\n",
        "    else:\n",
        "      print(\" \",end=\" \")\n",
        "  print()"
      ],
      "metadata": {
        "id": "R97_a0eeDxjH"
      },
      "execution_count": null,
      "outputs": []
    },
    {
      "cell_type": "code",
      "source": [
        "#Letter W\n",
        "for r in range(1,8):\n",
        "  for c in range(1,8):\n",
        "    if c == 1 or c == 7:\n",
        "      print(\"*\",end=\" \")\n",
        "    elif r+c == 8 and r>3: \n",
        "      print(\"*\",end=\" \")\n",
        "    elif r == c and r>3: \n",
        "      print(\"*\",end=\" \")\n",
        "    else:\n",
        "      print(\" \",end=\" \")\n",
        "  print()"
      ],
      "metadata": {
        "id": "7EPDpd0HbT5Q"
      },
      "execution_count": null,
      "outputs": []
    },
    {
      "cell_type": "code",
      "source": [
        "#Letter X\n",
        "for r in range(1,8):\n",
        "  for c in range(1,8):\n",
        "    if r == c:\n",
        "      print(\"*\",end=\" \")\n",
        "    elif r + c == 8: \n",
        "      print(\"*\",end=\" \")\n",
        "    else:\n",
        "      print(\" \",end=\" \")\n",
        "  print()"
      ],
      "metadata": {
        "id": "QhDPnCn_bWRl"
      },
      "execution_count": null,
      "outputs": []
    },
    {
      "cell_type": "code",
      "source": [
        "#Letter Y\n",
        "for r in range(1,8):\n",
        "  for c in range(1,8):\n",
        "    if c == 4 and r>3:\n",
        "      print(\"*\",end=\" \")\n",
        "    elif r == c and r<5: \n",
        "      print(\"*\",end=\" \")\n",
        "    elif r+c == 8 and r<5: \n",
        "      print(\"*\",end=\" \")\n",
        "    else:\n",
        "      print(\" \",end=\" \")\n",
        "  print()"
      ],
      "metadata": {
        "id": "nDSt2LHmbXPg"
      },
      "execution_count": null,
      "outputs": []
    },
    {
      "cell_type": "code",
      "source": [
        "#Letter Z\n",
        "for r in range(1,8):\n",
        "  for c in range(1,8):\n",
        "    if r + c == 8: \n",
        "      print(\"*\",end=\" \")\n",
        "    elif r == 1 or r == 7:\n",
        "      print(\"*\",end=\" \")\n",
        "    else:\n",
        "      print(\" \",end=\" \")\n",
        "  print()"
      ],
      "metadata": {
        "id": "mgDvNzRgbYAk"
      },
      "execution_count": null,
      "outputs": []
    },
    {
      "cell_type": "markdown",
      "source": [
        "**Small Letters from a - z**"
      ],
      "metadata": {
        "id": "Xu-pESghfW8x"
      }
    },
    {
      "cell_type": "code",
      "source": [
        "#Letter a\n",
        "for r in range(1,8):\n",
        "  for c in range(1,8):\n",
        "    if c == 1 and r>4 or c == 6 and r<2 or c == 7 and 1<r<7:\n",
        "      print(\"*\",end=\"\")\n",
        "    elif (r == 1 or r == 4 or r == 7) and c<7:\n",
        "      print(\"*\",end=\"\")\n",
        "    else:\n",
        "      print(\" \",end=\"\")\n",
        "  print()"
      ],
      "metadata": {
        "id": "igmGIWsPfaCw"
      },
      "execution_count": null,
      "outputs": []
    },
    {
      "cell_type": "code",
      "source": [
        "#Letter b\n",
        "for r in range(1,8):\n",
        "  for c in range(1,8):\n",
        "    if c == 1 or c == 7 and r>3:\n",
        "      print(\"*\",end=\"\")\n",
        "    elif r == 4 or r == 7:\n",
        "      print(\"*\",end=\"\")\n",
        "    else:\n",
        "      print(\" \",end=\"\")\n",
        "  print()"
      ],
      "metadata": {
        "id": "qA4OPNmVfgB7"
      },
      "execution_count": null,
      "outputs": []
    },
    {
      "cell_type": "code",
      "source": [
        "#Letter c\n",
        "for r in range(1,8):\n",
        "  for c in range(1,8):\n",
        "    if c == 1 and r>3:\n",
        "      print(\"*\",end=\"\")\n",
        "    elif r == 4 or r == 7:\n",
        "      print(\"*\",end=\"\")\n",
        "    else:\n",
        "      print(\" \",end=\"\")\n",
        "  print()"
      ],
      "metadata": {
        "id": "g3uSTTGAfhn_"
      },
      "execution_count": null,
      "outputs": []
    },
    {
      "cell_type": "code",
      "source": [
        "#Letter d\n",
        "for r in range(1,8):\n",
        "  for c in range(1,8):\n",
        "    if c == 1 and r>3 or c == 7:\n",
        "      print(\"*\",end=\"\")\n",
        "    elif r == 4 or r == 7:\n",
        "      print(\"*\",end=\"\")\n",
        "    else:\n",
        "      print(\" \",end=\"\")\n",
        "  print()"
      ],
      "metadata": {
        "id": "HYjCPKRufiWz"
      },
      "execution_count": null,
      "outputs": []
    },
    {
      "cell_type": "code",
      "source": [
        "#Letter e\n",
        "for r in range(1,8):\n",
        "  for c in range(1,8):\n",
        "    if c == 1 and r>2 or c == 7 and r>3 and r<5:\n",
        "      print(\"*\",end=\"\")\n",
        "    elif r == 3 or r == 5 or r == 7:\n",
        "      print(\"*\",end=\"\")\n",
        "    else:\n",
        "      print(\" \",end=\"\")\n",
        "  print()"
      ],
      "metadata": {
        "id": "duVX33fBfi88"
      },
      "execution_count": null,
      "outputs": []
    },
    {
      "cell_type": "code",
      "source": [
        "#Letter f\n",
        "for r in range(1,8):\n",
        "  for c in range(1,8):\n",
        "    if c == 3:\n",
        "      print(\"*\",end=\"\")\n",
        "    elif r == 1 and c>2 or r == 4:\n",
        "      print(\"*\",end=\"\")\n",
        "    else:\n",
        "      print(\" \",end=\"\")\n",
        "  print()"
      ],
      "metadata": {
        "id": "ZkuhMdo0fjqT"
      },
      "execution_count": null,
      "outputs": []
    },
    {
      "cell_type": "code",
      "source": [
        "#Letter g\n",
        "for r in range(1,8):\n",
        "  for c in range(1,8):\n",
        "    if c == 1 and r<4 or c == 7:\n",
        "      print(\"*\",end=\"\")\n",
        "    elif r == 1 or r == 4 or r == 7:\n",
        "      print(\"*\",end=\"\")\n",
        "    else:\n",
        "      print(\" \",end=\"\")\n",
        "  print()"
      ],
      "metadata": {
        "id": "Q51t0iB1fkPu"
      },
      "execution_count": null,
      "outputs": []
    },
    {
      "cell_type": "code",
      "source": [
        "#Letter h\n",
        "for r in range(1,8):\n",
        "  for c in range(1,8):\n",
        "    if c == 1 or c == 7 and r>4:\n",
        "      print(\"*\",end=\"\")\n",
        "    elif r == 4:\n",
        "      print(\"*\",end=\"\")\n",
        "    else:\n",
        "      print(\" \",end=\"\")\n",
        "  print()"
      ],
      "metadata": {
        "id": "UjnuGQ7TflEn"
      },
      "execution_count": null,
      "outputs": []
    },
    {
      "cell_type": "code",
      "source": [
        "#Letter i\n",
        "for r in range(1,8):\n",
        "  for c in range(1,8):\n",
        "    if c == 1 and r>2:\n",
        "      print(\"*\",end=\"\")\n",
        "    elif r == 1 and c<2:\n",
        "      print(\"*\",end=\"\")\n",
        "    else:\n",
        "      print(\" \",end=\"\")\n",
        "  print()"
      ],
      "metadata": {
        "id": "Z2ibdRwlflos"
      },
      "execution_count": null,
      "outputs": []
    },
    {
      "cell_type": "code",
      "source": [
        "#Letter j\n",
        "for r in range(1,8):\n",
        "  for c in range(1,8):\n",
        "    if c == 4 and r>2:\n",
        "      print(\"*\",end=\"\")\n",
        "    elif r == 7 and c<4 or r == 1 and c>3 and c<5:\n",
        "      print(\"*\",end=\"\")\n",
        "    else:\n",
        "      print(\" \",end=\"\")\n",
        "  print()"
      ],
      "metadata": {
        "id": "H1voWpwcfmKf"
      },
      "execution_count": null,
      "outputs": []
    },
    {
      "cell_type": "code",
      "source": [
        "#Letter k\n",
        "for r in range(1,8):\n",
        "  for c in range(1,8):\n",
        "    if c == 1:\n",
        "      print(\"*\",end=\"\")\n",
        "    elif r+c==6 and c<4: #down\n",
        "      print(\"*\",end=\"\")\n",
        "    elif r-2 == c: #up\n",
        "      print(\"*\",end=\"\")\n",
        "    else:\n",
        "      print(\" \",end=\"\")\n",
        "  print()"
      ],
      "metadata": {
        "id": "oWRlGgGnfm13"
      },
      "execution_count": null,
      "outputs": []
    },
    {
      "cell_type": "code",
      "source": [
        "#Letter l\n",
        "for r in range(1,8):\n",
        "  for c in range(1,8):\n",
        "    if c == 4:\n",
        "      print(\"*\",end=\"\")\n",
        "    elif r == 1 and c>1 and c<4 or r == 7:\n",
        "      print(\"*\",end=\"\")\n",
        "    else:\n",
        "      print(\" \",end=\"\")\n",
        "  print()"
      ],
      "metadata": {
        "id": "Xs8RqUzxfpFv"
      },
      "execution_count": null,
      "outputs": []
    },
    {
      "cell_type": "code",
      "source": [
        "#Letter m\n",
        "for r in range(1,8):\n",
        "  for c in range(1,8):\n",
        "    if (c == 1 or c == 7) and r>3:\n",
        "      print(\"*\",end=\"\")\n",
        "    elif r == c and r<4:\n",
        "      print(\"*\",end=\"\")\n",
        "    elif r+c == 8 and r<4:\n",
        "      print(\"*\",end=\"\")\n",
        "    else:\n",
        "      print(\" \",end=\"\")\n",
        "  print()\n",
        "\n",
        "\n",
        "\n",
        "# for r in range(1,8):\n",
        "#   for c in range(1,8):\n",
        "#     if c == 1 and r>4 or c == 4 and r>4 and r<7 or c == 7 and r>4:\n",
        "#       print(\"*\",end=\"\")\n",
        "#     elif r == 4:\n",
        "#       print(\"*\",end=\"\")\n",
        "#     else:\n",
        "#       print(\" \",end=\"\")\n",
        "#   print()"
      ],
      "metadata": {
        "id": "EtirsSeifpuM"
      },
      "execution_count": null,
      "outputs": []
    },
    {
      "cell_type": "code",
      "source": [
        "#do m diagonals"
      ],
      "metadata": {
        "id": "BwSuK99IuKMW"
      },
      "execution_count": null,
      "outputs": []
    },
    {
      "cell_type": "code",
      "source": [
        "#Letter n\n",
        "for r in range(1,8):\n",
        "  for c in range(1,8):\n",
        "    if c == 1 and r>2 or c == 7 and r>4:\n",
        "      print(\"*\",end=\"\")\n",
        "    elif r == 4:\n",
        "      print(\"*\",end=\"\")\n",
        "    else:\n",
        "      print(\" \",end=\"\")\n",
        "  print()"
      ],
      "metadata": {
        "id": "OJ5ngDC3fqS2"
      },
      "execution_count": null,
      "outputs": []
    },
    {
      "cell_type": "code",
      "source": [
        "#Letter o\n",
        "for r in range(1,8):\n",
        "  for c in range(1,8):\n",
        "    if c == 1 and r>4 or c == 7 and r>4:\n",
        "      print(\"*\",end=\"\")\n",
        "    elif r == 4 or r == 7:\n",
        "      print(\"*\",end=\"\")\n",
        "    else:\n",
        "      print(\" \",end=\"\")\n",
        "  print()"
      ],
      "metadata": {
        "id": "QZktUz1vfq30"
      },
      "execution_count": null,
      "outputs": []
    },
    {
      "cell_type": "code",
      "source": [
        "#Letter p\n",
        "for r in range(1,8):\n",
        "  for c in range(1,8):\n",
        "    if c == 1 or c == 7 and r<4:\n",
        "      print(\"*\",end=\"\")\n",
        "    elif r == 1 or r == 4:\n",
        "      print(\"*\",end=\"\")\n",
        "    else:\n",
        "      print(\" \",end=\"\")\n",
        "  print()"
      ],
      "metadata": {
        "id": "wwsK6dibfrmS"
      },
      "execution_count": null,
      "outputs": []
    },
    {
      "cell_type": "code",
      "source": [
        "#add diagonal\n",
        "#Letter q\n",
        "for r in range(1,8):\n",
        "  for c in range(1,8):\n",
        "    if c == 1 and r<4 or c == 7:\n",
        "      print(\"*\",end=\"\")\n",
        "    elif r == 1 or r == 4:\n",
        "      print(\"*\",end=\"\")\n",
        "    else:\n",
        "      print(\" \",end=\"\")\n",
        "  print()"
      ],
      "metadata": {
        "id": "xNZjKhlrfsRh"
      },
      "execution_count": null,
      "outputs": []
    },
    {
      "cell_type": "code",
      "source": [
        "#Letter r\n",
        "for r in range(1,8):\n",
        "  for c in range(1,8):\n",
        "    if c == 1 and r>2:\n",
        "      print(\"*\",end=\"\")\n",
        "    elif r == 3 and c>3 or r == 4 and c<3:\n",
        "      print(\"*\",end=\"\")\n",
        "    else:\n",
        "      print(\" \",end=\"\")\n",
        "  print()"
      ],
      "metadata": {
        "id": "voK01VIlfs-8"
      },
      "execution_count": null,
      "outputs": []
    },
    {
      "cell_type": "code",
      "source": [
        "#Letter s\n",
        "for r in range(1,8):\n",
        "  for c in range(1,8):\n",
        "    if c == 1 and r>3 and r<6 or c == 7 and r>4:\n",
        "      print(\"*\",end=\"\")\n",
        "    elif r == 3 or r == 5 or r == 7:\n",
        "      print(\"*\",end=\"\")\n",
        "    else:\n",
        "      print(\" \",end=\"\")\n",
        "  print()"
      ],
      "metadata": {
        "id": "LWYJMbmBftlC"
      },
      "execution_count": null,
      "outputs": []
    },
    {
      "cell_type": "code",
      "source": [
        "#Letter t\n",
        "for r in range(1,8):\n",
        "  for c in range(1,8):\n",
        "    if c == 3:\n",
        "      print(\"*\",end=\"\")\n",
        "    elif r == 3 or r == 7 and c>3:\n",
        "      print(\"*\",end=\"\")\n",
        "    else:\n",
        "      print(\" \",end=\"\")\n",
        "  print()"
      ],
      "metadata": {
        "id": "V3qu8fQhfuPX"
      },
      "execution_count": null,
      "outputs": []
    },
    {
      "cell_type": "code",
      "source": [
        "#Letter u\n",
        "for r in range(1,8):\n",
        "  for c in range(1,8):\n",
        "    if c == 1 and r>3 or c == 7 and r>3:\n",
        "      print(\"*\",end=\"\")\n",
        "    elif r == 7:\n",
        "      print(\"*\",end=\"\")\n",
        "    else:\n",
        "      print(\" \",end=\"\")\n",
        "  print()"
      ],
      "metadata": {
        "id": "Td-LHdRNfu0u"
      },
      "execution_count": null,
      "outputs": []
    },
    {
      "cell_type": "code",
      "source": [
        "#Letter v\n",
        "for r in range(1,8):\n",
        "  for c in range(1,8):\n",
        "    if r == c and r<5:\n",
        "      print(\"*\",end=\"\")\n",
        "    elif r+c == 8 and r<5:\n",
        "      print(\"*\",end=\"\")\n",
        "    else:\n",
        "      print(\" \",end=\"\")\n",
        "  print()"
      ],
      "metadata": {
        "id": "5qRx0IZzfvtB"
      },
      "execution_count": null,
      "outputs": []
    },
    {
      "cell_type": "code",
      "source": [
        "#Letter w\n",
        "for r in range(1,8):\n",
        "  for c in range(1,8):\n",
        "    if c == 1 and r>2 or c == 7 and r>2:\n",
        "      print(\"*\",end=\"\")\n",
        "    elif r == c and r>3:\n",
        "      print(\"*\",end=\"\")\n",
        "    elif r+c == 8 and r>3:\n",
        "      print(\"*\",end=\"\")\n",
        "    else:\n",
        "      print(\" \",end=\"\")\n",
        "  print()"
      ],
      "metadata": {
        "id": "DMOaYwQWfwWt"
      },
      "execution_count": null,
      "outputs": []
    },
    {
      "cell_type": "code",
      "source": [
        "#Letter x\n",
        "for r in range(1,8):\n",
        "  for c in range(1,8):\n",
        "    if r == c:\n",
        "      print(\"*\",end=\"\")\n",
        "    elif r+c == 8:\n",
        "      print(\"*\",end=\"\")\n",
        "    else:\n",
        "      print(\" \",end=\"\")\n",
        "  print()"
      ],
      "metadata": {
        "id": "J1QGZRKLfx4a"
      },
      "execution_count": null,
      "outputs": []
    },
    {
      "cell_type": "code",
      "source": [
        "#Letter y\n",
        "for r in range(1,8):\n",
        "  for c in range(1,8):\n",
        "    if (c == 1 and r<4) or c == 7:\n",
        "      print(\"*\",end=\"\")\n",
        "    elif r == 4 or r == 7:\n",
        "      print(\"*\",end=\"\") \n",
        "    else:\n",
        "      print(\" \",end=\"\")\n",
        "  print()"
      ],
      "metadata": {
        "id": "9etkywsPfydM"
      },
      "execution_count": null,
      "outputs": []
    },
    {
      "cell_type": "code",
      "source": [
        "#Letter z\n",
        "for r in range(1,8):\n",
        "  for c in range(1,8):\n",
        "    if r+c == 8 and r>4:\n",
        "      print(\"*\",end=\"\")\n",
        "    elif r == 4 or r == 7:\n",
        "      print(\"*\",end=\"\")\n",
        "    else:\n",
        "      print(\" \",end=\"\")\n",
        "  print()"
      ],
      "metadata": {
        "id": "XT4rhrekfzHc"
      },
      "execution_count": null,
      "outputs": []
    },
    {
      "cell_type": "markdown",
      "source": [
        "**Numbers from 0 - 9**"
      ],
      "metadata": {
        "id": "0lIWYUT-hVGX"
      }
    },
    {
      "cell_type": "code",
      "source": [
        "#Number 0\n",
        "for r in range(1,8):\n",
        "  for c in range(1,8):\n",
        "    if c == 1 or c == 7:\n",
        "      print(\"*\",end=\"\")\n",
        "    elif r == 1 or r == 7:\n",
        "      print(\"*\",end=\"\")\n",
        "    else:\n",
        "      print(\" \",end=\"\")\n",
        "  print()"
      ],
      "metadata": {
        "id": "vraFUZRMhZr9"
      },
      "execution_count": null,
      "outputs": []
    },
    {
      "cell_type": "code",
      "source": [
        "#Number 1\n",
        "for r in range(1,8):\n",
        "  for c in range(1,8):\n",
        "    if c == 4:\n",
        "      print(\"*\",end=\"\")\n",
        "    elif r == 7:\n",
        "      print(\"*\",end=\"\")\n",
        "    elif r+c == 4 and r<4:\n",
        "      print(\"*\",end=\"\")\n",
        "    else:\n",
        "      print(\" \",end=\"\")\n",
        "  print()"
      ],
      "metadata": {
        "id": "RUgsoAP7hcSb"
      },
      "execution_count": null,
      "outputs": []
    },
    {
      "cell_type": "code",
      "source": [
        "#Number 2\n",
        "for r in range(1,8):\n",
        "  for c in range(1,8):\n",
        "    if (c == 1 and r>3) or (c == 7 and r<4):\n",
        "      print(\"*\",end=\"\")\n",
        "    elif r == 1 or r == 4 or r == 7:\n",
        "      print(\"*\",end=\"\")\n",
        "    else:\n",
        "      print(\" \",end=\"\")\n",
        "  print()"
      ],
      "metadata": {
        "id": "ZvKOG706hdb5"
      },
      "execution_count": null,
      "outputs": []
    },
    {
      "cell_type": "code",
      "source": [
        "#Number 2 diagonal"
      ],
      "metadata": {
        "id": "aXrTARTwjygQ"
      },
      "execution_count": null,
      "outputs": []
    },
    {
      "cell_type": "code",
      "source": [
        "#Number 3\n",
        "for r in range(1,8):\n",
        "  for c in range(1,8):\n",
        "    if c == 7:\n",
        "      print(\"*\",end=\"\")\n",
        "    elif r == 1 or r == 4 or r == 7:\n",
        "      print(\"*\",end=\"\")\n",
        "    else:\n",
        "      print(\" \",end=\"\")\n",
        "  print()"
      ],
      "metadata": {
        "id": "KaNmgVxChfAt"
      },
      "execution_count": null,
      "outputs": []
    },
    {
      "cell_type": "code",
      "source": [
        "#Number 4\n",
        "for r in range(1,8):\n",
        "  for c in range(1,8):\n",
        "    if c == 1 and r<4 or c == 7 and r>2:\n",
        "      print(\"*\",end=\"\")\n",
        "    elif r == 4:\n",
        "      print(\"*\",end=\"\")\n",
        "    else:\n",
        "      print(\" \",end=\"\")\n",
        "  print()"
      ],
      "metadata": {
        "id": "DxgU9iOfhfgA"
      },
      "execution_count": null,
      "outputs": []
    },
    {
      "cell_type": "code",
      "source": [
        "#Number 4 diagonal"
      ],
      "metadata": {
        "id": "hkK7sUb4kmX9"
      },
      "execution_count": null,
      "outputs": []
    },
    {
      "cell_type": "code",
      "source": [
        "#Number 5\n",
        "for r in range(1,8):\n",
        "  for c in range(1,8):\n",
        "    if c == 1 and r<4 or c == 7 and r>3:\n",
        "      print(\"*\",end=\"\")\n",
        "    elif r == 1 or r == 4 or r == 7:\n",
        "      print(\"*\",end=\"\")\n",
        "    else:\n",
        "      print(\" \",end=\"\")\n",
        "  print()"
      ],
      "metadata": {
        "id": "LHyzPUd1hgjs"
      },
      "execution_count": null,
      "outputs": []
    },
    {
      "cell_type": "code",
      "source": [
        "#Number 6\n",
        "for r in range(1,8):\n",
        "  for c in range(1,8):\n",
        "    if c == 1 or (c == 7 and r>3):\n",
        "      print(\"*\",end=\"\")\n",
        "    elif r == 1 or r == 4 or r == 7:\n",
        "      print(\"*\",end=\"\")\n",
        "    else:\n",
        "      print(\" \",end=\"\")\n",
        "  print()"
      ],
      "metadata": {
        "id": "NsjpVA9QhhDn"
      },
      "execution_count": null,
      "outputs": []
    },
    {
      "cell_type": "code",
      "source": [
        "#Number 7\n",
        "for r in range(1,8):\n",
        "  for c in range(1,8):\n",
        "    if c == 7: #need to do diagonally\n",
        "      print(\"*\",end=\"\")\n",
        "    elif r == 1:\n",
        "      print(\"*\",end=\"\")\n",
        "    else:\n",
        "      print(\" \",end=\"\")\n",
        "  print()"
      ],
      "metadata": {
        "id": "QQ-5x_Zchhn3"
      },
      "execution_count": null,
      "outputs": []
    },
    {
      "cell_type": "code",
      "source": [
        "#Number 8\n",
        "for r in range(1,8):\n",
        "  for c in range(1,8):\n",
        "    if c == 1 or c == 7:\n",
        "      print(\"*\",end=\"\")\n",
        "    elif r == 1 or r == 4 or r == 7:\n",
        "      print(\"*\",end=\"\")\n",
        "    else:\n",
        "      print(\" \",end=\"\")\n",
        "  print()"
      ],
      "metadata": {
        "id": "2bsCU95uhiNr"
      },
      "execution_count": null,
      "outputs": []
    },
    {
      "cell_type": "code",
      "source": [
        "#Number 9\n",
        "for r in range(1,8):\n",
        "  for c in range(1,8):\n",
        "    if c == 1 and r<4 or c == 7:\n",
        "      print(\"*\",end=\"\")\n",
        "    elif r == 1 or r == 4:\n",
        "      print(\"*\",end=\"\")\n",
        "    else:\n",
        "      print(\" \",end=\"\")\n",
        "  print()"
      ],
      "metadata": {
        "id": "gK8cmpR9hi0g"
      },
      "execution_count": null,
      "outputs": []
    },
    {
      "cell_type": "code",
      "source": [
        ""
      ],
      "metadata": {
        "id": "VYAGBBg-lvqF"
      },
      "execution_count": null,
      "outputs": []
    }
  ]
}